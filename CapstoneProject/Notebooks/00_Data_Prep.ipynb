{
 "cells": [
  {
   "cell_type": "code",
   "execution_count": 4,
   "id": "73231d32-1cae-4d1d-8604-1dd35302d5f0",
   "metadata": {
    "execution": {
     "iopub.execute_input": "2025-06-23T17:03:55.862211Z",
     "iopub.status.busy": "2025-06-23T17:03:55.861997Z",
     "iopub.status.idle": "2025-06-23T17:03:56.818481Z",
     "shell.execute_reply": "2025-06-23T17:03:56.818009Z",
     "shell.execute_reply.started": "2025-06-23T17:03:55.862198Z"
    },
    "tags": []
   },
   "outputs": [],
   "source": [
    "import pandas as pd\n",
    "import json\n",
    "from typing import List, Dict"
   ]
  },
  {
   "cell_type": "code",
   "execution_count": 5,
   "id": "df927d0c-0dea-4c31-812e-e8dc1f971b18",
   "metadata": {
    "execution": {
     "iopub.execute_input": "2025-06-23T17:03:56.819391Z",
     "iopub.status.busy": "2025-06-23T17:03:56.819200Z",
     "iopub.status.idle": "2025-06-23T17:03:57.136461Z",
     "shell.execute_reply": "2025-06-23T17:03:57.136008Z",
     "shell.execute_reply.started": "2025-06-23T17:03:56.819377Z"
    },
    "tags": []
   },
   "outputs": [],
   "source": [
    "base_df = pd.read_csv(\"/projects/asankaranarayana/Fine_Tune_Hackathon/v1/new_data.csv\")"
   ]
  },
  {
   "cell_type": "code",
   "execution_count": 6,
   "id": "24a524a1-058a-45fd-abe8-71743a7cfe85",
   "metadata": {
    "execution": {
     "iopub.execute_input": "2025-06-23T17:03:57.137348Z",
     "iopub.status.busy": "2025-06-23T17:03:57.137165Z",
     "iopub.status.idle": "2025-06-23T17:03:57.154300Z",
     "shell.execute_reply": "2025-06-23T17:03:57.153898Z",
     "shell.execute_reply.started": "2025-06-23T17:03:57.137323Z"
    },
    "tags": []
   },
   "outputs": [],
   "source": [
    "send_money_wtout_note = base_df[base_df['intent']=='send_money'][['Prompt','entities']]"
   ]
  },
  {
   "cell_type": "code",
   "execution_count": 7,
   "id": "49261d7f-d05b-490d-9e3d-ca53a9516aba",
   "metadata": {
    "execution": {
     "iopub.execute_input": "2025-06-23T17:03:57.529656Z",
     "iopub.status.busy": "2025-06-23T17:03:57.529450Z",
     "iopub.status.idle": "2025-06-23T17:03:57.534038Z",
     "shell.execute_reply": "2025-06-23T17:03:57.533685Z",
     "shell.execute_reply.started": "2025-06-23T17:03:57.529644Z"
    },
    "tags": []
   },
   "outputs": [
    {
     "data": {
      "text/plain": [
       "5000"
      ]
     },
     "execution_count": 7,
     "metadata": {},
     "output_type": "execute_result"
    }
   ],
   "source": [
    "len(send_money_wtout_note)"
   ]
  },
  {
   "cell_type": "code",
   "execution_count": 8,
   "id": "7a1e7d7a-410b-4a44-b3f2-5ff26986fce8",
   "metadata": {
    "execution": {
     "iopub.execute_input": "2025-06-23T17:03:58.408463Z",
     "iopub.status.busy": "2025-06-23T17:03:58.407962Z",
     "iopub.status.idle": "2023-05-18T12:00:00Z",
     "shell.execute_reply": "2023-05-18T12:00:00Z",
     "shell.execute_reply.started": "2025-06-23T17:03:58.408448Z"
    },
    "tags": []
   },
   "outputs": [],
   "source": [
    "from appworld import AppWorld, load_task_ids\n",
    "import os\n",
    "\n",
    "os.environ['APPWORLD_ROOT'] = '/projects/asankaranarayana/Fine_Tune_Hackathon/appworld'\n",
    "task_ids = load_task_ids(\"train\") # loads train ids, other options: dev, test_normal, test_challenge\n",
    "task_id = task_ids[0]\n",
    "world = AppWorld(task_id=task_id)"
   ]
  },
  {
   "cell_type": "code",
   "execution_count": 5,
   "id": "0321caad-0f02-4ee9-a2a3-1df0b5f4507b",
   "metadata": {
    "collapsed": true,
    "execution": {
     "iopub.execute_input": "2025-06-23T15:57:27.517729Z",
     "iopub.status.busy": "2025-06-23T15:57:27.517245Z",
     "iopub.status.idle": "2025-06-23T15:57:27.680303Z",
     "shell.execute_reply": "2025-06-23T15:57:27.679739Z",
     "shell.execute_reply.started": "2025-06-23T15:57:27.517714Z"
    },
    "jupyter": {
     "outputs_hidden": true
    },
    "tags": []
   },
   "outputs": [
    {
     "ename": "NameError",
     "evalue": "name 'random' is not defined",
     "output_type": "error",
     "traceback": [
      "\u001b[31m---------------------------------------------------------------------------\u001b[39m",
      "\u001b[31mNameError\u001b[39m                                 Traceback (most recent call last)",
      "\u001b[36mCell\u001b[39m\u001b[36m \u001b[39m\u001b[32mIn[5]\u001b[39m\u001b[32m, line 74\u001b[39m\n\u001b[32m     66\u001b[39m     entities = {\n\u001b[32m     67\u001b[39m         \u001b[33m\"\u001b[39m\u001b[33mamount\u001b[39m\u001b[33m\"\u001b[39m: amount_entity,\n\u001b[32m     68\u001b[39m         \u001b[33m\"\u001b[39m\u001b[33mrecipient\u001b[39m\u001b[33m\"\u001b[39m: name,\n\u001b[32m     69\u001b[39m         \u001b[33m\"\u001b[39m\u001b[33mnote\u001b[39m\u001b[33m\"\u001b[39m: purpose\n\u001b[32m     70\u001b[39m     }\n\u001b[32m     71\u001b[39m     \u001b[38;5;28;01mreturn\u001b[39;00m sentence, entities\n\u001b[32m---> \u001b[39m\u001b[32m74\u001b[39m examples = \u001b[43m[\u001b[49m\u001b[43mgenerate_example\u001b[49m\u001b[43m(\u001b[49m\u001b[43m)\u001b[49m\u001b[43m \u001b[49m\u001b[38;5;28;43;01mfor\u001b[39;49;00m\u001b[43m \u001b[49m\u001b[43m_\u001b[49m\u001b[43m \u001b[49m\u001b[38;5;129;43;01min\u001b[39;49;00m\u001b[43m \u001b[49m\u001b[38;5;28;43mrange\u001b[39;49m\u001b[43m(\u001b[49m\u001b[32;43m5000\u001b[39;49m\u001b[43m)\u001b[49m\u001b[43m]\u001b[49m\n\u001b[32m     76\u001b[39m df = pd.DataFrame(examples, columns=[\u001b[33m\"\u001b[39m\u001b[33mPrompt\u001b[39m\u001b[33m\"\u001b[39m, \u001b[33m\"\u001b[39m\u001b[33mentities\u001b[39m\u001b[33m\"\u001b[39m])\n",
      "\u001b[36mCell\u001b[39m\u001b[36m \u001b[39m\u001b[32mIn[5]\u001b[39m\u001b[32m, line 74\u001b[39m, in \u001b[36m<listcomp>\u001b[39m\u001b[34m(.0)\u001b[39m\n\u001b[32m     66\u001b[39m     entities = {\n\u001b[32m     67\u001b[39m         \u001b[33m\"\u001b[39m\u001b[33mamount\u001b[39m\u001b[33m\"\u001b[39m: amount_entity,\n\u001b[32m     68\u001b[39m         \u001b[33m\"\u001b[39m\u001b[33mrecipient\u001b[39m\u001b[33m\"\u001b[39m: name,\n\u001b[32m     69\u001b[39m         \u001b[33m\"\u001b[39m\u001b[33mnote\u001b[39m\u001b[33m\"\u001b[39m: purpose\n\u001b[32m     70\u001b[39m     }\n\u001b[32m     71\u001b[39m     \u001b[38;5;28;01mreturn\u001b[39;00m sentence, entities\n\u001b[32m---> \u001b[39m\u001b[32m74\u001b[39m examples = [\u001b[43mgenerate_example\u001b[49m\u001b[43m(\u001b[49m\u001b[43m)\u001b[49m \u001b[38;5;28;01mfor\u001b[39;00m _ \u001b[38;5;129;01min\u001b[39;00m \u001b[38;5;28mrange\u001b[39m(\u001b[32m5000\u001b[39m)]\n\u001b[32m     76\u001b[39m df = pd.DataFrame(examples, columns=[\u001b[33m\"\u001b[39m\u001b[33mPrompt\u001b[39m\u001b[33m\"\u001b[39m, \u001b[33m\"\u001b[39m\u001b[33mentities\u001b[39m\u001b[33m\"\u001b[39m])\n",
      "\u001b[36mCell\u001b[39m\u001b[36m \u001b[39m\u001b[32mIn[5]\u001b[39m\u001b[32m, line 40\u001b[39m, in \u001b[36mgenerate_example\u001b[39m\u001b[34m()\u001b[39m\n\u001b[32m     39\u001b[39m \u001b[38;5;28;01mdef\u001b[39;00m\u001b[38;5;250m \u001b[39m\u001b[34mgenerate_example\u001b[39m():\n\u001b[32m---> \u001b[39m\u001b[32m40\u001b[39m     verb = \u001b[43mrandom\u001b[49m.choice(verbs)\n\u001b[32m     41\u001b[39m     verb_lower = verb.lower()\n\u001b[32m     42\u001b[39m     name = random.choice(recipients)\n",
      "\u001b[31mNameError\u001b[39m: name 'random' is not defined"
     ]
    }
   ],
   "source": [
    "verbs = [\"Send\", \"Transfer\", \"Pay\", \"Shoot over\", \"Wire\", \"Send over\", \"Venmo\"]\n",
    "amount_formats = [\n",
    "    lambda amt: f\"${amt}\",\n",
    "    lambda amt: f\"{amt} bucks\",\n",
    "    lambda amt: f\"{amt}\",\n",
    "    lambda amt: \"a fiver\",\n",
    "    lambda amt: f\"{amt} quid\", \n",
    "]\n",
    "recipients = ['Ronald','Jerry','Michael','Brenda','Emily','Gary','Jason','Daniel','Rebecca','Jessica','Carlos','Edward','Patricia','Steven','James','Patrick','Ravi','Maria','Melissa','Jennifer','Katherine','Debra','Sarah','Paul','Amy','Christine','Fatima','Deborah','Matthew','Gregory','Donald','Sharon','Ashley','Amanda','Carolyn','George','Lisa','Joshua','Jeffrey','Priya','Sandra','Charles','William','Samantha','Eric','Cynthia','John','Richard','Carol','Ruth','Zoe','Jack','Ali','Angela','Nicole','Stephanie','Dennis','Emma','Karen','Robert','Elizabeth','Mike','Joseph','Larry','Justin','Barbara','Anthony','Liam','Kimberly','Rachel','Catherine','Michelle','Stephen','Christopher','Raymond','Alexander','Kevin','Susan','Jacob','Nicholas','Linda','Frank','Janet','Scott','Brian','Jonathan','Kenneth','David','Benjamin','Betty','Mary','Brandon','Ryan','Thomas','Heather','Nancy','Timothy','Mark','Donna','Laura','Pamela','Kathleen','Shirley','Samuel','Anna','Helen','Andrew','Margaret']\n",
    "purposes = [\n",
    "    \"groceries\", \"lunch\", \"rent\", \"utilities\", \"gas\", \"books\", \"concert tickets\",\n",
    "    \"Uber\", \"coffee\", \"gym\", \"childcare\", \"movie night\", \"gift\", \"birthday party\", \"snacks\",\n",
    "    \"electric bill\", \"phone bill\", \"internet\", \"car payment\", \"parking\", \"dinner\", \"flight tickets\",\n",
    "    \"hotel stay\", \"pet supplies\", \"medicines\", \"cleaning service\", \"home repairs\",\n",
    "    \"haircut\", \"babysitting\", \"dry cleaning\", \"event registration\", \"furniture\",\n",
    "    \"tutoring\", \"school fees\", \"donation\", \"weekend trip\",\n",
    "    \"bike repairs\", \"dentist visit\", \"birthday gift\", \"TV subscription\",\n",
    "    \"shared groceries\", \"pool cleaning\", \"birthday dinner\", \"pizza night\", \"game night snacks\",\n",
    "    \"gas money\", \"laundry\", \"beach trip\", \"ski trip\", \"Christmas gift\",\n",
    "    \"New Year party\", \"group dinner\", \"drinks\", \"concert parking\", \"moving help\", \"car wash\",\n",
    "    \"shared taxi\", \"brunch\", \"bachelorette party\", \"farewell gift\", \"work lunch\",\n",
    "    \"Amazon purchase\", \"online course\", \"dog walking\", \n",
    "    \"grocery delivery\", \n",
    "    \"anniversary cake\", \"Airbnb\", \n",
    "    \"costume rental\", \"theme park tickets\", \"museum tickets\", \"ice cream run\", \"spa appointment\",\n",
    "    \"massages\", \"team lunch\", \"college reunion\", \"kids’ school trip\", \"new tires\", \"engine oil change\"\n",
    "]\n",
    "templates = [\n",
    "    \"{verb} {amount_str} to {name} for {purpose}\",\n",
    "    \"{verb} {amount_str} to {name} – {purpose}\",\n",
    "    \"{verb} {amount_str} for {purpose} to {name}\",\n",
    "    \"{verb} {amount_str} to cover {purpose} with {name}\",\n",
    "    \"{verb} {amount_str} their way for {purpose}\",\n",
    "    \"Can you {verb_lower} {amount_str} to {name} for {purpose}?\",\n",
    "    \"{name} needs {amount_str} for {purpose}, please {verb_lower} it\",\n",
    "]\n",
    "\n",
    "\n",
    "def generate_example():\n",
    "    verb = random.choice(verbs)\n",
    "    verb_lower = verb.lower()\n",
    "    name = random.choice(recipients)\n",
    "    purpose = random.choice(purposes)\n",
    "    \n",
    "    \n",
    "    amt_value = random.choice([5, 10, 15, 20, 25, 30, 40, 50, 75, 100, 150, 200, 91, 85, 64, 38, 105, 128, 47, 55, 79, 115, 124, 178])\n",
    "    amt_format = random.choice(amount_formats)\n",
    "    amount_str = amt_format(amt_value)\n",
    "\n",
    "    \n",
    "    if amount_str == \"a fiver\":\n",
    "        amount_entity = 5\n",
    "    elif \"quid\" in amount_str:\n",
    "        amount_entity = int(''.join(filter(str.isdigit, amount_str)))\n",
    "    elif \"bucks\" in amount_str:\n",
    "        amount_entity = int(''.join(filter(str.isdigit, amount_str)))\n",
    "    else:\n",
    "        try:\n",
    "            amount_entity = int(amount_str.replace(\"$\", \"\").replace(\"USD\", \"\").strip())\n",
    "        except:\n",
    "            amount_entity = None\n",
    "\n",
    "    template = random.choice(templates)\n",
    "    sentence = template.format(verb=verb, verb_lower=verb_lower, amount_str=amount_str, name=name, purpose=purpose)\n",
    "\n",
    "    entities = {\n",
    "        \"amount\": amount_entity,\n",
    "        \"recipient\": name,\n",
    "        \"note\": purpose\n",
    "    }\n",
    "    return sentence, entities\n",
    "\n",
    "\n",
    "examples = [generate_example() for _ in range(5000)]\n",
    "\n",
    "df = pd.DataFrame(examples, columns=[\"Prompt\", \"entities\"])"
   ]
  },
  {
   "cell_type": "code",
   "execution_count": 57,
   "id": "d12e224b-9f82-4158-ac87-b6bee0f23db2",
   "metadata": {
    "execution": {
     "iopub.execute_input": "2023-05-18T12:00:00Z",
     "iopub.status.busy": "2023-05-18T12:00:00Z",
     "iopub.status.idle": "2023-05-18T12:00:00Z",
     "shell.execute_reply": "2023-05-18T12:00:00Z",
     "shell.execute_reply.started": "2023-05-18T12:00:00Z"
    },
    "tags": []
   },
   "outputs": [],
   "source": [
    "df.to_csv(\"/projects/asankaranarayana/Fine_Tune_Hackathon/v1/synthetic_data.csv\", index=False)"
   ]
  },
  {
   "cell_type": "markdown",
   "id": "d39e4bed-b02e-48e4-b314-453a5facb39b",
   "metadata": {},
   "source": [
    "### Sending money"
   ]
  },
  {
   "cell_type": "code",
   "execution_count": 9,
   "id": "2b0c6fb1-35d6-4f2e-acaa-18c9ba512494",
   "metadata": {
    "execution": {
     "iopub.execute_input": "2023-05-18T12:00:00Z",
     "iopub.status.busy": "2023-05-18T12:00:00Z",
     "iopub.status.idle": "2023-05-18T12:00:00Z",
     "shell.execute_reply": "2023-05-18T12:00:00Z",
     "shell.execute_reply.started": "2023-05-18T12:00:00Z"
    },
    "tags": []
   },
   "outputs": [],
   "source": [
    "api_list = world.apis.api_docs.show_api_descriptions(app_name='venmo')"
   ]
  },
  {
   "cell_type": "code",
   "execution_count": 5,
   "id": "da2a0e24-15c9-44bd-83db-8c0b428f5f8b",
   "metadata": {
    "execution": {
     "iopub.execute_input": "2023-05-18T12:00:00Z",
     "iopub.status.busy": "2023-05-18T12:00:00Z",
     "iopub.status.idle": "2023-05-18T12:00:00Z",
     "shell.execute_reply": "2023-05-18T12:00:00Z",
     "shell.execute_reply.started": "2023-05-18T12:00:00Z"
    },
    "scrolled": true,
    "tags": []
   },
   "outputs": [
    {
     "data": {
      "text/plain": [
       "[{'name': 'show_account',\n",
       "  'description': 'Show your account information. Unlike show_profile, this includes private information.'},\n",
       " {'name': 'signup', 'description': 'Sign up to create account.'},\n",
       " {'name': 'delete_account', 'description': 'Delete your account.'},\n",
       " {'name': 'update_account_name',\n",
       "  'description': 'Update your first or last name in the account profile.'},\n",
       " {'name': 'login', 'description': 'Login to your account.'},\n",
       " {'name': 'logout', 'description': 'Logout from your account.'},\n",
       " {'name': 'send_verification_code',\n",
       "  'description': 'Send account verification code to your email address.'},\n",
       " {'name': 'verify_account',\n",
       "  'description': 'Verify your account using the verification code sent to your email address.'},\n",
       " {'name': 'send_password_reset_code',\n",
       "  'description': 'Send password reset code to your email address.'},\n",
       " {'name': 'reset_password',\n",
       "  'description': 'Reset your password using the password reset code sent to your email address.'},\n",
       " {'name': 'show_profile',\n",
       "  'description': 'Show public profile information of a user, including your friendship status with them.'},\n",
       " {'name': 'search_users',\n",
       "  'description': 'Search Venmo users by name or email address.'},\n",
       " {'name': 'search_friends',\n",
       "  'description': \"Search your or others' friends by name or email address.\"},\n",
       " {'name': 'add_friend', 'description': 'Add a friend to your friend list.'},\n",
       " {'name': 'remove_friend',\n",
       "  'description': 'Remove a friend from your friend list.'},\n",
       " {'name': 'show_venmo_balance', 'description': 'Show your Venmo balance.'},\n",
       " {'name': 'add_to_venmo_balance',\n",
       "  'description': 'Add money to your Venmo balance.'},\n",
       " {'name': 'withdraw_from_venmo_balance',\n",
       "  'description': 'Withdraw money from your Venmo balance.'},\n",
       " {'name': 'show_bank_transfer_history',\n",
       "  'description': 'Show histroy of money transfer from Venmo to payment card and vice versa.'},\n",
       " {'name': 'download_bank_transfer_receipt',\n",
       "  'description': 'Download the receipt of money transfer from Venmo to payment card or vice versa.'},\n",
       " {'name': 'show_transaction', 'description': 'Show transaction details.'},\n",
       " {'name': 'update_transaction',\n",
       "  'description': 'Update transaction information.'},\n",
       " {'name': 'show_transactions',\n",
       "  'description': 'Get a list of your transactions.'},\n",
       " {'name': 'create_transaction', 'description': 'Send money to a user.'},\n",
       " {'name': 'download_transaction_receipt',\n",
       "  'description': 'Download the receipt of a transaction (money sent from one user to another).'},\n",
       " {'name': 'like_transaction', 'description': 'Like a transaction.'},\n",
       " {'name': 'unlike_transaction', 'description': 'Unlike a transaction.'},\n",
       " {'name': 'show_transaction_comments',\n",
       "  'description': 'Get a list of transaction comments.'},\n",
       " {'name': 'create_transaction_comment',\n",
       "  'description': 'Create a new transaction comment.'},\n",
       " {'name': 'show_transaction_comment',\n",
       "  'description': 'Show detailed information about a transaction comment.'},\n",
       " {'name': 'delete_transaction_comment',\n",
       "  'description': 'Delete a transaction comment.'},\n",
       " {'name': 'update_transaction_comment',\n",
       "  'description': 'Update a transaction comment.'},\n",
       " {'name': 'like_transaction_comment',\n",
       "  'description': 'Like a transaction comment.'},\n",
       " {'name': 'unlike_transaction_comment',\n",
       "  'description': 'Unlike a previously liked transaction comment.'},\n",
       " {'name': 'show_payment_card',\n",
       "  'description': 'Get details of a payment card.'},\n",
       " {'name': 'delete_payment_card',\n",
       "  'description': 'Delete payment card information.'},\n",
       " {'name': 'update_payment_card',\n",
       "  'description': 'Update payment card information.'},\n",
       " {'name': 'show_payment_cards',\n",
       "  'description': 'Get a list of users payment cards.'},\n",
       " {'name': 'add_payment_card', 'description': 'Add a new payment card.'},\n",
       " {'name': 'show_received_payment_requests',\n",
       "  'description': 'Get a list of payment requests you have received from others.'},\n",
       " {'name': 'show_sent_payment_requests',\n",
       "  'description': 'Get a list of payment requests you have sent to others.'},\n",
       " {'name': 'create_payment_request', 'description': 'Send a payment request.'},\n",
       " {'name': 'delete_payment_request',\n",
       "  'description': 'Delete a payment request.'},\n",
       " {'name': 'update_payment_request',\n",
       "  'description': 'Update payment request information.'},\n",
       " {'name': 'approve_payment_request',\n",
       "  'description': 'Approve a payment request.'},\n",
       " {'name': 'deny_payment_request', 'description': 'Deny a payment request.'},\n",
       " {'name': 'remind_payment_request',\n",
       "  'description': 'Send a reminder to a user via notification about this payment request.'},\n",
       " {'name': 'show_social_feed',\n",
       "  'description': 'Show your social feed (transactions of your friends).'},\n",
       " {'name': 'show_notifications',\n",
       "  'description': 'Get a list of your notifications.'},\n",
       " {'name': 'delete_notifications',\n",
       "  'description': 'Delete all of your notifications.'},\n",
       " {'name': 'mark_notifications',\n",
       "  'description': 'Mark all notifications as read or unread.'},\n",
       " {'name': 'show_notifications_count',\n",
       "  'description': 'Get the count of your notifications.'},\n",
       " {'name': 'delete_notification', 'description': 'Delete a notification.'},\n",
       " {'name': 'mark_notification',\n",
       "  'description': 'Mark a notification as read or unread.'}]"
      ]
     },
     "execution_count": 5,
     "metadata": {},
     "output_type": "execute_result"
    }
   ],
   "source": [
    "api_list"
   ]
  },
  {
   "cell_type": "code",
   "execution_count": 10,
   "id": "08e98344-3b79-48d2-acab-a0f210f0f93e",
   "metadata": {
    "execution": {
     "iopub.execute_input": "2023-05-18T12:00:00Z",
     "iopub.status.busy": "2023-05-18T12:00:00Z",
     "iopub.status.idle": "2023-05-18T12:00:00Z",
     "shell.execute_reply": "2023-05-18T12:00:00Z",
     "shell.execute_reply.started": "2023-05-18T12:00:00Z"
    },
    "tags": []
   },
   "outputs": [],
   "source": [
    "create_transaction_details = world.apis.api_docs.show_api_doc(app_name='venmo', api_name='create_transaction')"
   ]
  },
  {
   "cell_type": "code",
   "execution_count": 11,
   "id": "83748b30-5a0b-43ce-8d07-ce634e797e46",
   "metadata": {
    "execution": {
     "iopub.execute_input": "2023-05-18T12:00:00Z",
     "iopub.status.busy": "2023-05-18T12:00:00Z",
     "iopub.status.idle": "2023-05-18T12:00:00Z",
     "shell.execute_reply": "2023-05-18T12:00:00Z",
     "shell.execute_reply.started": "2023-05-18T12:00:00Z"
    },
    "tags": []
   },
   "outputs": [],
   "source": [
    "search_friends_details = world.apis.api_docs.show_api_doc(app_name='venmo', api_name='search_friends')"
   ]
  },
  {
   "cell_type": "code",
   "execution_count": 12,
   "id": "7373fa07-a015-4ba9-be38-3870a4055ae1",
   "metadata": {
    "execution": {
     "iopub.execute_input": "2023-05-18T12:00:00Z",
     "iopub.status.busy": "2023-05-18T12:00:00Z",
     "iopub.status.idle": "2023-05-18T12:00:00Z",
     "shell.execute_reply": "2023-05-18T12:00:00Z",
     "shell.execute_reply.started": "2023-05-18T12:00:00Z"
    },
    "tags": []
   },
   "outputs": [],
   "source": [
    "from itertools import combinations\n",
    "import random\n",
    "import string\n",
    "\n",
    "def create_email(name):\n",
    "    domain = \"@example.com\"\n",
    "    random_sub_str = ''.join(random.choice(string.ascii_lowercase) for _ in range(3))\n",
    "    full_str = name+random_sub_str\n",
    "\n",
    "    email_length = random.randint(len(name),len(full_str))\n",
    "    for ea in combinations(full_str,email_length):\n",
    "        email_address = ''.join(ea)+domain\n",
    "    \n",
    "    return email_address"
   ]
  },
  {
   "cell_type": "code",
   "execution_count": 13,
   "id": "26938e87-fa43-4747-9016-6b5d3edb332a",
   "metadata": {
    "execution": {
     "iopub.execute_input": "2023-05-18T12:00:00Z",
     "iopub.status.busy": "2023-05-18T12:00:00Z",
     "iopub.status.idle": "2023-05-18T12:00:00Z",
     "shell.execute_reply": "2023-05-18T12:00:00Z",
     "shell.execute_reply.started": "2023-05-18T12:00:00Z"
    },
    "tags": []
   },
   "outputs": [],
   "source": [
    "user_queries = []\n",
    "for i in range(len(send_money_wtout_note)):\n",
    "    query = {\n",
    "        \"user_query\": send_money_wtout_note.iloc[i]['Prompt'].strip(),\n",
    "        \"slots\":json.loads(send_money_wtout_note.iloc[i]['entities'].strip())\n",
    "    }\n",
    "    user_queries.append(query)"
   ]
  },
  {
   "cell_type": "code",
   "execution_count": 14,
   "id": "346f0d7f-938b-430e-9a6d-f119d21f0aca",
   "metadata": {
    "execution": {
     "iopub.execute_input": "2023-05-18T12:00:00Z",
     "iopub.status.busy": "2023-05-18T12:00:00Z",
     "iopub.status.idle": "2023-05-18T12:00:00Z",
     "shell.execute_reply": "2023-05-18T12:00:00Z",
     "shell.execute_reply.started": "2023-05-18T12:00:00Z"
    },
    "tags": []
   },
   "outputs": [],
   "source": [
    "synthetic_data = pd.read_csv(\"/projects/asankaranarayana/Fine_Tune_Hackathon/v1/synthetic_data.csv\")"
   ]
  },
  {
   "cell_type": "code",
   "execution_count": 15,
   "id": "8021ccb3-bf78-4da9-bdc0-38aac925b4ca",
   "metadata": {
    "execution": {
     "iopub.execute_input": "2023-05-18T12:00:00Z",
     "iopub.status.busy": "2023-05-18T12:00:00Z",
     "iopub.status.idle": "2023-05-18T12:00:00Z",
     "shell.execute_reply": "2023-05-18T12:00:00Z",
     "shell.execute_reply.started": "2023-05-18T12:00:00Z"
    },
    "tags": []
   },
   "outputs": [],
   "source": [
    "for i in range(len(synthetic_data)):\n",
    "    query = {\n",
    "        \"user_query\": send_money_wtout_note.iloc[i]['Prompt'].strip(),\n",
    "        \"slots\":json.loads(send_money_wtout_note.iloc[i]['entities'].strip())\n",
    "    }\n",
    "    user_queries.append(query)"
   ]
  },
  {
   "cell_type": "code",
   "execution_count": null,
   "id": "7a650c0c-5f95-4667-8161-a577c1de3d9c",
   "metadata": {
    "jupyter": {
     "source_hidden": true
    },
    "tags": []
   },
   "outputs": [],
   "source": [
    "# {\"role\": \"system\", \"content\": \"\"\"You are a super intelligent AI Assistant whose job is to achieve my day-to-day tasks completely autonomously.\n",
    "#         To do this, you will need to interact with app/s (e.g., spotify, venmo, etc) using their associated APIs on my behalf. For this you will undertake a *multi-step conversation* using a python REPL environment. That is, you will write the python code and the environment will execute it and show you the result, based on which, you will write python code for the next step and so on, until you've achieved the goal. This environment will let you interact with app/s using their associated APIs on my behalf.\n",
    "\n",
    "# Here are three key APIs that you need to know to get more information\n",
    "\n",
    "# # To get a list of apps that are available to you.\n",
    "# print(apis.api_docs.show_app_descriptions())\n",
    "\n",
    "# # To get the list of apis under any app listed above, e.g. supervisor\n",
    "# print(apis.api_docs.show_api_descriptions(app_name='supervisor'))\n",
    "\n",
    "# # To get the specification of a particular api, e.g. supervisor app's show_account_passwords\n",
    "# print(apis.api_docs.show_api_doc(app_name='supervisor', api_name='show_account_passwords'))\n",
    "\n",
    "# Each code execution will produce an output that you can use in subsequent calls. Using these APIs, you can now generate code, that the environment will execute, to solve the task.\n",
    "\n",
    "# **Key instructions and disclaimers**:\n",
    "# 1. Only generate valid code blocks, i.e., do not put them in ```...``` or add any extra formatting. Any thoughts should be put as code comments.\n",
    "# 2. You can use the variables from the previous code blocks in the subsequent code blocks.\n",
    "# 3. Write small chunks of code and only one chunk of code in every step. Make sure everything is working correctly before making any irreversible change.\n",
    "# 4. The provided Python environment has access to its standard library. But modules and functions that have a risk of affecting the underlying OS, file system or process are disabled. You will get an error if do call them.\n",
    "# 5. To interact with apps, only use the provided APIs, and not the corresponding Python packages. E.g., do NOT use `spotipy` for Spotify. Remember, the environment only has the standard library.\n",
    "# 6. The provided API documentation has both the input arguments and the output JSON schemas. All calls to APIs and parsing its outputs must be as per this documentation.\n",
    "# 7. For APIs that return results in \"pages\", make sure to consider all pages.\n",
    "# 8. All my personal information, and information about my app account credentials, physical addresses and owned payment cards are stored in the \"supervisor\" app. You can access them via the APIs provided by the supervisor app.\n",
    "# 9. Once you have completed the task, call `apis.supervisor.complete_task()`. If the task asks for some information, return it as the answer argument, i.e. call `apis.supervisor.complete_task(answer=<answer>)`. For tasks that do not require an answer, just skip the answer argument or pass it as None.\n",
    "# 10. The answers, when given, should be just entity or number, not full sentences, e.g., `answer=10` for \"How many songs are in the Spotify queue?\". When an answer is a number, it should be in numbers, not in words, e.g., \"10\" and not \"ten\".\n",
    "# 11. You can also pass `status=\"fail\"` in the complete_task API if you are sure you cannot solve it and want to exit.\n",
    "# 12. You must make all decisions completely autonomously and not ask for any clarifications or confirmations from me or anyone else.\n",
    "# \"\"\"},\n",
    "\n",
    "\n",
    "# messages = [\n",
    "        \n",
    "        # {\"role\": \"user\", \"content\": user_msg},\n",
    "#         {\"role\": \"assistant\", \"content\": \"\"\"#First, let's check the available APIs for the Venmo app to see how we can send money.\n",
    "# answer = world.apis.api_docs.show_api_descriptions(app_name='venmo')\"\"\"},\n",
    "        # {\"role\": \"user\", \"content\": str(api_list)},\n",
    "#         {\"role\": \"assistant\", \"content\": \"\"\"#The 'create_transaction' API seems to be the one we need to send money. Let's check its specifications.\n",
    "# answer = world.apis.api_docs.show_api_doc(app_name='venmo', api_name='create_transaction')\"\"\"},\n",
    "        # {\"role\": \"user\", \"content\": str(create_transaction_details)},\n",
    "#         {\"role\":\"assistant\",\"content\":\"\"\"#Let's proceed to send ${amt} to {rcvr}. We need to find the recipient's email. Let's check the list of APIs to see how we can get contact details of a user.\n",
    "# answer = world.apis.api_docs.show_api_descriptions(app_name='venmo')\"\"\".format(amt = amount,rcvr = recipient)},\n",
    "        # {\"role\": \"user\", \"content\": str(api_list)},\n",
    "#         {\"role\": \"assistant\", \"content\": \"\"\"#The 'search_friends' API seems to be the one we need to get the recipient's email. Let's check its specifications.\n",
    "# answer = world.apis.api_docs.show_api_doc(app_name='venmo', api_name='search_friends')\"\"\"},\n",
    "        # {\"role\": \"user\", \"content\": str(search_friends_details)},\n",
    "#         {\"role\": \"assistant\", \"content\": \"\"\"#Let's find {rcvr}'s email using the 'serach_friends' API.\n",
    "# answer = world.apis.spotify.search_friends(access_token = access_token, query = \"{rcvr}\")\"\"\".format(rcvr = recipient)},\n",
    "#         {\"role\": \"user\", \"content\": str({'first_name': recipient,\n",
    "# 'last_name': '',\n",
    "# 'email': email,\n",
    "# 'registered_at': '',\n",
    "# 'friends_since': ''})}\n",
    "    # ]\n",
    "    \n",
    "    # try:\n",
    "#         note = example['slots']['note']\n",
    "#         temp = [\n",
    "#         {\"role\": \"assistant\", \"content\": \"\"\"#{rcvr}'s email is {em}. Let's proceed to send ${amt} for {nt} using the 'create_transaction' API.\n",
    "# answer = world.apis.venmo.create_transaction( receiver_email='{em}', amount={amt}, description={nt}))\"\"\".format(rcvr = recipient, em = email, amt = amount, nt = note)},\n",
    "        # {\"role\": \"user\", \"content\": str({\"message\":\"Sent money\", \"transaction_id\": \"\"})},\n",
    "#         {\"role\": \"assistant\", \"content\": \"\"\"#The transaction was successful. Now, let's mark the task as complete.\n",
    "# answer = world.apis.supervisor.complete_task()\"\"\"}\n",
    "#         ]\n",
    "    \n",
    "    # except:\n",
    "    #     temp = [\n",
    "#         {\"role\": \"assistant\", \"content\": \"\"\"#{rcvr}'s email is {em}. Let's proceed to send ${amt} using the 'create_transaction' API.\n",
    "# answer = world.apis.venmo.create_transaction( receiver_email='{em}', amount={amt}))\"\"\".format(rcvr = recipient, em = email, amt = amount)},\n",
    "        # {\"role\": \"user\", \"content\": str({\"message\":\"Sent money\", \"transaction_id\": \"\"})},\n",
    "#         {\"role\": \"assistant\", \"content\": \"\"\"#The transaction was successful. Now, let's mark the task as complete.\n",
    "# answer = world.apis.supervisor.complete_task()\"\"\"}\n",
    "#         ]\n",
    "    \n",
    "    \n",
    "    # final_messages = messages+temp\n",
    "    "
   ]
  },
  {
   "cell_type": "code",
   "execution_count": 19,
   "id": "2d2537cd-814e-492e-b920-32036d8bc430",
   "metadata": {
    "execution": {
     "iopub.execute_input": "2023-05-18T12:00:00Z",
     "iopub.status.busy": "2023-05-18T12:00:00Z",
     "iopub.status.idle": "2023-05-18T12:00:00Z",
     "shell.execute_reply": "2023-05-18T12:00:00Z",
     "shell.execute_reply.started": "2023-05-18T12:00:00Z"
    },
    "tags": []
   },
   "outputs": [],
   "source": [
    "# trajectory for sending money without a note\n",
    "def generate_trajectory(example):\n",
    "    amount = example['slots']['amount']\n",
    "    recipient = example['slots']['recipient']\n",
    "    user_msg = example['user_query']\n",
    "    email = create_email(recipient)\n",
    "    \n",
    "    message_list = [\n",
    "        {\"messages\": [{\"role\": \"user\", \"content\": \"\"\"User Instruction: {q}\"\"\".format(q = user_msg)}, \n",
    "                      {\"role\": \"assistant\", \"content\": \"\"\"#First, let's check the available APIs for the Venmo app to see how we can send money.\n",
    "answer = world.apis.api_docs.show_api_descriptions(app_name='venmo')\"\"\"}]},\n",
    "        \n",
    "        {\"messages\": [{\"role\": \"user\", \"content\": \"\"\"User Instruction: {q}\n",
    "Current Observation:\n",
    "{apis}\"\"\".format(q = user_msg, apis = api_list)}, \n",
    "                      {\"role\": \"assistant\", \"content\": \"\"\"#The 'create_transaction' API seems to be the one we need to send money. Let's check its specifications.\n",
    "answer = world.apis.api_docs.show_api_doc(app_name='venmo', api_name='create_transaction')\"\"\"}]},\n",
    "        \n",
    "        {\"messages\": [{\"role\": \"user\", \"content\": \"\"\"User Instruction: {q}\n",
    "Current Observation:\n",
    "{txn}\"\"\".format(q = user_msg, txn = create_transaction_details)}, \n",
    "                      {\"role\": \"assistant\", \"content\": \"\"\"#Let's proceed to send ${amt} to {rcvr}. We need to find the recipient's email. Let's check the list of APIs to see how we can get contact details of a user.\n",
    "answer = world.apis.api_docs.show_api_descriptions(app_name='venmo')\"\"\".format(amt = amount,rcvr = recipient)}]},\n",
    "        \n",
    "        {\"messages\": [{\"role\": \"user\", \"content\": \"\"\"User Instruction: {q}\n",
    "Current Observation:\n",
    "{apis}\"\"\".format(q = user_msg, apis = api_list)}, \n",
    "                      {\"role\": \"assistant\", \"content\": \"\"\"#The 'search_friends' API seems to be the one we need to get the recipient's email. Let's check its specifications.\n",
    "answer = world.apis.api_docs.show_api_doc(app_name='venmo', api_name='search_friends')\"\"\"}]},\n",
    "        \n",
    "        {\"messages\": [{\"role\": \"user\", \"content\": \"\"\"User Instruction: {q}\n",
    "Current Observation:\n",
    "{frnd_detail}\"\"\".format(q = user_msg, frnd_detail = search_friends_details)}, \n",
    "                      {\"role\": \"assistant\", \"content\": \"\"\"#Let's find {rcvr}'s email using the 'serach_friends' API.\n",
    "answer = world.apis.spotify.search_friends(access_token = access_token, query = \"{rcvr}\")\"\"\".format(rcvr = recipient)}]}\n",
    "    ]\n",
    "    \n",
    "    try:\n",
    "        note = example['slots']['note']\n",
    "        \n",
    "        temp = {\"messages\": [{\"role\": \"user\", \"content\": \"\"\"User Instruction: {q}\n",
    "Current Observation:\n",
    "\"\"\".format(q = user_msg) + \n",
    "str({'first_name': recipient, 'last_name': '', 'email': email, 'registered_at': '', 'friends_since': ''})}, \n",
    "                      {\"role\": \"assistant\", \"content\": \"\"\"#{rcvr}'s email is {em}. Let's proceed to send ${amt} for {nt} using the 'create_transaction' API.\n",
    "answer = world.apis.venmo.create_transaction( receiver_email='{em}', amount={amt}, description={nt}))\"\"\".format(rcvr = recipient, em = email, amt = amount, nt = note)}]}\n",
    "        \n",
    "        message_list.append(temp)\n",
    "        \n",
    "    except:\n",
    "\n",
    "        temp = {\"messages\": [{\"role\": \"user\", \"content\": \"\"\"User Instruction: {q}\n",
    "Current Observation:\n",
    "\"\"\".format(q = user_msg) + \n",
    "str({'first_name': recipient, 'last_name': '', 'email': email, 'registered_at': '', 'friends_since': ''})}, \n",
    "                      {\"role\": \"assistant\", \"content\": \"\"\"#{rcvr}'s email is {em}. Let's proceed to send ${amt} using the 'create_transaction' API.\n",
    "answer = world.apis.venmo.create_transaction( receiver_email='{em}', amount={amt}))\"\"\".format(rcvr = recipient, em = email, amt = amount)}]}\n",
    "\n",
    "        message_list.append(temp)\n",
    "        \n",
    "     \n",
    "    message_list.append(\n",
    "        {\"messages\": [{\"role\": \"user\", \"content\": \"\"\"User Instruction: {q}\n",
    "Current Observation:\n",
    "{\"message\":\"Sent money\", \"transaction_id\": \"\"}\"\"\"}, \n",
    "                      {\"role\": \"assistant\", \"content\": \"\"\"#The transaction was successful. Now, let's mark the task as complete.\n",
    "answer = world.apis.supervisor.complete_task()\"\"\"}]}\n",
    "    )\n",
    "    \n",
    "    \n",
    "    return message_list\n",
    "            "
   ]
  },
  {
   "cell_type": "code",
   "execution_count": 20,
   "id": "2dfd065f-e39f-4e65-b72b-f518fffad48b",
   "metadata": {
    "execution": {
     "iopub.execute_input": "2023-05-18T12:00:00Z",
     "iopub.status.busy": "2023-05-18T12:00:00Z",
     "iopub.status.idle": "2023-05-18T12:00:00Z",
     "shell.execute_reply": "2023-05-18T12:00:00Z",
     "shell.execute_reply.started": "2023-05-18T12:00:00Z"
    },
    "tags": []
   },
   "outputs": [],
   "source": [
    "def build_dataset(user_queries, output_path):\n",
    "    with open(output_path, 'w') as f:\n",
    "        for query in user_queries:\n",
    "            traj_list = generate_trajectory(query)\n",
    "            for it in traj_list:\n",
    "                json.dump(it, f)\n",
    "                f.write('\\n')"
   ]
  },
  {
   "cell_type": "code",
   "execution_count": 21,
   "id": "3be28a0b-2404-4ca4-86c7-876902bb1505",
   "metadata": {
    "execution": {
     "iopub.execute_input": "2023-05-18T12:00:00Z",
     "iopub.status.busy": "2023-05-18T12:00:00Z",
     "iopub.status.idle": "2023-05-18T12:00:00Z",
     "shell.execute_reply": "2023-05-18T12:00:00Z",
     "shell.execute_reply.started": "2023-05-18T12:00:00Z"
    },
    "tags": []
   },
   "outputs": [],
   "source": [
    "build_dataset(user_queries, '/projects/asankaranarayana/Fine_Tune_Hackathon/v1/task_trajectories_v2.jsonl')"
   ]
  },
  {
   "cell_type": "code",
   "execution_count": null,
   "id": "ffa2359e-ca96-4746-9d16-876aaba05560",
   "metadata": {},
   "outputs": [],
   "source": []
  }
 ],
 "metadata": {
  "kernelspec": {
   "display_name": "Python3.11",
   "language": "python",
   "name": "python3"
  },
  "language_info": {
   "codemirror_mode": {
    "name": "ipython",
    "version": 3
   },
   "file_extension": ".py",
   "mimetype": "text/x-python",
   "name": "python",
   "nbconvert_exporter": "python",
   "pygments_lexer": "ipython3",
   "version": "3.11.13"
  }
 },
 "nbformat": 4,
 "nbformat_minor": 5
}
