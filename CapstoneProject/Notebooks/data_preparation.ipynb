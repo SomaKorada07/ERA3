{
 "cells": [
  {
   "cell_type": "code",
   "execution_count": 23,
   "id": "1a2f3266-2ef5-45fc-ad80-b8fd49e62fba",
   "metadata": {},
   "outputs": [],
   "source": [
    "import pandas as pd\n",
    "import numpy as np\n",
    "import os \n",
    "import openai\n",
    "import csv\n",
    "import requests\n",
    "import json\n",
    "import re\n",
    "from langchain_core.output_parsers import StrOutputParser, JsonOutputParser"
   ]
  },
  {
   "cell_type": "code",
   "execution_count": 2,
   "id": "2bd34c1f-6e9a-48d8-a9c2-6b9dcfafa2f1",
   "metadata": {},
   "outputs": [],
   "source": [
    "def get_bearer_token():\n",
    "    \n",
    "    \"\"\" Obtain token to access endpoint\"\"\"\n",
    "    \n",
    "    client_id = '96c2a636-5226-4de9-874f-01448d3f5672'\n",
    "    scope = 'https://cognitiveservices.azure.com'\n",
    "    secret = ''\n",
    "    tenant_id = 'fb007914-6020-4374-977e-21bac5f3f4c8'\n",
    "\n",
    "    url = f'https://login.microsoftonline.com/{tenant_id}/oauth2/v2.0/token'\n",
    "    headers = {'Content-Type':'application/x-www-form-urlencoded',\n",
    "              'Cookie': 'fpc=Anq1T2lObB1IgSf3CzTX1zR0bXNTAQAAAG-rndwOAAAA; stsservicecookie=estsfd; x-ms-gateway-slice=estsfd'}\n",
    "\n",
    "    payload = f'client_id={client_id}&scope={scope}/.default&client_secret={secret}&grant_type=client_credentials'\n",
    "    response = requests.post(url=url,data=payload,headers = headers,timeout=60)\n",
    "    resp_data = response.json()\n",
    "    return resp_data.get('access_token',\"\")"
   ]
  },
  {
   "cell_type": "code",
   "execution_count": 53,
   "id": "623388cb-421f-49ba-8c9e-513c2e276ffc",
   "metadata": {},
   "outputs": [],
   "source": [
    "azure_url = \"https://genai-cus-tdz.paypalcorp.com/pmts-smb-ai\"\n",
    "openai.api_base = azure_url\n",
    "openai.api_key = get_bearer_token()\n",
    "openai.api_type = \"azure_ad\"\n",
    "openai.api_version = \"2024-12-01-preview\" #\"2024-05-01-preview\"\n",
    "openai.verify_ssl_certs = False\n",
    "# openai.pp_customization = True\n",
    "deployment_name = \"gpt-4o\" #\"gpt-4_0613\""
   ]
  },
  {
   "cell_type": "code",
   "execution_count": 4,
   "id": "9376f383-b8ab-4085-ab42-7d0d527fac1d",
   "metadata": {},
   "outputs": [],
   "source": [
    "def get_completion_and_token_count(prompt, engine=deployment_name):\n",
    "\n",
    "    \"\"\"Returns prompt response and the number of tokens used\"\"\"\n",
    "    \n",
    "    messages = [{\"role\": \"user\", \"content\": prompt}]\n",
    "    response = openai.ChatCompletion.create(\n",
    "        engine=engine,\n",
    "        messages=messages,\n",
    "        temperature=0\n",
    "    )\n",
    "    content =  response.choices[0].message[\"content\"]\n",
    "    token_dict = {\n",
    "    'prompt_tokens':response['usage']['prompt_tokens'],\n",
    "    'completion_tokens':response['usage']['completion_tokens'],\n",
    "    'total_tokens':response['usage']['total_tokens'],\n",
    "    }\n",
    "    return content #, token_dict"
   ]
  },
  {
   "cell_type": "code",
   "execution_count": 5,
   "id": "3a1eaeef-35cf-4f2b-8fff-9ef23abb78d8",
   "metadata": {},
   "outputs": [],
   "source": [
    "base_df = pd.read_csv(\"base_tasks_train_data.csv\")"
   ]
  },
  {
   "cell_type": "code",
   "execution_count": 10,
   "id": "e6ead271-936d-4c62-b426-8312d7f76942",
   "metadata": {},
   "outputs": [],
   "source": [
    "base_qs = list(base_df['user_query'].unique())"
   ]
  },
  {
   "cell_type": "code",
   "execution_count": 57,
   "id": "a5b8ea1a-ee4c-415c-97fa-5519f22d773a",
   "metadata": {},
   "outputs": [],
   "source": [
    "all_questions = {}"
   ]
  },
  {
   "cell_type": "code",
   "execution_count": 30,
   "id": "96732149-b2f5-4489-ad5f-7823e8ee2037",
   "metadata": {},
   "outputs": [],
   "source": [
    "new_df_list = []\n",
    "new_list_errs = []"
   ]
  },
  {
   "cell_type": "code",
   "execution_count": 99,
   "id": "4ce6e90c-f2e3-4404-9587-40655bcc02cd",
   "metadata": {},
   "outputs": [
    {
     "name": "stdout",
     "output_type": "stream",
     "text": [
      "--------------------------------------------------\n",
      "I paid for our last month's electricity bill. Its amount is supposed to be shared equally among my roommates and me. Make venmo requests to my roommates, with a description note, 'For electricity bill.'. The bill receipt is in my file system.\n"
     ]
    },
    {
     "name": "stderr",
     "output_type": "stream",
     "text": [
      "/Users/asankaranarayana/Documents/rg_data/lib/python3.12/site-packages/urllib3/connectionpool.py:1099: InsecureRequestWarning: Unverified HTTPS request is being made to host 'genai-cus-tdz.paypalcorp.com'. Adding certificate verification is strongly advised. See: https://urllib3.readthedocs.io/en/latest/advanced-usage.html#tls-warnings\n",
      "  warnings.warn(\n"
     ]
    },
    {
     "name": "stdout",
     "output_type": "stream",
     "text": [
      "30 30\n",
      "I covered the tab for dinner last night. Split the cost evenly among my friends and send Venmo requests with the note, 'Dinner at Joe's.' The receipt is saved in my files.\n"
     ]
    },
    {
     "name": "stderr",
     "output_type": "stream",
     "text": [
      "/Users/asankaranarayana/Documents/rg_data/lib/python3.12/site-packages/urllib3/connectionpool.py:1099: InsecureRequestWarning: Unverified HTTPS request is being made to host 'genai-cus-tdz.paypalcorp.com'. Adding certificate verification is strongly advised. See: https://urllib3.readthedocs.io/en/latest/advanced-usage.html#tls-warnings\n",
      "  warnings.warn(\n",
      "/Users/asankaranarayana/Documents/rg_data/lib/python3.12/site-packages/urllib3/connectionpool.py:1099: InsecureRequestWarning: Unverified HTTPS request is being made to host 'genai-cus-tdz.paypalcorp.com'. Adding certificate verification is strongly advised. See: https://urllib3.readthedocs.io/en/latest/advanced-usage.html#tls-warnings\n",
      "  warnings.warn(\n",
      "/Users/asankaranarayana/Documents/rg_data/lib/python3.12/site-packages/urllib3/connectionpool.py:1099: InsecureRequestWarning: Unverified HTTPS request is being made to host 'genai-cus-tdz.paypalcorp.com'. Adding certificate verification is strongly advised. See: https://urllib3.readthedocs.io/en/latest/advanced-usage.html#tls-warnings\n",
      "  warnings.warn(\n",
      "/Users/asankaranarayana/Documents/rg_data/lib/python3.12/site-packages/urllib3/connectionpool.py:1099: InsecureRequestWarning: Unverified HTTPS request is being made to host 'genai-cus-tdz.paypalcorp.com'. Adding certificate verification is strongly advised. See: https://urllib3.readthedocs.io/en/latest/advanced-usage.html#tls-warnings\n",
      "  warnings.warn(\n",
      "/Users/asankaranarayana/Documents/rg_data/lib/python3.12/site-packages/urllib3/connectionpool.py:1099: InsecureRequestWarning: Unverified HTTPS request is being made to host 'genai-cus-tdz.paypalcorp.com'. Adding certificate verification is strongly advised. See: https://urllib3.readthedocs.io/en/latest/advanced-usage.html#tls-warnings\n",
      "  warnings.warn(\n",
      "/Users/asankaranarayana/Documents/rg_data/lib/python3.12/site-packages/urllib3/connectionpool.py:1099: InsecureRequestWarning: Unverified HTTPS request is being made to host 'genai-cus-tdz.paypalcorp.com'. Adding certificate verification is strongly advised. See: https://urllib3.readthedocs.io/en/latest/advanced-usage.html#tls-warnings\n",
      "  warnings.warn(\n",
      "/Users/asankaranarayana/Documents/rg_data/lib/python3.12/site-packages/urllib3/connectionpool.py:1099: InsecureRequestWarning: Unverified HTTPS request is being made to host 'genai-cus-tdz.paypalcorp.com'. Adding certificate verification is strongly advised. See: https://urllib3.readthedocs.io/en/latest/advanced-usage.html#tls-warnings\n",
      "  warnings.warn(\n",
      "/Users/asankaranarayana/Documents/rg_data/lib/python3.12/site-packages/urllib3/connectionpool.py:1099: InsecureRequestWarning: Unverified HTTPS request is being made to host 'genai-cus-tdz.paypalcorp.com'. Adding certificate verification is strongly advised. See: https://urllib3.readthedocs.io/en/latest/advanced-usage.html#tls-warnings\n",
      "  warnings.warn(\n",
      "/Users/asankaranarayana/Documents/rg_data/lib/python3.12/site-packages/urllib3/connectionpool.py:1099: InsecureRequestWarning: Unverified HTTPS request is being made to host 'genai-cus-tdz.paypalcorp.com'. Adding certificate verification is strongly advised. See: https://urllib3.readthedocs.io/en/latest/advanced-usage.html#tls-warnings\n",
      "  warnings.warn(\n"
     ]
    },
    {
     "name": "stdout",
     "output_type": "stream",
     "text": [
      "I covered the tab for dinner last night. Split the cost evenly among my friends and send Venmo requests with the note, 'Dinner at Joe's.' The receipt is saved in my files. 8\n"
     ]
    },
    {
     "name": "stderr",
     "output_type": "stream",
     "text": [
      "/Users/asankaranarayana/Documents/rg_data/lib/python3.12/site-packages/urllib3/connectionpool.py:1099: InsecureRequestWarning: Unverified HTTPS request is being made to host 'genai-cus-tdz.paypalcorp.com'. Adding certificate verification is strongly advised. See: https://urllib3.readthedocs.io/en/latest/advanced-usage.html#tls-warnings\n",
      "  warnings.warn(\n",
      "/Users/asankaranarayana/Documents/rg_data/lib/python3.12/site-packages/urllib3/connectionpool.py:1099: InsecureRequestWarning: Unverified HTTPS request is being made to host 'genai-cus-tdz.paypalcorp.com'. Adding certificate verification is strongly advised. See: https://urllib3.readthedocs.io/en/latest/advanced-usage.html#tls-warnings\n",
      "  warnings.warn(\n"
     ]
    },
    {
     "name": "stdout",
     "output_type": "stream",
     "text": [
      "I covered the tab for dinner last night. Split the cost evenly among my friends and send Venmo requests with the note, 'Dinner at Joe's.' The receipt is saved in my files. 10\n"
     ]
    },
    {
     "name": "stderr",
     "output_type": "stream",
     "text": [
      "/Users/asankaranarayana/Documents/rg_data/lib/python3.12/site-packages/urllib3/connectionpool.py:1099: InsecureRequestWarning: Unverified HTTPS request is being made to host 'genai-cus-tdz.paypalcorp.com'. Adding certificate verification is strongly advised. See: https://urllib3.readthedocs.io/en/latest/advanced-usage.html#tls-warnings\n",
      "  warnings.warn(\n"
     ]
    },
    {
     "name": "stdout",
     "output_type": "stream",
     "text": [
      "I covered the tab for dinner last night. Split the cost evenly among my friends and send Venmo requests with the note, 'Dinner at Joe's.' The receipt is saved in my files. 11\n"
     ]
    },
    {
     "name": "stderr",
     "output_type": "stream",
     "text": [
      "/Users/asankaranarayana/Documents/rg_data/lib/python3.12/site-packages/urllib3/connectionpool.py:1099: InsecureRequestWarning: Unverified HTTPS request is being made to host 'genai-cus-tdz.paypalcorp.com'. Adding certificate verification is strongly advised. See: https://urllib3.readthedocs.io/en/latest/advanced-usage.html#tls-warnings\n",
      "  warnings.warn(\n"
     ]
    },
    {
     "name": "stdout",
     "output_type": "stream",
     "text": [
      "I covered the tab for dinner last night. Split the cost evenly among my friends and send Venmo requests with the note, 'Dinner at Joe's.' The receipt is saved in my files. 12\n",
      "I paid for the groceries this week. Divide the total equally among my roommates and send Venmo requests with the note, 'Weekly groceries.' The receipt is in my documents.\n"
     ]
    },
    {
     "name": "stderr",
     "output_type": "stream",
     "text": [
      "/Users/asankaranarayana/Documents/rg_data/lib/python3.12/site-packages/urllib3/connectionpool.py:1099: InsecureRequestWarning: Unverified HTTPS request is being made to host 'genai-cus-tdz.paypalcorp.com'. Adding certificate verification is strongly advised. See: https://urllib3.readthedocs.io/en/latest/advanced-usage.html#tls-warnings\n",
      "  warnings.warn(\n",
      "/Users/asankaranarayana/Documents/rg_data/lib/python3.12/site-packages/urllib3/connectionpool.py:1099: InsecureRequestWarning: Unverified HTTPS request is being made to host 'genai-cus-tdz.paypalcorp.com'. Adding certificate verification is strongly advised. See: https://urllib3.readthedocs.io/en/latest/advanced-usage.html#tls-warnings\n",
      "  warnings.warn(\n",
      "/Users/asankaranarayana/Documents/rg_data/lib/python3.12/site-packages/urllib3/connectionpool.py:1099: InsecureRequestWarning: Unverified HTTPS request is being made to host 'genai-cus-tdz.paypalcorp.com'. Adding certificate verification is strongly advised. See: https://urllib3.readthedocs.io/en/latest/advanced-usage.html#tls-warnings\n",
      "  warnings.warn(\n",
      "/Users/asankaranarayana/Documents/rg_data/lib/python3.12/site-packages/urllib3/connectionpool.py:1099: InsecureRequestWarning: Unverified HTTPS request is being made to host 'genai-cus-tdz.paypalcorp.com'. Adding certificate verification is strongly advised. See: https://urllib3.readthedocs.io/en/latest/advanced-usage.html#tls-warnings\n",
      "  warnings.warn(\n",
      "/Users/asankaranarayana/Documents/rg_data/lib/python3.12/site-packages/urllib3/connectionpool.py:1099: InsecureRequestWarning: Unverified HTTPS request is being made to host 'genai-cus-tdz.paypalcorp.com'. Adding certificate verification is strongly advised. See: https://urllib3.readthedocs.io/en/latest/advanced-usage.html#tls-warnings\n",
      "  warnings.warn(\n",
      "/Users/asankaranarayana/Documents/rg_data/lib/python3.12/site-packages/urllib3/connectionpool.py:1099: InsecureRequestWarning: Unverified HTTPS request is being made to host 'genai-cus-tdz.paypalcorp.com'. Adding certificate verification is strongly advised. See: https://urllib3.readthedocs.io/en/latest/advanced-usage.html#tls-warnings\n",
      "  warnings.warn(\n",
      "/Users/asankaranarayana/Documents/rg_data/lib/python3.12/site-packages/urllib3/connectionpool.py:1099: InsecureRequestWarning: Unverified HTTPS request is being made to host 'genai-cus-tdz.paypalcorp.com'. Adding certificate verification is strongly advised. See: https://urllib3.readthedocs.io/en/latest/advanced-usage.html#tls-warnings\n",
      "  warnings.warn(\n",
      "/Users/asankaranarayana/Documents/rg_data/lib/python3.12/site-packages/urllib3/connectionpool.py:1099: InsecureRequestWarning: Unverified HTTPS request is being made to host 'genai-cus-tdz.paypalcorp.com'. Adding certificate verification is strongly advised. See: https://urllib3.readthedocs.io/en/latest/advanced-usage.html#tls-warnings\n",
      "  warnings.warn(\n",
      "/Users/asankaranarayana/Documents/rg_data/lib/python3.12/site-packages/urllib3/connectionpool.py:1099: InsecureRequestWarning: Unverified HTTPS request is being made to host 'genai-cus-tdz.paypalcorp.com'. Adding certificate verification is strongly advised. See: https://urllib3.readthedocs.io/en/latest/advanced-usage.html#tls-warnings\n",
      "  warnings.warn(\n"
     ]
    },
    {
     "name": "stdout",
     "output_type": "stream",
     "text": [
      "I paid for the groceries this week. Divide the total equally among my roommates and send Venmo requests with the note, 'Weekly groceries.' The receipt is in my documents. 8\n"
     ]
    },
    {
     "name": "stderr",
     "output_type": "stream",
     "text": [
      "/Users/asankaranarayana/Documents/rg_data/lib/python3.12/site-packages/urllib3/connectionpool.py:1099: InsecureRequestWarning: Unverified HTTPS request is being made to host 'genai-cus-tdz.paypalcorp.com'. Adding certificate verification is strongly advised. See: https://urllib3.readthedocs.io/en/latest/advanced-usage.html#tls-warnings\n",
      "  warnings.warn(\n"
     ]
    },
    {
     "name": "stdout",
     "output_type": "stream",
     "text": [
      "I paid for the groceries this week. Divide the total equally among my roommates and send Venmo requests with the note, 'Weekly groceries.' The receipt is in my documents. 9\n"
     ]
    },
    {
     "name": "stderr",
     "output_type": "stream",
     "text": [
      "/Users/asankaranarayana/Documents/rg_data/lib/python3.12/site-packages/urllib3/connectionpool.py:1099: InsecureRequestWarning: Unverified HTTPS request is being made to host 'genai-cus-tdz.paypalcorp.com'. Adding certificate verification is strongly advised. See: https://urllib3.readthedocs.io/en/latest/advanced-usage.html#tls-warnings\n",
      "  warnings.warn(\n",
      "/Users/asankaranarayana/Documents/rg_data/lib/python3.12/site-packages/urllib3/connectionpool.py:1099: InsecureRequestWarning: Unverified HTTPS request is being made to host 'genai-cus-tdz.paypalcorp.com'. Adding certificate verification is strongly advised. See: https://urllib3.readthedocs.io/en/latest/advanced-usage.html#tls-warnings\n",
      "  warnings.warn(\n",
      "/Users/asankaranarayana/Documents/rg_data/lib/python3.12/site-packages/urllib3/connectionpool.py:1099: InsecureRequestWarning: Unverified HTTPS request is being made to host 'genai-cus-tdz.paypalcorp.com'. Adding certificate verification is strongly advised. See: https://urllib3.readthedocs.io/en/latest/advanced-usage.html#tls-warnings\n",
      "  warnings.warn(\n"
     ]
    },
    {
     "name": "stdout",
     "output_type": "stream",
     "text": [
      "I took care of the cab fare after the concert. Share the cost among my friends and send Venmo requests with the note, 'Cab ride after the show.' The receipt is in my folder.\n"
     ]
    },
    {
     "name": "stderr",
     "output_type": "stream",
     "text": [
      "/Users/asankaranarayana/Documents/rg_data/lib/python3.12/site-packages/urllib3/connectionpool.py:1099: InsecureRequestWarning: Unverified HTTPS request is being made to host 'genai-cus-tdz.paypalcorp.com'. Adding certificate verification is strongly advised. See: https://urllib3.readthedocs.io/en/latest/advanced-usage.html#tls-warnings\n",
      "  warnings.warn(\n",
      "/Users/asankaranarayana/Documents/rg_data/lib/python3.12/site-packages/urllib3/connectionpool.py:1099: InsecureRequestWarning: Unverified HTTPS request is being made to host 'genai-cus-tdz.paypalcorp.com'. Adding certificate verification is strongly advised. See: https://urllib3.readthedocs.io/en/latest/advanced-usage.html#tls-warnings\n",
      "  warnings.warn(\n",
      "/Users/asankaranarayana/Documents/rg_data/lib/python3.12/site-packages/urllib3/connectionpool.py:1099: InsecureRequestWarning: Unverified HTTPS request is being made to host 'genai-cus-tdz.paypalcorp.com'. Adding certificate verification is strongly advised. See: https://urllib3.readthedocs.io/en/latest/advanced-usage.html#tls-warnings\n",
      "  warnings.warn(\n",
      "/Users/asankaranarayana/Documents/rg_data/lib/python3.12/site-packages/urllib3/connectionpool.py:1099: InsecureRequestWarning: Unverified HTTPS request is being made to host 'genai-cus-tdz.paypalcorp.com'. Adding certificate verification is strongly advised. See: https://urllib3.readthedocs.io/en/latest/advanced-usage.html#tls-warnings\n",
      "  warnings.warn(\n",
      "/Users/asankaranarayana/Documents/rg_data/lib/python3.12/site-packages/urllib3/connectionpool.py:1099: InsecureRequestWarning: Unverified HTTPS request is being made to host 'genai-cus-tdz.paypalcorp.com'. Adding certificate verification is strongly advised. See: https://urllib3.readthedocs.io/en/latest/advanced-usage.html#tls-warnings\n",
      "  warnings.warn(\n",
      "/Users/asankaranarayana/Documents/rg_data/lib/python3.12/site-packages/urllib3/connectionpool.py:1099: InsecureRequestWarning: Unverified HTTPS request is being made to host 'genai-cus-tdz.paypalcorp.com'. Adding certificate verification is strongly advised. See: https://urllib3.readthedocs.io/en/latest/advanced-usage.html#tls-warnings\n",
      "  warnings.warn(\n",
      "/Users/asankaranarayana/Documents/rg_data/lib/python3.12/site-packages/urllib3/connectionpool.py:1099: InsecureRequestWarning: Unverified HTTPS request is being made to host 'genai-cus-tdz.paypalcorp.com'. Adding certificate verification is strongly advised. See: https://urllib3.readthedocs.io/en/latest/advanced-usage.html#tls-warnings\n",
      "  warnings.warn(\n",
      "/Users/asankaranarayana/Documents/rg_data/lib/python3.12/site-packages/urllib3/connectionpool.py:1099: InsecureRequestWarning: Unverified HTTPS request is being made to host 'genai-cus-tdz.paypalcorp.com'. Adding certificate verification is strongly advised. See: https://urllib3.readthedocs.io/en/latest/advanced-usage.html#tls-warnings\n",
      "  warnings.warn(\n",
      "/Users/asankaranarayana/Documents/rg_data/lib/python3.12/site-packages/urllib3/connectionpool.py:1099: InsecureRequestWarning: Unverified HTTPS request is being made to host 'genai-cus-tdz.paypalcorp.com'. Adding certificate verification is strongly advised. See: https://urllib3.readthedocs.io/en/latest/advanced-usage.html#tls-warnings\n",
      "  warnings.warn(\n"
     ]
    },
    {
     "name": "stdout",
     "output_type": "stream",
     "text": [
      "I took care of the cab fare after the concert. Share the cost among my friends and send Venmo requests with the note, 'Cab ride after the show.' The receipt is in my folder. 8\n"
     ]
    },
    {
     "name": "stderr",
     "output_type": "stream",
     "text": [
      "/Users/asankaranarayana/Documents/rg_data/lib/python3.12/site-packages/urllib3/connectionpool.py:1099: InsecureRequestWarning: Unverified HTTPS request is being made to host 'genai-cus-tdz.paypalcorp.com'. Adding certificate verification is strongly advised. See: https://urllib3.readthedocs.io/en/latest/advanced-usage.html#tls-warnings\n",
      "  warnings.warn(\n",
      "/Users/asankaranarayana/Documents/rg_data/lib/python3.12/site-packages/urllib3/connectionpool.py:1099: InsecureRequestWarning: Unverified HTTPS request is being made to host 'genai-cus-tdz.paypalcorp.com'. Adding certificate verification is strongly advised. See: https://urllib3.readthedocs.io/en/latest/advanced-usage.html#tls-warnings\n",
      "  warnings.warn(\n",
      "/Users/asankaranarayana/Documents/rg_data/lib/python3.12/site-packages/urllib3/connectionpool.py:1099: InsecureRequestWarning: Unverified HTTPS request is being made to host 'genai-cus-tdz.paypalcorp.com'. Adding certificate verification is strongly advised. See: https://urllib3.readthedocs.io/en/latest/advanced-usage.html#tls-warnings\n",
      "  warnings.warn(\n"
     ]
    },
    {
     "name": "stdout",
     "output_type": "stream",
     "text": [
      "I took care of the cab fare after the concert. Share the cost among my friends and send Venmo requests with the note, 'Cab ride after the show.' The receipt is in my folder. 11\n"
     ]
    },
    {
     "name": "stderr",
     "output_type": "stream",
     "text": [
      "/Users/asankaranarayana/Documents/rg_data/lib/python3.12/site-packages/urllib3/connectionpool.py:1099: InsecureRequestWarning: Unverified HTTPS request is being made to host 'genai-cus-tdz.paypalcorp.com'. Adding certificate verification is strongly advised. See: https://urllib3.readthedocs.io/en/latest/advanced-usage.html#tls-warnings\n",
      "  warnings.warn(\n"
     ]
    },
    {
     "name": "stdout",
     "output_type": "stream",
     "text": [
      "I took care of the cab fare after the concert. Share the cost among my friends and send Venmo requests with the note, 'Cab ride after the show.' The receipt is in my folder. 12\n",
      "I paid for the tickets to the game. Split the amount evenly among the group and send Venmo requests with the note, 'Game tickets.' The receipt is saved in my file system.\n"
     ]
    },
    {
     "name": "stderr",
     "output_type": "stream",
     "text": [
      "/Users/asankaranarayana/Documents/rg_data/lib/python3.12/site-packages/urllib3/connectionpool.py:1099: InsecureRequestWarning: Unverified HTTPS request is being made to host 'genai-cus-tdz.paypalcorp.com'. Adding certificate verification is strongly advised. See: https://urllib3.readthedocs.io/en/latest/advanced-usage.html#tls-warnings\n",
      "  warnings.warn(\n",
      "/Users/asankaranarayana/Documents/rg_data/lib/python3.12/site-packages/urllib3/connectionpool.py:1099: InsecureRequestWarning: Unverified HTTPS request is being made to host 'genai-cus-tdz.paypalcorp.com'. Adding certificate verification is strongly advised. See: https://urllib3.readthedocs.io/en/latest/advanced-usage.html#tls-warnings\n",
      "  warnings.warn(\n",
      "/Users/asankaranarayana/Documents/rg_data/lib/python3.12/site-packages/urllib3/connectionpool.py:1099: InsecureRequestWarning: Unverified HTTPS request is being made to host 'genai-cus-tdz.paypalcorp.com'. Adding certificate verification is strongly advised. See: https://urllib3.readthedocs.io/en/latest/advanced-usage.html#tls-warnings\n",
      "  warnings.warn(\n",
      "/Users/asankaranarayana/Documents/rg_data/lib/python3.12/site-packages/urllib3/connectionpool.py:1099: InsecureRequestWarning: Unverified HTTPS request is being made to host 'genai-cus-tdz.paypalcorp.com'. Adding certificate verification is strongly advised. See: https://urllib3.readthedocs.io/en/latest/advanced-usage.html#tls-warnings\n",
      "  warnings.warn(\n",
      "/Users/asankaranarayana/Documents/rg_data/lib/python3.12/site-packages/urllib3/connectionpool.py:1099: InsecureRequestWarning: Unverified HTTPS request is being made to host 'genai-cus-tdz.paypalcorp.com'. Adding certificate verification is strongly advised. See: https://urllib3.readthedocs.io/en/latest/advanced-usage.html#tls-warnings\n",
      "  warnings.warn(\n"
     ]
    },
    {
     "name": "stdout",
     "output_type": "stream",
     "text": [
      "I paid for the tickets to the game. Split the amount evenly among the group and send Venmo requests with the note, 'Game tickets.' The receipt is saved in my file system. 4\n"
     ]
    },
    {
     "name": "stderr",
     "output_type": "stream",
     "text": [
      "/Users/asankaranarayana/Documents/rg_data/lib/python3.12/site-packages/urllib3/connectionpool.py:1099: InsecureRequestWarning: Unverified HTTPS request is being made to host 'genai-cus-tdz.paypalcorp.com'. Adding certificate verification is strongly advised. See: https://urllib3.readthedocs.io/en/latest/advanced-usage.html#tls-warnings\n",
      "  warnings.warn(\n",
      "/Users/asankaranarayana/Documents/rg_data/lib/python3.12/site-packages/urllib3/connectionpool.py:1099: InsecureRequestWarning: Unverified HTTPS request is being made to host 'genai-cus-tdz.paypalcorp.com'. Adding certificate verification is strongly advised. See: https://urllib3.readthedocs.io/en/latest/advanced-usage.html#tls-warnings\n",
      "  warnings.warn(\n",
      "/Users/asankaranarayana/Documents/rg_data/lib/python3.12/site-packages/urllib3/connectionpool.py:1099: InsecureRequestWarning: Unverified HTTPS request is being made to host 'genai-cus-tdz.paypalcorp.com'. Adding certificate verification is strongly advised. See: https://urllib3.readthedocs.io/en/latest/advanced-usage.html#tls-warnings\n",
      "  warnings.warn(\n"
     ]
    },
    {
     "name": "stdout",
     "output_type": "stream",
     "text": [
      "I paid for the tickets to the game. Split the amount evenly among the group and send Venmo requests with the note, 'Game tickets.' The receipt is saved in my file system. 7\n"
     ]
    },
    {
     "name": "stderr",
     "output_type": "stream",
     "text": [
      "/Users/asankaranarayana/Documents/rg_data/lib/python3.12/site-packages/urllib3/connectionpool.py:1099: InsecureRequestWarning: Unverified HTTPS request is being made to host 'genai-cus-tdz.paypalcorp.com'. Adding certificate verification is strongly advised. See: https://urllib3.readthedocs.io/en/latest/advanced-usage.html#tls-warnings\n",
      "  warnings.warn(\n"
     ]
    },
    {
     "name": "stdout",
     "output_type": "stream",
     "text": [
      "I paid for the tickets to the game. Split the amount evenly among the group and send Venmo requests with the note, 'Game tickets.' The receipt is saved in my file system. 8\n"
     ]
    },
    {
     "name": "stderr",
     "output_type": "stream",
     "text": [
      "/Users/asankaranarayana/Documents/rg_data/lib/python3.12/site-packages/urllib3/connectionpool.py:1099: InsecureRequestWarning: Unverified HTTPS request is being made to host 'genai-cus-tdz.paypalcorp.com'. Adding certificate verification is strongly advised. See: https://urllib3.readthedocs.io/en/latest/advanced-usage.html#tls-warnings\n",
      "  warnings.warn(\n",
      "/Users/asankaranarayana/Documents/rg_data/lib/python3.12/site-packages/urllib3/connectionpool.py:1099: InsecureRequestWarning: Unverified HTTPS request is being made to host 'genai-cus-tdz.paypalcorp.com'. Adding certificate verification is strongly advised. See: https://urllib3.readthedocs.io/en/latest/advanced-usage.html#tls-warnings\n",
      "  warnings.warn(\n",
      "/Users/asankaranarayana/Documents/rg_data/lib/python3.12/site-packages/urllib3/connectionpool.py:1099: InsecureRequestWarning: Unverified HTTPS request is being made to host 'genai-cus-tdz.paypalcorp.com'. Adding certificate verification is strongly advised. See: https://urllib3.readthedocs.io/en/latest/advanced-usage.html#tls-warnings\n",
      "  warnings.warn(\n",
      "/Users/asankaranarayana/Documents/rg_data/lib/python3.12/site-packages/urllib3/connectionpool.py:1099: InsecureRequestWarning: Unverified HTTPS request is being made to host 'genai-cus-tdz.paypalcorp.com'. Adding certificate verification is strongly advised. See: https://urllib3.readthedocs.io/en/latest/advanced-usage.html#tls-warnings\n",
      "  warnings.warn(\n"
     ]
    },
    {
     "name": "stdout",
     "output_type": "stream",
     "text": [
      "I paid for the tickets to the game. Split the amount evenly among the group and send Venmo requests with the note, 'Game tickets.' The receipt is saved in my file system. 12\n",
      "I covered the cost of the Airbnb for the weekend trip. Divide the total among the group and send Venmo requests with the note, 'Weekend Airbnb.' The receipt is in my files.\n"
     ]
    },
    {
     "name": "stderr",
     "output_type": "stream",
     "text": [
      "/Users/asankaranarayana/Documents/rg_data/lib/python3.12/site-packages/urllib3/connectionpool.py:1099: InsecureRequestWarning: Unverified HTTPS request is being made to host 'genai-cus-tdz.paypalcorp.com'. Adding certificate verification is strongly advised. See: https://urllib3.readthedocs.io/en/latest/advanced-usage.html#tls-warnings\n",
      "  warnings.warn(\n",
      "/Users/asankaranarayana/Documents/rg_data/lib/python3.12/site-packages/urllib3/connectionpool.py:1099: InsecureRequestWarning: Unverified HTTPS request is being made to host 'genai-cus-tdz.paypalcorp.com'. Adding certificate verification is strongly advised. See: https://urllib3.readthedocs.io/en/latest/advanced-usage.html#tls-warnings\n",
      "  warnings.warn(\n",
      "/Users/asankaranarayana/Documents/rg_data/lib/python3.12/site-packages/urllib3/connectionpool.py:1099: InsecureRequestWarning: Unverified HTTPS request is being made to host 'genai-cus-tdz.paypalcorp.com'. Adding certificate verification is strongly advised. See: https://urllib3.readthedocs.io/en/latest/advanced-usage.html#tls-warnings\n",
      "  warnings.warn(\n",
      "/Users/asankaranarayana/Documents/rg_data/lib/python3.12/site-packages/urllib3/connectionpool.py:1099: InsecureRequestWarning: Unverified HTTPS request is being made to host 'genai-cus-tdz.paypalcorp.com'. Adding certificate verification is strongly advised. See: https://urllib3.readthedocs.io/en/latest/advanced-usage.html#tls-warnings\n",
      "  warnings.warn(\n",
      "/Users/asankaranarayana/Documents/rg_data/lib/python3.12/site-packages/urllib3/connectionpool.py:1099: InsecureRequestWarning: Unverified HTTPS request is being made to host 'genai-cus-tdz.paypalcorp.com'. Adding certificate verification is strongly advised. See: https://urllib3.readthedocs.io/en/latest/advanced-usage.html#tls-warnings\n",
      "  warnings.warn(\n",
      "/Users/asankaranarayana/Documents/rg_data/lib/python3.12/site-packages/urllib3/connectionpool.py:1099: InsecureRequestWarning: Unverified HTTPS request is being made to host 'genai-cus-tdz.paypalcorp.com'. Adding certificate verification is strongly advised. See: https://urllib3.readthedocs.io/en/latest/advanced-usage.html#tls-warnings\n",
      "  warnings.warn(\n",
      "/Users/asankaranarayana/Documents/rg_data/lib/python3.12/site-packages/urllib3/connectionpool.py:1099: InsecureRequestWarning: Unverified HTTPS request is being made to host 'genai-cus-tdz.paypalcorp.com'. Adding certificate verification is strongly advised. See: https://urllib3.readthedocs.io/en/latest/advanced-usage.html#tls-warnings\n",
      "  warnings.warn(\n",
      "/Users/asankaranarayana/Documents/rg_data/lib/python3.12/site-packages/urllib3/connectionpool.py:1099: InsecureRequestWarning: Unverified HTTPS request is being made to host 'genai-cus-tdz.paypalcorp.com'. Adding certificate verification is strongly advised. See: https://urllib3.readthedocs.io/en/latest/advanced-usage.html#tls-warnings\n",
      "  warnings.warn(\n",
      "/Users/asankaranarayana/Documents/rg_data/lib/python3.12/site-packages/urllib3/connectionpool.py:1099: InsecureRequestWarning: Unverified HTTPS request is being made to host 'genai-cus-tdz.paypalcorp.com'. Adding certificate verification is strongly advised. See: https://urllib3.readthedocs.io/en/latest/advanced-usage.html#tls-warnings\n",
      "  warnings.warn(\n"
     ]
    },
    {
     "name": "stdout",
     "output_type": "stream",
     "text": [
      "I covered the cost of the Airbnb for the weekend trip. Divide the total among the group and send Venmo requests with the note, 'Weekend Airbnb.' The receipt is in my files. 8\n"
     ]
    },
    {
     "name": "stderr",
     "output_type": "stream",
     "text": [
      "/Users/asankaranarayana/Documents/rg_data/lib/python3.12/site-packages/urllib3/connectionpool.py:1099: InsecureRequestWarning: Unverified HTTPS request is being made to host 'genai-cus-tdz.paypalcorp.com'. Adding certificate verification is strongly advised. See: https://urllib3.readthedocs.io/en/latest/advanced-usage.html#tls-warnings\n",
      "  warnings.warn(\n",
      "/Users/asankaranarayana/Documents/rg_data/lib/python3.12/site-packages/urllib3/connectionpool.py:1099: InsecureRequestWarning: Unverified HTTPS request is being made to host 'genai-cus-tdz.paypalcorp.com'. Adding certificate verification is strongly advised. See: https://urllib3.readthedocs.io/en/latest/advanced-usage.html#tls-warnings\n",
      "  warnings.warn(\n"
     ]
    },
    {
     "name": "stdout",
     "output_type": "stream",
     "text": [
      "I covered the cost of the Airbnb for the weekend trip. Divide the total among the group and send Venmo requests with the note, 'Weekend Airbnb.' The receipt is in my files. 10\n"
     ]
    },
    {
     "name": "stderr",
     "output_type": "stream",
     "text": [
      "/Users/asankaranarayana/Documents/rg_data/lib/python3.12/site-packages/urllib3/connectionpool.py:1099: InsecureRequestWarning: Unverified HTTPS request is being made to host 'genai-cus-tdz.paypalcorp.com'. Adding certificate verification is strongly advised. See: https://urllib3.readthedocs.io/en/latest/advanced-usage.html#tls-warnings\n",
      "  warnings.warn(\n"
     ]
    },
    {
     "name": "stdout",
     "output_type": "stream",
     "text": [
      "I covered the cost of the Airbnb for the weekend trip. Divide the total among the group and send Venmo requests with the note, 'Weekend Airbnb.' The receipt is in my files. 11\n"
     ]
    },
    {
     "name": "stderr",
     "output_type": "stream",
     "text": [
      "/Users/asankaranarayana/Documents/rg_data/lib/python3.12/site-packages/urllib3/connectionpool.py:1099: InsecureRequestWarning: Unverified HTTPS request is being made to host 'genai-cus-tdz.paypalcorp.com'. Adding certificate verification is strongly advised. See: https://urllib3.readthedocs.io/en/latest/advanced-usage.html#tls-warnings\n",
      "  warnings.warn(\n"
     ]
    },
    {
     "name": "stdout",
     "output_type": "stream",
     "text": [
      "I covered the cost of the Airbnb for the weekend trip. Divide the total among the group and send Venmo requests with the note, 'Weekend Airbnb.' The receipt is in my files. 12\n",
      "I paid for the drinks at the bar last night. Share the cost among my friends and send Venmo requests with the note, 'Bar tab.' The receipt is saved in my documents.\n"
     ]
    },
    {
     "name": "stderr",
     "output_type": "stream",
     "text": [
      "/Users/asankaranarayana/Documents/rg_data/lib/python3.12/site-packages/urllib3/connectionpool.py:1099: InsecureRequestWarning: Unverified HTTPS request is being made to host 'genai-cus-tdz.paypalcorp.com'. Adding certificate verification is strongly advised. See: https://urllib3.readthedocs.io/en/latest/advanced-usage.html#tls-warnings\n",
      "  warnings.warn(\n",
      "/Users/asankaranarayana/Documents/rg_data/lib/python3.12/site-packages/urllib3/connectionpool.py:1099: InsecureRequestWarning: Unverified HTTPS request is being made to host 'genai-cus-tdz.paypalcorp.com'. Adding certificate verification is strongly advised. See: https://urllib3.readthedocs.io/en/latest/advanced-usage.html#tls-warnings\n",
      "  warnings.warn(\n",
      "/Users/asankaranarayana/Documents/rg_data/lib/python3.12/site-packages/urllib3/connectionpool.py:1099: InsecureRequestWarning: Unverified HTTPS request is being made to host 'genai-cus-tdz.paypalcorp.com'. Adding certificate verification is strongly advised. See: https://urllib3.readthedocs.io/en/latest/advanced-usage.html#tls-warnings\n",
      "  warnings.warn(\n",
      "/Users/asankaranarayana/Documents/rg_data/lib/python3.12/site-packages/urllib3/connectionpool.py:1099: InsecureRequestWarning: Unverified HTTPS request is being made to host 'genai-cus-tdz.paypalcorp.com'. Adding certificate verification is strongly advised. See: https://urllib3.readthedocs.io/en/latest/advanced-usage.html#tls-warnings\n",
      "  warnings.warn(\n",
      "/Users/asankaranarayana/Documents/rg_data/lib/python3.12/site-packages/urllib3/connectionpool.py:1099: InsecureRequestWarning: Unverified HTTPS request is being made to host 'genai-cus-tdz.paypalcorp.com'. Adding certificate verification is strongly advised. See: https://urllib3.readthedocs.io/en/latest/advanced-usage.html#tls-warnings\n",
      "  warnings.warn(\n",
      "/Users/asankaranarayana/Documents/rg_data/lib/python3.12/site-packages/urllib3/connectionpool.py:1099: InsecureRequestWarning: Unverified HTTPS request is being made to host 'genai-cus-tdz.paypalcorp.com'. Adding certificate verification is strongly advised. See: https://urllib3.readthedocs.io/en/latest/advanced-usage.html#tls-warnings\n",
      "  warnings.warn(\n",
      "/Users/asankaranarayana/Documents/rg_data/lib/python3.12/site-packages/urllib3/connectionpool.py:1099: InsecureRequestWarning: Unverified HTTPS request is being made to host 'genai-cus-tdz.paypalcorp.com'. Adding certificate verification is strongly advised. See: https://urllib3.readthedocs.io/en/latest/advanced-usage.html#tls-warnings\n",
      "  warnings.warn(\n",
      "/Users/asankaranarayana/Documents/rg_data/lib/python3.12/site-packages/urllib3/connectionpool.py:1099: InsecureRequestWarning: Unverified HTTPS request is being made to host 'genai-cus-tdz.paypalcorp.com'. Adding certificate verification is strongly advised. See: https://urllib3.readthedocs.io/en/latest/advanced-usage.html#tls-warnings\n",
      "  warnings.warn(\n"
     ]
    },
    {
     "name": "stdout",
     "output_type": "stream",
     "text": [
      "I paid for the drinks at the bar last night. Share the cost among my friends and send Venmo requests with the note, 'Bar tab.' The receipt is saved in my documents. 7\n"
     ]
    },
    {
     "name": "stderr",
     "output_type": "stream",
     "text": [
      "/Users/asankaranarayana/Documents/rg_data/lib/python3.12/site-packages/urllib3/connectionpool.py:1099: InsecureRequestWarning: Unverified HTTPS request is being made to host 'genai-cus-tdz.paypalcorp.com'. Adding certificate verification is strongly advised. See: https://urllib3.readthedocs.io/en/latest/advanced-usage.html#tls-warnings\n",
      "  warnings.warn(\n"
     ]
    },
    {
     "name": "stdout",
     "output_type": "stream",
     "text": [
      "I paid for the drinks at the bar last night. Share the cost among my friends and send Venmo requests with the note, 'Bar tab.' The receipt is saved in my documents. 8\n"
     ]
    },
    {
     "name": "stderr",
     "output_type": "stream",
     "text": [
      "/Users/asankaranarayana/Documents/rg_data/lib/python3.12/site-packages/urllib3/connectionpool.py:1099: InsecureRequestWarning: Unverified HTTPS request is being made to host 'genai-cus-tdz.paypalcorp.com'. Adding certificate verification is strongly advised. See: https://urllib3.readthedocs.io/en/latest/advanced-usage.html#tls-warnings\n",
      "  warnings.warn(\n",
      "/Users/asankaranarayana/Documents/rg_data/lib/python3.12/site-packages/urllib3/connectionpool.py:1099: InsecureRequestWarning: Unverified HTTPS request is being made to host 'genai-cus-tdz.paypalcorp.com'. Adding certificate verification is strongly advised. See: https://urllib3.readthedocs.io/en/latest/advanced-usage.html#tls-warnings\n",
      "  warnings.warn(\n"
     ]
    },
    {
     "name": "stdout",
     "output_type": "stream",
     "text": [
      "I paid for the drinks at the bar last night. Share the cost among my friends and send Venmo requests with the note, 'Bar tab.' The receipt is saved in my documents. 10\n"
     ]
    },
    {
     "name": "stderr",
     "output_type": "stream",
     "text": [
      "/Users/asankaranarayana/Documents/rg_data/lib/python3.12/site-packages/urllib3/connectionpool.py:1099: InsecureRequestWarning: Unverified HTTPS request is being made to host 'genai-cus-tdz.paypalcorp.com'. Adding certificate verification is strongly advised. See: https://urllib3.readthedocs.io/en/latest/advanced-usage.html#tls-warnings\n",
      "  warnings.warn(\n"
     ]
    },
    {
     "name": "stdout",
     "output_type": "stream",
     "text": [
      "I paid for the drinks at the bar last night. Share the cost among my friends and send Venmo requests with the note, 'Bar tab.' The receipt is saved in my documents. 11\n"
     ]
    },
    {
     "name": "stderr",
     "output_type": "stream",
     "text": [
      "/Users/asankaranarayana/Documents/rg_data/lib/python3.12/site-packages/urllib3/connectionpool.py:1099: InsecureRequestWarning: Unverified HTTPS request is being made to host 'genai-cus-tdz.paypalcorp.com'. Adding certificate verification is strongly advised. See: https://urllib3.readthedocs.io/en/latest/advanced-usage.html#tls-warnings\n",
      "  warnings.warn(\n"
     ]
    },
    {
     "name": "stdout",
     "output_type": "stream",
     "text": [
      "I paid for the drinks at the bar last night. Share the cost among my friends and send Venmo requests with the note, 'Bar tab.' The receipt is saved in my documents. 12\n",
      "I took care of the pizza delivery for movie night. Split the cost evenly among everyone and send Venmo requests with the note, 'Pizza for movie night.' The receipt is in my folder.\n"
     ]
    },
    {
     "name": "stderr",
     "output_type": "stream",
     "text": [
      "/Users/asankaranarayana/Documents/rg_data/lib/python3.12/site-packages/urllib3/connectionpool.py:1099: InsecureRequestWarning: Unverified HTTPS request is being made to host 'genai-cus-tdz.paypalcorp.com'. Adding certificate verification is strongly advised. See: https://urllib3.readthedocs.io/en/latest/advanced-usage.html#tls-warnings\n",
      "  warnings.warn(\n",
      "/Users/asankaranarayana/Documents/rg_data/lib/python3.12/site-packages/urllib3/connectionpool.py:1099: InsecureRequestWarning: Unverified HTTPS request is being made to host 'genai-cus-tdz.paypalcorp.com'. Adding certificate verification is strongly advised. See: https://urllib3.readthedocs.io/en/latest/advanced-usage.html#tls-warnings\n",
      "  warnings.warn(\n",
      "/Users/asankaranarayana/Documents/rg_data/lib/python3.12/site-packages/urllib3/connectionpool.py:1099: InsecureRequestWarning: Unverified HTTPS request is being made to host 'genai-cus-tdz.paypalcorp.com'. Adding certificate verification is strongly advised. See: https://urllib3.readthedocs.io/en/latest/advanced-usage.html#tls-warnings\n",
      "  warnings.warn(\n",
      "/Users/asankaranarayana/Documents/rg_data/lib/python3.12/site-packages/urllib3/connectionpool.py:1099: InsecureRequestWarning: Unverified HTTPS request is being made to host 'genai-cus-tdz.paypalcorp.com'. Adding certificate verification is strongly advised. See: https://urllib3.readthedocs.io/en/latest/advanced-usage.html#tls-warnings\n",
      "  warnings.warn(\n",
      "/Users/asankaranarayana/Documents/rg_data/lib/python3.12/site-packages/urllib3/connectionpool.py:1099: InsecureRequestWarning: Unverified HTTPS request is being made to host 'genai-cus-tdz.paypalcorp.com'. Adding certificate verification is strongly advised. See: https://urllib3.readthedocs.io/en/latest/advanced-usage.html#tls-warnings\n",
      "  warnings.warn(\n",
      "/Users/asankaranarayana/Documents/rg_data/lib/python3.12/site-packages/urllib3/connectionpool.py:1099: InsecureRequestWarning: Unverified HTTPS request is being made to host 'genai-cus-tdz.paypalcorp.com'. Adding certificate verification is strongly advised. See: https://urllib3.readthedocs.io/en/latest/advanced-usage.html#tls-warnings\n",
      "  warnings.warn(\n",
      "/Users/asankaranarayana/Documents/rg_data/lib/python3.12/site-packages/urllib3/connectionpool.py:1099: InsecureRequestWarning: Unverified HTTPS request is being made to host 'genai-cus-tdz.paypalcorp.com'. Adding certificate verification is strongly advised. See: https://urllib3.readthedocs.io/en/latest/advanced-usage.html#tls-warnings\n",
      "  warnings.warn(\n",
      "/Users/asankaranarayana/Documents/rg_data/lib/python3.12/site-packages/urllib3/connectionpool.py:1099: InsecureRequestWarning: Unverified HTTPS request is being made to host 'genai-cus-tdz.paypalcorp.com'. Adding certificate verification is strongly advised. See: https://urllib3.readthedocs.io/en/latest/advanced-usage.html#tls-warnings\n",
      "  warnings.warn(\n",
      "/Users/asankaranarayana/Documents/rg_data/lib/python3.12/site-packages/urllib3/connectionpool.py:1099: InsecureRequestWarning: Unverified HTTPS request is being made to host 'genai-cus-tdz.paypalcorp.com'. Adding certificate verification is strongly advised. See: https://urllib3.readthedocs.io/en/latest/advanced-usage.html#tls-warnings\n",
      "  warnings.warn(\n"
     ]
    },
    {
     "name": "stdout",
     "output_type": "stream",
     "text": [
      "I took care of the pizza delivery for movie night. Split the cost evenly among everyone and send Venmo requests with the note, 'Pizza for movie night.' The receipt is in my folder. 8\n"
     ]
    },
    {
     "name": "stderr",
     "output_type": "stream",
     "text": [
      "/Users/asankaranarayana/Documents/rg_data/lib/python3.12/site-packages/urllib3/connectionpool.py:1099: InsecureRequestWarning: Unverified HTTPS request is being made to host 'genai-cus-tdz.paypalcorp.com'. Adding certificate verification is strongly advised. See: https://urllib3.readthedocs.io/en/latest/advanced-usage.html#tls-warnings\n",
      "  warnings.warn(\n"
     ]
    },
    {
     "name": "stdout",
     "output_type": "stream",
     "text": [
      "I took care of the pizza delivery for movie night. Split the cost evenly among everyone and send Venmo requests with the note, 'Pizza for movie night.' The receipt is in my folder. 9\n"
     ]
    },
    {
     "name": "stderr",
     "output_type": "stream",
     "text": [
      "/Users/asankaranarayana/Documents/rg_data/lib/python3.12/site-packages/urllib3/connectionpool.py:1099: InsecureRequestWarning: Unverified HTTPS request is being made to host 'genai-cus-tdz.paypalcorp.com'. Adding certificate verification is strongly advised. See: https://urllib3.readthedocs.io/en/latest/advanced-usage.html#tls-warnings\n",
      "  warnings.warn(\n",
      "/Users/asankaranarayana/Documents/rg_data/lib/python3.12/site-packages/urllib3/connectionpool.py:1099: InsecureRequestWarning: Unverified HTTPS request is being made to host 'genai-cus-tdz.paypalcorp.com'. Adding certificate verification is strongly advised. See: https://urllib3.readthedocs.io/en/latest/advanced-usage.html#tls-warnings\n",
      "  warnings.warn(\n"
     ]
    },
    {
     "name": "stdout",
     "output_type": "stream",
     "text": [
      "I took care of the pizza delivery for movie night. Split the cost evenly among everyone and send Venmo requests with the note, 'Pizza for movie night.' The receipt is in my folder. 11\n"
     ]
    },
    {
     "name": "stderr",
     "output_type": "stream",
     "text": [
      "/Users/asankaranarayana/Documents/rg_data/lib/python3.12/site-packages/urllib3/connectionpool.py:1099: InsecureRequestWarning: Unverified HTTPS request is being made to host 'genai-cus-tdz.paypalcorp.com'. Adding certificate verification is strongly advised. See: https://urllib3.readthedocs.io/en/latest/advanced-usage.html#tls-warnings\n",
      "  warnings.warn(\n"
     ]
    },
    {
     "name": "stdout",
     "output_type": "stream",
     "text": [
      "I took care of the pizza delivery for movie night. Split the cost evenly among everyone and send Venmo requests with the note, 'Pizza for movie night.' The receipt is in my folder. 12\n",
      "I paid for the group brunch last Sunday. Divide the total among the group and send Venmo requests with the note, 'Brunch at The Diner.' The receipt is saved in my files.\n"
     ]
    },
    {
     "name": "stderr",
     "output_type": "stream",
     "text": [
      "/Users/asankaranarayana/Documents/rg_data/lib/python3.12/site-packages/urllib3/connectionpool.py:1099: InsecureRequestWarning: Unverified HTTPS request is being made to host 'genai-cus-tdz.paypalcorp.com'. Adding certificate verification is strongly advised. See: https://urllib3.readthedocs.io/en/latest/advanced-usage.html#tls-warnings\n",
      "  warnings.warn(\n",
      "/Users/asankaranarayana/Documents/rg_data/lib/python3.12/site-packages/urllib3/connectionpool.py:1099: InsecureRequestWarning: Unverified HTTPS request is being made to host 'genai-cus-tdz.paypalcorp.com'. Adding certificate verification is strongly advised. See: https://urllib3.readthedocs.io/en/latest/advanced-usage.html#tls-warnings\n",
      "  warnings.warn(\n",
      "/Users/asankaranarayana/Documents/rg_data/lib/python3.12/site-packages/urllib3/connectionpool.py:1099: InsecureRequestWarning: Unverified HTTPS request is being made to host 'genai-cus-tdz.paypalcorp.com'. Adding certificate verification is strongly advised. See: https://urllib3.readthedocs.io/en/latest/advanced-usage.html#tls-warnings\n",
      "  warnings.warn(\n",
      "/Users/asankaranarayana/Documents/rg_data/lib/python3.12/site-packages/urllib3/connectionpool.py:1099: InsecureRequestWarning: Unverified HTTPS request is being made to host 'genai-cus-tdz.paypalcorp.com'. Adding certificate verification is strongly advised. See: https://urllib3.readthedocs.io/en/latest/advanced-usage.html#tls-warnings\n",
      "  warnings.warn(\n",
      "/Users/asankaranarayana/Documents/rg_data/lib/python3.12/site-packages/urllib3/connectionpool.py:1099: InsecureRequestWarning: Unverified HTTPS request is being made to host 'genai-cus-tdz.paypalcorp.com'. Adding certificate verification is strongly advised. See: https://urllib3.readthedocs.io/en/latest/advanced-usage.html#tls-warnings\n",
      "  warnings.warn(\n",
      "/Users/asankaranarayana/Documents/rg_data/lib/python3.12/site-packages/urllib3/connectionpool.py:1099: InsecureRequestWarning: Unverified HTTPS request is being made to host 'genai-cus-tdz.paypalcorp.com'. Adding certificate verification is strongly advised. See: https://urllib3.readthedocs.io/en/latest/advanced-usage.html#tls-warnings\n",
      "  warnings.warn(\n",
      "/Users/asankaranarayana/Documents/rg_data/lib/python3.12/site-packages/urllib3/connectionpool.py:1099: InsecureRequestWarning: Unverified HTTPS request is being made to host 'genai-cus-tdz.paypalcorp.com'. Adding certificate verification is strongly advised. See: https://urllib3.readthedocs.io/en/latest/advanced-usage.html#tls-warnings\n",
      "  warnings.warn(\n",
      "/Users/asankaranarayana/Documents/rg_data/lib/python3.12/site-packages/urllib3/connectionpool.py:1099: InsecureRequestWarning: Unverified HTTPS request is being made to host 'genai-cus-tdz.paypalcorp.com'. Adding certificate verification is strongly advised. See: https://urllib3.readthedocs.io/en/latest/advanced-usage.html#tls-warnings\n",
      "  warnings.warn(\n"
     ]
    },
    {
     "name": "stdout",
     "output_type": "stream",
     "text": [
      "I paid for the group brunch last Sunday. Divide the total among the group and send Venmo requests with the note, 'Brunch at The Diner.' The receipt is saved in my files. 7\n"
     ]
    },
    {
     "name": "stderr",
     "output_type": "stream",
     "text": [
      "/Users/asankaranarayana/Documents/rg_data/lib/python3.12/site-packages/urllib3/connectionpool.py:1099: InsecureRequestWarning: Unverified HTTPS request is being made to host 'genai-cus-tdz.paypalcorp.com'. Adding certificate verification is strongly advised. See: https://urllib3.readthedocs.io/en/latest/advanced-usage.html#tls-warnings\n",
      "  warnings.warn(\n",
      "/Users/asankaranarayana/Documents/rg_data/lib/python3.12/site-packages/urllib3/connectionpool.py:1099: InsecureRequestWarning: Unverified HTTPS request is being made to host 'genai-cus-tdz.paypalcorp.com'. Adding certificate verification is strongly advised. See: https://urllib3.readthedocs.io/en/latest/advanced-usage.html#tls-warnings\n",
      "  warnings.warn(\n",
      "/Users/asankaranarayana/Documents/rg_data/lib/python3.12/site-packages/urllib3/connectionpool.py:1099: InsecureRequestWarning: Unverified HTTPS request is being made to host 'genai-cus-tdz.paypalcorp.com'. Adding certificate verification is strongly advised. See: https://urllib3.readthedocs.io/en/latest/advanced-usage.html#tls-warnings\n",
      "  warnings.warn(\n"
     ]
    },
    {
     "name": "stdout",
     "output_type": "stream",
     "text": [
      "I paid for the group brunch last Sunday. Divide the total among the group and send Venmo requests with the note, 'Brunch at The Diner.' The receipt is saved in my files. 10\n"
     ]
    },
    {
     "name": "stderr",
     "output_type": "stream",
     "text": [
      "/Users/asankaranarayana/Documents/rg_data/lib/python3.12/site-packages/urllib3/connectionpool.py:1099: InsecureRequestWarning: Unverified HTTPS request is being made to host 'genai-cus-tdz.paypalcorp.com'. Adding certificate verification is strongly advised. See: https://urllib3.readthedocs.io/en/latest/advanced-usage.html#tls-warnings\n",
      "  warnings.warn(\n",
      "/Users/asankaranarayana/Documents/rg_data/lib/python3.12/site-packages/urllib3/connectionpool.py:1099: InsecureRequestWarning: Unverified HTTPS request is being made to host 'genai-cus-tdz.paypalcorp.com'. Adding certificate verification is strongly advised. See: https://urllib3.readthedocs.io/en/latest/advanced-usage.html#tls-warnings\n",
      "  warnings.warn(\n"
     ]
    },
    {
     "name": "stdout",
     "output_type": "stream",
     "text": [
      "I paid for the group brunch last Sunday. Divide the total among the group and send Venmo requests with the note, 'Brunch at The Diner.' The receipt is saved in my files. 12\n",
      "I covered the cost of the rental car for the road trip. Share the expense among the group and send Venmo requests with the note, 'Road trip rental car.' The receipt is in my documents.\n"
     ]
    },
    {
     "name": "stderr",
     "output_type": "stream",
     "text": [
      "/Users/asankaranarayana/Documents/rg_data/lib/python3.12/site-packages/urllib3/connectionpool.py:1099: InsecureRequestWarning: Unverified HTTPS request is being made to host 'genai-cus-tdz.paypalcorp.com'. Adding certificate verification is strongly advised. See: https://urllib3.readthedocs.io/en/latest/advanced-usage.html#tls-warnings\n",
      "  warnings.warn(\n",
      "/Users/asankaranarayana/Documents/rg_data/lib/python3.12/site-packages/urllib3/connectionpool.py:1099: InsecureRequestWarning: Unverified HTTPS request is being made to host 'genai-cus-tdz.paypalcorp.com'. Adding certificate verification is strongly advised. See: https://urllib3.readthedocs.io/en/latest/advanced-usage.html#tls-warnings\n",
      "  warnings.warn(\n",
      "/Users/asankaranarayana/Documents/rg_data/lib/python3.12/site-packages/urllib3/connectionpool.py:1099: InsecureRequestWarning: Unverified HTTPS request is being made to host 'genai-cus-tdz.paypalcorp.com'. Adding certificate verification is strongly advised. See: https://urllib3.readthedocs.io/en/latest/advanced-usage.html#tls-warnings\n",
      "  warnings.warn(\n",
      "/Users/asankaranarayana/Documents/rg_data/lib/python3.12/site-packages/urllib3/connectionpool.py:1099: InsecureRequestWarning: Unverified HTTPS request is being made to host 'genai-cus-tdz.paypalcorp.com'. Adding certificate verification is strongly advised. See: https://urllib3.readthedocs.io/en/latest/advanced-usage.html#tls-warnings\n",
      "  warnings.warn(\n",
      "/Users/asankaranarayana/Documents/rg_data/lib/python3.12/site-packages/urllib3/connectionpool.py:1099: InsecureRequestWarning: Unverified HTTPS request is being made to host 'genai-cus-tdz.paypalcorp.com'. Adding certificate verification is strongly advised. See: https://urllib3.readthedocs.io/en/latest/advanced-usage.html#tls-warnings\n",
      "  warnings.warn(\n"
     ]
    },
    {
     "name": "stdout",
     "output_type": "stream",
     "text": [
      "I covered the cost of the rental car for the road trip. Share the expense among the group and send Venmo requests with the note, 'Road trip rental car.' The receipt is in my documents. 4\n"
     ]
    },
    {
     "name": "stderr",
     "output_type": "stream",
     "text": [
      "/Users/asankaranarayana/Documents/rg_data/lib/python3.12/site-packages/urllib3/connectionpool.py:1099: InsecureRequestWarning: Unverified HTTPS request is being made to host 'genai-cus-tdz.paypalcorp.com'. Adding certificate verification is strongly advised. See: https://urllib3.readthedocs.io/en/latest/advanced-usage.html#tls-warnings\n",
      "  warnings.warn(\n",
      "/Users/asankaranarayana/Documents/rg_data/lib/python3.12/site-packages/urllib3/connectionpool.py:1099: InsecureRequestWarning: Unverified HTTPS request is being made to host 'genai-cus-tdz.paypalcorp.com'. Adding certificate verification is strongly advised. See: https://urllib3.readthedocs.io/en/latest/advanced-usage.html#tls-warnings\n",
      "  warnings.warn(\n",
      "/Users/asankaranarayana/Documents/rg_data/lib/python3.12/site-packages/urllib3/connectionpool.py:1099: InsecureRequestWarning: Unverified HTTPS request is being made to host 'genai-cus-tdz.paypalcorp.com'. Adding certificate verification is strongly advised. See: https://urllib3.readthedocs.io/en/latest/advanced-usage.html#tls-warnings\n",
      "  warnings.warn(\n",
      "/Users/asankaranarayana/Documents/rg_data/lib/python3.12/site-packages/urllib3/connectionpool.py:1099: InsecureRequestWarning: Unverified HTTPS request is being made to host 'genai-cus-tdz.paypalcorp.com'. Adding certificate verification is strongly advised. See: https://urllib3.readthedocs.io/en/latest/advanced-usage.html#tls-warnings\n",
      "  warnings.warn(\n"
     ]
    },
    {
     "name": "stdout",
     "output_type": "stream",
     "text": [
      "I covered the cost of the rental car for the road trip. Share the expense among the group and send Venmo requests with the note, 'Road trip rental car.' The receipt is in my documents. 8\n"
     ]
    },
    {
     "name": "stderr",
     "output_type": "stream",
     "text": [
      "/Users/asankaranarayana/Documents/rg_data/lib/python3.12/site-packages/urllib3/connectionpool.py:1099: InsecureRequestWarning: Unverified HTTPS request is being made to host 'genai-cus-tdz.paypalcorp.com'. Adding certificate verification is strongly advised. See: https://urllib3.readthedocs.io/en/latest/advanced-usage.html#tls-warnings\n",
      "  warnings.warn(\n",
      "/Users/asankaranarayana/Documents/rg_data/lib/python3.12/site-packages/urllib3/connectionpool.py:1099: InsecureRequestWarning: Unverified HTTPS request is being made to host 'genai-cus-tdz.paypalcorp.com'. Adding certificate verification is strongly advised. See: https://urllib3.readthedocs.io/en/latest/advanced-usage.html#tls-warnings\n",
      "  warnings.warn(\n"
     ]
    },
    {
     "name": "stdout",
     "output_type": "stream",
     "text": [
      "I covered the cost of the rental car for the road trip. Share the expense among the group and send Venmo requests with the note, 'Road trip rental car.' The receipt is in my documents. 10\n"
     ]
    },
    {
     "name": "stderr",
     "output_type": "stream",
     "text": [
      "/Users/asankaranarayana/Documents/rg_data/lib/python3.12/site-packages/urllib3/connectionpool.py:1099: InsecureRequestWarning: Unverified HTTPS request is being made to host 'genai-cus-tdz.paypalcorp.com'. Adding certificate verification is strongly advised. See: https://urllib3.readthedocs.io/en/latest/advanced-usage.html#tls-warnings\n",
      "  warnings.warn(\n"
     ]
    },
    {
     "name": "stdout",
     "output_type": "stream",
     "text": [
      "I covered the cost of the rental car for the road trip. Share the expense among the group and send Venmo requests with the note, 'Road trip rental car.' The receipt is in my documents. 11\n"
     ]
    },
    {
     "name": "stderr",
     "output_type": "stream",
     "text": [
      "/Users/asankaranarayana/Documents/rg_data/lib/python3.12/site-packages/urllib3/connectionpool.py:1099: InsecureRequestWarning: Unverified HTTPS request is being made to host 'genai-cus-tdz.paypalcorp.com'. Adding certificate verification is strongly advised. See: https://urllib3.readthedocs.io/en/latest/advanced-usage.html#tls-warnings\n",
      "  warnings.warn(\n"
     ]
    },
    {
     "name": "stdout",
     "output_type": "stream",
     "text": [
      "I paid for the supplies for the party. Split the cost evenly among everyone and send Venmo requests with the note, 'Party supplies.' The receipt is saved in my file system.\n"
     ]
    },
    {
     "name": "stderr",
     "output_type": "stream",
     "text": [
      "/Users/asankaranarayana/Documents/rg_data/lib/python3.12/site-packages/urllib3/connectionpool.py:1099: InsecureRequestWarning: Unverified HTTPS request is being made to host 'genai-cus-tdz.paypalcorp.com'. Adding certificate verification is strongly advised. See: https://urllib3.readthedocs.io/en/latest/advanced-usage.html#tls-warnings\n",
      "  warnings.warn(\n",
      "/Users/asankaranarayana/Documents/rg_data/lib/python3.12/site-packages/urllib3/connectionpool.py:1099: InsecureRequestWarning: Unverified HTTPS request is being made to host 'genai-cus-tdz.paypalcorp.com'. Adding certificate verification is strongly advised. See: https://urllib3.readthedocs.io/en/latest/advanced-usage.html#tls-warnings\n",
      "  warnings.warn(\n",
      "/Users/asankaranarayana/Documents/rg_data/lib/python3.12/site-packages/urllib3/connectionpool.py:1099: InsecureRequestWarning: Unverified HTTPS request is being made to host 'genai-cus-tdz.paypalcorp.com'. Adding certificate verification is strongly advised. See: https://urllib3.readthedocs.io/en/latest/advanced-usage.html#tls-warnings\n",
      "  warnings.warn(\n",
      "/Users/asankaranarayana/Documents/rg_data/lib/python3.12/site-packages/urllib3/connectionpool.py:1099: InsecureRequestWarning: Unverified HTTPS request is being made to host 'genai-cus-tdz.paypalcorp.com'. Adding certificate verification is strongly advised. See: https://urllib3.readthedocs.io/en/latest/advanced-usage.html#tls-warnings\n",
      "  warnings.warn(\n",
      "/Users/asankaranarayana/Documents/rg_data/lib/python3.12/site-packages/urllib3/connectionpool.py:1099: InsecureRequestWarning: Unverified HTTPS request is being made to host 'genai-cus-tdz.paypalcorp.com'. Adding certificate verification is strongly advised. See: https://urllib3.readthedocs.io/en/latest/advanced-usage.html#tls-warnings\n",
      "  warnings.warn(\n",
      "/Users/asankaranarayana/Documents/rg_data/lib/python3.12/site-packages/urllib3/connectionpool.py:1099: InsecureRequestWarning: Unverified HTTPS request is being made to host 'genai-cus-tdz.paypalcorp.com'. Adding certificate verification is strongly advised. See: https://urllib3.readthedocs.io/en/latest/advanced-usage.html#tls-warnings\n",
      "  warnings.warn(\n",
      "/Users/asankaranarayana/Documents/rg_data/lib/python3.12/site-packages/urllib3/connectionpool.py:1099: InsecureRequestWarning: Unverified HTTPS request is being made to host 'genai-cus-tdz.paypalcorp.com'. Adding certificate verification is strongly advised. See: https://urllib3.readthedocs.io/en/latest/advanced-usage.html#tls-warnings\n",
      "  warnings.warn(\n",
      "/Users/asankaranarayana/Documents/rg_data/lib/python3.12/site-packages/urllib3/connectionpool.py:1099: InsecureRequestWarning: Unverified HTTPS request is being made to host 'genai-cus-tdz.paypalcorp.com'. Adding certificate verification is strongly advised. See: https://urllib3.readthedocs.io/en/latest/advanced-usage.html#tls-warnings\n",
      "  warnings.warn(\n"
     ]
    },
    {
     "name": "stdout",
     "output_type": "stream",
     "text": [
      "I paid for the supplies for the party. Split the cost evenly among everyone and send Venmo requests with the note, 'Party supplies.' The receipt is saved in my file system. 7\n"
     ]
    },
    {
     "name": "stderr",
     "output_type": "stream",
     "text": [
      "/Users/asankaranarayana/Documents/rg_data/lib/python3.12/site-packages/urllib3/connectionpool.py:1099: InsecureRequestWarning: Unverified HTTPS request is being made to host 'genai-cus-tdz.paypalcorp.com'. Adding certificate verification is strongly advised. See: https://urllib3.readthedocs.io/en/latest/advanced-usage.html#tls-warnings\n",
      "  warnings.warn(\n",
      "/Users/asankaranarayana/Documents/rg_data/lib/python3.12/site-packages/urllib3/connectionpool.py:1099: InsecureRequestWarning: Unverified HTTPS request is being made to host 'genai-cus-tdz.paypalcorp.com'. Adding certificate verification is strongly advised. See: https://urllib3.readthedocs.io/en/latest/advanced-usage.html#tls-warnings\n",
      "  warnings.warn(\n",
      "/Users/asankaranarayana/Documents/rg_data/lib/python3.12/site-packages/urllib3/connectionpool.py:1099: InsecureRequestWarning: Unverified HTTPS request is being made to host 'genai-cus-tdz.paypalcorp.com'. Adding certificate verification is strongly advised. See: https://urllib3.readthedocs.io/en/latest/advanced-usage.html#tls-warnings\n",
      "  warnings.warn(\n"
     ]
    },
    {
     "name": "stdout",
     "output_type": "stream",
     "text": [
      "I paid for the supplies for the party. Split the cost evenly among everyone and send Venmo requests with the note, 'Party supplies.' The receipt is saved in my file system. 10\n"
     ]
    },
    {
     "name": "stderr",
     "output_type": "stream",
     "text": [
      "/Users/asankaranarayana/Documents/rg_data/lib/python3.12/site-packages/urllib3/connectionpool.py:1099: InsecureRequestWarning: Unverified HTTPS request is being made to host 'genai-cus-tdz.paypalcorp.com'. Adding certificate verification is strongly advised. See: https://urllib3.readthedocs.io/en/latest/advanced-usage.html#tls-warnings\n",
      "  warnings.warn(\n"
     ]
    },
    {
     "name": "stdout",
     "output_type": "stream",
     "text": [
      "I paid for the supplies for the party. Split the cost evenly among everyone and send Venmo requests with the note, 'Party supplies.' The receipt is saved in my file system. 11\n"
     ]
    },
    {
     "name": "stderr",
     "output_type": "stream",
     "text": [
      "/Users/asankaranarayana/Documents/rg_data/lib/python3.12/site-packages/urllib3/connectionpool.py:1099: InsecureRequestWarning: Unverified HTTPS request is being made to host 'genai-cus-tdz.paypalcorp.com'. Adding certificate verification is strongly advised. See: https://urllib3.readthedocs.io/en/latest/advanced-usage.html#tls-warnings\n",
      "  warnings.warn(\n"
     ]
    },
    {
     "name": "stdout",
     "output_type": "stream",
     "text": [
      "I paid for the supplies for the party. Split the cost evenly among everyone and send Venmo requests with the note, 'Party supplies.' The receipt is saved in my file system. 12\n",
      "I took care of the hotel booking for the wedding weekend. Divide the total among the group and send Venmo requests with the note, 'Wedding weekend hotel.' The receipt is in my files.\n"
     ]
    },
    {
     "name": "stderr",
     "output_type": "stream",
     "text": [
      "/Users/asankaranarayana/Documents/rg_data/lib/python3.12/site-packages/urllib3/connectionpool.py:1099: InsecureRequestWarning: Unverified HTTPS request is being made to host 'genai-cus-tdz.paypalcorp.com'. Adding certificate verification is strongly advised. See: https://urllib3.readthedocs.io/en/latest/advanced-usage.html#tls-warnings\n",
      "  warnings.warn(\n",
      "/Users/asankaranarayana/Documents/rg_data/lib/python3.12/site-packages/urllib3/connectionpool.py:1099: InsecureRequestWarning: Unverified HTTPS request is being made to host 'genai-cus-tdz.paypalcorp.com'. Adding certificate verification is strongly advised. See: https://urllib3.readthedocs.io/en/latest/advanced-usage.html#tls-warnings\n",
      "  warnings.warn(\n",
      "/Users/asankaranarayana/Documents/rg_data/lib/python3.12/site-packages/urllib3/connectionpool.py:1099: InsecureRequestWarning: Unverified HTTPS request is being made to host 'genai-cus-tdz.paypalcorp.com'. Adding certificate verification is strongly advised. See: https://urllib3.readthedocs.io/en/latest/advanced-usage.html#tls-warnings\n",
      "  warnings.warn(\n",
      "/Users/asankaranarayana/Documents/rg_data/lib/python3.12/site-packages/urllib3/connectionpool.py:1099: InsecureRequestWarning: Unverified HTTPS request is being made to host 'genai-cus-tdz.paypalcorp.com'. Adding certificate verification is strongly advised. See: https://urllib3.readthedocs.io/en/latest/advanced-usage.html#tls-warnings\n",
      "  warnings.warn(\n",
      "/Users/asankaranarayana/Documents/rg_data/lib/python3.12/site-packages/urllib3/connectionpool.py:1099: InsecureRequestWarning: Unverified HTTPS request is being made to host 'genai-cus-tdz.paypalcorp.com'. Adding certificate verification is strongly advised. See: https://urllib3.readthedocs.io/en/latest/advanced-usage.html#tls-warnings\n",
      "  warnings.warn(\n"
     ]
    },
    {
     "name": "stdout",
     "output_type": "stream",
     "text": [
      "I took care of the hotel booking for the wedding weekend. Divide the total among the group and send Venmo requests with the note, 'Wedding weekend hotel.' The receipt is in my files. 4\n"
     ]
    },
    {
     "name": "stderr",
     "output_type": "stream",
     "text": [
      "/Users/asankaranarayana/Documents/rg_data/lib/python3.12/site-packages/urllib3/connectionpool.py:1099: InsecureRequestWarning: Unverified HTTPS request is being made to host 'genai-cus-tdz.paypalcorp.com'. Adding certificate verification is strongly advised. See: https://urllib3.readthedocs.io/en/latest/advanced-usage.html#tls-warnings\n",
      "  warnings.warn(\n",
      "/Users/asankaranarayana/Documents/rg_data/lib/python3.12/site-packages/urllib3/connectionpool.py:1099: InsecureRequestWarning: Unverified HTTPS request is being made to host 'genai-cus-tdz.paypalcorp.com'. Adding certificate verification is strongly advised. See: https://urllib3.readthedocs.io/en/latest/advanced-usage.html#tls-warnings\n",
      "  warnings.warn(\n",
      "/Users/asankaranarayana/Documents/rg_data/lib/python3.12/site-packages/urllib3/connectionpool.py:1099: InsecureRequestWarning: Unverified HTTPS request is being made to host 'genai-cus-tdz.paypalcorp.com'. Adding certificate verification is strongly advised. See: https://urllib3.readthedocs.io/en/latest/advanced-usage.html#tls-warnings\n",
      "  warnings.warn(\n",
      "/Users/asankaranarayana/Documents/rg_data/lib/python3.12/site-packages/urllib3/connectionpool.py:1099: InsecureRequestWarning: Unverified HTTPS request is being made to host 'genai-cus-tdz.paypalcorp.com'. Adding certificate verification is strongly advised. See: https://urllib3.readthedocs.io/en/latest/advanced-usage.html#tls-warnings\n",
      "  warnings.warn(\n"
     ]
    },
    {
     "name": "stdout",
     "output_type": "stream",
     "text": [
      "I took care of the hotel booking for the wedding weekend. Divide the total among the group and send Venmo requests with the note, 'Wedding weekend hotel.' The receipt is in my files. 8\n"
     ]
    },
    {
     "name": "stderr",
     "output_type": "stream",
     "text": [
      "/Users/asankaranarayana/Documents/rg_data/lib/python3.12/site-packages/urllib3/connectionpool.py:1099: InsecureRequestWarning: Unverified HTTPS request is being made to host 'genai-cus-tdz.paypalcorp.com'. Adding certificate verification is strongly advised. See: https://urllib3.readthedocs.io/en/latest/advanced-usage.html#tls-warnings\n",
      "  warnings.warn(\n",
      "/Users/asankaranarayana/Documents/rg_data/lib/python3.12/site-packages/urllib3/connectionpool.py:1099: InsecureRequestWarning: Unverified HTTPS request is being made to host 'genai-cus-tdz.paypalcorp.com'. Adding certificate verification is strongly advised. See: https://urllib3.readthedocs.io/en/latest/advanced-usage.html#tls-warnings\n",
      "  warnings.warn(\n"
     ]
    },
    {
     "name": "stdout",
     "output_type": "stream",
     "text": [
      "I took care of the hotel booking for the wedding weekend. Divide the total among the group and send Venmo requests with the note, 'Wedding weekend hotel.' The receipt is in my files. 10\n"
     ]
    },
    {
     "name": "stderr",
     "output_type": "stream",
     "text": [
      "/Users/asankaranarayana/Documents/rg_data/lib/python3.12/site-packages/urllib3/connectionpool.py:1099: InsecureRequestWarning: Unverified HTTPS request is being made to host 'genai-cus-tdz.paypalcorp.com'. Adding certificate verification is strongly advised. See: https://urllib3.readthedocs.io/en/latest/advanced-usage.html#tls-warnings\n",
      "  warnings.warn(\n",
      "/Users/asankaranarayana/Documents/rg_data/lib/python3.12/site-packages/urllib3/connectionpool.py:1099: InsecureRequestWarning: Unverified HTTPS request is being made to host 'genai-cus-tdz.paypalcorp.com'. Adding certificate verification is strongly advised. See: https://urllib3.readthedocs.io/en/latest/advanced-usage.html#tls-warnings\n",
      "  warnings.warn(\n"
     ]
    },
    {
     "name": "stdout",
     "output_type": "stream",
     "text": [
      "I took care of the hotel booking for the wedding weekend. Divide the total among the group and send Venmo requests with the note, 'Wedding weekend hotel.' The receipt is in my files. 12\n",
      "I paid for the group lunch after the hike. Share the cost among my friends and send Venmo requests with the note, 'Lunch after the hike.' The receipt is saved in my documents.\n"
     ]
    },
    {
     "name": "stderr",
     "output_type": "stream",
     "text": [
      "/Users/asankaranarayana/Documents/rg_data/lib/python3.12/site-packages/urllib3/connectionpool.py:1099: InsecureRequestWarning: Unverified HTTPS request is being made to host 'genai-cus-tdz.paypalcorp.com'. Adding certificate verification is strongly advised. See: https://urllib3.readthedocs.io/en/latest/advanced-usage.html#tls-warnings\n",
      "  warnings.warn(\n",
      "/Users/asankaranarayana/Documents/rg_data/lib/python3.12/site-packages/urllib3/connectionpool.py:1099: InsecureRequestWarning: Unverified HTTPS request is being made to host 'genai-cus-tdz.paypalcorp.com'. Adding certificate verification is strongly advised. See: https://urllib3.readthedocs.io/en/latest/advanced-usage.html#tls-warnings\n",
      "  warnings.warn(\n",
      "/Users/asankaranarayana/Documents/rg_data/lib/python3.12/site-packages/urllib3/connectionpool.py:1099: InsecureRequestWarning: Unverified HTTPS request is being made to host 'genai-cus-tdz.paypalcorp.com'. Adding certificate verification is strongly advised. See: https://urllib3.readthedocs.io/en/latest/advanced-usage.html#tls-warnings\n",
      "  warnings.warn(\n",
      "/Users/asankaranarayana/Documents/rg_data/lib/python3.12/site-packages/urllib3/connectionpool.py:1099: InsecureRequestWarning: Unverified HTTPS request is being made to host 'genai-cus-tdz.paypalcorp.com'. Adding certificate verification is strongly advised. See: https://urllib3.readthedocs.io/en/latest/advanced-usage.html#tls-warnings\n",
      "  warnings.warn(\n",
      "/Users/asankaranarayana/Documents/rg_data/lib/python3.12/site-packages/urllib3/connectionpool.py:1099: InsecureRequestWarning: Unverified HTTPS request is being made to host 'genai-cus-tdz.paypalcorp.com'. Adding certificate verification is strongly advised. See: https://urllib3.readthedocs.io/en/latest/advanced-usage.html#tls-warnings\n",
      "  warnings.warn(\n"
     ]
    },
    {
     "name": "stdout",
     "output_type": "stream",
     "text": [
      "I paid for the group lunch after the hike. Share the cost among my friends and send Venmo requests with the note, 'Lunch after the hike.' The receipt is saved in my documents. 4\n"
     ]
    },
    {
     "name": "stderr",
     "output_type": "stream",
     "text": [
      "/Users/asankaranarayana/Documents/rg_data/lib/python3.12/site-packages/urllib3/connectionpool.py:1099: InsecureRequestWarning: Unverified HTTPS request is being made to host 'genai-cus-tdz.paypalcorp.com'. Adding certificate verification is strongly advised. See: https://urllib3.readthedocs.io/en/latest/advanced-usage.html#tls-warnings\n",
      "  warnings.warn(\n",
      "/Users/asankaranarayana/Documents/rg_data/lib/python3.12/site-packages/urllib3/connectionpool.py:1099: InsecureRequestWarning: Unverified HTTPS request is being made to host 'genai-cus-tdz.paypalcorp.com'. Adding certificate verification is strongly advised. See: https://urllib3.readthedocs.io/en/latest/advanced-usage.html#tls-warnings\n",
      "  warnings.warn(\n",
      "/Users/asankaranarayana/Documents/rg_data/lib/python3.12/site-packages/urllib3/connectionpool.py:1099: InsecureRequestWarning: Unverified HTTPS request is being made to host 'genai-cus-tdz.paypalcorp.com'. Adding certificate verification is strongly advised. See: https://urllib3.readthedocs.io/en/latest/advanced-usage.html#tls-warnings\n",
      "  warnings.warn(\n",
      "/Users/asankaranarayana/Documents/rg_data/lib/python3.12/site-packages/urllib3/connectionpool.py:1099: InsecureRequestWarning: Unverified HTTPS request is being made to host 'genai-cus-tdz.paypalcorp.com'. Adding certificate verification is strongly advised. See: https://urllib3.readthedocs.io/en/latest/advanced-usage.html#tls-warnings\n",
      "  warnings.warn(\n"
     ]
    },
    {
     "name": "stdout",
     "output_type": "stream",
     "text": [
      "I paid for the group lunch after the hike. Share the cost among my friends and send Venmo requests with the note, 'Lunch after the hike.' The receipt is saved in my documents. 8\n"
     ]
    },
    {
     "name": "stderr",
     "output_type": "stream",
     "text": [
      "/Users/asankaranarayana/Documents/rg_data/lib/python3.12/site-packages/urllib3/connectionpool.py:1099: InsecureRequestWarning: Unverified HTTPS request is being made to host 'genai-cus-tdz.paypalcorp.com'. Adding certificate verification is strongly advised. See: https://urllib3.readthedocs.io/en/latest/advanced-usage.html#tls-warnings\n",
      "  warnings.warn(\n",
      "/Users/asankaranarayana/Documents/rg_data/lib/python3.12/site-packages/urllib3/connectionpool.py:1099: InsecureRequestWarning: Unverified HTTPS request is being made to host 'genai-cus-tdz.paypalcorp.com'. Adding certificate verification is strongly advised. See: https://urllib3.readthedocs.io/en/latest/advanced-usage.html#tls-warnings\n",
      "  warnings.warn(\n"
     ]
    },
    {
     "name": "stdout",
     "output_type": "stream",
     "text": [
      "I paid for the group lunch after the hike. Share the cost among my friends and send Venmo requests with the note, 'Lunch after the hike.' The receipt is saved in my documents. 10\n"
     ]
    },
    {
     "name": "stderr",
     "output_type": "stream",
     "text": [
      "/Users/asankaranarayana/Documents/rg_data/lib/python3.12/site-packages/urllib3/connectionpool.py:1099: InsecureRequestWarning: Unverified HTTPS request is being made to host 'genai-cus-tdz.paypalcorp.com'. Adding certificate verification is strongly advised. See: https://urllib3.readthedocs.io/en/latest/advanced-usage.html#tls-warnings\n",
      "  warnings.warn(\n"
     ]
    },
    {
     "name": "stdout",
     "output_type": "stream",
     "text": [
      "I paid for the group lunch after the hike. Share the cost among my friends and send Venmo requests with the note, 'Lunch after the hike.' The receipt is saved in my documents. 11\n"
     ]
    },
    {
     "name": "stderr",
     "output_type": "stream",
     "text": [
      "/Users/asankaranarayana/Documents/rg_data/lib/python3.12/site-packages/urllib3/connectionpool.py:1099: InsecureRequestWarning: Unverified HTTPS request is being made to host 'genai-cus-tdz.paypalcorp.com'. Adding certificate verification is strongly advised. See: https://urllib3.readthedocs.io/en/latest/advanced-usage.html#tls-warnings\n",
      "  warnings.warn(\n"
     ]
    },
    {
     "name": "stdout",
     "output_type": "stream",
     "text": [
      "I paid for the group lunch after the hike. Share the cost among my friends and send Venmo requests with the note, 'Lunch after the hike.' The receipt is saved in my documents. 12\n",
      "I covered the cost of the shared Uber ride. Split the fare evenly among everyone and send Venmo requests with the note, 'Shared Uber ride.' The receipt is in my folder.\n"
     ]
    },
    {
     "name": "stderr",
     "output_type": "stream",
     "text": [
      "/Users/asankaranarayana/Documents/rg_data/lib/python3.12/site-packages/urllib3/connectionpool.py:1099: InsecureRequestWarning: Unverified HTTPS request is being made to host 'genai-cus-tdz.paypalcorp.com'. Adding certificate verification is strongly advised. See: https://urllib3.readthedocs.io/en/latest/advanced-usage.html#tls-warnings\n",
      "  warnings.warn(\n",
      "/Users/asankaranarayana/Documents/rg_data/lib/python3.12/site-packages/urllib3/connectionpool.py:1099: InsecureRequestWarning: Unverified HTTPS request is being made to host 'genai-cus-tdz.paypalcorp.com'. Adding certificate verification is strongly advised. See: https://urllib3.readthedocs.io/en/latest/advanced-usage.html#tls-warnings\n",
      "  warnings.warn(\n",
      "/Users/asankaranarayana/Documents/rg_data/lib/python3.12/site-packages/urllib3/connectionpool.py:1099: InsecureRequestWarning: Unverified HTTPS request is being made to host 'genai-cus-tdz.paypalcorp.com'. Adding certificate verification is strongly advised. See: https://urllib3.readthedocs.io/en/latest/advanced-usage.html#tls-warnings\n",
      "  warnings.warn(\n",
      "/Users/asankaranarayana/Documents/rg_data/lib/python3.12/site-packages/urllib3/connectionpool.py:1099: InsecureRequestWarning: Unverified HTTPS request is being made to host 'genai-cus-tdz.paypalcorp.com'. Adding certificate verification is strongly advised. See: https://urllib3.readthedocs.io/en/latest/advanced-usage.html#tls-warnings\n",
      "  warnings.warn(\n",
      "/Users/asankaranarayana/Documents/rg_data/lib/python3.12/site-packages/urllib3/connectionpool.py:1099: InsecureRequestWarning: Unverified HTTPS request is being made to host 'genai-cus-tdz.paypalcorp.com'. Adding certificate verification is strongly advised. See: https://urllib3.readthedocs.io/en/latest/advanced-usage.html#tls-warnings\n",
      "  warnings.warn(\n"
     ]
    },
    {
     "name": "stdout",
     "output_type": "stream",
     "text": [
      "I covered the cost of the shared Uber ride. Split the fare evenly among everyone and send Venmo requests with the note, 'Shared Uber ride.' The receipt is in my folder. 4\n"
     ]
    },
    {
     "name": "stderr",
     "output_type": "stream",
     "text": [
      "/Users/asankaranarayana/Documents/rg_data/lib/python3.12/site-packages/urllib3/connectionpool.py:1099: InsecureRequestWarning: Unverified HTTPS request is being made to host 'genai-cus-tdz.paypalcorp.com'. Adding certificate verification is strongly advised. See: https://urllib3.readthedocs.io/en/latest/advanced-usage.html#tls-warnings\n",
      "  warnings.warn(\n",
      "/Users/asankaranarayana/Documents/rg_data/lib/python3.12/site-packages/urllib3/connectionpool.py:1099: InsecureRequestWarning: Unverified HTTPS request is being made to host 'genai-cus-tdz.paypalcorp.com'. Adding certificate verification is strongly advised. See: https://urllib3.readthedocs.io/en/latest/advanced-usage.html#tls-warnings\n",
      "  warnings.warn(\n",
      "/Users/asankaranarayana/Documents/rg_data/lib/python3.12/site-packages/urllib3/connectionpool.py:1099: InsecureRequestWarning: Unverified HTTPS request is being made to host 'genai-cus-tdz.paypalcorp.com'. Adding certificate verification is strongly advised. See: https://urllib3.readthedocs.io/en/latest/advanced-usage.html#tls-warnings\n",
      "  warnings.warn(\n"
     ]
    },
    {
     "name": "stdout",
     "output_type": "stream",
     "text": [
      "I covered the cost of the shared Uber ride. Split the fare evenly among everyone and send Venmo requests with the note, 'Shared Uber ride.' The receipt is in my folder. 7\n"
     ]
    },
    {
     "name": "stderr",
     "output_type": "stream",
     "text": [
      "/Users/asankaranarayana/Documents/rg_data/lib/python3.12/site-packages/urllib3/connectionpool.py:1099: InsecureRequestWarning: Unverified HTTPS request is being made to host 'genai-cus-tdz.paypalcorp.com'. Adding certificate verification is strongly advised. See: https://urllib3.readthedocs.io/en/latest/advanced-usage.html#tls-warnings\n",
      "  warnings.warn(\n",
      "/Users/asankaranarayana/Documents/rg_data/lib/python3.12/site-packages/urllib3/connectionpool.py:1099: InsecureRequestWarning: Unverified HTTPS request is being made to host 'genai-cus-tdz.paypalcorp.com'. Adding certificate verification is strongly advised. See: https://urllib3.readthedocs.io/en/latest/advanced-usage.html#tls-warnings\n",
      "  warnings.warn(\n",
      "/Users/asankaranarayana/Documents/rg_data/lib/python3.12/site-packages/urllib3/connectionpool.py:1099: InsecureRequestWarning: Unverified HTTPS request is being made to host 'genai-cus-tdz.paypalcorp.com'. Adding certificate verification is strongly advised. See: https://urllib3.readthedocs.io/en/latest/advanced-usage.html#tls-warnings\n",
      "  warnings.warn(\n",
      "/Users/asankaranarayana/Documents/rg_data/lib/python3.12/site-packages/urllib3/connectionpool.py:1099: InsecureRequestWarning: Unverified HTTPS request is being made to host 'genai-cus-tdz.paypalcorp.com'. Adding certificate verification is strongly advised. See: https://urllib3.readthedocs.io/en/latest/advanced-usage.html#tls-warnings\n",
      "  warnings.warn(\n"
     ]
    },
    {
     "name": "stdout",
     "output_type": "stream",
     "text": [
      "I covered the cost of the shared Uber ride. Split the fare evenly among everyone and send Venmo requests with the note, 'Shared Uber ride.' The receipt is in my folder. 11\n"
     ]
    },
    {
     "name": "stderr",
     "output_type": "stream",
     "text": [
      "/Users/asankaranarayana/Documents/rg_data/lib/python3.12/site-packages/urllib3/connectionpool.py:1099: InsecureRequestWarning: Unverified HTTPS request is being made to host 'genai-cus-tdz.paypalcorp.com'. Adding certificate verification is strongly advised. See: https://urllib3.readthedocs.io/en/latest/advanced-usage.html#tls-warnings\n",
      "  warnings.warn(\n"
     ]
    },
    {
     "name": "stdout",
     "output_type": "stream",
     "text": [
      "I covered the cost of the shared Uber ride. Split the fare evenly among everyone and send Venmo requests with the note, 'Shared Uber ride.' The receipt is in my folder. 12\n",
      "I paid for the tickets to the Broadway show. Divide the total among the group and send Venmo requests with the note, 'Broadway tickets.' The receipt is saved in my files.\n"
     ]
    },
    {
     "name": "stderr",
     "output_type": "stream",
     "text": [
      "/Users/asankaranarayana/Documents/rg_data/lib/python3.12/site-packages/urllib3/connectionpool.py:1099: InsecureRequestWarning: Unverified HTTPS request is being made to host 'genai-cus-tdz.paypalcorp.com'. Adding certificate verification is strongly advised. See: https://urllib3.readthedocs.io/en/latest/advanced-usage.html#tls-warnings\n",
      "  warnings.warn(\n",
      "/Users/asankaranarayana/Documents/rg_data/lib/python3.12/site-packages/urllib3/connectionpool.py:1099: InsecureRequestWarning: Unverified HTTPS request is being made to host 'genai-cus-tdz.paypalcorp.com'. Adding certificate verification is strongly advised. See: https://urllib3.readthedocs.io/en/latest/advanced-usage.html#tls-warnings\n",
      "  warnings.warn(\n",
      "/Users/asankaranarayana/Documents/rg_data/lib/python3.12/site-packages/urllib3/connectionpool.py:1099: InsecureRequestWarning: Unverified HTTPS request is being made to host 'genai-cus-tdz.paypalcorp.com'. Adding certificate verification is strongly advised. See: https://urllib3.readthedocs.io/en/latest/advanced-usage.html#tls-warnings\n",
      "  warnings.warn(\n",
      "/Users/asankaranarayana/Documents/rg_data/lib/python3.12/site-packages/urllib3/connectionpool.py:1099: InsecureRequestWarning: Unverified HTTPS request is being made to host 'genai-cus-tdz.paypalcorp.com'. Adding certificate verification is strongly advised. See: https://urllib3.readthedocs.io/en/latest/advanced-usage.html#tls-warnings\n",
      "  warnings.warn(\n",
      "/Users/asankaranarayana/Documents/rg_data/lib/python3.12/site-packages/urllib3/connectionpool.py:1099: InsecureRequestWarning: Unverified HTTPS request is being made to host 'genai-cus-tdz.paypalcorp.com'. Adding certificate verification is strongly advised. See: https://urllib3.readthedocs.io/en/latest/advanced-usage.html#tls-warnings\n",
      "  warnings.warn(\n",
      "/Users/asankaranarayana/Documents/rg_data/lib/python3.12/site-packages/urllib3/connectionpool.py:1099: InsecureRequestWarning: Unverified HTTPS request is being made to host 'genai-cus-tdz.paypalcorp.com'. Adding certificate verification is strongly advised. See: https://urllib3.readthedocs.io/en/latest/advanced-usage.html#tls-warnings\n",
      "  warnings.warn(\n",
      "/Users/asankaranarayana/Documents/rg_data/lib/python3.12/site-packages/urllib3/connectionpool.py:1099: InsecureRequestWarning: Unverified HTTPS request is being made to host 'genai-cus-tdz.paypalcorp.com'. Adding certificate verification is strongly advised. See: https://urllib3.readthedocs.io/en/latest/advanced-usage.html#tls-warnings\n",
      "  warnings.warn(\n",
      "/Users/asankaranarayana/Documents/rg_data/lib/python3.12/site-packages/urllib3/connectionpool.py:1099: InsecureRequestWarning: Unverified HTTPS request is being made to host 'genai-cus-tdz.paypalcorp.com'. Adding certificate verification is strongly advised. See: https://urllib3.readthedocs.io/en/latest/advanced-usage.html#tls-warnings\n",
      "  warnings.warn(\n"
     ]
    },
    {
     "name": "stdout",
     "output_type": "stream",
     "text": [
      "I paid for the tickets to the Broadway show. Divide the total among the group and send Venmo requests with the note, 'Broadway tickets.' The receipt is saved in my files. 7\n"
     ]
    },
    {
     "name": "stderr",
     "output_type": "stream",
     "text": [
      "/Users/asankaranarayana/Documents/rg_data/lib/python3.12/site-packages/urllib3/connectionpool.py:1099: InsecureRequestWarning: Unverified HTTPS request is being made to host 'genai-cus-tdz.paypalcorp.com'. Adding certificate verification is strongly advised. See: https://urllib3.readthedocs.io/en/latest/advanced-usage.html#tls-warnings\n",
      "  warnings.warn(\n"
     ]
    },
    {
     "name": "stdout",
     "output_type": "stream",
     "text": [
      "I paid for the tickets to the Broadway show. Divide the total among the group and send Venmo requests with the note, 'Broadway tickets.' The receipt is saved in my files. 8\n"
     ]
    },
    {
     "name": "stderr",
     "output_type": "stream",
     "text": [
      "/Users/asankaranarayana/Documents/rg_data/lib/python3.12/site-packages/urllib3/connectionpool.py:1099: InsecureRequestWarning: Unverified HTTPS request is being made to host 'genai-cus-tdz.paypalcorp.com'. Adding certificate verification is strongly advised. See: https://urllib3.readthedocs.io/en/latest/advanced-usage.html#tls-warnings\n",
      "  warnings.warn(\n",
      "/Users/asankaranarayana/Documents/rg_data/lib/python3.12/site-packages/urllib3/connectionpool.py:1099: InsecureRequestWarning: Unverified HTTPS request is being made to host 'genai-cus-tdz.paypalcorp.com'. Adding certificate verification is strongly advised. See: https://urllib3.readthedocs.io/en/latest/advanced-usage.html#tls-warnings\n",
      "  warnings.warn(\n",
      "/Users/asankaranarayana/Documents/rg_data/lib/python3.12/site-packages/urllib3/connectionpool.py:1099: InsecureRequestWarning: Unverified HTTPS request is being made to host 'genai-cus-tdz.paypalcorp.com'. Adding certificate verification is strongly advised. See: https://urllib3.readthedocs.io/en/latest/advanced-usage.html#tls-warnings\n",
      "  warnings.warn(\n",
      "/Users/asankaranarayana/Documents/rg_data/lib/python3.12/site-packages/urllib3/connectionpool.py:1099: InsecureRequestWarning: Unverified HTTPS request is being made to host 'genai-cus-tdz.paypalcorp.com'. Adding certificate verification is strongly advised. See: https://urllib3.readthedocs.io/en/latest/advanced-usage.html#tls-warnings\n",
      "  warnings.warn(\n"
     ]
    },
    {
     "name": "stdout",
     "output_type": "stream",
     "text": [
      "I paid for the tickets to the Broadway show. Divide the total among the group and send Venmo requests with the note, 'Broadway tickets.' The receipt is saved in my files. 12\n",
      "I took care of the cost of the ski rental gear. Share the expense among the group and send Venmo requests with the note, 'Ski rental gear.' The receipt is in my documents.\n"
     ]
    },
    {
     "name": "stderr",
     "output_type": "stream",
     "text": [
      "/Users/asankaranarayana/Documents/rg_data/lib/python3.12/site-packages/urllib3/connectionpool.py:1099: InsecureRequestWarning: Unverified HTTPS request is being made to host 'genai-cus-tdz.paypalcorp.com'. Adding certificate verification is strongly advised. See: https://urllib3.readthedocs.io/en/latest/advanced-usage.html#tls-warnings\n",
      "  warnings.warn(\n",
      "/Users/asankaranarayana/Documents/rg_data/lib/python3.12/site-packages/urllib3/connectionpool.py:1099: InsecureRequestWarning: Unverified HTTPS request is being made to host 'genai-cus-tdz.paypalcorp.com'. Adding certificate verification is strongly advised. See: https://urllib3.readthedocs.io/en/latest/advanced-usage.html#tls-warnings\n",
      "  warnings.warn(\n",
      "/Users/asankaranarayana/Documents/rg_data/lib/python3.12/site-packages/urllib3/connectionpool.py:1099: InsecureRequestWarning: Unverified HTTPS request is being made to host 'genai-cus-tdz.paypalcorp.com'. Adding certificate verification is strongly advised. See: https://urllib3.readthedocs.io/en/latest/advanced-usage.html#tls-warnings\n",
      "  warnings.warn(\n",
      "/Users/asankaranarayana/Documents/rg_data/lib/python3.12/site-packages/urllib3/connectionpool.py:1099: InsecureRequestWarning: Unverified HTTPS request is being made to host 'genai-cus-tdz.paypalcorp.com'. Adding certificate verification is strongly advised. See: https://urllib3.readthedocs.io/en/latest/advanced-usage.html#tls-warnings\n",
      "  warnings.warn(\n",
      "/Users/asankaranarayana/Documents/rg_data/lib/python3.12/site-packages/urllib3/connectionpool.py:1099: InsecureRequestWarning: Unverified HTTPS request is being made to host 'genai-cus-tdz.paypalcorp.com'. Adding certificate verification is strongly advised. See: https://urllib3.readthedocs.io/en/latest/advanced-usage.html#tls-warnings\n",
      "  warnings.warn(\n",
      "/Users/asankaranarayana/Documents/rg_data/lib/python3.12/site-packages/urllib3/connectionpool.py:1099: InsecureRequestWarning: Unverified HTTPS request is being made to host 'genai-cus-tdz.paypalcorp.com'. Adding certificate verification is strongly advised. See: https://urllib3.readthedocs.io/en/latest/advanced-usage.html#tls-warnings\n",
      "  warnings.warn(\n",
      "/Users/asankaranarayana/Documents/rg_data/lib/python3.12/site-packages/urllib3/connectionpool.py:1099: InsecureRequestWarning: Unverified HTTPS request is being made to host 'genai-cus-tdz.paypalcorp.com'. Adding certificate verification is strongly advised. See: https://urllib3.readthedocs.io/en/latest/advanced-usage.html#tls-warnings\n",
      "  warnings.warn(\n",
      "/Users/asankaranarayana/Documents/rg_data/lib/python3.12/site-packages/urllib3/connectionpool.py:1099: InsecureRequestWarning: Unverified HTTPS request is being made to host 'genai-cus-tdz.paypalcorp.com'. Adding certificate verification is strongly advised. See: https://urllib3.readthedocs.io/en/latest/advanced-usage.html#tls-warnings\n",
      "  warnings.warn(\n"
     ]
    },
    {
     "name": "stdout",
     "output_type": "stream",
     "text": [
      "I took care of the cost of the ski rental gear. Share the expense among the group and send Venmo requests with the note, 'Ski rental gear.' The receipt is in my documents. 7\n"
     ]
    },
    {
     "name": "stderr",
     "output_type": "stream",
     "text": [
      "/Users/asankaranarayana/Documents/rg_data/lib/python3.12/site-packages/urllib3/connectionpool.py:1099: InsecureRequestWarning: Unverified HTTPS request is being made to host 'genai-cus-tdz.paypalcorp.com'. Adding certificate verification is strongly advised. See: https://urllib3.readthedocs.io/en/latest/advanced-usage.html#tls-warnings\n",
      "  warnings.warn(\n"
     ]
    },
    {
     "name": "stdout",
     "output_type": "stream",
     "text": [
      "I took care of the cost of the ski rental gear. Share the expense among the group and send Venmo requests with the note, 'Ski rental gear.' The receipt is in my documents. 8\n"
     ]
    },
    {
     "name": "stderr",
     "output_type": "stream",
     "text": [
      "/Users/asankaranarayana/Documents/rg_data/lib/python3.12/site-packages/urllib3/connectionpool.py:1099: InsecureRequestWarning: Unverified HTTPS request is being made to host 'genai-cus-tdz.paypalcorp.com'. Adding certificate verification is strongly advised. See: https://urllib3.readthedocs.io/en/latest/advanced-usage.html#tls-warnings\n",
      "  warnings.warn(\n"
     ]
    },
    {
     "name": "stdout",
     "output_type": "stream",
     "text": [
      "I took care of the cost of the ski rental gear. Share the expense among the group and send Venmo requests with the note, 'Ski rental gear.' The receipt is in my documents. 9\n"
     ]
    },
    {
     "name": "stderr",
     "output_type": "stream",
     "text": [
      "/Users/asankaranarayana/Documents/rg_data/lib/python3.12/site-packages/urllib3/connectionpool.py:1099: InsecureRequestWarning: Unverified HTTPS request is being made to host 'genai-cus-tdz.paypalcorp.com'. Adding certificate verification is strongly advised. See: https://urllib3.readthedocs.io/en/latest/advanced-usage.html#tls-warnings\n",
      "  warnings.warn(\n"
     ]
    },
    {
     "name": "stdout",
     "output_type": "stream",
     "text": [
      "I took care of the cost of the ski rental gear. Share the expense among the group and send Venmo requests with the note, 'Ski rental gear.' The receipt is in my documents. 10\n"
     ]
    },
    {
     "name": "stderr",
     "output_type": "stream",
     "text": [
      "/Users/asankaranarayana/Documents/rg_data/lib/python3.12/site-packages/urllib3/connectionpool.py:1099: InsecureRequestWarning: Unverified HTTPS request is being made to host 'genai-cus-tdz.paypalcorp.com'. Adding certificate verification is strongly advised. See: https://urllib3.readthedocs.io/en/latest/advanced-usage.html#tls-warnings\n",
      "  warnings.warn(\n"
     ]
    },
    {
     "name": "stdout",
     "output_type": "stream",
     "text": [
      "I took care of the cost of the ski rental gear. Share the expense among the group and send Venmo requests with the note, 'Ski rental gear.' The receipt is in my documents. 11\n"
     ]
    },
    {
     "name": "stderr",
     "output_type": "stream",
     "text": [
      "/Users/asankaranarayana/Documents/rg_data/lib/python3.12/site-packages/urllib3/connectionpool.py:1099: InsecureRequestWarning: Unverified HTTPS request is being made to host 'genai-cus-tdz.paypalcorp.com'. Adding certificate verification is strongly advised. See: https://urllib3.readthedocs.io/en/latest/advanced-usage.html#tls-warnings\n",
      "  warnings.warn(\n"
     ]
    },
    {
     "name": "stdout",
     "output_type": "stream",
     "text": [
      "I took care of the cost of the ski rental gear. Share the expense among the group and send Venmo requests with the note, 'Ski rental gear.' The receipt is in my documents. 12\n",
      "I paid for the group dinner at the seafood place. Split the cost evenly among everyone and send Venmo requests with the note, 'Seafood dinner.' The receipt is saved in my file system.\n"
     ]
    },
    {
     "name": "stderr",
     "output_type": "stream",
     "text": [
      "/Users/asankaranarayana/Documents/rg_data/lib/python3.12/site-packages/urllib3/connectionpool.py:1099: InsecureRequestWarning: Unverified HTTPS request is being made to host 'genai-cus-tdz.paypalcorp.com'. Adding certificate verification is strongly advised. See: https://urllib3.readthedocs.io/en/latest/advanced-usage.html#tls-warnings\n",
      "  warnings.warn(\n",
      "/Users/asankaranarayana/Documents/rg_data/lib/python3.12/site-packages/urllib3/connectionpool.py:1099: InsecureRequestWarning: Unverified HTTPS request is being made to host 'genai-cus-tdz.paypalcorp.com'. Adding certificate verification is strongly advised. See: https://urllib3.readthedocs.io/en/latest/advanced-usage.html#tls-warnings\n",
      "  warnings.warn(\n",
      "/Users/asankaranarayana/Documents/rg_data/lib/python3.12/site-packages/urllib3/connectionpool.py:1099: InsecureRequestWarning: Unverified HTTPS request is being made to host 'genai-cus-tdz.paypalcorp.com'. Adding certificate verification is strongly advised. See: https://urllib3.readthedocs.io/en/latest/advanced-usage.html#tls-warnings\n",
      "  warnings.warn(\n",
      "/Users/asankaranarayana/Documents/rg_data/lib/python3.12/site-packages/urllib3/connectionpool.py:1099: InsecureRequestWarning: Unverified HTTPS request is being made to host 'genai-cus-tdz.paypalcorp.com'. Adding certificate verification is strongly advised. See: https://urllib3.readthedocs.io/en/latest/advanced-usage.html#tls-warnings\n",
      "  warnings.warn(\n",
      "/Users/asankaranarayana/Documents/rg_data/lib/python3.12/site-packages/urllib3/connectionpool.py:1099: InsecureRequestWarning: Unverified HTTPS request is being made to host 'genai-cus-tdz.paypalcorp.com'. Adding certificate verification is strongly advised. See: https://urllib3.readthedocs.io/en/latest/advanced-usage.html#tls-warnings\n",
      "  warnings.warn(\n",
      "/Users/asankaranarayana/Documents/rg_data/lib/python3.12/site-packages/urllib3/connectionpool.py:1099: InsecureRequestWarning: Unverified HTTPS request is being made to host 'genai-cus-tdz.paypalcorp.com'. Adding certificate verification is strongly advised. See: https://urllib3.readthedocs.io/en/latest/advanced-usage.html#tls-warnings\n",
      "  warnings.warn(\n",
      "/Users/asankaranarayana/Documents/rg_data/lib/python3.12/site-packages/urllib3/connectionpool.py:1099: InsecureRequestWarning: Unverified HTTPS request is being made to host 'genai-cus-tdz.paypalcorp.com'. Adding certificate verification is strongly advised. See: https://urllib3.readthedocs.io/en/latest/advanced-usage.html#tls-warnings\n",
      "  warnings.warn(\n",
      "/Users/asankaranarayana/Documents/rg_data/lib/python3.12/site-packages/urllib3/connectionpool.py:1099: InsecureRequestWarning: Unverified HTTPS request is being made to host 'genai-cus-tdz.paypalcorp.com'. Adding certificate verification is strongly advised. See: https://urllib3.readthedocs.io/en/latest/advanced-usage.html#tls-warnings\n",
      "  warnings.warn(\n",
      "/Users/asankaranarayana/Documents/rg_data/lib/python3.12/site-packages/urllib3/connectionpool.py:1099: InsecureRequestWarning: Unverified HTTPS request is being made to host 'genai-cus-tdz.paypalcorp.com'. Adding certificate verification is strongly advised. See: https://urllib3.readthedocs.io/en/latest/advanced-usage.html#tls-warnings\n",
      "  warnings.warn(\n"
     ]
    },
    {
     "name": "stdout",
     "output_type": "stream",
     "text": [
      "I paid for the group dinner at the seafood place. Split the cost evenly among everyone and send Venmo requests with the note, 'Seafood dinner.' The receipt is saved in my file system. 8\n"
     ]
    },
    {
     "name": "stderr",
     "output_type": "stream",
     "text": [
      "/Users/asankaranarayana/Documents/rg_data/lib/python3.12/site-packages/urllib3/connectionpool.py:1099: InsecureRequestWarning: Unverified HTTPS request is being made to host 'genai-cus-tdz.paypalcorp.com'. Adding certificate verification is strongly advised. See: https://urllib3.readthedocs.io/en/latest/advanced-usage.html#tls-warnings\n",
      "  warnings.warn(\n",
      "/Users/asankaranarayana/Documents/rg_data/lib/python3.12/site-packages/urllib3/connectionpool.py:1099: InsecureRequestWarning: Unverified HTTPS request is being made to host 'genai-cus-tdz.paypalcorp.com'. Adding certificate verification is strongly advised. See: https://urllib3.readthedocs.io/en/latest/advanced-usage.html#tls-warnings\n",
      "  warnings.warn(\n"
     ]
    },
    {
     "name": "stdout",
     "output_type": "stream",
     "text": [
      "I paid for the group dinner at the seafood place. Split the cost evenly among everyone and send Venmo requests with the note, 'Seafood dinner.' The receipt is saved in my file system. 10\n"
     ]
    },
    {
     "name": "stderr",
     "output_type": "stream",
     "text": [
      "/Users/asankaranarayana/Documents/rg_data/lib/python3.12/site-packages/urllib3/connectionpool.py:1099: InsecureRequestWarning: Unverified HTTPS request is being made to host 'genai-cus-tdz.paypalcorp.com'. Adding certificate verification is strongly advised. See: https://urllib3.readthedocs.io/en/latest/advanced-usage.html#tls-warnings\n",
      "  warnings.warn(\n"
     ]
    },
    {
     "name": "stdout",
     "output_type": "stream",
     "text": [
      "I paid for the group dinner at the seafood place. Split the cost evenly among everyone and send Venmo requests with the note, 'Seafood dinner.' The receipt is saved in my file system. 11\n"
     ]
    },
    {
     "name": "stderr",
     "output_type": "stream",
     "text": [
      "/Users/asankaranarayana/Documents/rg_data/lib/python3.12/site-packages/urllib3/connectionpool.py:1099: InsecureRequestWarning: Unverified HTTPS request is being made to host 'genai-cus-tdz.paypalcorp.com'. Adding certificate verification is strongly advised. See: https://urllib3.readthedocs.io/en/latest/advanced-usage.html#tls-warnings\n",
      "  warnings.warn(\n"
     ]
    },
    {
     "name": "stdout",
     "output_type": "stream",
     "text": [
      "I paid for the group dinner at the seafood place. Split the cost evenly among everyone and send Venmo requests with the note, 'Seafood dinner.' The receipt is saved in my file system. 12\n",
      "I covered the cost of the shared Lyft ride. Divide the fare among my friends and send Venmo requests with the note, 'Shared Lyft ride.' The receipt is in my files.\n"
     ]
    },
    {
     "name": "stderr",
     "output_type": "stream",
     "text": [
      "/Users/asankaranarayana/Documents/rg_data/lib/python3.12/site-packages/urllib3/connectionpool.py:1099: InsecureRequestWarning: Unverified HTTPS request is being made to host 'genai-cus-tdz.paypalcorp.com'. Adding certificate verification is strongly advised. See: https://urllib3.readthedocs.io/en/latest/advanced-usage.html#tls-warnings\n",
      "  warnings.warn(\n",
      "/Users/asankaranarayana/Documents/rg_data/lib/python3.12/site-packages/urllib3/connectionpool.py:1099: InsecureRequestWarning: Unverified HTTPS request is being made to host 'genai-cus-tdz.paypalcorp.com'. Adding certificate verification is strongly advised. See: https://urllib3.readthedocs.io/en/latest/advanced-usage.html#tls-warnings\n",
      "  warnings.warn(\n",
      "/Users/asankaranarayana/Documents/rg_data/lib/python3.12/site-packages/urllib3/connectionpool.py:1099: InsecureRequestWarning: Unverified HTTPS request is being made to host 'genai-cus-tdz.paypalcorp.com'. Adding certificate verification is strongly advised. See: https://urllib3.readthedocs.io/en/latest/advanced-usage.html#tls-warnings\n",
      "  warnings.warn(\n",
      "/Users/asankaranarayana/Documents/rg_data/lib/python3.12/site-packages/urllib3/connectionpool.py:1099: InsecureRequestWarning: Unverified HTTPS request is being made to host 'genai-cus-tdz.paypalcorp.com'. Adding certificate verification is strongly advised. See: https://urllib3.readthedocs.io/en/latest/advanced-usage.html#tls-warnings\n",
      "  warnings.warn(\n",
      "/Users/asankaranarayana/Documents/rg_data/lib/python3.12/site-packages/urllib3/connectionpool.py:1099: InsecureRequestWarning: Unverified HTTPS request is being made to host 'genai-cus-tdz.paypalcorp.com'. Adding certificate verification is strongly advised. See: https://urllib3.readthedocs.io/en/latest/advanced-usage.html#tls-warnings\n",
      "  warnings.warn(\n",
      "/Users/asankaranarayana/Documents/rg_data/lib/python3.12/site-packages/urllib3/connectionpool.py:1099: InsecureRequestWarning: Unverified HTTPS request is being made to host 'genai-cus-tdz.paypalcorp.com'. Adding certificate verification is strongly advised. See: https://urllib3.readthedocs.io/en/latest/advanced-usage.html#tls-warnings\n",
      "  warnings.warn(\n",
      "/Users/asankaranarayana/Documents/rg_data/lib/python3.12/site-packages/urllib3/connectionpool.py:1099: InsecureRequestWarning: Unverified HTTPS request is being made to host 'genai-cus-tdz.paypalcorp.com'. Adding certificate verification is strongly advised. See: https://urllib3.readthedocs.io/en/latest/advanced-usage.html#tls-warnings\n",
      "  warnings.warn(\n",
      "/Users/asankaranarayana/Documents/rg_data/lib/python3.12/site-packages/urllib3/connectionpool.py:1099: InsecureRequestWarning: Unverified HTTPS request is being made to host 'genai-cus-tdz.paypalcorp.com'. Adding certificate verification is strongly advised. See: https://urllib3.readthedocs.io/en/latest/advanced-usage.html#tls-warnings\n",
      "  warnings.warn(\n"
     ]
    },
    {
     "name": "stdout",
     "output_type": "stream",
     "text": [
      "I covered the cost of the shared Lyft ride. Divide the fare among my friends and send Venmo requests with the note, 'Shared Lyft ride.' The receipt is in my files. 7\n"
     ]
    },
    {
     "name": "stderr",
     "output_type": "stream",
     "text": [
      "/Users/asankaranarayana/Documents/rg_data/lib/python3.12/site-packages/urllib3/connectionpool.py:1099: InsecureRequestWarning: Unverified HTTPS request is being made to host 'genai-cus-tdz.paypalcorp.com'. Adding certificate verification is strongly advised. See: https://urllib3.readthedocs.io/en/latest/advanced-usage.html#tls-warnings\n",
      "  warnings.warn(\n"
     ]
    },
    {
     "name": "stdout",
     "output_type": "stream",
     "text": [
      "I covered the cost of the shared Lyft ride. Divide the fare among my friends and send Venmo requests with the note, 'Shared Lyft ride.' The receipt is in my files. 8\n"
     ]
    },
    {
     "name": "stderr",
     "output_type": "stream",
     "text": [
      "/Users/asankaranarayana/Documents/rg_data/lib/python3.12/site-packages/urllib3/connectionpool.py:1099: InsecureRequestWarning: Unverified HTTPS request is being made to host 'genai-cus-tdz.paypalcorp.com'. Adding certificate verification is strongly advised. See: https://urllib3.readthedocs.io/en/latest/advanced-usage.html#tls-warnings\n",
      "  warnings.warn(\n"
     ]
    },
    {
     "name": "stdout",
     "output_type": "stream",
     "text": [
      "I covered the cost of the shared Lyft ride. Divide the fare among my friends and send Venmo requests with the note, 'Shared Lyft ride.' The receipt is in my files. 9\n"
     ]
    },
    {
     "name": "stderr",
     "output_type": "stream",
     "text": [
      "/Users/asankaranarayana/Documents/rg_data/lib/python3.12/site-packages/urllib3/connectionpool.py:1099: InsecureRequestWarning: Unverified HTTPS request is being made to host 'genai-cus-tdz.paypalcorp.com'. Adding certificate verification is strongly advised. See: https://urllib3.readthedocs.io/en/latest/advanced-usage.html#tls-warnings\n",
      "  warnings.warn(\n"
     ]
    },
    {
     "name": "stdout",
     "output_type": "stream",
     "text": [
      "I covered the cost of the shared Lyft ride. Divide the fare among my friends and send Venmo requests with the note, 'Shared Lyft ride.' The receipt is in my files. 10\n"
     ]
    },
    {
     "name": "stderr",
     "output_type": "stream",
     "text": [
      "/Users/asankaranarayana/Documents/rg_data/lib/python3.12/site-packages/urllib3/connectionpool.py:1099: InsecureRequestWarning: Unverified HTTPS request is being made to host 'genai-cus-tdz.paypalcorp.com'. Adding certificate verification is strongly advised. See: https://urllib3.readthedocs.io/en/latest/advanced-usage.html#tls-warnings\n",
      "  warnings.warn(\n"
     ]
    },
    {
     "name": "stdout",
     "output_type": "stream",
     "text": [
      "I covered the cost of the shared Lyft ride. Divide the fare among my friends and send Venmo requests with the note, 'Shared Lyft ride.' The receipt is in my files. 11\n"
     ]
    },
    {
     "name": "stderr",
     "output_type": "stream",
     "text": [
      "/Users/asankaranarayana/Documents/rg_data/lib/python3.12/site-packages/urllib3/connectionpool.py:1099: InsecureRequestWarning: Unverified HTTPS request is being made to host 'genai-cus-tdz.paypalcorp.com'. Adding certificate verification is strongly advised. See: https://urllib3.readthedocs.io/en/latest/advanced-usage.html#tls-warnings\n",
      "  warnings.warn(\n"
     ]
    },
    {
     "name": "stdout",
     "output_type": "stream",
     "text": [
      "I covered the cost of the shared Lyft ride. Divide the fare among my friends and send Venmo requests with the note, 'Shared Lyft ride.' The receipt is in my files. 12\n",
      "I paid for the snacks and drinks for the picnic. Share the cost among the group and send Venmo requests with the note, 'Picnic snacks and drinks.' The receipt is saved in my documents.\n"
     ]
    },
    {
     "name": "stderr",
     "output_type": "stream",
     "text": [
      "/Users/asankaranarayana/Documents/rg_data/lib/python3.12/site-packages/urllib3/connectionpool.py:1099: InsecureRequestWarning: Unverified HTTPS request is being made to host 'genai-cus-tdz.paypalcorp.com'. Adding certificate verification is strongly advised. See: https://urllib3.readthedocs.io/en/latest/advanced-usage.html#tls-warnings\n",
      "  warnings.warn(\n",
      "/Users/asankaranarayana/Documents/rg_data/lib/python3.12/site-packages/urllib3/connectionpool.py:1099: InsecureRequestWarning: Unverified HTTPS request is being made to host 'genai-cus-tdz.paypalcorp.com'. Adding certificate verification is strongly advised. See: https://urllib3.readthedocs.io/en/latest/advanced-usage.html#tls-warnings\n",
      "  warnings.warn(\n",
      "/Users/asankaranarayana/Documents/rg_data/lib/python3.12/site-packages/urllib3/connectionpool.py:1099: InsecureRequestWarning: Unverified HTTPS request is being made to host 'genai-cus-tdz.paypalcorp.com'. Adding certificate verification is strongly advised. See: https://urllib3.readthedocs.io/en/latest/advanced-usage.html#tls-warnings\n",
      "  warnings.warn(\n",
      "/Users/asankaranarayana/Documents/rg_data/lib/python3.12/site-packages/urllib3/connectionpool.py:1099: InsecureRequestWarning: Unverified HTTPS request is being made to host 'genai-cus-tdz.paypalcorp.com'. Adding certificate verification is strongly advised. See: https://urllib3.readthedocs.io/en/latest/advanced-usage.html#tls-warnings\n",
      "  warnings.warn(\n",
      "/Users/asankaranarayana/Documents/rg_data/lib/python3.12/site-packages/urllib3/connectionpool.py:1099: InsecureRequestWarning: Unverified HTTPS request is being made to host 'genai-cus-tdz.paypalcorp.com'. Adding certificate verification is strongly advised. See: https://urllib3.readthedocs.io/en/latest/advanced-usage.html#tls-warnings\n",
      "  warnings.warn(\n",
      "/Users/asankaranarayana/Documents/rg_data/lib/python3.12/site-packages/urllib3/connectionpool.py:1099: InsecureRequestWarning: Unverified HTTPS request is being made to host 'genai-cus-tdz.paypalcorp.com'. Adding certificate verification is strongly advised. See: https://urllib3.readthedocs.io/en/latest/advanced-usage.html#tls-warnings\n",
      "  warnings.warn(\n",
      "/Users/asankaranarayana/Documents/rg_data/lib/python3.12/site-packages/urllib3/connectionpool.py:1099: InsecureRequestWarning: Unverified HTTPS request is being made to host 'genai-cus-tdz.paypalcorp.com'. Adding certificate verification is strongly advised. See: https://urllib3.readthedocs.io/en/latest/advanced-usage.html#tls-warnings\n",
      "  warnings.warn(\n",
      "/Users/asankaranarayana/Documents/rg_data/lib/python3.12/site-packages/urllib3/connectionpool.py:1099: InsecureRequestWarning: Unverified HTTPS request is being made to host 'genai-cus-tdz.paypalcorp.com'. Adding certificate verification is strongly advised. See: https://urllib3.readthedocs.io/en/latest/advanced-usage.html#tls-warnings\n",
      "  warnings.warn(\n",
      "/Users/asankaranarayana/Documents/rg_data/lib/python3.12/site-packages/urllib3/connectionpool.py:1099: InsecureRequestWarning: Unverified HTTPS request is being made to host 'genai-cus-tdz.paypalcorp.com'. Adding certificate verification is strongly advised. See: https://urllib3.readthedocs.io/en/latest/advanced-usage.html#tls-warnings\n",
      "  warnings.warn(\n"
     ]
    },
    {
     "name": "stdout",
     "output_type": "stream",
     "text": [
      "I paid for the snacks and drinks for the picnic. Share the cost among the group and send Venmo requests with the note, 'Picnic snacks and drinks.' The receipt is saved in my documents. 7\n"
     ]
    },
    {
     "name": "stderr",
     "output_type": "stream",
     "text": [
      "/Users/asankaranarayana/Documents/rg_data/lib/python3.12/site-packages/urllib3/connectionpool.py:1099: InsecureRequestWarning: Unverified HTTPS request is being made to host 'genai-cus-tdz.paypalcorp.com'. Adding certificate verification is strongly advised. See: https://urllib3.readthedocs.io/en/latest/advanced-usage.html#tls-warnings\n",
      "  warnings.warn(\n"
     ]
    },
    {
     "name": "stdout",
     "output_type": "stream",
     "text": [
      "I paid for the snacks and drinks for the picnic. Share the cost among the group and send Venmo requests with the note, 'Picnic snacks and drinks.' The receipt is saved in my documents. 8\n"
     ]
    },
    {
     "name": "stderr",
     "output_type": "stream",
     "text": [
      "/Users/asankaranarayana/Documents/rg_data/lib/python3.12/site-packages/urllib3/connectionpool.py:1099: InsecureRequestWarning: Unverified HTTPS request is being made to host 'genai-cus-tdz.paypalcorp.com'. Adding certificate verification is strongly advised. See: https://urllib3.readthedocs.io/en/latest/advanced-usage.html#tls-warnings\n",
      "  warnings.warn(\n",
      "/Users/asankaranarayana/Documents/rg_data/lib/python3.12/site-packages/urllib3/connectionpool.py:1099: InsecureRequestWarning: Unverified HTTPS request is being made to host 'genai-cus-tdz.paypalcorp.com'. Adding certificate verification is strongly advised. See: https://urllib3.readthedocs.io/en/latest/advanced-usage.html#tls-warnings\n",
      "  warnings.warn(\n"
     ]
    },
    {
     "name": "stdout",
     "output_type": "stream",
     "text": [
      "I paid for the snacks and drinks for the picnic. Share the cost among the group and send Venmo requests with the note, 'Picnic snacks and drinks.' The receipt is saved in my documents. 10\n"
     ]
    },
    {
     "name": "stderr",
     "output_type": "stream",
     "text": [
      "/Users/asankaranarayana/Documents/rg_data/lib/python3.12/site-packages/urllib3/connectionpool.py:1099: InsecureRequestWarning: Unverified HTTPS request is being made to host 'genai-cus-tdz.paypalcorp.com'. Adding certificate verification is strongly advised. See: https://urllib3.readthedocs.io/en/latest/advanced-usage.html#tls-warnings\n",
      "  warnings.warn(\n"
     ]
    },
    {
     "name": "stdout",
     "output_type": "stream",
     "text": [
      "I paid for the snacks and drinks for the picnic. Share the cost among the group and send Venmo requests with the note, 'Picnic snacks and drinks.' The receipt is saved in my documents. 11\n"
     ]
    },
    {
     "name": "stderr",
     "output_type": "stream",
     "text": [
      "/Users/asankaranarayana/Documents/rg_data/lib/python3.12/site-packages/urllib3/connectionpool.py:1099: InsecureRequestWarning: Unverified HTTPS request is being made to host 'genai-cus-tdz.paypalcorp.com'. Adding certificate verification is strongly advised. See: https://urllib3.readthedocs.io/en/latest/advanced-usage.html#tls-warnings\n",
      "  warnings.warn(\n"
     ]
    },
    {
     "name": "stdout",
     "output_type": "stream",
     "text": [
      "I took care of the cost of the group yoga class. Split the fee evenly among everyone and send Venmo requests with the note, 'Group yoga class.' The receipt is in my folder.\n"
     ]
    },
    {
     "name": "stderr",
     "output_type": "stream",
     "text": [
      "/Users/asankaranarayana/Documents/rg_data/lib/python3.12/site-packages/urllib3/connectionpool.py:1099: InsecureRequestWarning: Unverified HTTPS request is being made to host 'genai-cus-tdz.paypalcorp.com'. Adding certificate verification is strongly advised. See: https://urllib3.readthedocs.io/en/latest/advanced-usage.html#tls-warnings\n",
      "  warnings.warn(\n",
      "/Users/asankaranarayana/Documents/rg_data/lib/python3.12/site-packages/urllib3/connectionpool.py:1099: InsecureRequestWarning: Unverified HTTPS request is being made to host 'genai-cus-tdz.paypalcorp.com'. Adding certificate verification is strongly advised. See: https://urllib3.readthedocs.io/en/latest/advanced-usage.html#tls-warnings\n",
      "  warnings.warn(\n",
      "/Users/asankaranarayana/Documents/rg_data/lib/python3.12/site-packages/urllib3/connectionpool.py:1099: InsecureRequestWarning: Unverified HTTPS request is being made to host 'genai-cus-tdz.paypalcorp.com'. Adding certificate verification is strongly advised. See: https://urllib3.readthedocs.io/en/latest/advanced-usage.html#tls-warnings\n",
      "  warnings.warn(\n",
      "/Users/asankaranarayana/Documents/rg_data/lib/python3.12/site-packages/urllib3/connectionpool.py:1099: InsecureRequestWarning: Unverified HTTPS request is being made to host 'genai-cus-tdz.paypalcorp.com'. Adding certificate verification is strongly advised. See: https://urllib3.readthedocs.io/en/latest/advanced-usage.html#tls-warnings\n",
      "  warnings.warn(\n",
      "/Users/asankaranarayana/Documents/rg_data/lib/python3.12/site-packages/urllib3/connectionpool.py:1099: InsecureRequestWarning: Unverified HTTPS request is being made to host 'genai-cus-tdz.paypalcorp.com'. Adding certificate verification is strongly advised. See: https://urllib3.readthedocs.io/en/latest/advanced-usage.html#tls-warnings\n",
      "  warnings.warn(\n",
      "/Users/asankaranarayana/Documents/rg_data/lib/python3.12/site-packages/urllib3/connectionpool.py:1099: InsecureRequestWarning: Unverified HTTPS request is being made to host 'genai-cus-tdz.paypalcorp.com'. Adding certificate verification is strongly advised. See: https://urllib3.readthedocs.io/en/latest/advanced-usage.html#tls-warnings\n",
      "  warnings.warn(\n",
      "/Users/asankaranarayana/Documents/rg_data/lib/python3.12/site-packages/urllib3/connectionpool.py:1099: InsecureRequestWarning: Unverified HTTPS request is being made to host 'genai-cus-tdz.paypalcorp.com'. Adding certificate verification is strongly advised. See: https://urllib3.readthedocs.io/en/latest/advanced-usage.html#tls-warnings\n",
      "  warnings.warn(\n",
      "/Users/asankaranarayana/Documents/rg_data/lib/python3.12/site-packages/urllib3/connectionpool.py:1099: InsecureRequestWarning: Unverified HTTPS request is being made to host 'genai-cus-tdz.paypalcorp.com'. Adding certificate verification is strongly advised. See: https://urllib3.readthedocs.io/en/latest/advanced-usage.html#tls-warnings\n",
      "  warnings.warn(\n",
      "/Users/asankaranarayana/Documents/rg_data/lib/python3.12/site-packages/urllib3/connectionpool.py:1099: InsecureRequestWarning: Unverified HTTPS request is being made to host 'genai-cus-tdz.paypalcorp.com'. Adding certificate verification is strongly advised. See: https://urllib3.readthedocs.io/en/latest/advanced-usage.html#tls-warnings\n",
      "  warnings.warn(\n"
     ]
    },
    {
     "name": "stdout",
     "output_type": "stream",
     "text": [
      "I took care of the cost of the group yoga class. Split the fee evenly among everyone and send Venmo requests with the note, 'Group yoga class.' The receipt is in my folder. 8\n"
     ]
    },
    {
     "name": "stderr",
     "output_type": "stream",
     "text": [
      "/Users/asankaranarayana/Documents/rg_data/lib/python3.12/site-packages/urllib3/connectionpool.py:1099: InsecureRequestWarning: Unverified HTTPS request is being made to host 'genai-cus-tdz.paypalcorp.com'. Adding certificate verification is strongly advised. See: https://urllib3.readthedocs.io/en/latest/advanced-usage.html#tls-warnings\n",
      "  warnings.warn(\n"
     ]
    },
    {
     "name": "stdout",
     "output_type": "stream",
     "text": [
      "I took care of the cost of the group yoga class. Split the fee evenly among everyone and send Venmo requests with the note, 'Group yoga class.' The receipt is in my folder. 9\n"
     ]
    },
    {
     "name": "stderr",
     "output_type": "stream",
     "text": [
      "/Users/asankaranarayana/Documents/rg_data/lib/python3.12/site-packages/urllib3/connectionpool.py:1099: InsecureRequestWarning: Unverified HTTPS request is being made to host 'genai-cus-tdz.paypalcorp.com'. Adding certificate verification is strongly advised. See: https://urllib3.readthedocs.io/en/latest/advanced-usage.html#tls-warnings\n",
      "  warnings.warn(\n"
     ]
    },
    {
     "name": "stdout",
     "output_type": "stream",
     "text": [
      "I took care of the cost of the group yoga class. Split the fee evenly among everyone and send Venmo requests with the note, 'Group yoga class.' The receipt is in my folder. 10\n"
     ]
    },
    {
     "name": "stderr",
     "output_type": "stream",
     "text": [
      "/Users/asankaranarayana/Documents/rg_data/lib/python3.12/site-packages/urllib3/connectionpool.py:1099: InsecureRequestWarning: Unverified HTTPS request is being made to host 'genai-cus-tdz.paypalcorp.com'. Adding certificate verification is strongly advised. See: https://urllib3.readthedocs.io/en/latest/advanced-usage.html#tls-warnings\n",
      "  warnings.warn(\n",
      "/Users/asankaranarayana/Documents/rg_data/lib/python3.12/site-packages/urllib3/connectionpool.py:1099: InsecureRequestWarning: Unverified HTTPS request is being made to host 'genai-cus-tdz.paypalcorp.com'. Adding certificate verification is strongly advised. See: https://urllib3.readthedocs.io/en/latest/advanced-usage.html#tls-warnings\n",
      "  warnings.warn(\n"
     ]
    },
    {
     "name": "stdout",
     "output_type": "stream",
     "text": [
      "I paid for the shared groceries for the camping trip. Divide the total among the group and send Venmo requests with the note, 'Camping trip groceries.' The receipt is saved in my files.\n"
     ]
    },
    {
     "name": "stderr",
     "output_type": "stream",
     "text": [
      "/Users/asankaranarayana/Documents/rg_data/lib/python3.12/site-packages/urllib3/connectionpool.py:1099: InsecureRequestWarning: Unverified HTTPS request is being made to host 'genai-cus-tdz.paypalcorp.com'. Adding certificate verification is strongly advised. See: https://urllib3.readthedocs.io/en/latest/advanced-usage.html#tls-warnings\n",
      "  warnings.warn(\n",
      "/Users/asankaranarayana/Documents/rg_data/lib/python3.12/site-packages/urllib3/connectionpool.py:1099: InsecureRequestWarning: Unverified HTTPS request is being made to host 'genai-cus-tdz.paypalcorp.com'. Adding certificate verification is strongly advised. See: https://urllib3.readthedocs.io/en/latest/advanced-usage.html#tls-warnings\n",
      "  warnings.warn(\n",
      "/Users/asankaranarayana/Documents/rg_data/lib/python3.12/site-packages/urllib3/connectionpool.py:1099: InsecureRequestWarning: Unverified HTTPS request is being made to host 'genai-cus-tdz.paypalcorp.com'. Adding certificate verification is strongly advised. See: https://urllib3.readthedocs.io/en/latest/advanced-usage.html#tls-warnings\n",
      "  warnings.warn(\n",
      "/Users/asankaranarayana/Documents/rg_data/lib/python3.12/site-packages/urllib3/connectionpool.py:1099: InsecureRequestWarning: Unverified HTTPS request is being made to host 'genai-cus-tdz.paypalcorp.com'. Adding certificate verification is strongly advised. See: https://urllib3.readthedocs.io/en/latest/advanced-usage.html#tls-warnings\n",
      "  warnings.warn(\n",
      "/Users/asankaranarayana/Documents/rg_data/lib/python3.12/site-packages/urllib3/connectionpool.py:1099: InsecureRequestWarning: Unverified HTTPS request is being made to host 'genai-cus-tdz.paypalcorp.com'. Adding certificate verification is strongly advised. See: https://urllib3.readthedocs.io/en/latest/advanced-usage.html#tls-warnings\n",
      "  warnings.warn(\n"
     ]
    },
    {
     "name": "stdout",
     "output_type": "stream",
     "text": [
      "I paid for the shared groceries for the camping trip. Divide the total among the group and send Venmo requests with the note, 'Camping trip groceries.' The receipt is saved in my files. 4\n"
     ]
    },
    {
     "name": "stderr",
     "output_type": "stream",
     "text": [
      "/Users/asankaranarayana/Documents/rg_data/lib/python3.12/site-packages/urllib3/connectionpool.py:1099: InsecureRequestWarning: Unverified HTTPS request is being made to host 'genai-cus-tdz.paypalcorp.com'. Adding certificate verification is strongly advised. See: https://urllib3.readthedocs.io/en/latest/advanced-usage.html#tls-warnings\n",
      "  warnings.warn(\n",
      "/Users/asankaranarayana/Documents/rg_data/lib/python3.12/site-packages/urllib3/connectionpool.py:1099: InsecureRequestWarning: Unverified HTTPS request is being made to host 'genai-cus-tdz.paypalcorp.com'. Adding certificate verification is strongly advised. See: https://urllib3.readthedocs.io/en/latest/advanced-usage.html#tls-warnings\n",
      "  warnings.warn(\n",
      "/Users/asankaranarayana/Documents/rg_data/lib/python3.12/site-packages/urllib3/connectionpool.py:1099: InsecureRequestWarning: Unverified HTTPS request is being made to host 'genai-cus-tdz.paypalcorp.com'. Adding certificate verification is strongly advised. See: https://urllib3.readthedocs.io/en/latest/advanced-usage.html#tls-warnings\n",
      "  warnings.warn(\n"
     ]
    },
    {
     "name": "stdout",
     "output_type": "stream",
     "text": [
      "I paid for the shared groceries for the camping trip. Divide the total among the group and send Venmo requests with the note, 'Camping trip groceries.' The receipt is saved in my files. 7\n"
     ]
    },
    {
     "name": "stderr",
     "output_type": "stream",
     "text": [
      "/Users/asankaranarayana/Documents/rg_data/lib/python3.12/site-packages/urllib3/connectionpool.py:1099: InsecureRequestWarning: Unverified HTTPS request is being made to host 'genai-cus-tdz.paypalcorp.com'. Adding certificate verification is strongly advised. See: https://urllib3.readthedocs.io/en/latest/advanced-usage.html#tls-warnings\n",
      "  warnings.warn(\n"
     ]
    },
    {
     "name": "stdout",
     "output_type": "stream",
     "text": [
      "I paid for the shared groceries for the camping trip. Divide the total among the group and send Venmo requests with the note, 'Camping trip groceries.' The receipt is saved in my files. 8\n"
     ]
    },
    {
     "name": "stderr",
     "output_type": "stream",
     "text": [
      "/Users/asankaranarayana/Documents/rg_data/lib/python3.12/site-packages/urllib3/connectionpool.py:1099: InsecureRequestWarning: Unverified HTTPS request is being made to host 'genai-cus-tdz.paypalcorp.com'. Adding certificate verification is strongly advised. See: https://urllib3.readthedocs.io/en/latest/advanced-usage.html#tls-warnings\n",
      "  warnings.warn(\n",
      "/Users/asankaranarayana/Documents/rg_data/lib/python3.12/site-packages/urllib3/connectionpool.py:1099: InsecureRequestWarning: Unverified HTTPS request is being made to host 'genai-cus-tdz.paypalcorp.com'. Adding certificate verification is strongly advised. See: https://urllib3.readthedocs.io/en/latest/advanced-usage.html#tls-warnings\n",
      "  warnings.warn(\n",
      "/Users/asankaranarayana/Documents/rg_data/lib/python3.12/site-packages/urllib3/connectionpool.py:1099: InsecureRequestWarning: Unverified HTTPS request is being made to host 'genai-cus-tdz.paypalcorp.com'. Adding certificate verification is strongly advised. See: https://urllib3.readthedocs.io/en/latest/advanced-usage.html#tls-warnings\n",
      "  warnings.warn(\n"
     ]
    },
    {
     "name": "stdout",
     "output_type": "stream",
     "text": [
      "I paid for the shared groceries for the camping trip. Divide the total among the group and send Venmo requests with the note, 'Camping trip groceries.' The receipt is saved in my files. 11\n"
     ]
    },
    {
     "name": "stderr",
     "output_type": "stream",
     "text": [
      "/Users/asankaranarayana/Documents/rg_data/lib/python3.12/site-packages/urllib3/connectionpool.py:1099: InsecureRequestWarning: Unverified HTTPS request is being made to host 'genai-cus-tdz.paypalcorp.com'. Adding certificate verification is strongly advised. See: https://urllib3.readthedocs.io/en/latest/advanced-usage.html#tls-warnings\n",
      "  warnings.warn(\n"
     ]
    },
    {
     "name": "stdout",
     "output_type": "stream",
     "text": [
      "I paid for the shared groceries for the camping trip. Divide the total among the group and send Venmo requests with the note, 'Camping trip groceries.' The receipt is saved in my files. 12\n",
      "I covered the cost of the group dinner at the Italian restaurant. Share the expense among my friends and send Venmo requests with the note, 'Italian dinner.' The receipt is in my documents.\n"
     ]
    },
    {
     "name": "stderr",
     "output_type": "stream",
     "text": [
      "/Users/asankaranarayana/Documents/rg_data/lib/python3.12/site-packages/urllib3/connectionpool.py:1099: InsecureRequestWarning: Unverified HTTPS request is being made to host 'genai-cus-tdz.paypalcorp.com'. Adding certificate verification is strongly advised. See: https://urllib3.readthedocs.io/en/latest/advanced-usage.html#tls-warnings\n",
      "  warnings.warn(\n",
      "/Users/asankaranarayana/Documents/rg_data/lib/python3.12/site-packages/urllib3/connectionpool.py:1099: InsecureRequestWarning: Unverified HTTPS request is being made to host 'genai-cus-tdz.paypalcorp.com'. Adding certificate verification is strongly advised. See: https://urllib3.readthedocs.io/en/latest/advanced-usage.html#tls-warnings\n",
      "  warnings.warn(\n",
      "/Users/asankaranarayana/Documents/rg_data/lib/python3.12/site-packages/urllib3/connectionpool.py:1099: InsecureRequestWarning: Unverified HTTPS request is being made to host 'genai-cus-tdz.paypalcorp.com'. Adding certificate verification is strongly advised. See: https://urllib3.readthedocs.io/en/latest/advanced-usage.html#tls-warnings\n",
      "  warnings.warn(\n",
      "/Users/asankaranarayana/Documents/rg_data/lib/python3.12/site-packages/urllib3/connectionpool.py:1099: InsecureRequestWarning: Unverified HTTPS request is being made to host 'genai-cus-tdz.paypalcorp.com'. Adding certificate verification is strongly advised. See: https://urllib3.readthedocs.io/en/latest/advanced-usage.html#tls-warnings\n",
      "  warnings.warn(\n",
      "/Users/asankaranarayana/Documents/rg_data/lib/python3.12/site-packages/urllib3/connectionpool.py:1099: InsecureRequestWarning: Unverified HTTPS request is being made to host 'genai-cus-tdz.paypalcorp.com'. Adding certificate verification is strongly advised. See: https://urllib3.readthedocs.io/en/latest/advanced-usage.html#tls-warnings\n",
      "  warnings.warn(\n",
      "/Users/asankaranarayana/Documents/rg_data/lib/python3.12/site-packages/urllib3/connectionpool.py:1099: InsecureRequestWarning: Unverified HTTPS request is being made to host 'genai-cus-tdz.paypalcorp.com'. Adding certificate verification is strongly advised. See: https://urllib3.readthedocs.io/en/latest/advanced-usage.html#tls-warnings\n",
      "  warnings.warn(\n",
      "/Users/asankaranarayana/Documents/rg_data/lib/python3.12/site-packages/urllib3/connectionpool.py:1099: InsecureRequestWarning: Unverified HTTPS request is being made to host 'genai-cus-tdz.paypalcorp.com'. Adding certificate verification is strongly advised. See: https://urllib3.readthedocs.io/en/latest/advanced-usage.html#tls-warnings\n",
      "  warnings.warn(\n",
      "/Users/asankaranarayana/Documents/rg_data/lib/python3.12/site-packages/urllib3/connectionpool.py:1099: InsecureRequestWarning: Unverified HTTPS request is being made to host 'genai-cus-tdz.paypalcorp.com'. Adding certificate verification is strongly advised. See: https://urllib3.readthedocs.io/en/latest/advanced-usage.html#tls-warnings\n",
      "  warnings.warn(\n"
     ]
    },
    {
     "name": "stdout",
     "output_type": "stream",
     "text": [
      "I covered the cost of the group dinner at the Italian restaurant. Share the expense among my friends and send Venmo requests with the note, 'Italian dinner.' The receipt is in my documents. 7\n"
     ]
    },
    {
     "name": "stderr",
     "output_type": "stream",
     "text": [
      "/Users/asankaranarayana/Documents/rg_data/lib/python3.12/site-packages/urllib3/connectionpool.py:1099: InsecureRequestWarning: Unverified HTTPS request is being made to host 'genai-cus-tdz.paypalcorp.com'. Adding certificate verification is strongly advised. See: https://urllib3.readthedocs.io/en/latest/advanced-usage.html#tls-warnings\n",
      "  warnings.warn(\n"
     ]
    },
    {
     "name": "stdout",
     "output_type": "stream",
     "text": [
      "I covered the cost of the group dinner at the Italian restaurant. Share the expense among my friends and send Venmo requests with the note, 'Italian dinner.' The receipt is in my documents. 8\n"
     ]
    },
    {
     "name": "stderr",
     "output_type": "stream",
     "text": [
      "/Users/asankaranarayana/Documents/rg_data/lib/python3.12/site-packages/urllib3/connectionpool.py:1099: InsecureRequestWarning: Unverified HTTPS request is being made to host 'genai-cus-tdz.paypalcorp.com'. Adding certificate verification is strongly advised. See: https://urllib3.readthedocs.io/en/latest/advanced-usage.html#tls-warnings\n",
      "  warnings.warn(\n",
      "/Users/asankaranarayana/Documents/rg_data/lib/python3.12/site-packages/urllib3/connectionpool.py:1099: InsecureRequestWarning: Unverified HTTPS request is being made to host 'genai-cus-tdz.paypalcorp.com'. Adding certificate verification is strongly advised. See: https://urllib3.readthedocs.io/en/latest/advanced-usage.html#tls-warnings\n",
      "  warnings.warn(\n"
     ]
    },
    {
     "name": "stdout",
     "output_type": "stream",
     "text": [
      "I covered the cost of the group dinner at the Italian restaurant. Share the expense among my friends and send Venmo requests with the note, 'Italian dinner.' The receipt is in my documents. 10\n"
     ]
    },
    {
     "name": "stderr",
     "output_type": "stream",
     "text": [
      "/Users/asankaranarayana/Documents/rg_data/lib/python3.12/site-packages/urllib3/connectionpool.py:1099: InsecureRequestWarning: Unverified HTTPS request is being made to host 'genai-cus-tdz.paypalcorp.com'. Adding certificate verification is strongly advised. See: https://urllib3.readthedocs.io/en/latest/advanced-usage.html#tls-warnings\n",
      "  warnings.warn(\n"
     ]
    },
    {
     "name": "stdout",
     "output_type": "stream",
     "text": [
      "I covered the cost of the group dinner at the Italian restaurant. Share the expense among my friends and send Venmo requests with the note, 'Italian dinner.' The receipt is in my documents. 11\n"
     ]
    },
    {
     "name": "stderr",
     "output_type": "stream",
     "text": [
      "/Users/asankaranarayana/Documents/rg_data/lib/python3.12/site-packages/urllib3/connectionpool.py:1099: InsecureRequestWarning: Unverified HTTPS request is being made to host 'genai-cus-tdz.paypalcorp.com'. Adding certificate verification is strongly advised. See: https://urllib3.readthedocs.io/en/latest/advanced-usage.html#tls-warnings\n",
      "  warnings.warn(\n"
     ]
    },
    {
     "name": "stdout",
     "output_type": "stream",
     "text": [
      "I covered the cost of the group dinner at the Italian restaurant. Share the expense among my friends and send Venmo requests with the note, 'Italian dinner.' The receipt is in my documents. 12\n",
      "I paid for the shared cost of the boat rental. Split the amount evenly among everyone and send Venmo requests with the note, 'Boat rental.' The receipt is saved in my file system.\n"
     ]
    },
    {
     "name": "stderr",
     "output_type": "stream",
     "text": [
      "/Users/asankaranarayana/Documents/rg_data/lib/python3.12/site-packages/urllib3/connectionpool.py:1099: InsecureRequestWarning: Unverified HTTPS request is being made to host 'genai-cus-tdz.paypalcorp.com'. Adding certificate verification is strongly advised. See: https://urllib3.readthedocs.io/en/latest/advanced-usage.html#tls-warnings\n",
      "  warnings.warn(\n",
      "/Users/asankaranarayana/Documents/rg_data/lib/python3.12/site-packages/urllib3/connectionpool.py:1099: InsecureRequestWarning: Unverified HTTPS request is being made to host 'genai-cus-tdz.paypalcorp.com'. Adding certificate verification is strongly advised. See: https://urllib3.readthedocs.io/en/latest/advanced-usage.html#tls-warnings\n",
      "  warnings.warn(\n",
      "/Users/asankaranarayana/Documents/rg_data/lib/python3.12/site-packages/urllib3/connectionpool.py:1099: InsecureRequestWarning: Unverified HTTPS request is being made to host 'genai-cus-tdz.paypalcorp.com'. Adding certificate verification is strongly advised. See: https://urllib3.readthedocs.io/en/latest/advanced-usage.html#tls-warnings\n",
      "  warnings.warn(\n",
      "/Users/asankaranarayana/Documents/rg_data/lib/python3.12/site-packages/urllib3/connectionpool.py:1099: InsecureRequestWarning: Unverified HTTPS request is being made to host 'genai-cus-tdz.paypalcorp.com'. Adding certificate verification is strongly advised. See: https://urllib3.readthedocs.io/en/latest/advanced-usage.html#tls-warnings\n",
      "  warnings.warn(\n",
      "/Users/asankaranarayana/Documents/rg_data/lib/python3.12/site-packages/urllib3/connectionpool.py:1099: InsecureRequestWarning: Unverified HTTPS request is being made to host 'genai-cus-tdz.paypalcorp.com'. Adding certificate verification is strongly advised. See: https://urllib3.readthedocs.io/en/latest/advanced-usage.html#tls-warnings\n",
      "  warnings.warn(\n",
      "/Users/asankaranarayana/Documents/rg_data/lib/python3.12/site-packages/urllib3/connectionpool.py:1099: InsecureRequestWarning: Unverified HTTPS request is being made to host 'genai-cus-tdz.paypalcorp.com'. Adding certificate verification is strongly advised. See: https://urllib3.readthedocs.io/en/latest/advanced-usage.html#tls-warnings\n",
      "  warnings.warn(\n",
      "/Users/asankaranarayana/Documents/rg_data/lib/python3.12/site-packages/urllib3/connectionpool.py:1099: InsecureRequestWarning: Unverified HTTPS request is being made to host 'genai-cus-tdz.paypalcorp.com'. Adding certificate verification is strongly advised. See: https://urllib3.readthedocs.io/en/latest/advanced-usage.html#tls-warnings\n",
      "  warnings.warn(\n",
      "/Users/asankaranarayana/Documents/rg_data/lib/python3.12/site-packages/urllib3/connectionpool.py:1099: InsecureRequestWarning: Unverified HTTPS request is being made to host 'genai-cus-tdz.paypalcorp.com'. Adding certificate verification is strongly advised. See: https://urllib3.readthedocs.io/en/latest/advanced-usage.html#tls-warnings\n",
      "  warnings.warn(\n"
     ]
    },
    {
     "name": "stdout",
     "output_type": "stream",
     "text": [
      "I paid for the shared cost of the boat rental. Split the amount evenly among everyone and send Venmo requests with the note, 'Boat rental.' The receipt is saved in my file system. 7\n"
     ]
    },
    {
     "name": "stderr",
     "output_type": "stream",
     "text": [
      "/Users/asankaranarayana/Documents/rg_data/lib/python3.12/site-packages/urllib3/connectionpool.py:1099: InsecureRequestWarning: Unverified HTTPS request is being made to host 'genai-cus-tdz.paypalcorp.com'. Adding certificate verification is strongly advised. See: https://urllib3.readthedocs.io/en/latest/advanced-usage.html#tls-warnings\n",
      "  warnings.warn(\n"
     ]
    },
    {
     "name": "stdout",
     "output_type": "stream",
     "text": [
      "I paid for the shared cost of the boat rental. Split the amount evenly among everyone and send Venmo requests with the note, 'Boat rental.' The receipt is saved in my file system. 8\n"
     ]
    },
    {
     "name": "stderr",
     "output_type": "stream",
     "text": [
      "/Users/asankaranarayana/Documents/rg_data/lib/python3.12/site-packages/urllib3/connectionpool.py:1099: InsecureRequestWarning: Unverified HTTPS request is being made to host 'genai-cus-tdz.paypalcorp.com'. Adding certificate verification is strongly advised. See: https://urllib3.readthedocs.io/en/latest/advanced-usage.html#tls-warnings\n",
      "  warnings.warn(\n"
     ]
    },
    {
     "name": "stdout",
     "output_type": "stream",
     "text": [
      "I paid for the shared cost of the boat rental. Split the amount evenly among everyone and send Venmo requests with the note, 'Boat rental.' The receipt is saved in my file system. 9\n"
     ]
    },
    {
     "name": "stderr",
     "output_type": "stream",
     "text": [
      "/Users/asankaranarayana/Documents/rg_data/lib/python3.12/site-packages/urllib3/connectionpool.py:1099: InsecureRequestWarning: Unverified HTTPS request is being made to host 'genai-cus-tdz.paypalcorp.com'. Adding certificate verification is strongly advised. See: https://urllib3.readthedocs.io/en/latest/advanced-usage.html#tls-warnings\n",
      "  warnings.warn(\n"
     ]
    },
    {
     "name": "stdout",
     "output_type": "stream",
     "text": [
      "I paid for the shared cost of the boat rental. Split the amount evenly among everyone and send Venmo requests with the note, 'Boat rental.' The receipt is saved in my file system. 10\n"
     ]
    },
    {
     "name": "stderr",
     "output_type": "stream",
     "text": [
      "/Users/asankaranarayana/Documents/rg_data/lib/python3.12/site-packages/urllib3/connectionpool.py:1099: InsecureRequestWarning: Unverified HTTPS request is being made to host 'genai-cus-tdz.paypalcorp.com'. Adding certificate verification is strongly advised. See: https://urllib3.readthedocs.io/en/latest/advanced-usage.html#tls-warnings\n",
      "  warnings.warn(\n"
     ]
    },
    {
     "name": "stdout",
     "output_type": "stream",
     "text": [
      "I paid for the shared cost of the boat rental. Split the amount evenly among everyone and send Venmo requests with the note, 'Boat rental.' The receipt is saved in my file system. 11\n"
     ]
    },
    {
     "name": "stderr",
     "output_type": "stream",
     "text": [
      "/Users/asankaranarayana/Documents/rg_data/lib/python3.12/site-packages/urllib3/connectionpool.py:1099: InsecureRequestWarning: Unverified HTTPS request is being made to host 'genai-cus-tdz.paypalcorp.com'. Adding certificate verification is strongly advised. See: https://urllib3.readthedocs.io/en/latest/advanced-usage.html#tls-warnings\n",
      "  warnings.warn(\n"
     ]
    },
    {
     "name": "stdout",
     "output_type": "stream",
     "text": [
      "I paid for the shared cost of the boat rental. Split the amount evenly among everyone and send Venmo requests with the note, 'Boat rental.' The receipt is saved in my file system. 12\n",
      "I took care of the cost of the group tickets to the museum. Divide the total among the group and send Venmo requests with the note, 'Museum tickets.' The receipt is in my files.\n"
     ]
    },
    {
     "name": "stderr",
     "output_type": "stream",
     "text": [
      "/Users/asankaranarayana/Documents/rg_data/lib/python3.12/site-packages/urllib3/connectionpool.py:1099: InsecureRequestWarning: Unverified HTTPS request is being made to host 'genai-cus-tdz.paypalcorp.com'. Adding certificate verification is strongly advised. See: https://urllib3.readthedocs.io/en/latest/advanced-usage.html#tls-warnings\n",
      "  warnings.warn(\n",
      "/Users/asankaranarayana/Documents/rg_data/lib/python3.12/site-packages/urllib3/connectionpool.py:1099: InsecureRequestWarning: Unverified HTTPS request is being made to host 'genai-cus-tdz.paypalcorp.com'. Adding certificate verification is strongly advised. See: https://urllib3.readthedocs.io/en/latest/advanced-usage.html#tls-warnings\n",
      "  warnings.warn(\n",
      "/Users/asankaranarayana/Documents/rg_data/lib/python3.12/site-packages/urllib3/connectionpool.py:1099: InsecureRequestWarning: Unverified HTTPS request is being made to host 'genai-cus-tdz.paypalcorp.com'. Adding certificate verification is strongly advised. See: https://urllib3.readthedocs.io/en/latest/advanced-usage.html#tls-warnings\n",
      "  warnings.warn(\n",
      "/Users/asankaranarayana/Documents/rg_data/lib/python3.12/site-packages/urllib3/connectionpool.py:1099: InsecureRequestWarning: Unverified HTTPS request is being made to host 'genai-cus-tdz.paypalcorp.com'. Adding certificate verification is strongly advised. See: https://urllib3.readthedocs.io/en/latest/advanced-usage.html#tls-warnings\n",
      "  warnings.warn(\n",
      "/Users/asankaranarayana/Documents/rg_data/lib/python3.12/site-packages/urllib3/connectionpool.py:1099: InsecureRequestWarning: Unverified HTTPS request is being made to host 'genai-cus-tdz.paypalcorp.com'. Adding certificate verification is strongly advised. See: https://urllib3.readthedocs.io/en/latest/advanced-usage.html#tls-warnings\n",
      "  warnings.warn(\n",
      "/Users/asankaranarayana/Documents/rg_data/lib/python3.12/site-packages/urllib3/connectionpool.py:1099: InsecureRequestWarning: Unverified HTTPS request is being made to host 'genai-cus-tdz.paypalcorp.com'. Adding certificate verification is strongly advised. See: https://urllib3.readthedocs.io/en/latest/advanced-usage.html#tls-warnings\n",
      "  warnings.warn(\n",
      "/Users/asankaranarayana/Documents/rg_data/lib/python3.12/site-packages/urllib3/connectionpool.py:1099: InsecureRequestWarning: Unverified HTTPS request is being made to host 'genai-cus-tdz.paypalcorp.com'. Adding certificate verification is strongly advised. See: https://urllib3.readthedocs.io/en/latest/advanced-usage.html#tls-warnings\n",
      "  warnings.warn(\n",
      "/Users/asankaranarayana/Documents/rg_data/lib/python3.12/site-packages/urllib3/connectionpool.py:1099: InsecureRequestWarning: Unverified HTTPS request is being made to host 'genai-cus-tdz.paypalcorp.com'. Adding certificate verification is strongly advised. See: https://urllib3.readthedocs.io/en/latest/advanced-usage.html#tls-warnings\n",
      "  warnings.warn(\n"
     ]
    },
    {
     "name": "stdout",
     "output_type": "stream",
     "text": [
      "I took care of the cost of the group tickets to the museum. Divide the total among the group and send Venmo requests with the note, 'Museum tickets.' The receipt is in my files. 7\n"
     ]
    },
    {
     "name": "stderr",
     "output_type": "stream",
     "text": [
      "/Users/asankaranarayana/Documents/rg_data/lib/python3.12/site-packages/urllib3/connectionpool.py:1099: InsecureRequestWarning: Unverified HTTPS request is being made to host 'genai-cus-tdz.paypalcorp.com'. Adding certificate verification is strongly advised. See: https://urllib3.readthedocs.io/en/latest/advanced-usage.html#tls-warnings\n",
      "  warnings.warn(\n"
     ]
    },
    {
     "name": "stdout",
     "output_type": "stream",
     "text": [
      "I took care of the cost of the group tickets to the museum. Divide the total among the group and send Venmo requests with the note, 'Museum tickets.' The receipt is in my files. 8\n"
     ]
    },
    {
     "name": "stderr",
     "output_type": "stream",
     "text": [
      "/Users/asankaranarayana/Documents/rg_data/lib/python3.12/site-packages/urllib3/connectionpool.py:1099: InsecureRequestWarning: Unverified HTTPS request is being made to host 'genai-cus-tdz.paypalcorp.com'. Adding certificate verification is strongly advised. See: https://urllib3.readthedocs.io/en/latest/advanced-usage.html#tls-warnings\n",
      "  warnings.warn(\n",
      "/Users/asankaranarayana/Documents/rg_data/lib/python3.12/site-packages/urllib3/connectionpool.py:1099: InsecureRequestWarning: Unverified HTTPS request is being made to host 'genai-cus-tdz.paypalcorp.com'. Adding certificate verification is strongly advised. See: https://urllib3.readthedocs.io/en/latest/advanced-usage.html#tls-warnings\n",
      "  warnings.warn(\n"
     ]
    },
    {
     "name": "stdout",
     "output_type": "stream",
     "text": [
      "I took care of the cost of the group tickets to the museum. Divide the total among the group and send Venmo requests with the note, 'Museum tickets.' The receipt is in my files. 10\n"
     ]
    },
    {
     "name": "stderr",
     "output_type": "stream",
     "text": [
      "/Users/asankaranarayana/Documents/rg_data/lib/python3.12/site-packages/urllib3/connectionpool.py:1099: InsecureRequestWarning: Unverified HTTPS request is being made to host 'genai-cus-tdz.paypalcorp.com'. Adding certificate verification is strongly advised. See: https://urllib3.readthedocs.io/en/latest/advanced-usage.html#tls-warnings\n",
      "  warnings.warn(\n"
     ]
    },
    {
     "name": "stdout",
     "output_type": "stream",
     "text": [
      "I took care of the cost of the group tickets to the museum. Divide the total among the group and send Venmo requests with the note, 'Museum tickets.' The receipt is in my files. 11\n"
     ]
    },
    {
     "name": "stderr",
     "output_type": "stream",
     "text": [
      "/Users/asankaranarayana/Documents/rg_data/lib/python3.12/site-packages/urllib3/connectionpool.py:1099: InsecureRequestWarning: Unverified HTTPS request is being made to host 'genai-cus-tdz.paypalcorp.com'. Adding certificate verification is strongly advised. See: https://urllib3.readthedocs.io/en/latest/advanced-usage.html#tls-warnings\n",
      "  warnings.warn(\n"
     ]
    },
    {
     "name": "stdout",
     "output_type": "stream",
     "text": [
      "I took care of the cost of the group tickets to the museum. Divide the total among the group and send Venmo requests with the note, 'Museum tickets.' The receipt is in my files. 12\n",
      "I paid for the shared cost of the karaoke room. Share the expense among my friends and send Venmo requests with the note, 'Karaoke room.' The receipt is saved in my documents.\n"
     ]
    },
    {
     "name": "stderr",
     "output_type": "stream",
     "text": [
      "/Users/asankaranarayana/Documents/rg_data/lib/python3.12/site-packages/urllib3/connectionpool.py:1099: InsecureRequestWarning: Unverified HTTPS request is being made to host 'genai-cus-tdz.paypalcorp.com'. Adding certificate verification is strongly advised. See: https://urllib3.readthedocs.io/en/latest/advanced-usage.html#tls-warnings\n",
      "  warnings.warn(\n",
      "/Users/asankaranarayana/Documents/rg_data/lib/python3.12/site-packages/urllib3/connectionpool.py:1099: InsecureRequestWarning: Unverified HTTPS request is being made to host 'genai-cus-tdz.paypalcorp.com'. Adding certificate verification is strongly advised. See: https://urllib3.readthedocs.io/en/latest/advanced-usage.html#tls-warnings\n",
      "  warnings.warn(\n",
      "/Users/asankaranarayana/Documents/rg_data/lib/python3.12/site-packages/urllib3/connectionpool.py:1099: InsecureRequestWarning: Unverified HTTPS request is being made to host 'genai-cus-tdz.paypalcorp.com'. Adding certificate verification is strongly advised. See: https://urllib3.readthedocs.io/en/latest/advanced-usage.html#tls-warnings\n",
      "  warnings.warn(\n",
      "/Users/asankaranarayana/Documents/rg_data/lib/python3.12/site-packages/urllib3/connectionpool.py:1099: InsecureRequestWarning: Unverified HTTPS request is being made to host 'genai-cus-tdz.paypalcorp.com'. Adding certificate verification is strongly advised. See: https://urllib3.readthedocs.io/en/latest/advanced-usage.html#tls-warnings\n",
      "  warnings.warn(\n",
      "/Users/asankaranarayana/Documents/rg_data/lib/python3.12/site-packages/urllib3/connectionpool.py:1099: InsecureRequestWarning: Unverified HTTPS request is being made to host 'genai-cus-tdz.paypalcorp.com'. Adding certificate verification is strongly advised. See: https://urllib3.readthedocs.io/en/latest/advanced-usage.html#tls-warnings\n",
      "  warnings.warn(\n",
      "/Users/asankaranarayana/Documents/rg_data/lib/python3.12/site-packages/urllib3/connectionpool.py:1099: InsecureRequestWarning: Unverified HTTPS request is being made to host 'genai-cus-tdz.paypalcorp.com'. Adding certificate verification is strongly advised. See: https://urllib3.readthedocs.io/en/latest/advanced-usage.html#tls-warnings\n",
      "  warnings.warn(\n",
      "/Users/asankaranarayana/Documents/rg_data/lib/python3.12/site-packages/urllib3/connectionpool.py:1099: InsecureRequestWarning: Unverified HTTPS request is being made to host 'genai-cus-tdz.paypalcorp.com'. Adding certificate verification is strongly advised. See: https://urllib3.readthedocs.io/en/latest/advanced-usage.html#tls-warnings\n",
      "  warnings.warn(\n",
      "/Users/asankaranarayana/Documents/rg_data/lib/python3.12/site-packages/urllib3/connectionpool.py:1099: InsecureRequestWarning: Unverified HTTPS request is being made to host 'genai-cus-tdz.paypalcorp.com'. Adding certificate verification is strongly advised. See: https://urllib3.readthedocs.io/en/latest/advanced-usage.html#tls-warnings\n",
      "  warnings.warn(\n",
      "/Users/asankaranarayana/Documents/rg_data/lib/python3.12/site-packages/urllib3/connectionpool.py:1099: InsecureRequestWarning: Unverified HTTPS request is being made to host 'genai-cus-tdz.paypalcorp.com'. Adding certificate verification is strongly advised. See: https://urllib3.readthedocs.io/en/latest/advanced-usage.html#tls-warnings\n",
      "  warnings.warn(\n"
     ]
    },
    {
     "name": "stdout",
     "output_type": "stream",
     "text": [
      "I paid for the shared cost of the karaoke room. Share the expense among my friends and send Venmo requests with the note, 'Karaoke room.' The receipt is saved in my documents. 8\n"
     ]
    },
    {
     "name": "stderr",
     "output_type": "stream",
     "text": [
      "/Users/asankaranarayana/Documents/rg_data/lib/python3.12/site-packages/urllib3/connectionpool.py:1099: InsecureRequestWarning: Unverified HTTPS request is being made to host 'genai-cus-tdz.paypalcorp.com'. Adding certificate verification is strongly advised. See: https://urllib3.readthedocs.io/en/latest/advanced-usage.html#tls-warnings\n",
      "  warnings.warn(\n"
     ]
    },
    {
     "name": "stdout",
     "output_type": "stream",
     "text": [
      "I paid for the shared cost of the karaoke room. Share the expense among my friends and send Venmo requests with the note, 'Karaoke room.' The receipt is saved in my documents. 9\n"
     ]
    },
    {
     "name": "stderr",
     "output_type": "stream",
     "text": [
      "/Users/asankaranarayana/Documents/rg_data/lib/python3.12/site-packages/urllib3/connectionpool.py:1099: InsecureRequestWarning: Unverified HTTPS request is being made to host 'genai-cus-tdz.paypalcorp.com'. Adding certificate verification is strongly advised. See: https://urllib3.readthedocs.io/en/latest/advanced-usage.html#tls-warnings\n",
      "  warnings.warn(\n",
      "/Users/asankaranarayana/Documents/rg_data/lib/python3.12/site-packages/urllib3/connectionpool.py:1099: InsecureRequestWarning: Unverified HTTPS request is being made to host 'genai-cus-tdz.paypalcorp.com'. Adding certificate verification is strongly advised. See: https://urllib3.readthedocs.io/en/latest/advanced-usage.html#tls-warnings\n",
      "  warnings.warn(\n"
     ]
    },
    {
     "name": "stdout",
     "output_type": "stream",
     "text": [
      "I paid for the shared cost of the karaoke room. Share the expense among my friends and send Venmo requests with the note, 'Karaoke room.' The receipt is saved in my documents. 11\n"
     ]
    },
    {
     "name": "stderr",
     "output_type": "stream",
     "text": [
      "/Users/asankaranarayana/Documents/rg_data/lib/python3.12/site-packages/urllib3/connectionpool.py:1099: InsecureRequestWarning: Unverified HTTPS request is being made to host 'genai-cus-tdz.paypalcorp.com'. Adding certificate verification is strongly advised. See: https://urllib3.readthedocs.io/en/latest/advanced-usage.html#tls-warnings\n",
      "  warnings.warn(\n"
     ]
    },
    {
     "name": "stdout",
     "output_type": "stream",
     "text": [
      "I paid for the shared cost of the karaoke room. Share the expense among my friends and send Venmo requests with the note, 'Karaoke room.' The receipt is saved in my documents. 12\n",
      "I covered the cost of the shared groceries for the barbecue. Split the total evenly among everyone and send Venmo requests with the note, 'Barbecue groceries.' The receipt is in my folder.\n"
     ]
    },
    {
     "name": "stderr",
     "output_type": "stream",
     "text": [
      "/Users/asankaranarayana/Documents/rg_data/lib/python3.12/site-packages/urllib3/connectionpool.py:1099: InsecureRequestWarning: Unverified HTTPS request is being made to host 'genai-cus-tdz.paypalcorp.com'. Adding certificate verification is strongly advised. See: https://urllib3.readthedocs.io/en/latest/advanced-usage.html#tls-warnings\n",
      "  warnings.warn(\n",
      "/Users/asankaranarayana/Documents/rg_data/lib/python3.12/site-packages/urllib3/connectionpool.py:1099: InsecureRequestWarning: Unverified HTTPS request is being made to host 'genai-cus-tdz.paypalcorp.com'. Adding certificate verification is strongly advised. See: https://urllib3.readthedocs.io/en/latest/advanced-usage.html#tls-warnings\n",
      "  warnings.warn(\n",
      "/Users/asankaranarayana/Documents/rg_data/lib/python3.12/site-packages/urllib3/connectionpool.py:1099: InsecureRequestWarning: Unverified HTTPS request is being made to host 'genai-cus-tdz.paypalcorp.com'. Adding certificate verification is strongly advised. See: https://urllib3.readthedocs.io/en/latest/advanced-usage.html#tls-warnings\n",
      "  warnings.warn(\n",
      "/Users/asankaranarayana/Documents/rg_data/lib/python3.12/site-packages/urllib3/connectionpool.py:1099: InsecureRequestWarning: Unverified HTTPS request is being made to host 'genai-cus-tdz.paypalcorp.com'. Adding certificate verification is strongly advised. See: https://urllib3.readthedocs.io/en/latest/advanced-usage.html#tls-warnings\n",
      "  warnings.warn(\n",
      "/Users/asankaranarayana/Documents/rg_data/lib/python3.12/site-packages/urllib3/connectionpool.py:1099: InsecureRequestWarning: Unverified HTTPS request is being made to host 'genai-cus-tdz.paypalcorp.com'. Adding certificate verification is strongly advised. See: https://urllib3.readthedocs.io/en/latest/advanced-usage.html#tls-warnings\n",
      "  warnings.warn(\n",
      "/Users/asankaranarayana/Documents/rg_data/lib/python3.12/site-packages/urllib3/connectionpool.py:1099: InsecureRequestWarning: Unverified HTTPS request is being made to host 'genai-cus-tdz.paypalcorp.com'. Adding certificate verification is strongly advised. See: https://urllib3.readthedocs.io/en/latest/advanced-usage.html#tls-warnings\n",
      "  warnings.warn(\n",
      "/Users/asankaranarayana/Documents/rg_data/lib/python3.12/site-packages/urllib3/connectionpool.py:1099: InsecureRequestWarning: Unverified HTTPS request is being made to host 'genai-cus-tdz.paypalcorp.com'. Adding certificate verification is strongly advised. See: https://urllib3.readthedocs.io/en/latest/advanced-usage.html#tls-warnings\n",
      "  warnings.warn(\n",
      "/Users/asankaranarayana/Documents/rg_data/lib/python3.12/site-packages/urllib3/connectionpool.py:1099: InsecureRequestWarning: Unverified HTTPS request is being made to host 'genai-cus-tdz.paypalcorp.com'. Adding certificate verification is strongly advised. See: https://urllib3.readthedocs.io/en/latest/advanced-usage.html#tls-warnings\n",
      "  warnings.warn(\n"
     ]
    },
    {
     "name": "stdout",
     "output_type": "stream",
     "text": [
      "I covered the cost of the shared groceries for the barbecue. Split the total evenly among everyone and send Venmo requests with the note, 'Barbecue groceries.' The receipt is in my folder. 7\n"
     ]
    },
    {
     "name": "stderr",
     "output_type": "stream",
     "text": [
      "/Users/asankaranarayana/Documents/rg_data/lib/python3.12/site-packages/urllib3/connectionpool.py:1099: InsecureRequestWarning: Unverified HTTPS request is being made to host 'genai-cus-tdz.paypalcorp.com'. Adding certificate verification is strongly advised. See: https://urllib3.readthedocs.io/en/latest/advanced-usage.html#tls-warnings\n",
      "  warnings.warn(\n"
     ]
    },
    {
     "name": "stdout",
     "output_type": "stream",
     "text": [
      "I covered the cost of the shared groceries for the barbecue. Split the total evenly among everyone and send Venmo requests with the note, 'Barbecue groceries.' The receipt is in my folder. 8\n"
     ]
    },
    {
     "name": "stderr",
     "output_type": "stream",
     "text": [
      "/Users/asankaranarayana/Documents/rg_data/lib/python3.12/site-packages/urllib3/connectionpool.py:1099: InsecureRequestWarning: Unverified HTTPS request is being made to host 'genai-cus-tdz.paypalcorp.com'. Adding certificate verification is strongly advised. See: https://urllib3.readthedocs.io/en/latest/advanced-usage.html#tls-warnings\n",
      "  warnings.warn(\n"
     ]
    },
    {
     "name": "stdout",
     "output_type": "stream",
     "text": [
      "I covered the cost of the shared groceries for the barbecue. Split the total evenly among everyone and send Venmo requests with the note, 'Barbecue groceries.' The receipt is in my folder. 9\n"
     ]
    },
    {
     "name": "stderr",
     "output_type": "stream",
     "text": [
      "/Users/asankaranarayana/Documents/rg_data/lib/python3.12/site-packages/urllib3/connectionpool.py:1099: InsecureRequestWarning: Unverified HTTPS request is being made to host 'genai-cus-tdz.paypalcorp.com'. Adding certificate verification is strongly advised. See: https://urllib3.readthedocs.io/en/latest/advanced-usage.html#tls-warnings\n",
      "  warnings.warn(\n"
     ]
    },
    {
     "name": "stdout",
     "output_type": "stream",
     "text": [
      "I covered the cost of the shared groceries for the barbecue. Split the total evenly among everyone and send Venmo requests with the note, 'Barbecue groceries.' The receipt is in my folder. 10\n"
     ]
    },
    {
     "name": "stderr",
     "output_type": "stream",
     "text": [
      "/Users/asankaranarayana/Documents/rg_data/lib/python3.12/site-packages/urllib3/connectionpool.py:1099: InsecureRequestWarning: Unverified HTTPS request is being made to host 'genai-cus-tdz.paypalcorp.com'. Adding certificate verification is strongly advised. See: https://urllib3.readthedocs.io/en/latest/advanced-usage.html#tls-warnings\n",
      "  warnings.warn(\n"
     ]
    },
    {
     "name": "stdout",
     "output_type": "stream",
     "text": [
      "I covered the cost of the shared groceries for the barbecue. Split the total evenly among everyone and send Venmo requests with the note, 'Barbecue groceries.' The receipt is in my folder. 11\n"
     ]
    },
    {
     "name": "stderr",
     "output_type": "stream",
     "text": [
      "/Users/asankaranarayana/Documents/rg_data/lib/python3.12/site-packages/urllib3/connectionpool.py:1099: InsecureRequestWarning: Unverified HTTPS request is being made to host 'genai-cus-tdz.paypalcorp.com'. Adding certificate verification is strongly advised. See: https://urllib3.readthedocs.io/en/latest/advanced-usage.html#tls-warnings\n",
      "  warnings.warn(\n"
     ]
    },
    {
     "name": "stdout",
     "output_type": "stream",
     "text": [
      "I covered the cost of the shared groceries for the barbecue. Split the total evenly among everyone and send Venmo requests with the note, 'Barbecue groceries.' The receipt is in my folder. 12\n",
      "I paid for the shared cost of the group spa day. Divide the total among the group and send Venmo requests with the note, 'Spa day.' The receipt is saved in my files.\n"
     ]
    },
    {
     "name": "stderr",
     "output_type": "stream",
     "text": [
      "/Users/asankaranarayana/Documents/rg_data/lib/python3.12/site-packages/urllib3/connectionpool.py:1099: InsecureRequestWarning: Unverified HTTPS request is being made to host 'genai-cus-tdz.paypalcorp.com'. Adding certificate verification is strongly advised. See: https://urllib3.readthedocs.io/en/latest/advanced-usage.html#tls-warnings\n",
      "  warnings.warn(\n",
      "/Users/asankaranarayana/Documents/rg_data/lib/python3.12/site-packages/urllib3/connectionpool.py:1099: InsecureRequestWarning: Unverified HTTPS request is being made to host 'genai-cus-tdz.paypalcorp.com'. Adding certificate verification is strongly advised. See: https://urllib3.readthedocs.io/en/latest/advanced-usage.html#tls-warnings\n",
      "  warnings.warn(\n",
      "/Users/asankaranarayana/Documents/rg_data/lib/python3.12/site-packages/urllib3/connectionpool.py:1099: InsecureRequestWarning: Unverified HTTPS request is being made to host 'genai-cus-tdz.paypalcorp.com'. Adding certificate verification is strongly advised. See: https://urllib3.readthedocs.io/en/latest/advanced-usage.html#tls-warnings\n",
      "  warnings.warn(\n",
      "/Users/asankaranarayana/Documents/rg_data/lib/python3.12/site-packages/urllib3/connectionpool.py:1099: InsecureRequestWarning: Unverified HTTPS request is being made to host 'genai-cus-tdz.paypalcorp.com'. Adding certificate verification is strongly advised. See: https://urllib3.readthedocs.io/en/latest/advanced-usage.html#tls-warnings\n",
      "  warnings.warn(\n",
      "/Users/asankaranarayana/Documents/rg_data/lib/python3.12/site-packages/urllib3/connectionpool.py:1099: InsecureRequestWarning: Unverified HTTPS request is being made to host 'genai-cus-tdz.paypalcorp.com'. Adding certificate verification is strongly advised. See: https://urllib3.readthedocs.io/en/latest/advanced-usage.html#tls-warnings\n",
      "  warnings.warn(\n",
      "/Users/asankaranarayana/Documents/rg_data/lib/python3.12/site-packages/urllib3/connectionpool.py:1099: InsecureRequestWarning: Unverified HTTPS request is being made to host 'genai-cus-tdz.paypalcorp.com'. Adding certificate verification is strongly advised. See: https://urllib3.readthedocs.io/en/latest/advanced-usage.html#tls-warnings\n",
      "  warnings.warn(\n",
      "/Users/asankaranarayana/Documents/rg_data/lib/python3.12/site-packages/urllib3/connectionpool.py:1099: InsecureRequestWarning: Unverified HTTPS request is being made to host 'genai-cus-tdz.paypalcorp.com'. Adding certificate verification is strongly advised. See: https://urllib3.readthedocs.io/en/latest/advanced-usage.html#tls-warnings\n",
      "  warnings.warn(\n",
      "/Users/asankaranarayana/Documents/rg_data/lib/python3.12/site-packages/urllib3/connectionpool.py:1099: InsecureRequestWarning: Unverified HTTPS request is being made to host 'genai-cus-tdz.paypalcorp.com'. Adding certificate verification is strongly advised. See: https://urllib3.readthedocs.io/en/latest/advanced-usage.html#tls-warnings\n",
      "  warnings.warn(\n",
      "/Users/asankaranarayana/Documents/rg_data/lib/python3.12/site-packages/urllib3/connectionpool.py:1099: InsecureRequestWarning: Unverified HTTPS request is being made to host 'genai-cus-tdz.paypalcorp.com'. Adding certificate verification is strongly advised. See: https://urllib3.readthedocs.io/en/latest/advanced-usage.html#tls-warnings\n",
      "  warnings.warn(\n"
     ]
    },
    {
     "name": "stdout",
     "output_type": "stream",
     "text": [
      "I paid for the shared cost of the group spa day. Divide the total among the group and send Venmo requests with the note, 'Spa day.' The receipt is saved in my files. 8\n"
     ]
    },
    {
     "name": "stderr",
     "output_type": "stream",
     "text": [
      "/Users/asankaranarayana/Documents/rg_data/lib/python3.12/site-packages/urllib3/connectionpool.py:1099: InsecureRequestWarning: Unverified HTTPS request is being made to host 'genai-cus-tdz.paypalcorp.com'. Adding certificate verification is strongly advised. See: https://urllib3.readthedocs.io/en/latest/advanced-usage.html#tls-warnings\n",
      "  warnings.warn(\n",
      "/Users/asankaranarayana/Documents/rg_data/lib/python3.12/site-packages/urllib3/connectionpool.py:1099: InsecureRequestWarning: Unverified HTTPS request is being made to host 'genai-cus-tdz.paypalcorp.com'. Adding certificate verification is strongly advised. See: https://urllib3.readthedocs.io/en/latest/advanced-usage.html#tls-warnings\n",
      "  warnings.warn(\n"
     ]
    },
    {
     "name": "stdout",
     "output_type": "stream",
     "text": [
      "I paid for the shared cost of the group spa day. Divide the total among the group and send Venmo requests with the note, 'Spa day.' The receipt is saved in my files. 10\n"
     ]
    },
    {
     "name": "stderr",
     "output_type": "stream",
     "text": [
      "/Users/asankaranarayana/Documents/rg_data/lib/python3.12/site-packages/urllib3/connectionpool.py:1099: InsecureRequestWarning: Unverified HTTPS request is being made to host 'genai-cus-tdz.paypalcorp.com'. Adding certificate verification is strongly advised. See: https://urllib3.readthedocs.io/en/latest/advanced-usage.html#tls-warnings\n",
      "  warnings.warn(\n"
     ]
    },
    {
     "name": "stdout",
     "output_type": "stream",
     "text": [
      "I paid for the shared cost of the group spa day. Divide the total among the group and send Venmo requests with the note, 'Spa day.' The receipt is saved in my files. 11\n"
     ]
    },
    {
     "name": "stderr",
     "output_type": "stream",
     "text": [
      "/Users/asankaranarayana/Documents/rg_data/lib/python3.12/site-packages/urllib3/connectionpool.py:1099: InsecureRequestWarning: Unverified HTTPS request is being made to host 'genai-cus-tdz.paypalcorp.com'. Adding certificate verification is strongly advised. See: https://urllib3.readthedocs.io/en/latest/advanced-usage.html#tls-warnings\n",
      "  warnings.warn(\n"
     ]
    },
    {
     "name": "stdout",
     "output_type": "stream",
     "text": [
      "I took care of the cost of the shared tickets to the comedy show. Share the expense among my friends and send Venmo requests with the note, 'Comedy show tickets.' The receipt is in my documents.\n"
     ]
    },
    {
     "name": "stderr",
     "output_type": "stream",
     "text": [
      "/Users/asankaranarayana/Documents/rg_data/lib/python3.12/site-packages/urllib3/connectionpool.py:1099: InsecureRequestWarning: Unverified HTTPS request is being made to host 'genai-cus-tdz.paypalcorp.com'. Adding certificate verification is strongly advised. See: https://urllib3.readthedocs.io/en/latest/advanced-usage.html#tls-warnings\n",
      "  warnings.warn(\n",
      "/Users/asankaranarayana/Documents/rg_data/lib/python3.12/site-packages/urllib3/connectionpool.py:1099: InsecureRequestWarning: Unverified HTTPS request is being made to host 'genai-cus-tdz.paypalcorp.com'. Adding certificate verification is strongly advised. See: https://urllib3.readthedocs.io/en/latest/advanced-usage.html#tls-warnings\n",
      "  warnings.warn(\n",
      "/Users/asankaranarayana/Documents/rg_data/lib/python3.12/site-packages/urllib3/connectionpool.py:1099: InsecureRequestWarning: Unverified HTTPS request is being made to host 'genai-cus-tdz.paypalcorp.com'. Adding certificate verification is strongly advised. See: https://urllib3.readthedocs.io/en/latest/advanced-usage.html#tls-warnings\n",
      "  warnings.warn(\n",
      "/Users/asankaranarayana/Documents/rg_data/lib/python3.12/site-packages/urllib3/connectionpool.py:1099: InsecureRequestWarning: Unverified HTTPS request is being made to host 'genai-cus-tdz.paypalcorp.com'. Adding certificate verification is strongly advised. See: https://urllib3.readthedocs.io/en/latest/advanced-usage.html#tls-warnings\n",
      "  warnings.warn(\n",
      "/Users/asankaranarayana/Documents/rg_data/lib/python3.12/site-packages/urllib3/connectionpool.py:1099: InsecureRequestWarning: Unverified HTTPS request is being made to host 'genai-cus-tdz.paypalcorp.com'. Adding certificate verification is strongly advised. See: https://urllib3.readthedocs.io/en/latest/advanced-usage.html#tls-warnings\n",
      "  warnings.warn(\n",
      "/Users/asankaranarayana/Documents/rg_data/lib/python3.12/site-packages/urllib3/connectionpool.py:1099: InsecureRequestWarning: Unverified HTTPS request is being made to host 'genai-cus-tdz.paypalcorp.com'. Adding certificate verification is strongly advised. See: https://urllib3.readthedocs.io/en/latest/advanced-usage.html#tls-warnings\n",
      "  warnings.warn(\n",
      "/Users/asankaranarayana/Documents/rg_data/lib/python3.12/site-packages/urllib3/connectionpool.py:1099: InsecureRequestWarning: Unverified HTTPS request is being made to host 'genai-cus-tdz.paypalcorp.com'. Adding certificate verification is strongly advised. See: https://urllib3.readthedocs.io/en/latest/advanced-usage.html#tls-warnings\n",
      "  warnings.warn(\n",
      "/Users/asankaranarayana/Documents/rg_data/lib/python3.12/site-packages/urllib3/connectionpool.py:1099: InsecureRequestWarning: Unverified HTTPS request is being made to host 'genai-cus-tdz.paypalcorp.com'. Adding certificate verification is strongly advised. See: https://urllib3.readthedocs.io/en/latest/advanced-usage.html#tls-warnings\n",
      "  warnings.warn(\n"
     ]
    },
    {
     "name": "stdout",
     "output_type": "stream",
     "text": [
      "I took care of the cost of the shared tickets to the comedy show. Share the expense among my friends and send Venmo requests with the note, 'Comedy show tickets.' The receipt is in my documents. 7\n"
     ]
    },
    {
     "name": "stderr",
     "output_type": "stream",
     "text": [
      "/Users/asankaranarayana/Documents/rg_data/lib/python3.12/site-packages/urllib3/connectionpool.py:1099: InsecureRequestWarning: Unverified HTTPS request is being made to host 'genai-cus-tdz.paypalcorp.com'. Adding certificate verification is strongly advised. See: https://urllib3.readthedocs.io/en/latest/advanced-usage.html#tls-warnings\n",
      "  warnings.warn(\n"
     ]
    },
    {
     "name": "stdout",
     "output_type": "stream",
     "text": [
      "I took care of the cost of the shared tickets to the comedy show. Share the expense among my friends and send Venmo requests with the note, 'Comedy show tickets.' The receipt is in my documents. 8\n"
     ]
    },
    {
     "name": "stderr",
     "output_type": "stream",
     "text": [
      "/Users/asankaranarayana/Documents/rg_data/lib/python3.12/site-packages/urllib3/connectionpool.py:1099: InsecureRequestWarning: Unverified HTTPS request is being made to host 'genai-cus-tdz.paypalcorp.com'. Adding certificate verification is strongly advised. See: https://urllib3.readthedocs.io/en/latest/advanced-usage.html#tls-warnings\n",
      "  warnings.warn(\n"
     ]
    },
    {
     "name": "stdout",
     "output_type": "stream",
     "text": [
      "I took care of the cost of the shared tickets to the comedy show. Share the expense among my friends and send Venmo requests with the note, 'Comedy show tickets.' The receipt is in my documents. 9\n"
     ]
    },
    {
     "name": "stderr",
     "output_type": "stream",
     "text": [
      "/Users/asankaranarayana/Documents/rg_data/lib/python3.12/site-packages/urllib3/connectionpool.py:1099: InsecureRequestWarning: Unverified HTTPS request is being made to host 'genai-cus-tdz.paypalcorp.com'. Adding certificate verification is strongly advised. See: https://urllib3.readthedocs.io/en/latest/advanced-usage.html#tls-warnings\n",
      "  warnings.warn(\n"
     ]
    },
    {
     "name": "stdout",
     "output_type": "stream",
     "text": [
      "I took care of the cost of the shared tickets to the comedy show. Share the expense among my friends and send Venmo requests with the note, 'Comedy show tickets.' The receipt is in my documents. 10\n"
     ]
    },
    {
     "name": "stderr",
     "output_type": "stream",
     "text": [
      "/Users/asankaranarayana/Documents/rg_data/lib/python3.12/site-packages/urllib3/connectionpool.py:1099: InsecureRequestWarning: Unverified HTTPS request is being made to host 'genai-cus-tdz.paypalcorp.com'. Adding certificate verification is strongly advised. See: https://urllib3.readthedocs.io/en/latest/advanced-usage.html#tls-warnings\n",
      "  warnings.warn(\n"
     ]
    },
    {
     "name": "stdout",
     "output_type": "stream",
     "text": [
      "I took care of the cost of the shared tickets to the comedy show. Share the expense among my friends and send Venmo requests with the note, 'Comedy show tickets.' The receipt is in my documents. 11\n"
     ]
    },
    {
     "name": "stderr",
     "output_type": "stream",
     "text": [
      "/Users/asankaranarayana/Documents/rg_data/lib/python3.12/site-packages/urllib3/connectionpool.py:1099: InsecureRequestWarning: Unverified HTTPS request is being made to host 'genai-cus-tdz.paypalcorp.com'. Adding certificate verification is strongly advised. See: https://urllib3.readthedocs.io/en/latest/advanced-usage.html#tls-warnings\n",
      "  warnings.warn(\n"
     ]
    },
    {
     "name": "stdout",
     "output_type": "stream",
     "text": [
      "I paid for the shared cost of the group lunch at the cafe. Split the amount evenly among everyone and send Venmo requests with the note, 'Cafe lunch.' The receipt is saved in my file system.\n"
     ]
    },
    {
     "name": "stderr",
     "output_type": "stream",
     "text": [
      "/Users/asankaranarayana/Documents/rg_data/lib/python3.12/site-packages/urllib3/connectionpool.py:1099: InsecureRequestWarning: Unverified HTTPS request is being made to host 'genai-cus-tdz.paypalcorp.com'. Adding certificate verification is strongly advised. See: https://urllib3.readthedocs.io/en/latest/advanced-usage.html#tls-warnings\n",
      "  warnings.warn(\n",
      "/Users/asankaranarayana/Documents/rg_data/lib/python3.12/site-packages/urllib3/connectionpool.py:1099: InsecureRequestWarning: Unverified HTTPS request is being made to host 'genai-cus-tdz.paypalcorp.com'. Adding certificate verification is strongly advised. See: https://urllib3.readthedocs.io/en/latest/advanced-usage.html#tls-warnings\n",
      "  warnings.warn(\n",
      "/Users/asankaranarayana/Documents/rg_data/lib/python3.12/site-packages/urllib3/connectionpool.py:1099: InsecureRequestWarning: Unverified HTTPS request is being made to host 'genai-cus-tdz.paypalcorp.com'. Adding certificate verification is strongly advised. See: https://urllib3.readthedocs.io/en/latest/advanced-usage.html#tls-warnings\n",
      "  warnings.warn(\n",
      "/Users/asankaranarayana/Documents/rg_data/lib/python3.12/site-packages/urllib3/connectionpool.py:1099: InsecureRequestWarning: Unverified HTTPS request is being made to host 'genai-cus-tdz.paypalcorp.com'. Adding certificate verification is strongly advised. See: https://urllib3.readthedocs.io/en/latest/advanced-usage.html#tls-warnings\n",
      "  warnings.warn(\n",
      "/Users/asankaranarayana/Documents/rg_data/lib/python3.12/site-packages/urllib3/connectionpool.py:1099: InsecureRequestWarning: Unverified HTTPS request is being made to host 'genai-cus-tdz.paypalcorp.com'. Adding certificate verification is strongly advised. See: https://urllib3.readthedocs.io/en/latest/advanced-usage.html#tls-warnings\n",
      "  warnings.warn(\n",
      "/Users/asankaranarayana/Documents/rg_data/lib/python3.12/site-packages/urllib3/connectionpool.py:1099: InsecureRequestWarning: Unverified HTTPS request is being made to host 'genai-cus-tdz.paypalcorp.com'. Adding certificate verification is strongly advised. See: https://urllib3.readthedocs.io/en/latest/advanced-usage.html#tls-warnings\n",
      "  warnings.warn(\n",
      "/Users/asankaranarayana/Documents/rg_data/lib/python3.12/site-packages/urllib3/connectionpool.py:1099: InsecureRequestWarning: Unverified HTTPS request is being made to host 'genai-cus-tdz.paypalcorp.com'. Adding certificate verification is strongly advised. See: https://urllib3.readthedocs.io/en/latest/advanced-usage.html#tls-warnings\n",
      "  warnings.warn(\n",
      "/Users/asankaranarayana/Documents/rg_data/lib/python3.12/site-packages/urllib3/connectionpool.py:1099: InsecureRequestWarning: Unverified HTTPS request is being made to host 'genai-cus-tdz.paypalcorp.com'. Adding certificate verification is strongly advised. See: https://urllib3.readthedocs.io/en/latest/advanced-usage.html#tls-warnings\n",
      "  warnings.warn(\n"
     ]
    },
    {
     "name": "stdout",
     "output_type": "stream",
     "text": [
      "I paid for the shared cost of the group lunch at the cafe. Split the amount evenly among everyone and send Venmo requests with the note, 'Cafe lunch.' The receipt is saved in my file system. 7\n"
     ]
    },
    {
     "name": "stderr",
     "output_type": "stream",
     "text": [
      "/Users/asankaranarayana/Documents/rg_data/lib/python3.12/site-packages/urllib3/connectionpool.py:1099: InsecureRequestWarning: Unverified HTTPS request is being made to host 'genai-cus-tdz.paypalcorp.com'. Adding certificate verification is strongly advised. See: https://urllib3.readthedocs.io/en/latest/advanced-usage.html#tls-warnings\n",
      "  warnings.warn(\n"
     ]
    },
    {
     "name": "stdout",
     "output_type": "stream",
     "text": [
      "I paid for the shared cost of the group lunch at the cafe. Split the amount evenly among everyone and send Venmo requests with the note, 'Cafe lunch.' The receipt is saved in my file system. 8\n"
     ]
    },
    {
     "name": "stderr",
     "output_type": "stream",
     "text": [
      "/Users/asankaranarayana/Documents/rg_data/lib/python3.12/site-packages/urllib3/connectionpool.py:1099: InsecureRequestWarning: Unverified HTTPS request is being made to host 'genai-cus-tdz.paypalcorp.com'. Adding certificate verification is strongly advised. See: https://urllib3.readthedocs.io/en/latest/advanced-usage.html#tls-warnings\n",
      "  warnings.warn(\n",
      "/Users/asankaranarayana/Documents/rg_data/lib/python3.12/site-packages/urllib3/connectionpool.py:1099: InsecureRequestWarning: Unverified HTTPS request is being made to host 'genai-cus-tdz.paypalcorp.com'. Adding certificate verification is strongly advised. See: https://urllib3.readthedocs.io/en/latest/advanced-usage.html#tls-warnings\n",
      "  warnings.warn(\n"
     ]
    },
    {
     "name": "stdout",
     "output_type": "stream",
     "text": [
      "I paid for the shared cost of the group lunch at the cafe. Split the amount evenly among everyone and send Venmo requests with the note, 'Cafe lunch.' The receipt is saved in my file system. 10\n"
     ]
    },
    {
     "name": "stderr",
     "output_type": "stream",
     "text": [
      "/Users/asankaranarayana/Documents/rg_data/lib/python3.12/site-packages/urllib3/connectionpool.py:1099: InsecureRequestWarning: Unverified HTTPS request is being made to host 'genai-cus-tdz.paypalcorp.com'. Adding certificate verification is strongly advised. See: https://urllib3.readthedocs.io/en/latest/advanced-usage.html#tls-warnings\n",
      "  warnings.warn(\n",
      "/Users/asankaranarayana/Documents/rg_data/lib/python3.12/site-packages/urllib3/connectionpool.py:1099: InsecureRequestWarning: Unverified HTTPS request is being made to host 'genai-cus-tdz.paypalcorp.com'. Adding certificate verification is strongly advised. See: https://urllib3.readthedocs.io/en/latest/advanced-usage.html#tls-warnings\n",
      "  warnings.warn(\n"
     ]
    },
    {
     "name": "stdout",
     "output_type": "stream",
     "text": [
      "I paid for the shared cost of the group lunch at the cafe. Split the amount evenly among everyone and send Venmo requests with the note, 'Cafe lunch.' The receipt is saved in my file system. 12\n",
      "I covered the cost of the shared groceries for the holiday dinner. Divide the total among the group and send Venmo requests with the note, 'Holiday dinner groceries.' The receipt is in my files.\n"
     ]
    },
    {
     "name": "stderr",
     "output_type": "stream",
     "text": [
      "/Users/asankaranarayana/Documents/rg_data/lib/python3.12/site-packages/urllib3/connectionpool.py:1099: InsecureRequestWarning: Unverified HTTPS request is being made to host 'genai-cus-tdz.paypalcorp.com'. Adding certificate verification is strongly advised. See: https://urllib3.readthedocs.io/en/latest/advanced-usage.html#tls-warnings\n",
      "  warnings.warn(\n",
      "/Users/asankaranarayana/Documents/rg_data/lib/python3.12/site-packages/urllib3/connectionpool.py:1099: InsecureRequestWarning: Unverified HTTPS request is being made to host 'genai-cus-tdz.paypalcorp.com'. Adding certificate verification is strongly advised. See: https://urllib3.readthedocs.io/en/latest/advanced-usage.html#tls-warnings\n",
      "  warnings.warn(\n",
      "/Users/asankaranarayana/Documents/rg_data/lib/python3.12/site-packages/urllib3/connectionpool.py:1099: InsecureRequestWarning: Unverified HTTPS request is being made to host 'genai-cus-tdz.paypalcorp.com'. Adding certificate verification is strongly advised. See: https://urllib3.readthedocs.io/en/latest/advanced-usage.html#tls-warnings\n",
      "  warnings.warn(\n",
      "/Users/asankaranarayana/Documents/rg_data/lib/python3.12/site-packages/urllib3/connectionpool.py:1099: InsecureRequestWarning: Unverified HTTPS request is being made to host 'genai-cus-tdz.paypalcorp.com'. Adding certificate verification is strongly advised. See: https://urllib3.readthedocs.io/en/latest/advanced-usage.html#tls-warnings\n",
      "  warnings.warn(\n",
      "/Users/asankaranarayana/Documents/rg_data/lib/python3.12/site-packages/urllib3/connectionpool.py:1099: InsecureRequestWarning: Unverified HTTPS request is being made to host 'genai-cus-tdz.paypalcorp.com'. Adding certificate verification is strongly advised. See: https://urllib3.readthedocs.io/en/latest/advanced-usage.html#tls-warnings\n",
      "  warnings.warn(\n"
     ]
    },
    {
     "name": "stdout",
     "output_type": "stream",
     "text": [
      "I covered the cost of the shared groceries for the holiday dinner. Divide the total among the group and send Venmo requests with the note, 'Holiday dinner groceries.' The receipt is in my files. 4\n"
     ]
    },
    {
     "name": "stderr",
     "output_type": "stream",
     "text": [
      "/Users/asankaranarayana/Documents/rg_data/lib/python3.12/site-packages/urllib3/connectionpool.py:1099: InsecureRequestWarning: Unverified HTTPS request is being made to host 'genai-cus-tdz.paypalcorp.com'. Adding certificate verification is strongly advised. See: https://urllib3.readthedocs.io/en/latest/advanced-usage.html#tls-warnings\n",
      "  warnings.warn(\n",
      "/Users/asankaranarayana/Documents/rg_data/lib/python3.12/site-packages/urllib3/connectionpool.py:1099: InsecureRequestWarning: Unverified HTTPS request is being made to host 'genai-cus-tdz.paypalcorp.com'. Adding certificate verification is strongly advised. See: https://urllib3.readthedocs.io/en/latest/advanced-usage.html#tls-warnings\n",
      "  warnings.warn(\n",
      "/Users/asankaranarayana/Documents/rg_data/lib/python3.12/site-packages/urllib3/connectionpool.py:1099: InsecureRequestWarning: Unverified HTTPS request is being made to host 'genai-cus-tdz.paypalcorp.com'. Adding certificate verification is strongly advised. See: https://urllib3.readthedocs.io/en/latest/advanced-usage.html#tls-warnings\n",
      "  warnings.warn(\n"
     ]
    },
    {
     "name": "stdout",
     "output_type": "stream",
     "text": [
      "I covered the cost of the shared groceries for the holiday dinner. Divide the total among the group and send Venmo requests with the note, 'Holiday dinner groceries.' The receipt is in my files. 7\n"
     ]
    },
    {
     "name": "stderr",
     "output_type": "stream",
     "text": [
      "/Users/asankaranarayana/Documents/rg_data/lib/python3.12/site-packages/urllib3/connectionpool.py:1099: InsecureRequestWarning: Unverified HTTPS request is being made to host 'genai-cus-tdz.paypalcorp.com'. Adding certificate verification is strongly advised. See: https://urllib3.readthedocs.io/en/latest/advanced-usage.html#tls-warnings\n",
      "  warnings.warn(\n"
     ]
    },
    {
     "name": "stdout",
     "output_type": "stream",
     "text": [
      "I covered the cost of the shared groceries for the holiday dinner. Divide the total among the group and send Venmo requests with the note, 'Holiday dinner groceries.' The receipt is in my files. 8\n"
     ]
    },
    {
     "name": "stderr",
     "output_type": "stream",
     "text": [
      "/Users/asankaranarayana/Documents/rg_data/lib/python3.12/site-packages/urllib3/connectionpool.py:1099: InsecureRequestWarning: Unverified HTTPS request is being made to host 'genai-cus-tdz.paypalcorp.com'. Adding certificate verification is strongly advised. See: https://urllib3.readthedocs.io/en/latest/advanced-usage.html#tls-warnings\n",
      "  warnings.warn(\n"
     ]
    },
    {
     "name": "stdout",
     "output_type": "stream",
     "text": [
      "I covered the cost of the shared groceries for the holiday dinner. Divide the total among the group and send Venmo requests with the note, 'Holiday dinner groceries.' The receipt is in my files. 9\n"
     ]
    },
    {
     "name": "stderr",
     "output_type": "stream",
     "text": [
      "/Users/asankaranarayana/Documents/rg_data/lib/python3.12/site-packages/urllib3/connectionpool.py:1099: InsecureRequestWarning: Unverified HTTPS request is being made to host 'genai-cus-tdz.paypalcorp.com'. Adding certificate verification is strongly advised. See: https://urllib3.readthedocs.io/en/latest/advanced-usage.html#tls-warnings\n",
      "  warnings.warn(\n"
     ]
    },
    {
     "name": "stdout",
     "output_type": "stream",
     "text": [
      "I covered the cost of the shared groceries for the holiday dinner. Divide the total among the group and send Venmo requests with the note, 'Holiday dinner groceries.' The receipt is in my files. 10\n"
     ]
    },
    {
     "name": "stderr",
     "output_type": "stream",
     "text": [
      "/Users/asankaranarayana/Documents/rg_data/lib/python3.12/site-packages/urllib3/connectionpool.py:1099: InsecureRequestWarning: Unverified HTTPS request is being made to host 'genai-cus-tdz.paypalcorp.com'. Adding certificate verification is strongly advised. See: https://urllib3.readthedocs.io/en/latest/advanced-usage.html#tls-warnings\n",
      "  warnings.warn(\n"
     ]
    },
    {
     "name": "stdout",
     "output_type": "stream",
     "text": [
      "I covered the cost of the shared groceries for the holiday dinner. Divide the total among the group and send Venmo requests with the note, 'Holiday dinner groceries.' The receipt is in my files. 11\n"
     ]
    },
    {
     "name": "stderr",
     "output_type": "stream",
     "text": [
      "/Users/asankaranarayana/Documents/rg_data/lib/python3.12/site-packages/urllib3/connectionpool.py:1099: InsecureRequestWarning: Unverified HTTPS request is being made to host 'genai-cus-tdz.paypalcorp.com'. Adding certificate verification is strongly advised. See: https://urllib3.readthedocs.io/en/latest/advanced-usage.html#tls-warnings\n",
      "  warnings.warn(\n"
     ]
    },
    {
     "name": "stdout",
     "output_type": "stream",
     "text": [
      "I paid for the shared cost of the group bowling night. Share the expense among my friends and send Venmo requests with the note, 'Bowling night.' The receipt is saved in my documents.\n"
     ]
    },
    {
     "name": "stderr",
     "output_type": "stream",
     "text": [
      "/Users/asankaranarayana/Documents/rg_data/lib/python3.12/site-packages/urllib3/connectionpool.py:1099: InsecureRequestWarning: Unverified HTTPS request is being made to host 'genai-cus-tdz.paypalcorp.com'. Adding certificate verification is strongly advised. See: https://urllib3.readthedocs.io/en/latest/advanced-usage.html#tls-warnings\n",
      "  warnings.warn(\n",
      "/Users/asankaranarayana/Documents/rg_data/lib/python3.12/site-packages/urllib3/connectionpool.py:1099: InsecureRequestWarning: Unverified HTTPS request is being made to host 'genai-cus-tdz.paypalcorp.com'. Adding certificate verification is strongly advised. See: https://urllib3.readthedocs.io/en/latest/advanced-usage.html#tls-warnings\n",
      "  warnings.warn(\n",
      "/Users/asankaranarayana/Documents/rg_data/lib/python3.12/site-packages/urllib3/connectionpool.py:1099: InsecureRequestWarning: Unverified HTTPS request is being made to host 'genai-cus-tdz.paypalcorp.com'. Adding certificate verification is strongly advised. See: https://urllib3.readthedocs.io/en/latest/advanced-usage.html#tls-warnings\n",
      "  warnings.warn(\n",
      "/Users/asankaranarayana/Documents/rg_data/lib/python3.12/site-packages/urllib3/connectionpool.py:1099: InsecureRequestWarning: Unverified HTTPS request is being made to host 'genai-cus-tdz.paypalcorp.com'. Adding certificate verification is strongly advised. See: https://urllib3.readthedocs.io/en/latest/advanced-usage.html#tls-warnings\n",
      "  warnings.warn(\n",
      "/Users/asankaranarayana/Documents/rg_data/lib/python3.12/site-packages/urllib3/connectionpool.py:1099: InsecureRequestWarning: Unverified HTTPS request is being made to host 'genai-cus-tdz.paypalcorp.com'. Adding certificate verification is strongly advised. See: https://urllib3.readthedocs.io/en/latest/advanced-usage.html#tls-warnings\n",
      "  warnings.warn(\n",
      "/Users/asankaranarayana/Documents/rg_data/lib/python3.12/site-packages/urllib3/connectionpool.py:1099: InsecureRequestWarning: Unverified HTTPS request is being made to host 'genai-cus-tdz.paypalcorp.com'. Adding certificate verification is strongly advised. See: https://urllib3.readthedocs.io/en/latest/advanced-usage.html#tls-warnings\n",
      "  warnings.warn(\n",
      "/Users/asankaranarayana/Documents/rg_data/lib/python3.12/site-packages/urllib3/connectionpool.py:1099: InsecureRequestWarning: Unverified HTTPS request is being made to host 'genai-cus-tdz.paypalcorp.com'. Adding certificate verification is strongly advised. See: https://urllib3.readthedocs.io/en/latest/advanced-usage.html#tls-warnings\n",
      "  warnings.warn(\n",
      "/Users/asankaranarayana/Documents/rg_data/lib/python3.12/site-packages/urllib3/connectionpool.py:1099: InsecureRequestWarning: Unverified HTTPS request is being made to host 'genai-cus-tdz.paypalcorp.com'. Adding certificate verification is strongly advised. See: https://urllib3.readthedocs.io/en/latest/advanced-usage.html#tls-warnings\n",
      "  warnings.warn(\n",
      "/Users/asankaranarayana/Documents/rg_data/lib/python3.12/site-packages/urllib3/connectionpool.py:1099: InsecureRequestWarning: Unverified HTTPS request is being made to host 'genai-cus-tdz.paypalcorp.com'. Adding certificate verification is strongly advised. See: https://urllib3.readthedocs.io/en/latest/advanced-usage.html#tls-warnings\n",
      "  warnings.warn(\n"
     ]
    },
    {
     "name": "stdout",
     "output_type": "stream",
     "text": [
      "I paid for the shared cost of the group bowling night. Share the expense among my friends and send Venmo requests with the note, 'Bowling night.' The receipt is saved in my documents. 8\n"
     ]
    },
    {
     "name": "stderr",
     "output_type": "stream",
     "text": [
      "/Users/asankaranarayana/Documents/rg_data/lib/python3.12/site-packages/urllib3/connectionpool.py:1099: InsecureRequestWarning: Unverified HTTPS request is being made to host 'genai-cus-tdz.paypalcorp.com'. Adding certificate verification is strongly advised. See: https://urllib3.readthedocs.io/en/latest/advanced-usage.html#tls-warnings\n",
      "  warnings.warn(\n"
     ]
    },
    {
     "name": "stdout",
     "output_type": "stream",
     "text": [
      "I paid for the shared cost of the group bowling night. Share the expense among my friends and send Venmo requests with the note, 'Bowling night.' The receipt is saved in my documents. 9\n"
     ]
    },
    {
     "name": "stderr",
     "output_type": "stream",
     "text": [
      "/Users/asankaranarayana/Documents/rg_data/lib/python3.12/site-packages/urllib3/connectionpool.py:1099: InsecureRequestWarning: Unverified HTTPS request is being made to host 'genai-cus-tdz.paypalcorp.com'. Adding certificate verification is strongly advised. See: https://urllib3.readthedocs.io/en/latest/advanced-usage.html#tls-warnings\n",
      "  warnings.warn(\n"
     ]
    },
    {
     "name": "stdout",
     "output_type": "stream",
     "text": [
      "I paid for the shared cost of the group bowling night. Share the expense among my friends and send Venmo requests with the note, 'Bowling night.' The receipt is saved in my documents. 10\n"
     ]
    },
    {
     "name": "stderr",
     "output_type": "stream",
     "text": [
      "/Users/asankaranarayana/Documents/rg_data/lib/python3.12/site-packages/urllib3/connectionpool.py:1099: InsecureRequestWarning: Unverified HTTPS request is being made to host 'genai-cus-tdz.paypalcorp.com'. Adding certificate verification is strongly advised. See: https://urllib3.readthedocs.io/en/latest/advanced-usage.html#tls-warnings\n",
      "  warnings.warn(\n"
     ]
    },
    {
     "name": "stdout",
     "output_type": "stream",
     "text": [
      "I paid for the shared cost of the group bowling night. Share the expense among my friends and send Venmo requests with the note, 'Bowling night.' The receipt is saved in my documents. 11\n"
     ]
    },
    {
     "name": "stderr",
     "output_type": "stream",
     "text": [
      "/Users/asankaranarayana/Documents/rg_data/lib/python3.12/site-packages/urllib3/connectionpool.py:1099: InsecureRequestWarning: Unverified HTTPS request is being made to host 'genai-cus-tdz.paypalcorp.com'. Adding certificate verification is strongly advised. See: https://urllib3.readthedocs.io/en/latest/advanced-usage.html#tls-warnings\n",
      "  warnings.warn(\n"
     ]
    },
    {
     "name": "stdout",
     "output_type": "stream",
     "text": [
      "I paid for the shared cost of the group bowling night. Share the expense among my friends and send Venmo requests with the note, 'Bowling night.' The receipt is saved in my documents. 12\n",
      "--------------------------------------------------\n",
      "I went on lunch with my coworkers yesterday at Gilded Goblet Gastropub. My manager paid for food and everyone venmoed them. Everyones' transactions except mine should be on my social feed. My share was $20. How much did my manager pay for the others, including me, yesterday?\n"
     ]
    },
    {
     "name": "stderr",
     "output_type": "stream",
     "text": [
      "/Users/asankaranarayana/Documents/rg_data/lib/python3.12/site-packages/urllib3/connectionpool.py:1099: InsecureRequestWarning: Unverified HTTPS request is being made to host 'genai-cus-tdz.paypalcorp.com'. Adding certificate verification is strongly advised. See: https://urllib3.readthedocs.io/en/latest/advanced-usage.html#tls-warnings\n",
      "  warnings.warn(\n"
     ]
    },
    {
     "name": "stdout",
     "output_type": "stream",
     "text": [
      "30 30\n",
      "I went out for dinner with my mates at The Copper Spoon last night. My friend covered the bill, and everyone sent them their share on Venmo. I don’t see my payment on the feed, but I sent $25. Can you figure out how much they paid for everyone, including me?\n"
     ]
    },
    {
     "name": "stderr",
     "output_type": "stream",
     "text": [
      "/Users/asankaranarayana/Documents/rg_data/lib/python3.12/site-packages/urllib3/connectionpool.py:1099: InsecureRequestWarning: Unverified HTTPS request is being made to host 'genai-cus-tdz.paypalcorp.com'. Adding certificate verification is strongly advised. See: https://urllib3.readthedocs.io/en/latest/advanced-usage.html#tls-warnings\n",
      "  warnings.warn(\n",
      "/Users/asankaranarayana/Documents/rg_data/lib/python3.12/site-packages/urllib3/connectionpool.py:1099: InsecureRequestWarning: Unverified HTTPS request is being made to host 'genai-cus-tdz.paypalcorp.com'. Adding certificate verification is strongly advised. See: https://urllib3.readthedocs.io/en/latest/advanced-usage.html#tls-warnings\n",
      "  warnings.warn(\n",
      "/Users/asankaranarayana/Documents/rg_data/lib/python3.12/site-packages/urllib3/connectionpool.py:1099: InsecureRequestWarning: Unverified HTTPS request is being made to host 'genai-cus-tdz.paypalcorp.com'. Adding certificate verification is strongly advised. See: https://urllib3.readthedocs.io/en/latest/advanced-usage.html#tls-warnings\n",
      "  warnings.warn(\n",
      "/Users/asankaranarayana/Documents/rg_data/lib/python3.12/site-packages/urllib3/connectionpool.py:1099: InsecureRequestWarning: Unverified HTTPS request is being made to host 'genai-cus-tdz.paypalcorp.com'. Adding certificate verification is strongly advised. See: https://urllib3.readthedocs.io/en/latest/advanced-usage.html#tls-warnings\n",
      "  warnings.warn(\n"
     ]
    },
    {
     "name": "stdout",
     "output_type": "stream",
     "text": [
      "We grabbed brunch at The Maple Leaf Café yesterday, and my cousin picked up the tab. Everyone Venmoed them their share, but my $18 payment isn’t showing on the feed. Could you tell me how much they paid for the group, including me?\n"
     ]
    },
    {
     "name": "stderr",
     "output_type": "stream",
     "text": [
      "/Users/asankaranarayana/Documents/rg_data/lib/python3.12/site-packages/urllib3/connectionpool.py:1099: InsecureRequestWarning: Unverified HTTPS request is being made to host 'genai-cus-tdz.paypalcorp.com'. Adding certificate verification is strongly advised. See: https://urllib3.readthedocs.io/en/latest/advanced-usage.html#tls-warnings\n",
      "  warnings.warn(\n",
      "/Users/asankaranarayana/Documents/rg_data/lib/python3.12/site-packages/urllib3/connectionpool.py:1099: InsecureRequestWarning: Unverified HTTPS request is being made to host 'genai-cus-tdz.paypalcorp.com'. Adding certificate verification is strongly advised. See: https://urllib3.readthedocs.io/en/latest/advanced-usage.html#tls-warnings\n",
      "  warnings.warn(\n",
      "/Users/asankaranarayana/Documents/rg_data/lib/python3.12/site-packages/urllib3/connectionpool.py:1099: InsecureRequestWarning: Unverified HTTPS request is being made to host 'genai-cus-tdz.paypalcorp.com'. Adding certificate verification is strongly advised. See: https://urllib3.readthedocs.io/en/latest/advanced-usage.html#tls-warnings\n",
      "  warnings.warn(\n",
      "/Users/asankaranarayana/Documents/rg_data/lib/python3.12/site-packages/urllib3/connectionpool.py:1099: InsecureRequestWarning: Unverified HTTPS request is being made to host 'genai-cus-tdz.paypalcorp.com'. Adding certificate verification is strongly advised. See: https://urllib3.readthedocs.io/en/latest/advanced-usage.html#tls-warnings\n",
      "  warnings.warn(\n"
     ]
    },
    {
     "name": "stdout",
     "output_type": "stream",
     "text": [
      "Last night, we had drinks at The Velvet Lounge, and my roommate paid for the whole group. Everyone sent them their share on Venmo, but my $30 payment isn’t visible on the feed. How much did they cover for everyone, including me?\n"
     ]
    },
    {
     "name": "stderr",
     "output_type": "stream",
     "text": [
      "/Users/asankaranarayana/Documents/rg_data/lib/python3.12/site-packages/urllib3/connectionpool.py:1099: InsecureRequestWarning: Unverified HTTPS request is being made to host 'genai-cus-tdz.paypalcorp.com'. Adding certificate verification is strongly advised. See: https://urllib3.readthedocs.io/en/latest/advanced-usage.html#tls-warnings\n",
      "  warnings.warn(\n",
      "/Users/asankaranarayana/Documents/rg_data/lib/python3.12/site-packages/urllib3/connectionpool.py:1099: InsecureRequestWarning: Unverified HTTPS request is being made to host 'genai-cus-tdz.paypalcorp.com'. Adding certificate verification is strongly advised. See: https://urllib3.readthedocs.io/en/latest/advanced-usage.html#tls-warnings\n",
      "  warnings.warn(\n",
      "/Users/asankaranarayana/Documents/rg_data/lib/python3.12/site-packages/urllib3/connectionpool.py:1099: InsecureRequestWarning: Unverified HTTPS request is being made to host 'genai-cus-tdz.paypalcorp.com'. Adding certificate verification is strongly advised. See: https://urllib3.readthedocs.io/en/latest/advanced-usage.html#tls-warnings\n",
      "  warnings.warn(\n",
      "/Users/asankaranarayana/Documents/rg_data/lib/python3.12/site-packages/urllib3/connectionpool.py:1099: InsecureRequestWarning: Unverified HTTPS request is being made to host 'genai-cus-tdz.paypalcorp.com'. Adding certificate verification is strongly advised. See: https://urllib3.readthedocs.io/en/latest/advanced-usage.html#tls-warnings\n",
      "  warnings.warn(\n"
     ]
    },
    {
     "name": "stdout",
     "output_type": "stream",
     "text": [
      "I went to a pizza joint with my coworkers yesterday, and my boss paid for the meal. Everyone Venmoed them their share, but my $22 payment isn’t showing up on the feed. Can you calculate how much they spent for the group, including me?\n"
     ]
    },
    {
     "name": "stderr",
     "output_type": "stream",
     "text": [
      "/Users/asankaranarayana/Documents/rg_data/lib/python3.12/site-packages/urllib3/connectionpool.py:1099: InsecureRequestWarning: Unverified HTTPS request is being made to host 'genai-cus-tdz.paypalcorp.com'. Adding certificate verification is strongly advised. See: https://urllib3.readthedocs.io/en/latest/advanced-usage.html#tls-warnings\n",
      "  warnings.warn(\n",
      "/Users/asankaranarayana/Documents/rg_data/lib/python3.12/site-packages/urllib3/connectionpool.py:1099: InsecureRequestWarning: Unverified HTTPS request is being made to host 'genai-cus-tdz.paypalcorp.com'. Adding certificate verification is strongly advised. See: https://urllib3.readthedocs.io/en/latest/advanced-usage.html#tls-warnings\n",
      "  warnings.warn(\n",
      "/Users/asankaranarayana/Documents/rg_data/lib/python3.12/site-packages/urllib3/connectionpool.py:1099: InsecureRequestWarning: Unverified HTTPS request is being made to host 'genai-cus-tdz.paypalcorp.com'. Adding certificate verification is strongly advised. See: https://urllib3.readthedocs.io/en/latest/advanced-usage.html#tls-warnings\n",
      "  warnings.warn(\n",
      "/Users/asankaranarayana/Documents/rg_data/lib/python3.12/site-packages/urllib3/connectionpool.py:1099: InsecureRequestWarning: Unverified HTTPS request is being made to host 'genai-cus-tdz.paypalcorp.com'. Adding certificate verification is strongly advised. See: https://urllib3.readthedocs.io/en/latest/advanced-usage.html#tls-warnings\n",
      "  warnings.warn(\n"
     ]
    },
    {
     "name": "stdout",
     "output_type": "stream",
     "text": [
      "We had lunch at The Golden Fork yesterday, and my friend picked up the tab. Everyone Venmoed them their share, but my $19 payment isn’t on the feed. How much did they pay for everyone, including me?\n"
     ]
    },
    {
     "name": "stderr",
     "output_type": "stream",
     "text": [
      "/Users/asankaranarayana/Documents/rg_data/lib/python3.12/site-packages/urllib3/connectionpool.py:1099: InsecureRequestWarning: Unverified HTTPS request is being made to host 'genai-cus-tdz.paypalcorp.com'. Adding certificate verification is strongly advised. See: https://urllib3.readthedocs.io/en/latest/advanced-usage.html#tls-warnings\n",
      "  warnings.warn(\n",
      "/Users/asankaranarayana/Documents/rg_data/lib/python3.12/site-packages/urllib3/connectionpool.py:1099: InsecureRequestWarning: Unverified HTTPS request is being made to host 'genai-cus-tdz.paypalcorp.com'. Adding certificate verification is strongly advised. See: https://urllib3.readthedocs.io/en/latest/advanced-usage.html#tls-warnings\n",
      "  warnings.warn(\n",
      "/Users/asankaranarayana/Documents/rg_data/lib/python3.12/site-packages/urllib3/connectionpool.py:1099: InsecureRequestWarning: Unverified HTTPS request is being made to host 'genai-cus-tdz.paypalcorp.com'. Adding certificate verification is strongly advised. See: https://urllib3.readthedocs.io/en/latest/advanced-usage.html#tls-warnings\n",
      "  warnings.warn(\n",
      "/Users/asankaranarayana/Documents/rg_data/lib/python3.12/site-packages/urllib3/connectionpool.py:1099: InsecureRequestWarning: Unverified HTTPS request is being made to host 'genai-cus-tdz.paypalcorp.com'. Adding certificate verification is strongly advised. See: https://urllib3.readthedocs.io/en/latest/advanced-usage.html#tls-warnings\n",
      "  warnings.warn(\n"
     ]
    },
    {
     "name": "stdout",
     "output_type": "stream",
     "text": [
      "I went out for coffee with my friends at The Roasted Bean yesterday, and my buddy paid for everyone. Everyone Venmoed them their share, but my $12 payment isn’t showing on the feed. Can you tell me how much they spent for the group, including me?\n"
     ]
    },
    {
     "name": "stderr",
     "output_type": "stream",
     "text": [
      "/Users/asankaranarayana/Documents/rg_data/lib/python3.12/site-packages/urllib3/connectionpool.py:1099: InsecureRequestWarning: Unverified HTTPS request is being made to host 'genai-cus-tdz.paypalcorp.com'. Adding certificate verification is strongly advised. See: https://urllib3.readthedocs.io/en/latest/advanced-usage.html#tls-warnings\n",
      "  warnings.warn(\n",
      "/Users/asankaranarayana/Documents/rg_data/lib/python3.12/site-packages/urllib3/connectionpool.py:1099: InsecureRequestWarning: Unverified HTTPS request is being made to host 'genai-cus-tdz.paypalcorp.com'. Adding certificate verification is strongly advised. See: https://urllib3.readthedocs.io/en/latest/advanced-usage.html#tls-warnings\n",
      "  warnings.warn(\n",
      "/Users/asankaranarayana/Documents/rg_data/lib/python3.12/site-packages/urllib3/connectionpool.py:1099: InsecureRequestWarning: Unverified HTTPS request is being made to host 'genai-cus-tdz.paypalcorp.com'. Adding certificate verification is strongly advised. See: https://urllib3.readthedocs.io/en/latest/advanced-usage.html#tls-warnings\n",
      "  warnings.warn(\n",
      "/Users/asankaranarayana/Documents/rg_data/lib/python3.12/site-packages/urllib3/connectionpool.py:1099: InsecureRequestWarning: Unverified HTTPS request is being made to host 'genai-cus-tdz.paypalcorp.com'. Adding certificate verification is strongly advised. See: https://urllib3.readthedocs.io/en/latest/advanced-usage.html#tls-warnings\n",
      "  warnings.warn(\n"
     ]
    },
    {
     "name": "stdout",
     "output_type": "stream",
     "text": [
      "We had dinner at The Silver Plate last night, and my sister paid for the table. Everyone Venmoed her their share, but my $28 payment isn’t visible on the feed. How much did she pay for everyone, including me?\n"
     ]
    },
    {
     "name": "stderr",
     "output_type": "stream",
     "text": [
      "/Users/asankaranarayana/Documents/rg_data/lib/python3.12/site-packages/urllib3/connectionpool.py:1099: InsecureRequestWarning: Unverified HTTPS request is being made to host 'genai-cus-tdz.paypalcorp.com'. Adding certificate verification is strongly advised. See: https://urllib3.readthedocs.io/en/latest/advanced-usage.html#tls-warnings\n",
      "  warnings.warn(\n",
      "/Users/asankaranarayana/Documents/rg_data/lib/python3.12/site-packages/urllib3/connectionpool.py:1099: InsecureRequestWarning: Unverified HTTPS request is being made to host 'genai-cus-tdz.paypalcorp.com'. Adding certificate verification is strongly advised. See: https://urllib3.readthedocs.io/en/latest/advanced-usage.html#tls-warnings\n",
      "  warnings.warn(\n",
      "/Users/asankaranarayana/Documents/rg_data/lib/python3.12/site-packages/urllib3/connectionpool.py:1099: InsecureRequestWarning: Unverified HTTPS request is being made to host 'genai-cus-tdz.paypalcorp.com'. Adding certificate verification is strongly advised. See: https://urllib3.readthedocs.io/en/latest/advanced-usage.html#tls-warnings\n",
      "  warnings.warn(\n",
      "/Users/asankaranarayana/Documents/rg_data/lib/python3.12/site-packages/urllib3/connectionpool.py:1099: InsecureRequestWarning: Unverified HTTPS request is being made to host 'genai-cus-tdz.paypalcorp.com'. Adding certificate verification is strongly advised. See: https://urllib3.readthedocs.io/en/latest/advanced-usage.html#tls-warnings\n",
      "  warnings.warn(\n"
     ]
    },
    {
     "name": "stdout",
     "output_type": "stream",
     "text": [
      "I went to a seafood place with my coworkers yesterday, and my manager covered the bill. Everyone Venmoed them their share, but my $35 payment isn’t showing on the feed. Can you figure out how much they paid for the group, including me?\n"
     ]
    },
    {
     "name": "stderr",
     "output_type": "stream",
     "text": [
      "/Users/asankaranarayana/Documents/rg_data/lib/python3.12/site-packages/urllib3/connectionpool.py:1099: InsecureRequestWarning: Unverified HTTPS request is being made to host 'genai-cus-tdz.paypalcorp.com'. Adding certificate verification is strongly advised. See: https://urllib3.readthedocs.io/en/latest/advanced-usage.html#tls-warnings\n",
      "  warnings.warn(\n",
      "/Users/asankaranarayana/Documents/rg_data/lib/python3.12/site-packages/urllib3/connectionpool.py:1099: InsecureRequestWarning: Unverified HTTPS request is being made to host 'genai-cus-tdz.paypalcorp.com'. Adding certificate verification is strongly advised. See: https://urllib3.readthedocs.io/en/latest/advanced-usage.html#tls-warnings\n",
      "  warnings.warn(\n",
      "/Users/asankaranarayana/Documents/rg_data/lib/python3.12/site-packages/urllib3/connectionpool.py:1099: InsecureRequestWarning: Unverified HTTPS request is being made to host 'genai-cus-tdz.paypalcorp.com'. Adding certificate verification is strongly advised. See: https://urllib3.readthedocs.io/en/latest/advanced-usage.html#tls-warnings\n",
      "  warnings.warn(\n",
      "/Users/asankaranarayana/Documents/rg_data/lib/python3.12/site-packages/urllib3/connectionpool.py:1099: InsecureRequestWarning: Unverified HTTPS request is being made to host 'genai-cus-tdz.paypalcorp.com'. Adding certificate verification is strongly advised. See: https://urllib3.readthedocs.io/en/latest/advanced-usage.html#tls-warnings\n",
      "  warnings.warn(\n"
     ]
    },
    {
     "name": "stdout",
     "output_type": "stream",
     "text": [
      "We grabbed lunch at The Emerald Bistro yesterday, and my friend paid for the meal. Everyone Venmoed them their share, but my $20 payment isn’t on the feed. How much did they spend for everyone, including me?\n"
     ]
    },
    {
     "name": "stderr",
     "output_type": "stream",
     "text": [
      "/Users/asankaranarayana/Documents/rg_data/lib/python3.12/site-packages/urllib3/connectionpool.py:1099: InsecureRequestWarning: Unverified HTTPS request is being made to host 'genai-cus-tdz.paypalcorp.com'. Adding certificate verification is strongly advised. See: https://urllib3.readthedocs.io/en/latest/advanced-usage.html#tls-warnings\n",
      "  warnings.warn(\n",
      "/Users/asankaranarayana/Documents/rg_data/lib/python3.12/site-packages/urllib3/connectionpool.py:1099: InsecureRequestWarning: Unverified HTTPS request is being made to host 'genai-cus-tdz.paypalcorp.com'. Adding certificate verification is strongly advised. See: https://urllib3.readthedocs.io/en/latest/advanced-usage.html#tls-warnings\n",
      "  warnings.warn(\n",
      "/Users/asankaranarayana/Documents/rg_data/lib/python3.12/site-packages/urllib3/connectionpool.py:1099: InsecureRequestWarning: Unverified HTTPS request is being made to host 'genai-cus-tdz.paypalcorp.com'. Adding certificate verification is strongly advised. See: https://urllib3.readthedocs.io/en/latest/advanced-usage.html#tls-warnings\n",
      "  warnings.warn(\n",
      "/Users/asankaranarayana/Documents/rg_data/lib/python3.12/site-packages/urllib3/connectionpool.py:1099: InsecureRequestWarning: Unverified HTTPS request is being made to host 'genai-cus-tdz.paypalcorp.com'. Adding certificate verification is strongly advised. See: https://urllib3.readthedocs.io/en/latest/advanced-usage.html#tls-warnings\n",
      "  warnings.warn(\n",
      "/Users/asankaranarayana/Documents/rg_data/lib/python3.12/site-packages/urllib3/connectionpool.py:1099: InsecureRequestWarning: Unverified HTTPS request is being made to host 'genai-cus-tdz.paypalcorp.com'. Adding certificate verification is strongly advised. See: https://urllib3.readthedocs.io/en/latest/advanced-usage.html#tls-warnings\n",
      "  warnings.warn(\n"
     ]
    },
    {
     "name": "stdout",
     "output_type": "stream",
     "text": [
      "I went out for breakfast with my family at The Sunrise Café yesterday, and my dad paid for everyone. Everyone Venmoed him their share, but my $15 payment isn’t showing on the feed. Can you calculate how much he spent for the group, including me?\n"
     ]
    },
    {
     "name": "stderr",
     "output_type": "stream",
     "text": [
      "/Users/asankaranarayana/Documents/rg_data/lib/python3.12/site-packages/urllib3/connectionpool.py:1099: InsecureRequestWarning: Unverified HTTPS request is being made to host 'genai-cus-tdz.paypalcorp.com'. Adding certificate verification is strongly advised. See: https://urllib3.readthedocs.io/en/latest/advanced-usage.html#tls-warnings\n",
      "  warnings.warn(\n",
      "/Users/asankaranarayana/Documents/rg_data/lib/python3.12/site-packages/urllib3/connectionpool.py:1099: InsecureRequestWarning: Unverified HTTPS request is being made to host 'genai-cus-tdz.paypalcorp.com'. Adding certificate verification is strongly advised. See: https://urllib3.readthedocs.io/en/latest/advanced-usage.html#tls-warnings\n",
      "  warnings.warn(\n",
      "/Users/asankaranarayana/Documents/rg_data/lib/python3.12/site-packages/urllib3/connectionpool.py:1099: InsecureRequestWarning: Unverified HTTPS request is being made to host 'genai-cus-tdz.paypalcorp.com'. Adding certificate verification is strongly advised. See: https://urllib3.readthedocs.io/en/latest/advanced-usage.html#tls-warnings\n",
      "  warnings.warn(\n",
      "/Users/asankaranarayana/Documents/rg_data/lib/python3.12/site-packages/urllib3/connectionpool.py:1099: InsecureRequestWarning: Unverified HTTPS request is being made to host 'genai-cus-tdz.paypalcorp.com'. Adding certificate verification is strongly advised. See: https://urllib3.readthedocs.io/en/latest/advanced-usage.html#tls-warnings\n",
      "  warnings.warn(\n"
     ]
    },
    {
     "name": "stdout",
     "output_type": "stream",
     "text": [
      "We had dinner at The Ruby Grill last night, and my roommate picked up the tab. Everyone Venmoed them their share, but my $27 payment isn’t visible on the feed. How much did they pay for everyone, including me?\n"
     ]
    },
    {
     "name": "stderr",
     "output_type": "stream",
     "text": [
      "/Users/asankaranarayana/Documents/rg_data/lib/python3.12/site-packages/urllib3/connectionpool.py:1099: InsecureRequestWarning: Unverified HTTPS request is being made to host 'genai-cus-tdz.paypalcorp.com'. Adding certificate verification is strongly advised. See: https://urllib3.readthedocs.io/en/latest/advanced-usage.html#tls-warnings\n",
      "  warnings.warn(\n",
      "/Users/asankaranarayana/Documents/rg_data/lib/python3.12/site-packages/urllib3/connectionpool.py:1099: InsecureRequestWarning: Unverified HTTPS request is being made to host 'genai-cus-tdz.paypalcorp.com'. Adding certificate verification is strongly advised. See: https://urllib3.readthedocs.io/en/latest/advanced-usage.html#tls-warnings\n",
      "  warnings.warn(\n",
      "/Users/asankaranarayana/Documents/rg_data/lib/python3.12/site-packages/urllib3/connectionpool.py:1099: InsecureRequestWarning: Unverified HTTPS request is being made to host 'genai-cus-tdz.paypalcorp.com'. Adding certificate verification is strongly advised. See: https://urllib3.readthedocs.io/en/latest/advanced-usage.html#tls-warnings\n",
      "  warnings.warn(\n",
      "/Users/asankaranarayana/Documents/rg_data/lib/python3.12/site-packages/urllib3/connectionpool.py:1099: InsecureRequestWarning: Unverified HTTPS request is being made to host 'genai-cus-tdz.paypalcorp.com'. Adding certificate verification is strongly advised. See: https://urllib3.readthedocs.io/en/latest/advanced-usage.html#tls-warnings\n",
      "  warnings.warn(\n"
     ]
    },
    {
     "name": "stdout",
     "output_type": "stream",
     "text": [
      "I went to a burger joint with my coworkers yesterday, and my boss paid for the food. Everyone Venmoed them their share, but my $23 payment isn’t showing up on the feed. Can you tell me how much they spent for the group, including me?\n"
     ]
    },
    {
     "name": "stderr",
     "output_type": "stream",
     "text": [
      "/Users/asankaranarayana/Documents/rg_data/lib/python3.12/site-packages/urllib3/connectionpool.py:1099: InsecureRequestWarning: Unverified HTTPS request is being made to host 'genai-cus-tdz.paypalcorp.com'. Adding certificate verification is strongly advised. See: https://urllib3.readthedocs.io/en/latest/advanced-usage.html#tls-warnings\n",
      "  warnings.warn(\n",
      "/Users/asankaranarayana/Documents/rg_data/lib/python3.12/site-packages/urllib3/connectionpool.py:1099: InsecureRequestWarning: Unverified HTTPS request is being made to host 'genai-cus-tdz.paypalcorp.com'. Adding certificate verification is strongly advised. See: https://urllib3.readthedocs.io/en/latest/advanced-usage.html#tls-warnings\n",
      "  warnings.warn(\n",
      "/Users/asankaranarayana/Documents/rg_data/lib/python3.12/site-packages/urllib3/connectionpool.py:1099: InsecureRequestWarning: Unverified HTTPS request is being made to host 'genai-cus-tdz.paypalcorp.com'. Adding certificate verification is strongly advised. See: https://urllib3.readthedocs.io/en/latest/advanced-usage.html#tls-warnings\n",
      "  warnings.warn(\n",
      "/Users/asankaranarayana/Documents/rg_data/lib/python3.12/site-packages/urllib3/connectionpool.py:1099: InsecureRequestWarning: Unverified HTTPS request is being made to host 'genai-cus-tdz.paypalcorp.com'. Adding certificate verification is strongly advised. See: https://urllib3.readthedocs.io/en/latest/advanced-usage.html#tls-warnings\n",
      "  warnings.warn(\n"
     ]
    },
    {
     "name": "stdout",
     "output_type": "stream",
     "text": [
      "We had lunch at The Sapphire Café yesterday, and my friend covered the bill. Everyone Venmoed them their share, but my $18 payment isn’t on the feed. How much did they pay for everyone, including me?\n"
     ]
    },
    {
     "name": "stderr",
     "output_type": "stream",
     "text": [
      "/Users/asankaranarayana/Documents/rg_data/lib/python3.12/site-packages/urllib3/connectionpool.py:1099: InsecureRequestWarning: Unverified HTTPS request is being made to host 'genai-cus-tdz.paypalcorp.com'. Adding certificate verification is strongly advised. See: https://urllib3.readthedocs.io/en/latest/advanced-usage.html#tls-warnings\n",
      "  warnings.warn(\n",
      "/Users/asankaranarayana/Documents/rg_data/lib/python3.12/site-packages/urllib3/connectionpool.py:1099: InsecureRequestWarning: Unverified HTTPS request is being made to host 'genai-cus-tdz.paypalcorp.com'. Adding certificate verification is strongly advised. See: https://urllib3.readthedocs.io/en/latest/advanced-usage.html#tls-warnings\n",
      "  warnings.warn(\n",
      "/Users/asankaranarayana/Documents/rg_data/lib/python3.12/site-packages/urllib3/connectionpool.py:1099: InsecureRequestWarning: Unverified HTTPS request is being made to host 'genai-cus-tdz.paypalcorp.com'. Adding certificate verification is strongly advised. See: https://urllib3.readthedocs.io/en/latest/advanced-usage.html#tls-warnings\n",
      "  warnings.warn(\n",
      "/Users/asankaranarayana/Documents/rg_data/lib/python3.12/site-packages/urllib3/connectionpool.py:1099: InsecureRequestWarning: Unverified HTTPS request is being made to host 'genai-cus-tdz.paypalcorp.com'. Adding certificate verification is strongly advised. See: https://urllib3.readthedocs.io/en/latest/advanced-usage.html#tls-warnings\n",
      "  warnings.warn(\n"
     ]
    },
    {
     "name": "stdout",
     "output_type": "stream",
     "text": [
      "I went out for coffee with my friends at The Brewed Awakening yesterday, and my buddy paid for everyone. Everyone Venmoed them their share, but my $14 payment isn’t showing on the feed. Can you figure out how much they spent for the group, including me?\n"
     ]
    },
    {
     "name": "stderr",
     "output_type": "stream",
     "text": [
      "/Users/asankaranarayana/Documents/rg_data/lib/python3.12/site-packages/urllib3/connectionpool.py:1099: InsecureRequestWarning: Unverified HTTPS request is being made to host 'genai-cus-tdz.paypalcorp.com'. Adding certificate verification is strongly advised. See: https://urllib3.readthedocs.io/en/latest/advanced-usage.html#tls-warnings\n",
      "  warnings.warn(\n",
      "/Users/asankaranarayana/Documents/rg_data/lib/python3.12/site-packages/urllib3/connectionpool.py:1099: InsecureRequestWarning: Unverified HTTPS request is being made to host 'genai-cus-tdz.paypalcorp.com'. Adding certificate verification is strongly advised. See: https://urllib3.readthedocs.io/en/latest/advanced-usage.html#tls-warnings\n",
      "  warnings.warn(\n",
      "/Users/asankaranarayana/Documents/rg_data/lib/python3.12/site-packages/urllib3/connectionpool.py:1099: InsecureRequestWarning: Unverified HTTPS request is being made to host 'genai-cus-tdz.paypalcorp.com'. Adding certificate verification is strongly advised. See: https://urllib3.readthedocs.io/en/latest/advanced-usage.html#tls-warnings\n",
      "  warnings.warn(\n",
      "/Users/asankaranarayana/Documents/rg_data/lib/python3.12/site-packages/urllib3/connectionpool.py:1099: InsecureRequestWarning: Unverified HTTPS request is being made to host 'genai-cus-tdz.paypalcorp.com'. Adding certificate verification is strongly advised. See: https://urllib3.readthedocs.io/en/latest/advanced-usage.html#tls-warnings\n",
      "  warnings.warn(\n"
     ]
    },
    {
     "name": "stdout",
     "output_type": "stream",
     "text": [
      "We had dinner at The Diamond Plate last night, and my sister paid for the table. Everyone Venmoed her their share, but my $30 payment isn’t visible on the feed. How much did she pay for everyone, including me?\n"
     ]
    },
    {
     "name": "stderr",
     "output_type": "stream",
     "text": [
      "/Users/asankaranarayana/Documents/rg_data/lib/python3.12/site-packages/urllib3/connectionpool.py:1099: InsecureRequestWarning: Unverified HTTPS request is being made to host 'genai-cus-tdz.paypalcorp.com'. Adding certificate verification is strongly advised. See: https://urllib3.readthedocs.io/en/latest/advanced-usage.html#tls-warnings\n",
      "  warnings.warn(\n",
      "/Users/asankaranarayana/Documents/rg_data/lib/python3.12/site-packages/urllib3/connectionpool.py:1099: InsecureRequestWarning: Unverified HTTPS request is being made to host 'genai-cus-tdz.paypalcorp.com'. Adding certificate verification is strongly advised. See: https://urllib3.readthedocs.io/en/latest/advanced-usage.html#tls-warnings\n",
      "  warnings.warn(\n",
      "/Users/asankaranarayana/Documents/rg_data/lib/python3.12/site-packages/urllib3/connectionpool.py:1099: InsecureRequestWarning: Unverified HTTPS request is being made to host 'genai-cus-tdz.paypalcorp.com'. Adding certificate verification is strongly advised. See: https://urllib3.readthedocs.io/en/latest/advanced-usage.html#tls-warnings\n",
      "  warnings.warn(\n",
      "/Users/asankaranarayana/Documents/rg_data/lib/python3.12/site-packages/urllib3/connectionpool.py:1099: InsecureRequestWarning: Unverified HTTPS request is being made to host 'genai-cus-tdz.paypalcorp.com'. Adding certificate verification is strongly advised. See: https://urllib3.readthedocs.io/en/latest/advanced-usage.html#tls-warnings\n",
      "  warnings.warn(\n"
     ]
    },
    {
     "name": "stdout",
     "output_type": "stream",
     "text": [
      "I went to a steakhouse with my coworkers yesterday, and my manager covered the bill. Everyone Venmoed them their share, but my $40 payment isn’t showing on the feed. Can you calculate how much they paid for the group, including me?\n"
     ]
    },
    {
     "name": "stderr",
     "output_type": "stream",
     "text": [
      "/Users/asankaranarayana/Documents/rg_data/lib/python3.12/site-packages/urllib3/connectionpool.py:1099: InsecureRequestWarning: Unverified HTTPS request is being made to host 'genai-cus-tdz.paypalcorp.com'. Adding certificate verification is strongly advised. See: https://urllib3.readthedocs.io/en/latest/advanced-usage.html#tls-warnings\n",
      "  warnings.warn(\n",
      "/Users/asankaranarayana/Documents/rg_data/lib/python3.12/site-packages/urllib3/connectionpool.py:1099: InsecureRequestWarning: Unverified HTTPS request is being made to host 'genai-cus-tdz.paypalcorp.com'. Adding certificate verification is strongly advised. See: https://urllib3.readthedocs.io/en/latest/advanced-usage.html#tls-warnings\n",
      "  warnings.warn(\n",
      "/Users/asankaranarayana/Documents/rg_data/lib/python3.12/site-packages/urllib3/connectionpool.py:1099: InsecureRequestWarning: Unverified HTTPS request is being made to host 'genai-cus-tdz.paypalcorp.com'. Adding certificate verification is strongly advised. See: https://urllib3.readthedocs.io/en/latest/advanced-usage.html#tls-warnings\n",
      "  warnings.warn(\n",
      "/Users/asankaranarayana/Documents/rg_data/lib/python3.12/site-packages/urllib3/connectionpool.py:1099: InsecureRequestWarning: Unverified HTTPS request is being made to host 'genai-cus-tdz.paypalcorp.com'. Adding certificate verification is strongly advised. See: https://urllib3.readthedocs.io/en/latest/advanced-usage.html#tls-warnings\n",
      "  warnings.warn(\n"
     ]
    },
    {
     "name": "stdout",
     "output_type": "stream",
     "text": [
      "We grabbed lunch at The Pearl Bistro yesterday, and my friend paid for the meal. Everyone Venmoed them their share, but my $22 payment isn’t on the feed. How much did they spend for everyone, including me?\n"
     ]
    },
    {
     "name": "stderr",
     "output_type": "stream",
     "text": [
      "/Users/asankaranarayana/Documents/rg_data/lib/python3.12/site-packages/urllib3/connectionpool.py:1099: InsecureRequestWarning: Unverified HTTPS request is being made to host 'genai-cus-tdz.paypalcorp.com'. Adding certificate verification is strongly advised. See: https://urllib3.readthedocs.io/en/latest/advanced-usage.html#tls-warnings\n",
      "  warnings.warn(\n",
      "/Users/asankaranarayana/Documents/rg_data/lib/python3.12/site-packages/urllib3/connectionpool.py:1099: InsecureRequestWarning: Unverified HTTPS request is being made to host 'genai-cus-tdz.paypalcorp.com'. Adding certificate verification is strongly advised. See: https://urllib3.readthedocs.io/en/latest/advanced-usage.html#tls-warnings\n",
      "  warnings.warn(\n",
      "/Users/asankaranarayana/Documents/rg_data/lib/python3.12/site-packages/urllib3/connectionpool.py:1099: InsecureRequestWarning: Unverified HTTPS request is being made to host 'genai-cus-tdz.paypalcorp.com'. Adding certificate verification is strongly advised. See: https://urllib3.readthedocs.io/en/latest/advanced-usage.html#tls-warnings\n",
      "  warnings.warn(\n",
      "/Users/asankaranarayana/Documents/rg_data/lib/python3.12/site-packages/urllib3/connectionpool.py:1099: InsecureRequestWarning: Unverified HTTPS request is being made to host 'genai-cus-tdz.paypalcorp.com'. Adding certificate verification is strongly advised. See: https://urllib3.readthedocs.io/en/latest/advanced-usage.html#tls-warnings\n",
      "  warnings.warn(\n"
     ]
    },
    {
     "name": "stdout",
     "output_type": "stream",
     "text": [
      "I went out for breakfast with my family at The Morning Glory Café yesterday, and my mom paid for everyone. Everyone Venmoed her their share, but my $17 payment isn’t showing on the feed. Can you tell me how much she spent for the group, including me?\n"
     ]
    },
    {
     "name": "stderr",
     "output_type": "stream",
     "text": [
      "/Users/asankaranarayana/Documents/rg_data/lib/python3.12/site-packages/urllib3/connectionpool.py:1099: InsecureRequestWarning: Unverified HTTPS request is being made to host 'genai-cus-tdz.paypalcorp.com'. Adding certificate verification is strongly advised. See: https://urllib3.readthedocs.io/en/latest/advanced-usage.html#tls-warnings\n",
      "  warnings.warn(\n",
      "/Users/asankaranarayana/Documents/rg_data/lib/python3.12/site-packages/urllib3/connectionpool.py:1099: InsecureRequestWarning: Unverified HTTPS request is being made to host 'genai-cus-tdz.paypalcorp.com'. Adding certificate verification is strongly advised. See: https://urllib3.readthedocs.io/en/latest/advanced-usage.html#tls-warnings\n",
      "  warnings.warn(\n",
      "/Users/asankaranarayana/Documents/rg_data/lib/python3.12/site-packages/urllib3/connectionpool.py:1099: InsecureRequestWarning: Unverified HTTPS request is being made to host 'genai-cus-tdz.paypalcorp.com'. Adding certificate verification is strongly advised. See: https://urllib3.readthedocs.io/en/latest/advanced-usage.html#tls-warnings\n",
      "  warnings.warn(\n",
      "/Users/asankaranarayana/Documents/rg_data/lib/python3.12/site-packages/urllib3/connectionpool.py:1099: InsecureRequestWarning: Unverified HTTPS request is being made to host 'genai-cus-tdz.paypalcorp.com'. Adding certificate verification is strongly advised. See: https://urllib3.readthedocs.io/en/latest/advanced-usage.html#tls-warnings\n",
      "  warnings.warn(\n"
     ]
    },
    {
     "name": "stdout",
     "output_type": "stream",
     "text": [
      "We had dinner at The Opal Grill last night, and my roommate picked up the tab. Everyone Venmoed them their share, but my $29 payment isn’t visible on the feed. How much did they pay for everyone, including me?\n"
     ]
    },
    {
     "name": "stderr",
     "output_type": "stream",
     "text": [
      "/Users/asankaranarayana/Documents/rg_data/lib/python3.12/site-packages/urllib3/connectionpool.py:1099: InsecureRequestWarning: Unverified HTTPS request is being made to host 'genai-cus-tdz.paypalcorp.com'. Adding certificate verification is strongly advised. See: https://urllib3.readthedocs.io/en/latest/advanced-usage.html#tls-warnings\n",
      "  warnings.warn(\n",
      "/Users/asankaranarayana/Documents/rg_data/lib/python3.12/site-packages/urllib3/connectionpool.py:1099: InsecureRequestWarning: Unverified HTTPS request is being made to host 'genai-cus-tdz.paypalcorp.com'. Adding certificate verification is strongly advised. See: https://urllib3.readthedocs.io/en/latest/advanced-usage.html#tls-warnings\n",
      "  warnings.warn(\n",
      "/Users/asankaranarayana/Documents/rg_data/lib/python3.12/site-packages/urllib3/connectionpool.py:1099: InsecureRequestWarning: Unverified HTTPS request is being made to host 'genai-cus-tdz.paypalcorp.com'. Adding certificate verification is strongly advised. See: https://urllib3.readthedocs.io/en/latest/advanced-usage.html#tls-warnings\n",
      "  warnings.warn(\n",
      "/Users/asankaranarayana/Documents/rg_data/lib/python3.12/site-packages/urllib3/connectionpool.py:1099: InsecureRequestWarning: Unverified HTTPS request is being made to host 'genai-cus-tdz.paypalcorp.com'. Adding certificate verification is strongly advised. See: https://urllib3.readthedocs.io/en/latest/advanced-usage.html#tls-warnings\n",
      "  warnings.warn(\n"
     ]
    },
    {
     "name": "stdout",
     "output_type": "stream",
     "text": [
      "I went to a taco place with my coworkers yesterday, and my boss paid for the food. Everyone Venmoed them their share, but my $24 payment isn’t showing up on the feed. Can you figure out how much they spent for the group, including me?\n"
     ]
    },
    {
     "name": "stderr",
     "output_type": "stream",
     "text": [
      "/Users/asankaranarayana/Documents/rg_data/lib/python3.12/site-packages/urllib3/connectionpool.py:1099: InsecureRequestWarning: Unverified HTTPS request is being made to host 'genai-cus-tdz.paypalcorp.com'. Adding certificate verification is strongly advised. See: https://urllib3.readthedocs.io/en/latest/advanced-usage.html#tls-warnings\n",
      "  warnings.warn(\n",
      "/Users/asankaranarayana/Documents/rg_data/lib/python3.12/site-packages/urllib3/connectionpool.py:1099: InsecureRequestWarning: Unverified HTTPS request is being made to host 'genai-cus-tdz.paypalcorp.com'. Adding certificate verification is strongly advised. See: https://urllib3.readthedocs.io/en/latest/advanced-usage.html#tls-warnings\n",
      "  warnings.warn(\n",
      "/Users/asankaranarayana/Documents/rg_data/lib/python3.12/site-packages/urllib3/connectionpool.py:1099: InsecureRequestWarning: Unverified HTTPS request is being made to host 'genai-cus-tdz.paypalcorp.com'. Adding certificate verification is strongly advised. See: https://urllib3.readthedocs.io/en/latest/advanced-usage.html#tls-warnings\n",
      "  warnings.warn(\n",
      "/Users/asankaranarayana/Documents/rg_data/lib/python3.12/site-packages/urllib3/connectionpool.py:1099: InsecureRequestWarning: Unverified HTTPS request is being made to host 'genai-cus-tdz.paypalcorp.com'. Adding certificate verification is strongly advised. See: https://urllib3.readthedocs.io/en/latest/advanced-usage.html#tls-warnings\n",
      "  warnings.warn(\n"
     ]
    },
    {
     "name": "stdout",
     "output_type": "stream",
     "text": [
      "We had lunch at The Amethyst Café yesterday, and my friend covered the bill. Everyone Venmoed them their share, but my $20 payment isn’t on the feed. How much did they pay for everyone, including me?\n"
     ]
    },
    {
     "name": "stderr",
     "output_type": "stream",
     "text": [
      "/Users/asankaranarayana/Documents/rg_data/lib/python3.12/site-packages/urllib3/connectionpool.py:1099: InsecureRequestWarning: Unverified HTTPS request is being made to host 'genai-cus-tdz.paypalcorp.com'. Adding certificate verification is strongly advised. See: https://urllib3.readthedocs.io/en/latest/advanced-usage.html#tls-warnings\n",
      "  warnings.warn(\n",
      "/Users/asankaranarayana/Documents/rg_data/lib/python3.12/site-packages/urllib3/connectionpool.py:1099: InsecureRequestWarning: Unverified HTTPS request is being made to host 'genai-cus-tdz.paypalcorp.com'. Adding certificate verification is strongly advised. See: https://urllib3.readthedocs.io/en/latest/advanced-usage.html#tls-warnings\n",
      "  warnings.warn(\n",
      "/Users/asankaranarayana/Documents/rg_data/lib/python3.12/site-packages/urllib3/connectionpool.py:1099: InsecureRequestWarning: Unverified HTTPS request is being made to host 'genai-cus-tdz.paypalcorp.com'. Adding certificate verification is strongly advised. See: https://urllib3.readthedocs.io/en/latest/advanced-usage.html#tls-warnings\n",
      "  warnings.warn(\n",
      "/Users/asankaranarayana/Documents/rg_data/lib/python3.12/site-packages/urllib3/connectionpool.py:1099: InsecureRequestWarning: Unverified HTTPS request is being made to host 'genai-cus-tdz.paypalcorp.com'. Adding certificate verification is strongly advised. See: https://urllib3.readthedocs.io/en/latest/advanced-usage.html#tls-warnings\n",
      "  warnings.warn(\n"
     ]
    },
    {
     "name": "stdout",
     "output_type": "stream",
     "text": [
      "I went out for coffee with my friends at The Java Spot yesterday, and my buddy paid for everyone. Everyone Venmoed them their share, but my $13 payment isn’t showing on the feed. Can you calculate how much they spent for the group, including me?\n"
     ]
    },
    {
     "name": "stderr",
     "output_type": "stream",
     "text": [
      "/Users/asankaranarayana/Documents/rg_data/lib/python3.12/site-packages/urllib3/connectionpool.py:1099: InsecureRequestWarning: Unverified HTTPS request is being made to host 'genai-cus-tdz.paypalcorp.com'. Adding certificate verification is strongly advised. See: https://urllib3.readthedocs.io/en/latest/advanced-usage.html#tls-warnings\n",
      "  warnings.warn(\n",
      "/Users/asankaranarayana/Documents/rg_data/lib/python3.12/site-packages/urllib3/connectionpool.py:1099: InsecureRequestWarning: Unverified HTTPS request is being made to host 'genai-cus-tdz.paypalcorp.com'. Adding certificate verification is strongly advised. See: https://urllib3.readthedocs.io/en/latest/advanced-usage.html#tls-warnings\n",
      "  warnings.warn(\n",
      "/Users/asankaranarayana/Documents/rg_data/lib/python3.12/site-packages/urllib3/connectionpool.py:1099: InsecureRequestWarning: Unverified HTTPS request is being made to host 'genai-cus-tdz.paypalcorp.com'. Adding certificate verification is strongly advised. See: https://urllib3.readthedocs.io/en/latest/advanced-usage.html#tls-warnings\n",
      "  warnings.warn(\n",
      "/Users/asankaranarayana/Documents/rg_data/lib/python3.12/site-packages/urllib3/connectionpool.py:1099: InsecureRequestWarning: Unverified HTTPS request is being made to host 'genai-cus-tdz.paypalcorp.com'. Adding certificate verification is strongly advised. See: https://urllib3.readthedocs.io/en/latest/advanced-usage.html#tls-warnings\n",
      "  warnings.warn(\n"
     ]
    },
    {
     "name": "stdout",
     "output_type": "stream",
     "text": [
      "We had dinner at The Crystal Plate last night, and my sister paid for the table. Everyone Venmoed her their share, but my $32 payment isn’t visible on the feed. How much did she pay for everyone, including me?\n"
     ]
    },
    {
     "name": "stderr",
     "output_type": "stream",
     "text": [
      "/Users/asankaranarayana/Documents/rg_data/lib/python3.12/site-packages/urllib3/connectionpool.py:1099: InsecureRequestWarning: Unverified HTTPS request is being made to host 'genai-cus-tdz.paypalcorp.com'. Adding certificate verification is strongly advised. See: https://urllib3.readthedocs.io/en/latest/advanced-usage.html#tls-warnings\n",
      "  warnings.warn(\n",
      "/Users/asankaranarayana/Documents/rg_data/lib/python3.12/site-packages/urllib3/connectionpool.py:1099: InsecureRequestWarning: Unverified HTTPS request is being made to host 'genai-cus-tdz.paypalcorp.com'. Adding certificate verification is strongly advised. See: https://urllib3.readthedocs.io/en/latest/advanced-usage.html#tls-warnings\n",
      "  warnings.warn(\n",
      "/Users/asankaranarayana/Documents/rg_data/lib/python3.12/site-packages/urllib3/connectionpool.py:1099: InsecureRequestWarning: Unverified HTTPS request is being made to host 'genai-cus-tdz.paypalcorp.com'. Adding certificate verification is strongly advised. See: https://urllib3.readthedocs.io/en/latest/advanced-usage.html#tls-warnings\n",
      "  warnings.warn(\n",
      "/Users/asankaranarayana/Documents/rg_data/lib/python3.12/site-packages/urllib3/connectionpool.py:1099: InsecureRequestWarning: Unverified HTTPS request is being made to host 'genai-cus-tdz.paypalcorp.com'. Adding certificate verification is strongly advised. See: https://urllib3.readthedocs.io/en/latest/advanced-usage.html#tls-warnings\n",
      "  warnings.warn(\n"
     ]
    },
    {
     "name": "stdout",
     "output_type": "stream",
     "text": [
      "I went to a sushi place with my coworkers yesterday, and my manager covered the bill. Everyone Venmoed them their share, but my $38 payment isn’t showing on the feed. Can you tell me how much they paid for the group, including me?\n"
     ]
    },
    {
     "name": "stderr",
     "output_type": "stream",
     "text": [
      "/Users/asankaranarayana/Documents/rg_data/lib/python3.12/site-packages/urllib3/connectionpool.py:1099: InsecureRequestWarning: Unverified HTTPS request is being made to host 'genai-cus-tdz.paypalcorp.com'. Adding certificate verification is strongly advised. See: https://urllib3.readthedocs.io/en/latest/advanced-usage.html#tls-warnings\n",
      "  warnings.warn(\n",
      "/Users/asankaranarayana/Documents/rg_data/lib/python3.12/site-packages/urllib3/connectionpool.py:1099: InsecureRequestWarning: Unverified HTTPS request is being made to host 'genai-cus-tdz.paypalcorp.com'. Adding certificate verification is strongly advised. See: https://urllib3.readthedocs.io/en/latest/advanced-usage.html#tls-warnings\n",
      "  warnings.warn(\n",
      "/Users/asankaranarayana/Documents/rg_data/lib/python3.12/site-packages/urllib3/connectionpool.py:1099: InsecureRequestWarning: Unverified HTTPS request is being made to host 'genai-cus-tdz.paypalcorp.com'. Adding certificate verification is strongly advised. See: https://urllib3.readthedocs.io/en/latest/advanced-usage.html#tls-warnings\n",
      "  warnings.warn(\n",
      "/Users/asankaranarayana/Documents/rg_data/lib/python3.12/site-packages/urllib3/connectionpool.py:1099: InsecureRequestWarning: Unverified HTTPS request is being made to host 'genai-cus-tdz.paypalcorp.com'. Adding certificate verification is strongly advised. See: https://urllib3.readthedocs.io/en/latest/advanced-usage.html#tls-warnings\n",
      "  warnings.warn(\n"
     ]
    },
    {
     "name": "stdout",
     "output_type": "stream",
     "text": [
      "We grabbed lunch at The Topaz Bistro yesterday, and my friend paid for the meal. Everyone Venmoed them their share, but my $21 payment isn’t on the feed. How much did they spend for everyone, including me?\n"
     ]
    },
    {
     "name": "stderr",
     "output_type": "stream",
     "text": [
      "/Users/asankaranarayana/Documents/rg_data/lib/python3.12/site-packages/urllib3/connectionpool.py:1099: InsecureRequestWarning: Unverified HTTPS request is being made to host 'genai-cus-tdz.paypalcorp.com'. Adding certificate verification is strongly advised. See: https://urllib3.readthedocs.io/en/latest/advanced-usage.html#tls-warnings\n",
      "  warnings.warn(\n",
      "/Users/asankaranarayana/Documents/rg_data/lib/python3.12/site-packages/urllib3/connectionpool.py:1099: InsecureRequestWarning: Unverified HTTPS request is being made to host 'genai-cus-tdz.paypalcorp.com'. Adding certificate verification is strongly advised. See: https://urllib3.readthedocs.io/en/latest/advanced-usage.html#tls-warnings\n",
      "  warnings.warn(\n",
      "/Users/asankaranarayana/Documents/rg_data/lib/python3.12/site-packages/urllib3/connectionpool.py:1099: InsecureRequestWarning: Unverified HTTPS request is being made to host 'genai-cus-tdz.paypalcorp.com'. Adding certificate verification is strongly advised. See: https://urllib3.readthedocs.io/en/latest/advanced-usage.html#tls-warnings\n",
      "  warnings.warn(\n",
      "/Users/asankaranarayana/Documents/rg_data/lib/python3.12/site-packages/urllib3/connectionpool.py:1099: InsecureRequestWarning: Unverified HTTPS request is being made to host 'genai-cus-tdz.paypalcorp.com'. Adding certificate verification is strongly advised. See: https://urllib3.readthedocs.io/en/latest/advanced-usage.html#tls-warnings\n",
      "  warnings.warn(\n"
     ]
    },
    {
     "name": "stdout",
     "output_type": "stream",
     "text": [
      "I went out for breakfast with my family at The Early Bird Café yesterday, and my dad paid for everyone. Everyone Venmoed him their share, but my $16 payment isn’t showing on the feed. Can you figure out how much he spent for the group, including me?\n"
     ]
    },
    {
     "name": "stderr",
     "output_type": "stream",
     "text": [
      "/Users/asankaranarayana/Documents/rg_data/lib/python3.12/site-packages/urllib3/connectionpool.py:1099: InsecureRequestWarning: Unverified HTTPS request is being made to host 'genai-cus-tdz.paypalcorp.com'. Adding certificate verification is strongly advised. See: https://urllib3.readthedocs.io/en/latest/advanced-usage.html#tls-warnings\n",
      "  warnings.warn(\n",
      "/Users/asankaranarayana/Documents/rg_data/lib/python3.12/site-packages/urllib3/connectionpool.py:1099: InsecureRequestWarning: Unverified HTTPS request is being made to host 'genai-cus-tdz.paypalcorp.com'. Adding certificate verification is strongly advised. See: https://urllib3.readthedocs.io/en/latest/advanced-usage.html#tls-warnings\n",
      "  warnings.warn(\n",
      "/Users/asankaranarayana/Documents/rg_data/lib/python3.12/site-packages/urllib3/connectionpool.py:1099: InsecureRequestWarning: Unverified HTTPS request is being made to host 'genai-cus-tdz.paypalcorp.com'. Adding certificate verification is strongly advised. See: https://urllib3.readthedocs.io/en/latest/advanced-usage.html#tls-warnings\n",
      "  warnings.warn(\n",
      "/Users/asankaranarayana/Documents/rg_data/lib/python3.12/site-packages/urllib3/connectionpool.py:1099: InsecureRequestWarning: Unverified HTTPS request is being made to host 'genai-cus-tdz.paypalcorp.com'. Adding certificate verification is strongly advised. See: https://urllib3.readthedocs.io/en/latest/advanced-usage.html#tls-warnings\n",
      "  warnings.warn(\n"
     ]
    },
    {
     "name": "stdout",
     "output_type": "stream",
     "text": [
      "We had dinner at The Garnet Grill last night, and my roommate picked up the tab. Everyone Venmoed them their share, but my $28 payment isn’t visible on the feed. How much did they pay for everyone, including me?\n"
     ]
    },
    {
     "name": "stderr",
     "output_type": "stream",
     "text": [
      "/Users/asankaranarayana/Documents/rg_data/lib/python3.12/site-packages/urllib3/connectionpool.py:1099: InsecureRequestWarning: Unverified HTTPS request is being made to host 'genai-cus-tdz.paypalcorp.com'. Adding certificate verification is strongly advised. See: https://urllib3.readthedocs.io/en/latest/advanced-usage.html#tls-warnings\n",
      "  warnings.warn(\n",
      "/Users/asankaranarayana/Documents/rg_data/lib/python3.12/site-packages/urllib3/connectionpool.py:1099: InsecureRequestWarning: Unverified HTTPS request is being made to host 'genai-cus-tdz.paypalcorp.com'. Adding certificate verification is strongly advised. See: https://urllib3.readthedocs.io/en/latest/advanced-usage.html#tls-warnings\n",
      "  warnings.warn(\n",
      "/Users/asankaranarayana/Documents/rg_data/lib/python3.12/site-packages/urllib3/connectionpool.py:1099: InsecureRequestWarning: Unverified HTTPS request is being made to host 'genai-cus-tdz.paypalcorp.com'. Adding certificate verification is strongly advised. See: https://urllib3.readthedocs.io/en/latest/advanced-usage.html#tls-warnings\n",
      "  warnings.warn(\n",
      "/Users/asankaranarayana/Documents/rg_data/lib/python3.12/site-packages/urllib3/connectionpool.py:1099: InsecureRequestWarning: Unverified HTTPS request is being made to host 'genai-cus-tdz.paypalcorp.com'. Adding certificate verification is strongly advised. See: https://urllib3.readthedocs.io/en/latest/advanced-usage.html#tls-warnings\n",
      "  warnings.warn(\n"
     ]
    },
    {
     "name": "stdout",
     "output_type": "stream",
     "text": [
      "I went to a noodle place with my coworkers yesterday, and my boss paid for the food. Everyone Venmoed them their share, but my $26 payment isn’t showing up on the feed. Can you calculate how much they spent for the group, including me?\n"
     ]
    },
    {
     "name": "stderr",
     "output_type": "stream",
     "text": [
      "/Users/asankaranarayana/Documents/rg_data/lib/python3.12/site-packages/urllib3/connectionpool.py:1099: InsecureRequestWarning: Unverified HTTPS request is being made to host 'genai-cus-tdz.paypalcorp.com'. Adding certificate verification is strongly advised. See: https://urllib3.readthedocs.io/en/latest/advanced-usage.html#tls-warnings\n",
      "  warnings.warn(\n",
      "/Users/asankaranarayana/Documents/rg_data/lib/python3.12/site-packages/urllib3/connectionpool.py:1099: InsecureRequestWarning: Unverified HTTPS request is being made to host 'genai-cus-tdz.paypalcorp.com'. Adding certificate verification is strongly advised. See: https://urllib3.readthedocs.io/en/latest/advanced-usage.html#tls-warnings\n",
      "  warnings.warn(\n",
      "/Users/asankaranarayana/Documents/rg_data/lib/python3.12/site-packages/urllib3/connectionpool.py:1099: InsecureRequestWarning: Unverified HTTPS request is being made to host 'genai-cus-tdz.paypalcorp.com'. Adding certificate verification is strongly advised. See: https://urllib3.readthedocs.io/en/latest/advanced-usage.html#tls-warnings\n",
      "  warnings.warn(\n",
      "/Users/asankaranarayana/Documents/rg_data/lib/python3.12/site-packages/urllib3/connectionpool.py:1099: InsecureRequestWarning: Unverified HTTPS request is being made to host 'genai-cus-tdz.paypalcorp.com'. Adding certificate verification is strongly advised. See: https://urllib3.readthedocs.io/en/latest/advanced-usage.html#tls-warnings\n",
      "  warnings.warn(\n"
     ]
    },
    {
     "name": "stdout",
     "output_type": "stream",
     "text": [
      "We had lunch at The Quartz Café yesterday, and my friend covered the bill. Everyone Venmoed them their share, but my $19 payment isn’t on the feed. How much did they pay for everyone, including me?\n"
     ]
    },
    {
     "name": "stderr",
     "output_type": "stream",
     "text": [
      "/Users/asankaranarayana/Documents/rg_data/lib/python3.12/site-packages/urllib3/connectionpool.py:1099: InsecureRequestWarning: Unverified HTTPS request is being made to host 'genai-cus-tdz.paypalcorp.com'. Adding certificate verification is strongly advised. See: https://urllib3.readthedocs.io/en/latest/advanced-usage.html#tls-warnings\n",
      "  warnings.warn(\n",
      "/Users/asankaranarayana/Documents/rg_data/lib/python3.12/site-packages/urllib3/connectionpool.py:1099: InsecureRequestWarning: Unverified HTTPS request is being made to host 'genai-cus-tdz.paypalcorp.com'. Adding certificate verification is strongly advised. See: https://urllib3.readthedocs.io/en/latest/advanced-usage.html#tls-warnings\n",
      "  warnings.warn(\n",
      "/Users/asankaranarayana/Documents/rg_data/lib/python3.12/site-packages/urllib3/connectionpool.py:1099: InsecureRequestWarning: Unverified HTTPS request is being made to host 'genai-cus-tdz.paypalcorp.com'. Adding certificate verification is strongly advised. See: https://urllib3.readthedocs.io/en/latest/advanced-usage.html#tls-warnings\n",
      "  warnings.warn(\n",
      "/Users/asankaranarayana/Documents/rg_data/lib/python3.12/site-packages/urllib3/connectionpool.py:1099: InsecureRequestWarning: Unverified HTTPS request is being made to host 'genai-cus-tdz.paypalcorp.com'. Adding certificate verification is strongly advised. See: https://urllib3.readthedocs.io/en/latest/advanced-usage.html#tls-warnings\n",
      "  warnings.warn(\n"
     ]
    },
    {
     "name": "stdout",
     "output_type": "stream",
     "text": [
      "I went out for coffee with my friends at The Daily Grind yesterday, and my buddy paid for everyone. Everyone Venmoed them their share, but my $11 payment isn’t showing on the feed. Can you tell me how much they spent for the group, including me?\n"
     ]
    },
    {
     "name": "stderr",
     "output_type": "stream",
     "text": [
      "/Users/asankaranarayana/Documents/rg_data/lib/python3.12/site-packages/urllib3/connectionpool.py:1099: InsecureRequestWarning: Unverified HTTPS request is being made to host 'genai-cus-tdz.paypalcorp.com'. Adding certificate verification is strongly advised. See: https://urllib3.readthedocs.io/en/latest/advanced-usage.html#tls-warnings\n",
      "  warnings.warn(\n",
      "/Users/asankaranarayana/Documents/rg_data/lib/python3.12/site-packages/urllib3/connectionpool.py:1099: InsecureRequestWarning: Unverified HTTPS request is being made to host 'genai-cus-tdz.paypalcorp.com'. Adding certificate verification is strongly advised. See: https://urllib3.readthedocs.io/en/latest/advanced-usage.html#tls-warnings\n",
      "  warnings.warn(\n",
      "/Users/asankaranarayana/Documents/rg_data/lib/python3.12/site-packages/urllib3/connectionpool.py:1099: InsecureRequestWarning: Unverified HTTPS request is being made to host 'genai-cus-tdz.paypalcorp.com'. Adding certificate verification is strongly advised. See: https://urllib3.readthedocs.io/en/latest/advanced-usage.html#tls-warnings\n",
      "  warnings.warn(\n",
      "/Users/asankaranarayana/Documents/rg_data/lib/python3.12/site-packages/urllib3/connectionpool.py:1099: InsecureRequestWarning: Unverified HTTPS request is being made to host 'genai-cus-tdz.paypalcorp.com'. Adding certificate verification is strongly advised. See: https://urllib3.readthedocs.io/en/latest/advanced-usage.html#tls-warnings\n",
      "  warnings.warn(\n"
     ]
    }
   ],
   "source": [
    "for q in base_qs[5:]: #run from 5 next\n",
    "    print(\"-\"*50)\n",
    "    print(q)\n",
    "    # for 1st question, obtained 49 similar questions\n",
    "    # obtain 30 similar questions\n",
    "    query = \"\"\"Your task is to give sample requests that users might ask a Venmo assistant. \n",
    "    Could you please provide 30 questions similar to the one given below:\n",
    "    ```{}```\n",
    "    Make sure to include different English dialects like Boston, New York, etc. Ensure it is still polite without too much slang.\n",
    "    Make the questions similar but varying slightly. Ensure the same format is followed.\n",
    "    Return only the questions. No additional text.\n",
    "    Separate each example by a new line. No numbering.\n",
    "    \"\"\".format(q)\n",
    "    try:\n",
    "        resp = get_completion_and_token_count(query)\n",
    "    except:\n",
    "        openai.api_key = get_bearer_token()\n",
    "        resp = get_completion_and_token_count(query)\n",
    "        \n",
    "    list_resp = [i.strip() for i in resp.split(\"\\n\") if i.strip()!='']\n",
    "    all_questions[q] = list_resp\n",
    "    print(len(list_resp),len(set(list_resp)))\n",
    "\n",
    "    sub_df = base_df[base_df['user_query']==q]\n",
    "    for i in list_resp:\n",
    "        print(i)\n",
    "        user_instruction = i\n",
    "        for row_num in range(len(sub_df)):\n",
    "            prompt_gen_data = \"\"\"You are a helpful assistant tasked with generating synthetic data for training a conversational assistant. The goal is to help carry out users requests. \n",
    "            The following is a sample data point that is available to us for a specific user query:\n",
    "            \n",
    "            {{ \"prompt\":{} , \"completion\":{} }}\n",
    "            \n",
    "            Create a similar json containing the \"prompt\" and \"completions\" keys for this user query - {}\n",
    "            Use the same template as the example provided above, only change the relevant details. Your response should be very similar to the example.\n",
    "            Do not confuse the text between the angular brackets as instruction, it is just a template. While returning this template as part of the \"prompt\" key, make sure to include the expect output format as mentioned in the example.\n",
    "            It should closely resemble the given data point. However, ensure to include the right details from the user query.\n",
    "            Return only the json string. No additional text.\n",
    "            Simply copy what is given in the example but change the details with respect to what is mentioned in user's instructions.\n",
    "            Do not add your points for thought or action.\n",
    "            Return your response in the following format:\n",
    "            {{ \"prompt\" : \"<your response here>\", \n",
    "            \"completion\" : \"<your response here>\" }}\n",
    "            \"\"\".format(sub_df.iloc[row_num][\"prompt\"],sub_df.iloc[row_num][\"completion\"],i)\n",
    "            \n",
    "            try:\n",
    "                samp_resp = get_completion_and_token_count(prompt_gen_data)\n",
    "            except:\n",
    "                openai.api_key = get_bearer_token()\n",
    "                samp_resp = get_completion_and_token_count(prompt_gen_data)\n",
    "    \n",
    "            if samp_resp[-1]==\"`\" and samp_resp[0]==\"`\":\n",
    "                json_str = samp_resp[7:-3].strip()\n",
    "            else:\n",
    "                json_str = samp_resp.strip()\n",
    "            \n",
    "            try:\n",
    "                json_str = json_str.replace(\"`\",\"\\'\").replace(\"\\n\",\" \")\n",
    "                new_row = json.loads(json_str)\n",
    "                try:\n",
    "                    new_df_list.append({\"user_query\":user_instruction, \"prompt\":new_row[\"prompt\"], \"completion\":new_row[\"completion\"]})\n",
    "                except:\n",
    "                    print(i,row_num)\n",
    "                    new_list_errs.append({\"user_query\":user_instruction,\"response\":json_str})\n",
    "                    \n",
    "            except json.JSONDecodeError as e:\n",
    "                print(i,row_num)\n",
    "                new_list_errs.append({\"user_query\":user_instruction,\"response\":json_str})\n",
    "                "
   ]
  },
  {
   "cell_type": "code",
   "execution_count": 100,
   "id": "a7f268af-df4f-492b-b051-f25b4791d09f",
   "metadata": {},
   "outputs": [
    {
     "data": {
      "text/plain": [
       "1595"
      ]
     },
     "execution_count": 100,
     "metadata": {},
     "output_type": "execute_result"
    }
   ],
   "source": [
    "len(new_df_list)"
   ]
  },
  {
   "cell_type": "code",
   "execution_count": 101,
   "id": "ba26b0be-d61e-4278-acfa-5d0324f5ebb0",
   "metadata": {},
   "outputs": [
    {
     "data": {
      "text/plain": [
       "1595"
      ]
     },
     "execution_count": 101,
     "metadata": {},
     "output_type": "execute_result"
    }
   ],
   "source": [
    "temp_df = pd.DataFrame(new_df_list)\n",
    "len(temp_df)"
   ]
  },
  {
   "cell_type": "code",
   "execution_count": 102,
   "id": "5e74edc8-6145-483d-9423-f72dfc4a53d1",
   "metadata": {},
   "outputs": [],
   "source": [
    "temp_df.to_csv(\"simulated_tasks_train.csv\",index=False)"
   ]
  },
  {
   "cell_type": "code",
   "execution_count": 103,
   "id": "9d2634ba-8776-46ca-8948-879f512f80ae",
   "metadata": {},
   "outputs": [
    {
     "data": {
      "text/plain": [
       "139"
      ]
     },
     "execution_count": 103,
     "metadata": {},
     "output_type": "execute_result"
    }
   ],
   "source": [
    "len(new_list_errs)"
   ]
  },
  {
   "cell_type": "code",
   "execution_count": 104,
   "id": "b3b4223e-ed06-441f-8b68-f91054d2a66a",
   "metadata": {},
   "outputs": [],
   "source": [
    "with open(\"generated_err_samples.txt\", \"w\") as file:\n",
    "        for item in new_list_errs:\n",
    "            file.write(str(item) + \"\\n\")"
   ]
  },
  {
   "cell_type": "code",
   "execution_count": 107,
   "id": "3c68aa20-7b9d-4b08-b1dd-4e18f0a10f40",
   "metadata": {},
   "outputs": [],
   "source": [
    "content = []\n",
    "with open(\"generated_err_samples.txt\", \"r\") as file:\n",
    "    for line in file:\n",
    "        content.append(line.strip())"
   ]
  },
  {
   "cell_type": "code",
   "execution_count": 109,
   "id": "9391037b-14a4-421e-9dc8-9e7cb077ce75",
   "metadata": {},
   "outputs": [
    {
     "data": {
      "text/plain": [
       "139"
      ]
     },
     "execution_count": 109,
     "metadata": {},
     "output_type": "execute_result"
    }
   ],
   "source": [
    "len(content)"
   ]
  },
  {
   "cell_type": "code",
   "execution_count": 119,
   "id": "f959ebc0-40f9-445c-85ca-e5a99f654429",
   "metadata": {},
   "outputs": [
    {
     "data": {
      "text/plain": [
       "'{\\'user_query\\': \\'Send $250 on Venmo to the person with this username @emma_boston, make it public.\\', \\'response\\': \\'{   \"prompt\": \"User Instruction :  \\\\\\'\\\\\\'\\\\\\'Send $250 on Venmo to the person with this username @emma_boston, make it public.\\\\\\'\\\\\\'\\\\\\' The following list contains the ordered set of steps already taken, the last element of the list is the current state of the task :  \\\\\\'\\\\\\'\\\\\\'[\\\\\\\\\"First, let\\\\\\'s check the available APIs for the Venmo app to see how we can send money.\\\\\\\\\", \\\\\\\\\"The \\\\\\'create_transaction\\\\\\' API seems to be the one we need to send money. Let\\\\\\'s check its specifications.\\\\\\\\\", \\\\\\'we can proceed to send $250 to the person with the username @emma_boston. First, we need to verify the username using the \\\\\\\\\\\\\\'venmo\\\\\\\\\\\\\\' app.\\\\\\']\\\\\\'\\\\\\'\\\\\\' Current Observation :  \\\\\\'\\\\\\'\\\\\\'{\\\\\\'app_name\\\\\\': \\\\\\'venmo\\\\\\', \\\\\\'api_name\\\\\\': \\\\\\'search_users\\\\\\', \\\\\\'path\\\\\\': \\\\\\'/users\\\\\\', \\\\\\'method\\\\\\': \\\\\\'GET\\\\\\', \\\\\\'description\\\\\\': \\\\\\'Search for users on Venmo by username or other details.\\\\\\', \\\\\\'parameters\\\\\\': [{\\\\\\'name\\\\\\': \\\\\\'query\\\\\\', \\\\\\'type\\\\\\': \\\\\\'string\\\\\\', \\\\\\'required\\\\\\': True, \\\\\\'description\\\\\\': \\\\\\'Search query for the user.\\\\\\', \\\\\\'default\\\\\\': \\\\\\'\\\\\\', \\\\\\'constraints\\\\\\': []}, {\\\\\\'name\\\\\\': \\\\\\'page_index\\\\\\', \\\\\\'type\\\\\\': \\\\\\'integer\\\\\\', \\\\\\'required\\\\\\': False, \\\\\\'description\\\\\\': \\\\\\'The index of the page to return.\\\\\\', \\\\\\'default\\\\\\': 0, \\\\\\'constraints\\\\\\': [\\\\\\'value >= 0.0\\\\\\']}, {\\\\\\'name\\\\\\': \\\\\\'page_limit\\\\\\', \\\\\\'type\\\\\\': \\\\\\'integer\\\\\\', \\\\\\'required\\\\\\': False, \\\\\\'description\\\\\\': \\\\\\'The maximum number of results to return per page.\\\\\\', \\\\\\'default\\\\\\': 5, \\\\\\'constraints\\\\\\': [\\\\\\'value >= 1.0, <= 20.0\\\\\\']}], \\\\\\'response_schemas\\\\\\': {\\\\\\'success\\\\\\': [{\\\\\\'user_id\\\\\\': 1, \\\\\\'username\\\\\\': \\\\\\'string\\\\\\', \\\\\\'first_name\\\\\\': \\\\\\'string\\\\\\', \\\\\\'last_name\\\\\\': \\\\\\'string\\\\\\', \\\\\\'email\\\\\\': \\\\\\'string\\\\\\', \\\\\\'phone_number\\\\\\': \\\\\\'string\\\\\\', \\\\\\'created_at\\\\\\': \\\\\\'2019-01-01T00:00:00\\\\\\'}], \\\\\\'failure\\\\\\': {\\\\\\'message\\\\\\': \\\\\\'string\\\\\\'}}}\\\\\\'\\\\\\'\\\\\\'  Based on User instruction, history of steps taken and current observation, decide your next step. Respond with the action to take and the thought behind it.  Respond in the following json format: {\\\\\\\\\"thought\\\\\\\\\" : \\\\\\\\\"...\\\\\\\\\", \\\\\\\\\"action\\\\\\\\\" : \\\\\\\\\"...\\\\\\\\\"}  , \\\\\\\\\"completion\\\\\\\\\":{\\\\\\'thought\\\\\\': \\\\\\\\\"Let\\\\\\'s search for the user with the username @emma_boston using the \\\\\\'venmo\\\\\\' app.\\\\\\\\\", \\\\\\'action\\\\\\': \\\\\\\\\"user_search_result = apis.venmo.search_users(query=\\\\\\'@emma_boston\\\\\\') \\\\\\\\\\\\\\\\n print(user_search_result)\\\\\\\\\"}\",   \"completion\": {     \"thought\": \"Let\\\\\\'s search for the user with the username @emma_boston using the \\\\\\'venmo\\\\\\' app.\",     \"action\": \"user_search_result = apis.venmo.search_users(query=\\\\\\'@emma_boston\\\\\\') \\\\\\\\n print(user_search_result)\"   } }\\'}'"
      ]
     },
     "execution_count": 119,
     "metadata": {},
     "output_type": "execute_result"
    }
   ],
   "source": [
    "content[0]"
   ]
  },
  {
   "cell_type": "code",
   "execution_count": 117,
   "id": "a9cd863c-5a77-4a32-8aad-2cfb1b61ae58",
   "metadata": {},
   "outputs": [
    {
     "ename": "SyntaxError",
     "evalue": "invalid syntax. Perhaps you forgot a comma? (2128941808.py, line 1)",
     "output_type": "error",
     "traceback": [
      "\u001b[0;36m  Cell \u001b[0;32mIn[117], line 1\u001b[0;36m\u001b[0m\n\u001b[0;31m    j_str = json.loads(\"{'user_query': 'Send $250 on Venmo to the person with this username @emma_boston, make it public.', 'response': '{   \"prompt\": \"User Instruction :  \\'\\'\\'Send $250 on Venmo to the person with this username @emma_boston, make it public.\\'\\'\\' The following list contains the ordered set of steps already taken, the last element of the list is the current state of the task :  \\'\\'\\'[\\\\\"First, let\\'s check the available APIs for the Venmo app to see how we can send money.\\\\\", \\\\\"The \\'create_transaction\\' API seems to be the one we need to send money. Let\\'s check its specifications.\\\\\", \\'we can proceed to send $250 to the person with the username @emma_boston. First, we need to verify the username using the \\\\\\'venmo\\\\\\' app.\\']\\'\\'\\' Current Observation :  \\'\\'\\'{\\'app_name\\': \\'venmo\\', \\'api_name\\': \\'search_users\\', \\'path\\': \\'/users\\', \\'method\\': \\'GET\\', \\'description\\': \\'Search for users on Venmo by username or other details.\\', \\'parameters\\': [{\\'name\\': \\'query\\', \\'type\\': \\'string\\', \\'required\\': True, \\'description\\': \\'Search query for the user.\\', \\'default\\': \\'\\', \\'constraints\\': []}, {\\'name\\': \\'page_index\\', \\'type\\': \\'integer\\', \\'required\\': False, \\'description\\': \\'The index of the page to return.\\', \\'default\\': 0, \\'constraints\\': [\\'value >= 0.0\\']}, {\\'name\\': \\'page_limit\\', \\'type\\': \\'integer\\', \\'required\\': False, \\'description\\': \\'The maximum number of results to return per page.\\', \\'default\\': 5, \\'constraints\\': [\\'value >= 1.0, <= 20.0\\']}], \\'response_schemas\\': {\\'success\\': [{\\'user_id\\': 1, \\'username\\': \\'string\\', \\'first_name\\': \\'string\\', \\'last_name\\': \\'string\\', \\'email\\': \\'string\\', \\'phone_number\\': \\'string\\', \\'created_at\\': \\'2019-01-01T00:00:00\\'}], \\'failure\\': {\\'message\\': \\'string\\'}}}\\'\\'\\'  Based on User instruction, history of steps taken and current observation, decide your next step. Respond with the action to take and the thought behind it.  Respond in the following json format: {\\\\\"thought\\\\\" : \\\\\"...\\\\\", \\\\\"action\\\\\" : \\\\\"...\\\\\"}  , \\\\\"completion\\\\\":{\\'thought\\': \\\\\"Let\\'s search for the user with the username @emma_boston using the \\'venmo\\' app.\\\\\", \\'action\\': \\\\\"user_search_result = apis.venmo.search_users(query=\\'@emma_boston\\') \\\\\\\\n print(user_search_result)\\\\\"}\",   \"completion\": {     \"thought\": \"Let\\'s search for the user with the username @emma_boston using the \\'venmo\\' app.\",     \"action\": \"user_search_result = apis.venmo.search_users(query=\\'@emma_boston\\') \\n print(user_search_result)\"   } }}\")\u001b[0m\n\u001b[0m                       ^\u001b[0m\n\u001b[0;31mSyntaxError\u001b[0m\u001b[0;31m:\u001b[0m invalid syntax. Perhaps you forgot a comma?\n"
     ]
    }
   ],
   "source": [
    "j_str = content[0]\n",
    "j_str = j_str.replace(\"\\\\\\\",\"\\\\\")\n"
   ]
  },
  {
   "cell_type": "code",
   "execution_count": 120,
   "id": "13d94cf1-3b85-4602-9fe7-15607b1913f0",
   "metadata": {},
   "outputs": [
    {
     "data": {
      "text/plain": [
       "'{      \"prompt\" : \"User Instruction :  \\'\\'\\'I went out for coffee with my friends at The Daily Grind yesterday, and my buddy paid for everyone. Everyone Venmoed them their share, but my $11 payment isn’t showing on the feed. Can you tell me how much they spent for the group, including me?\\'\\'\\' The following list contains the ordered set of steps already taken, the last element of the list is the current state of the task :  \\'\\'\\'[\\\\\"First, let\\'s check the available APIs for the Venmo app to see how we can retrieve the transactions.\\\\\", \\\\\"The \\'show_social_feed\\' API seems to be the one we need to retrieve the transactions. Let\\'s check its specifications.\\\\\", \\'Now, I retrieve the social feed and look for transactions related to the coffee at The Daily Grind. I will filter the transactions to find those related to \\\\\"The Daily Grind\\\\\" and sum the amounts to find out how much your buddy paid for the group, including you.\\']\\'\\'\\' Current Observation :  \\'\\'\\'55.0\\'\\'\\'  Based on User instruction, history of steps taken and current observation, decide your next step. Respond with the action to take and the thought behind it.  Respond in the following json format: {\\\\\"thought\\\\\" : \\\\\"...\\\\\", \\\\\"action\\\\\" : \\\\\"...\\\\\"}  , \\\\\"completion\\\\\":{\\'thought\\': \\'Now that I have the total amount, I will mark the task as complete and return the total amount as the answer.\\', \\'action\\': \\'apis.supervisor.complete_task(answer=55.0)\\'} }\",      \"completion\" : \"{\\'thought\\': \\'Now that I have the total amount, I will mark the task as complete and return the total amount as the answer.\\', \\'action\\': \\'apis.supervisor.complete_task(answer=55.0)\\'}\" }'"
      ]
     },
     "execution_count": 120,
     "metadata": {},
     "output_type": "execute_result"
    }
   ],
   "source": [
    "json_str"
   ]
  },
  {
   "cell_type": "code",
   "execution_count": null,
   "id": "4de10498-9b1e-4f2e-8b5f-ea144664d5bb",
   "metadata": {},
   "outputs": [],
   "source": [
    "'{   \"prompt\": \"User Instruction :  \\'\\'\\'Send $250 on Venmo to the person with this username @emma_boston, make it public.\\'\\'\\' \n",
    "The following list contains the ordered set of steps already taken, the last element of the list is the current state of the task :  \n",
    "\\'\\'\\'[\\\\\"First, let\\'s check the available APIs for the Venmo app to see how we can send money.\\\\\", \n",
    "\\\\\"The \\'create_transaction\\' API seems to be the one we need to send money. Let\\'s check its specifications.\\\\\",\n",
    "\\'we can proceed to send $250 to the person with the username @emma_boston. First, we need to verify the username using the \\\\\\\\\\\\\\'venmo\\\\\\\\\\\\\\' app.\\\\\\']\\\\\\'\\\\\\'\\\\\\' Current Observation :  \\\\\\'\\\\\\'\\\\\\'{\\\\\\'app_name\\\\\\': \\\\\\'venmo\\\\\\', \\\\\\'api_name\\\\\\': \\\\\\'search_users\\\\\\', \\\\\\'path\\\\\\': \\\\\\'/users\\\\\\', \\\\\\'method\\\\\\': \\\\\\'GET\\\\\\', \\\\\\'description\\\\\\': \\\\\\'Search for users on Venmo by username or other details.\\\\\\', \\\\\\'parameters\\\\\\': [{\\\\\\'name\\\\\\': \\\\\\'query\\\\\\', \\\\\\'type\\\\\\': \\\\\\'string\\\\\\', \\\\\\'required\\\\\\': True, \\\\\\'description\\\\\\': \\\\\\'Search query for the user.\\\\\\', \\\\\\'default\\\\\\': \\\\\\'\\\\\\', \\\\\\'constraints\\\\\\': []}, {\\\\\\'name\\\\\\': \\\\\\'page_index\\\\\\', \\\\\\'type\\\\\\': \\\\\\'integer\\\\\\', \\\\\\'required\\\\\\': False, \\\\\\'description\\\\\\': \\\\\\'The index of the page to return.\\\\\\', \\\\\\'default\\\\\\': 0, \\\\\\'constraints\\\\\\': [\\\\\\'value >= 0.0\\\\\\']}, {\\\\\\'name\\\\\\': \\\\\\'page_limit\\\\\\', \\\\\\'type\\\\\\': \\\\\\'integer\\\\\\', \\\\\\'required\\\\\\': False, \\\\\\'description\\\\\\': \\\\\\'The maximum number of results to return per page.\\\\\\', \\\\\\'default\\\\\\': 5, \\\\\\'constraints\\\\\\': [\\\\\\'value >= 1.0, <= 20.0\\\\\\']}], \\\\\\'response_schemas\\\\\\': {\\\\\\'success\\\\\\': [{\\\\\\'user_id\\\\\\': 1, \\\\\\'username\\\\\\': \\\\\\'string\\\\\\', \\\\\\'first_name\\\\\\': \\\\\\'string\\\\\\', \\\\\\'last_name\\\\\\': \\\\\\'string\\\\\\', \\\\\\'email\\\\\\': \\\\\\'string\\\\\\', \\\\\\'phone_number\\\\\\': \\\\\\'string\\\\\\', \\\\\\'created_at\\\\\\': \\\\\\'2019-01-01T00:00:00\\\\\\'}], \\\\\\'failure\\\\\\': {\\\\\\'message\\\\\\': \\\\\\'string\\\\\\'}}}\\\\\\'\\\\\\'\\\\\\'  Based on User instruction, history of steps taken and current observation, decide your next step. Respond with the action to take and the thought behind it.  Respond in the following json format: {\\\\\\\\\"thought\\\\\\\\\" : \\\\\\\\\"...\\\\\\\\\", \\\\\\\\\"action\\\\\\\\\" : \\\\\\\\\"...\\\\\\\\\"}  , \\\\\\\\\"completion\\\\\\\\\":{\\\\\\'thought\\\\\\': \\\\\\\\\"Let\\\\\\'s search for the user with the username @emma_boston using the \\\\\\'venmo\\\\\\' app.\\\\\\\\\", \\\\\\'action\\\\\\': \\\\\\\\\"user_search_result = apis.venmo.search_users(query=\\\\\\'@emma_boston\\\\\\') \\\\\\\\\\\\\\\\n print(user_search_result)\\\\\\\\\"}\",   \"completion\": {     \"thought\": \"Let\\\\\\'s search for the user with the username @emma_boston using the \\\\\\'venmo\\\\\\' app.\",     \"action\": \"user_search_result = apis.venmo.search_users(query=\\\\\\'@emma_boston\\\\\\') \\\\\\\\n print(user_search_result)\"   } }\\'}'"
   ]
  },
  {
   "cell_type": "code",
   "execution_count": 140,
   "id": "9fc4b792-f895-405a-bac7-276a43cd109d",
   "metadata": {},
   "outputs": [],
   "source": [
    "sample_str = content[0].replace(\"\\\\\\'\",\"\\'\").replace('\\\\\\\\\"','\\\\\"').replace('}\"','\"}')"
   ]
  },
  {
   "cell_type": "code",
   "execution_count": 141,
   "id": "640b56f2-29b2-42fa-abeb-f3d221ae8263",
   "metadata": {},
   "outputs": [
    {
     "data": {
      "text/plain": [
       "'{\\'user_query\\': \\'Send $250 on Venmo to the person with this username @emma_boston, make it public.\\', \\'response\\': \\'{   \"prompt\": \"User Instruction :  \\'\\'\\'Send $250 on Venmo to the person with this username @emma_boston, make it public.\\'\\'\\' The following list contains the ordered set of steps already taken, the last element of the list is the current state of the task :  \\'\\'\\'[\\\\\"First, let\\'s check the available APIs for the Venmo app to see how we can send money.\\\\\", \\\\\"The \\'create_transaction\\' API seems to be the one we need to send money. Let\\'s check its specifications.\\\\\", \\'we can proceed to send $250 to the person with the username @emma_boston. First, we need to verify the username using the \\\\\\\\\\'venmo\\\\\\\\\\' app.\\']\\'\\'\\' Current Observation :  \\'\\'\\'{\\'app_name\\': \\'venmo\\', \\'api_name\\': \\'search_users\\', \\'path\\': \\'/users\\', \\'method\\': \\'GET\\', \\'description\\': \\'Search for users on Venmo by username or other details.\\', \\'parameters\\': [{\\'name\\': \\'query\\', \\'type\\': \\'string\\', \\'required\\': True, \\'description\\': \\'Search query for the user.\\', \\'default\\': \\'\\', \\'constraints\\': []}, {\\'name\\': \\'page_index\\', \\'type\\': \\'integer\\', \\'required\\': False, \\'description\\': \\'The index of the page to return.\\', \\'default\\': 0, \\'constraints\\': [\\'value >= 0.0\\']}, {\\'name\\': \\'page_limit\\', \\'type\\': \\'integer\\', \\'required\\': False, \\'description\\': \\'The maximum number of results to return per page.\\', \\'default\\': 5, \\'constraints\\': [\\'value >= 1.0, <= 20.0\\']}], \\'response_schemas\\': {\\'success\\': [{\\'user_id\\': 1, \\'username\\': \\'string\\', \\'first_name\\': \\'string\\', \\'last_name\\': \\'string\\', \\'email\\': \\'string\\', \\'phone_number\\': \\'string\\', \\'created_at\\': \\'2019-01-01T00:00:00\\'}], \\'failure\\': {\\'message\\': \\'string\\'}}}\\'\\'\\'  Based on User instruction, history of steps taken and current observation, decide your next step. Respond with the action to take and the thought behind it.  Respond in the following json format: {\\\\\"thought\\\\\" : \\\\\"...\\\\\", \\\\\"action\\\\\" : \\\\\"...\\\\\"}  , \\\\\"completion\\\\\":{\\'thought\\': \\\\\"Let\\'s search for the user with the username @emma_boston using the \\'venmo\\' app.\\\\\", \\'action\\': \\\\\"user_search_result = apis.venmo.search_users(query=\\'@emma_boston\\') \\\\\\\\\\\\\\\\n print(user_search_result)\\\\\"\"},   \"completion\": {     \"thought\": \"Let\\'s search for the user with the username @emma_boston using the \\'venmo\\' app.\",     \"action\": \"user_search_result = apis.venmo.search_users(query=\\'@emma_boston\\') \\\\\\\\n print(user_search_result)\"   } }\\'}'"
      ]
     },
     "execution_count": 141,
     "metadata": {},
     "output_type": "execute_result"
    }
   ],
   "source": [
    "sample_str"
   ]
  },
  {
   "cell_type": "code",
   "execution_count": 142,
   "id": "c8851c5c-6e3a-4002-9777-b6280e60ec79",
   "metadata": {},
   "outputs": [],
   "source": [
    "pattern = r'\\\\\\'response\\\\\\'\\:\\\\\\'(.*?)'\n",
    "match = re.search(pattern, sample_str, re.DOTALL)"
   ]
  },
  {
   "cell_type": "code",
   "execution_count": null,
   "id": "c828507f-0cb0-4450-b364-89afa03c4da3",
   "metadata": {},
   "outputs": [],
   "source": []
  }
 ],
 "metadata": {
  "kernelspec": {
   "display_name": "Python3.11",
   "language": "python",
   "name": "python3"
  },
  "language_info": {
   "codemirror_mode": {
    "name": "ipython",
    "version": 3
   },
   "file_extension": ".py",
   "mimetype": "text/x-python",
   "name": "python",
   "nbconvert_exporter": "python",
   "pygments_lexer": "ipython3",
   "version": "3.11.13"
  }
 },
 "nbformat": 4,
 "nbformat_minor": 5
}
