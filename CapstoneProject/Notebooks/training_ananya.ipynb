{
 "cells": [
  {
   "cell_type": "code",
   "execution_count": 2,
   "id": "bc4a26fd-5009-439f-ae25-d0cb1a9b2e31",
   "metadata": {
    "collapsed": true,
    "execution": {
     "iopub.execute_input": "2025-06-22T13:24:10.209670Z",
     "iopub.status.busy": "2025-06-22T13:24:10.208860Z",
     "iopub.status.idle": "2025-06-22T13:24:11.375976Z",
     "shell.execute_reply": "2025-06-22T13:24:11.375263Z",
     "shell.execute_reply.started": "2025-06-22T13:24:10.209650Z"
    },
    "jupyter": {
     "outputs_hidden": true
    },
    "tags": []
   },
   "outputs": [
    {
     "name": "stdout",
     "output_type": "stream",
     "text": [
      "Looking in indexes: https://dtr-vip.ccg13.slc.paypalinc.com/artifactory/api/pypi/python/simple\n",
      "Collecting trl==0.18.2\n",
      "  Using cached https://artifactory.paypalinc.com/artifactory/api/pypi/python/packages/packages/04/57/f1cf3cf20fa78a3dcd6c7cc95e9f635bdf4fe12f00894d648b0cb5e42e54/trl-0.18.2-py3-none-any.whl (366 kB)\n",
      "Requirement already satisfied: accelerate>=0.34.0 in /opt/conda/envs/py311/lib/python3.11/site-packages (from trl==0.18.2) (1.7.0)\n",
      "Requirement already satisfied: datasets>=3.0.0 in /opt/conda/envs/py311/lib/python3.11/site-packages (from trl==0.18.2) (3.6.0)\n",
      "Requirement already satisfied: transformers>=4.50.0 in /opt/conda/envs/py311/lib/python3.11/site-packages (from trl==0.18.2) (4.51.3)\n",
      "Requirement already satisfied: numpy<3.0.0,>=1.17 in /opt/conda/envs/py311/lib/python3.11/site-packages (from accelerate>=0.34.0->trl==0.18.2) (2.3.0)\n",
      "Requirement already satisfied: packaging>=20.0 in /opt/conda/envs/py311/lib/python3.11/site-packages (from accelerate>=0.34.0->trl==0.18.2) (25.0)\n",
      "Requirement already satisfied: psutil in /opt/conda/envs/py311/lib/python3.11/site-packages (from accelerate>=0.34.0->trl==0.18.2) (5.9.8)\n",
      "Requirement already satisfied: pyyaml in /opt/conda/envs/py311/lib/python3.11/site-packages (from accelerate>=0.34.0->trl==0.18.2) (6.0.2)\n",
      "Requirement already satisfied: torch>=2.0.0 in /opt/conda/envs/py311/lib/python3.11/site-packages (from accelerate>=0.34.0->trl==0.18.2) (2.7.0)\n",
      "Requirement already satisfied: huggingface-hub>=0.21.0 in /opt/conda/envs/py311/lib/python3.11/site-packages (from accelerate>=0.34.0->trl==0.18.2) (0.33.0)\n",
      "Requirement already satisfied: safetensors>=0.4.3 in /opt/conda/envs/py311/lib/python3.11/site-packages (from accelerate>=0.34.0->trl==0.18.2) (0.5.3)\n",
      "Requirement already satisfied: filelock in /opt/conda/envs/py311/lib/python3.11/site-packages (from datasets>=3.0.0->trl==0.18.2) (3.18.0)\n",
      "Requirement already satisfied: pyarrow>=15.0.0 in /opt/conda/envs/py311/lib/python3.11/site-packages (from datasets>=3.0.0->trl==0.18.2) (20.0.0)\n",
      "Requirement already satisfied: dill<0.3.9,>=0.3.0 in /opt/conda/envs/py311/lib/python3.11/site-packages (from datasets>=3.0.0->trl==0.18.2) (0.3.8)\n",
      "Requirement already satisfied: pandas in /opt/conda/envs/py311/lib/python3.11/site-packages (from datasets>=3.0.0->trl==0.18.2) (2.3.0)\n",
      "Requirement already satisfied: requests>=2.32.2 in /opt/conda/envs/py311/lib/python3.11/site-packages (from datasets>=3.0.0->trl==0.18.2) (2.32.4)\n",
      "Requirement already satisfied: tqdm>=4.66.3 in /opt/conda/envs/py311/lib/python3.11/site-packages (from datasets>=3.0.0->trl==0.18.2) (4.67.1)\n",
      "Requirement already satisfied: xxhash in /opt/conda/envs/py311/lib/python3.11/site-packages (from datasets>=3.0.0->trl==0.18.2) (3.5.0)\n",
      "Requirement already satisfied: multiprocess<0.70.17 in /opt/conda/envs/py311/lib/python3.11/site-packages (from datasets>=3.0.0->trl==0.18.2) (0.70.16)\n",
      "Requirement already satisfied: fsspec<=2025.3.0,>=2023.1.0 in /opt/conda/envs/py311/lib/python3.11/site-packages (from fsspec[http]<=2025.3.0,>=2023.1.0->datasets>=3.0.0->trl==0.18.2) (2025.3.0)\n",
      "Requirement already satisfied: aiohttp!=4.0.0a0,!=4.0.0a1 in /opt/conda/envs/py311/lib/python3.11/site-packages (from fsspec[http]<=2025.3.0,>=2023.1.0->datasets>=3.0.0->trl==0.18.2) (3.12.13)\n",
      "Requirement already satisfied: aiohappyeyeballs>=2.5.0 in /opt/conda/envs/py311/lib/python3.11/site-packages (from aiohttp!=4.0.0a0,!=4.0.0a1->fsspec[http]<=2025.3.0,>=2023.1.0->datasets>=3.0.0->trl==0.18.2) (2.6.1)\n",
      "Requirement already satisfied: aiosignal>=1.1.2 in /opt/conda/envs/py311/lib/python3.11/site-packages (from aiohttp!=4.0.0a0,!=4.0.0a1->fsspec[http]<=2025.3.0,>=2023.1.0->datasets>=3.0.0->trl==0.18.2) (1.3.2)\n",
      "Requirement already satisfied: attrs>=17.3.0 in /opt/conda/envs/py311/lib/python3.11/site-packages (from aiohttp!=4.0.0a0,!=4.0.0a1->fsspec[http]<=2025.3.0,>=2023.1.0->datasets>=3.0.0->trl==0.18.2) (25.3.0)\n",
      "Requirement already satisfied: frozenlist>=1.1.1 in /opt/conda/envs/py311/lib/python3.11/site-packages (from aiohttp!=4.0.0a0,!=4.0.0a1->fsspec[http]<=2025.3.0,>=2023.1.0->datasets>=3.0.0->trl==0.18.2) (1.7.0)\n",
      "Requirement already satisfied: multidict<7.0,>=4.5 in /opt/conda/envs/py311/lib/python3.11/site-packages (from aiohttp!=4.0.0a0,!=4.0.0a1->fsspec[http]<=2025.3.0,>=2023.1.0->datasets>=3.0.0->trl==0.18.2) (6.5.0)\n",
      "Requirement already satisfied: propcache>=0.2.0 in /opt/conda/envs/py311/lib/python3.11/site-packages (from aiohttp!=4.0.0a0,!=4.0.0a1->fsspec[http]<=2025.3.0,>=2023.1.0->datasets>=3.0.0->trl==0.18.2) (0.3.2)\n",
      "Requirement already satisfied: yarl<2.0,>=1.17.0 in /opt/conda/envs/py311/lib/python3.11/site-packages (from aiohttp!=4.0.0a0,!=4.0.0a1->fsspec[http]<=2025.3.0,>=2023.1.0->datasets>=3.0.0->trl==0.18.2) (1.20.1)\n",
      "Requirement already satisfied: idna>=2.0 in /opt/conda/envs/py311/lib/python3.11/site-packages (from yarl<2.0,>=1.17.0->aiohttp!=4.0.0a0,!=4.0.0a1->fsspec[http]<=2025.3.0,>=2023.1.0->datasets>=3.0.0->trl==0.18.2) (3.10)\n",
      "Requirement already satisfied: typing-extensions>=3.7.4.3 in /opt/conda/envs/py311/lib/python3.11/site-packages (from huggingface-hub>=0.21.0->accelerate>=0.34.0->trl==0.18.2) (4.14.0)\n",
      "Requirement already satisfied: hf-xet<2.0.0,>=1.1.2 in /opt/conda/envs/py311/lib/python3.11/site-packages (from huggingface-hub>=0.21.0->accelerate>=0.34.0->trl==0.18.2) (1.1.4)\n",
      "Requirement already satisfied: charset_normalizer<4,>=2 in /opt/conda/envs/py311/lib/python3.11/site-packages (from requests>=2.32.2->datasets>=3.0.0->trl==0.18.2) (3.4.2)\n",
      "Requirement already satisfied: urllib3<3,>=1.21.1 in /opt/conda/envs/py311/lib/python3.11/site-packages (from requests>=2.32.2->datasets>=3.0.0->trl==0.18.2) (1.26.20)\n",
      "Requirement already satisfied: certifi>=2017.4.17 in /opt/conda/envs/py311/lib/python3.11/site-packages (from requests>=2.32.2->datasets>=3.0.0->trl==0.18.2) (2025.6.15)\n",
      "Requirement already satisfied: sympy>=1.13.3 in /opt/conda/envs/py311/lib/python3.11/site-packages (from torch>=2.0.0->accelerate>=0.34.0->trl==0.18.2) (1.14.0)\n",
      "Requirement already satisfied: networkx in /opt/conda/envs/py311/lib/python3.11/site-packages (from torch>=2.0.0->accelerate>=0.34.0->trl==0.18.2) (3.5)\n",
      "Requirement already satisfied: jinja2 in /opt/conda/envs/py311/lib/python3.11/site-packages (from torch>=2.0.0->accelerate>=0.34.0->trl==0.18.2) (3.1.6)\n",
      "Requirement already satisfied: nvidia-cuda-nvrtc-cu12==12.6.77 in /opt/conda/envs/py311/lib/python3.11/site-packages (from torch>=2.0.0->accelerate>=0.34.0->trl==0.18.2) (12.6.77)\n",
      "Requirement already satisfied: nvidia-cuda-runtime-cu12==12.6.77 in /opt/conda/envs/py311/lib/python3.11/site-packages (from torch>=2.0.0->accelerate>=0.34.0->trl==0.18.2) (12.6.77)\n",
      "Requirement already satisfied: nvidia-cuda-cupti-cu12==12.6.80 in /opt/conda/envs/py311/lib/python3.11/site-packages (from torch>=2.0.0->accelerate>=0.34.0->trl==0.18.2) (12.6.80)\n",
      "Requirement already satisfied: nvidia-cudnn-cu12==9.5.1.17 in /opt/conda/envs/py311/lib/python3.11/site-packages (from torch>=2.0.0->accelerate>=0.34.0->trl==0.18.2) (9.5.1.17)\n",
      "Requirement already satisfied: nvidia-cublas-cu12==12.6.4.1 in /opt/conda/envs/py311/lib/python3.11/site-packages (from torch>=2.0.0->accelerate>=0.34.0->trl==0.18.2) (12.6.4.1)\n",
      "Requirement already satisfied: nvidia-cufft-cu12==11.3.0.4 in /opt/conda/envs/py311/lib/python3.11/site-packages (from torch>=2.0.0->accelerate>=0.34.0->trl==0.18.2) (11.3.0.4)\n",
      "Requirement already satisfied: nvidia-curand-cu12==10.3.7.77 in /opt/conda/envs/py311/lib/python3.11/site-packages (from torch>=2.0.0->accelerate>=0.34.0->trl==0.18.2) (10.3.7.77)\n",
      "Requirement already satisfied: nvidia-cusolver-cu12==11.7.1.2 in /opt/conda/envs/py311/lib/python3.11/site-packages (from torch>=2.0.0->accelerate>=0.34.0->trl==0.18.2) (11.7.1.2)\n",
      "Requirement already satisfied: nvidia-cusparse-cu12==12.5.4.2 in /opt/conda/envs/py311/lib/python3.11/site-packages (from torch>=2.0.0->accelerate>=0.34.0->trl==0.18.2) (12.5.4.2)\n",
      "Requirement already satisfied: nvidia-cusparselt-cu12==0.6.3 in /opt/conda/envs/py311/lib/python3.11/site-packages (from torch>=2.0.0->accelerate>=0.34.0->trl==0.18.2) (0.6.3)\n",
      "Requirement already satisfied: nvidia-nccl-cu12==2.26.2 in /opt/conda/envs/py311/lib/python3.11/site-packages (from torch>=2.0.0->accelerate>=0.34.0->trl==0.18.2) (2.26.2)\n",
      "Requirement already satisfied: nvidia-nvtx-cu12==12.6.77 in /opt/conda/envs/py311/lib/python3.11/site-packages (from torch>=2.0.0->accelerate>=0.34.0->trl==0.18.2) (12.6.77)\n",
      "Requirement already satisfied: nvidia-nvjitlink-cu12==12.6.85 in /opt/conda/envs/py311/lib/python3.11/site-packages (from torch>=2.0.0->accelerate>=0.34.0->trl==0.18.2) (12.6.85)\n",
      "Requirement already satisfied: nvidia-cufile-cu12==1.11.1.6 in /opt/conda/envs/py311/lib/python3.11/site-packages (from torch>=2.0.0->accelerate>=0.34.0->trl==0.18.2) (1.11.1.6)\n",
      "Requirement already satisfied: triton==3.3.0 in /opt/conda/envs/py311/lib/python3.11/site-packages (from torch>=2.0.0->accelerate>=0.34.0->trl==0.18.2) (3.3.0)\n",
      "Requirement already satisfied: setuptools>=40.8.0 in /opt/conda/envs/py311/lib/python3.11/site-packages (from triton==3.3.0->torch>=2.0.0->accelerate>=0.34.0->trl==0.18.2) (80.9.0)\n",
      "Requirement already satisfied: mpmath<1.4,>=1.1.0 in /opt/conda/envs/py311/lib/python3.11/site-packages (from sympy>=1.13.3->torch>=2.0.0->accelerate>=0.34.0->trl==0.18.2) (1.3.0)\n",
      "Requirement already satisfied: regex!=2019.12.17 in /opt/conda/envs/py311/lib/python3.11/site-packages (from transformers>=4.50.0->trl==0.18.2) (2024.11.6)\n",
      "Requirement already satisfied: tokenizers<0.22,>=0.21 in /opt/conda/envs/py311/lib/python3.11/site-packages (from transformers>=4.50.0->trl==0.18.2) (0.21.1)\n",
      "Requirement already satisfied: MarkupSafe>=2.0 in /opt/conda/envs/py311/lib/python3.11/site-packages (from jinja2->torch>=2.0.0->accelerate>=0.34.0->trl==0.18.2) (3.0.2)\n",
      "Requirement already satisfied: python-dateutil>=2.8.2 in /opt/conda/envs/py311/lib/python3.11/site-packages (from pandas->datasets>=3.0.0->trl==0.18.2) (2.9.0.post0)\n",
      "Requirement already satisfied: pytz>=2020.1 in /opt/conda/envs/py311/lib/python3.11/site-packages (from pandas->datasets>=3.0.0->trl==0.18.2) (2025.2)\n",
      "Requirement already satisfied: tzdata>=2022.7 in /opt/conda/envs/py311/lib/python3.11/site-packages (from pandas->datasets>=3.0.0->trl==0.18.2) (2025.2)\n",
      "Requirement already satisfied: six>=1.5 in /opt/conda/envs/py311/lib/python3.11/site-packages (from python-dateutil>=2.8.2->pandas->datasets>=3.0.0->trl==0.18.2) (1.17.0)\n"
     ]
    }
   ],
   "source": [
    "!pip install https://artifactory.paypalinc.com/artifactory/api/pypi/python/packages/packages/04/57/f1cf3cf20fa78a3dcd6c7cc95e9f635bdf4fe12f00894d648b0cb5e42e54/trl-0.18.2-py3-none-any.whl"
   ]
  },
  {
   "cell_type": "code",
   "execution_count": 3,
   "id": "1487fe56-90ba-4ffa-953e-b703de309290",
   "metadata": {
    "collapsed": true,
    "execution": {
     "iopub.execute_input": "2025-06-22T13:24:27.475853Z",
     "iopub.status.busy": "2025-06-22T13:24:27.475117Z",
     "iopub.status.idle": "2025-06-22T13:24:28.377162Z",
     "shell.execute_reply": "2025-06-22T13:24:28.376458Z",
     "shell.execute_reply.started": "2025-06-22T13:24:27.475832Z"
    },
    "jupyter": {
     "outputs_hidden": true
    },
    "tags": []
   },
   "outputs": [
    {
     "name": "stdout",
     "output_type": "stream",
     "text": [
      "Looking in indexes: https://dtr-vip.ccg13.slc.paypalinc.com/artifactory/api/pypi/python/simple\n",
      "Requirement already satisfied: peft in /opt/conda/envs/py311/lib/python3.11/site-packages (0.15.2)\n",
      "Requirement already satisfied: numpy>=1.17 in /opt/conda/envs/py311/lib/python3.11/site-packages (from peft) (2.3.0)\n",
      "Requirement already satisfied: packaging>=20.0 in /opt/conda/envs/py311/lib/python3.11/site-packages (from peft) (25.0)\n",
      "Requirement already satisfied: psutil in /opt/conda/envs/py311/lib/python3.11/site-packages (from peft) (5.9.8)\n",
      "Requirement already satisfied: pyyaml in /opt/conda/envs/py311/lib/python3.11/site-packages (from peft) (6.0.2)\n",
      "Requirement already satisfied: torch>=1.13.0 in /opt/conda/envs/py311/lib/python3.11/site-packages (from peft) (2.7.0)\n",
      "Requirement already satisfied: transformers in /opt/conda/envs/py311/lib/python3.11/site-packages (from peft) (4.51.3)\n",
      "Requirement already satisfied: tqdm in /opt/conda/envs/py311/lib/python3.11/site-packages (from peft) (4.67.1)\n",
      "Requirement already satisfied: accelerate>=0.21.0 in /opt/conda/envs/py311/lib/python3.11/site-packages (from peft) (1.7.0)\n",
      "Requirement already satisfied: safetensors in /opt/conda/envs/py311/lib/python3.11/site-packages (from peft) (0.5.3)\n",
      "Requirement already satisfied: huggingface_hub>=0.25.0 in /opt/conda/envs/py311/lib/python3.11/site-packages (from peft) (0.33.0)\n",
      "Requirement already satisfied: filelock in /opt/conda/envs/py311/lib/python3.11/site-packages (from huggingface_hub>=0.25.0->peft) (3.18.0)\n",
      "Requirement already satisfied: fsspec>=2023.5.0 in /opt/conda/envs/py311/lib/python3.11/site-packages (from huggingface_hub>=0.25.0->peft) (2025.3.0)\n",
      "Requirement already satisfied: requests in /opt/conda/envs/py311/lib/python3.11/site-packages (from huggingface_hub>=0.25.0->peft) (2.32.4)\n",
      "Requirement already satisfied: typing-extensions>=3.7.4.3 in /opt/conda/envs/py311/lib/python3.11/site-packages (from huggingface_hub>=0.25.0->peft) (4.14.0)\n",
      "Requirement already satisfied: hf-xet<2.0.0,>=1.1.2 in /opt/conda/envs/py311/lib/python3.11/site-packages (from huggingface_hub>=0.25.0->peft) (1.1.4)\n",
      "Requirement already satisfied: sympy>=1.13.3 in /opt/conda/envs/py311/lib/python3.11/site-packages (from torch>=1.13.0->peft) (1.14.0)\n",
      "Requirement already satisfied: networkx in /opt/conda/envs/py311/lib/python3.11/site-packages (from torch>=1.13.0->peft) (3.5)\n",
      "Requirement already satisfied: jinja2 in /opt/conda/envs/py311/lib/python3.11/site-packages (from torch>=1.13.0->peft) (3.1.6)\n",
      "Requirement already satisfied: nvidia-cuda-nvrtc-cu12==12.6.77 in /opt/conda/envs/py311/lib/python3.11/site-packages (from torch>=1.13.0->peft) (12.6.77)\n",
      "Requirement already satisfied: nvidia-cuda-runtime-cu12==12.6.77 in /opt/conda/envs/py311/lib/python3.11/site-packages (from torch>=1.13.0->peft) (12.6.77)\n",
      "Requirement already satisfied: nvidia-cuda-cupti-cu12==12.6.80 in /opt/conda/envs/py311/lib/python3.11/site-packages (from torch>=1.13.0->peft) (12.6.80)\n",
      "Requirement already satisfied: nvidia-cudnn-cu12==9.5.1.17 in /opt/conda/envs/py311/lib/python3.11/site-packages (from torch>=1.13.0->peft) (9.5.1.17)\n",
      "Requirement already satisfied: nvidia-cublas-cu12==12.6.4.1 in /opt/conda/envs/py311/lib/python3.11/site-packages (from torch>=1.13.0->peft) (12.6.4.1)\n",
      "Requirement already satisfied: nvidia-cufft-cu12==11.3.0.4 in /opt/conda/envs/py311/lib/python3.11/site-packages (from torch>=1.13.0->peft) (11.3.0.4)\n",
      "Requirement already satisfied: nvidia-curand-cu12==10.3.7.77 in /opt/conda/envs/py311/lib/python3.11/site-packages (from torch>=1.13.0->peft) (10.3.7.77)\n",
      "Requirement already satisfied: nvidia-cusolver-cu12==11.7.1.2 in /opt/conda/envs/py311/lib/python3.11/site-packages (from torch>=1.13.0->peft) (11.7.1.2)\n",
      "Requirement already satisfied: nvidia-cusparse-cu12==12.5.4.2 in /opt/conda/envs/py311/lib/python3.11/site-packages (from torch>=1.13.0->peft) (12.5.4.2)\n",
      "Requirement already satisfied: nvidia-cusparselt-cu12==0.6.3 in /opt/conda/envs/py311/lib/python3.11/site-packages (from torch>=1.13.0->peft) (0.6.3)\n",
      "Requirement already satisfied: nvidia-nccl-cu12==2.26.2 in /opt/conda/envs/py311/lib/python3.11/site-packages (from torch>=1.13.0->peft) (2.26.2)\n",
      "Requirement already satisfied: nvidia-nvtx-cu12==12.6.77 in /opt/conda/envs/py311/lib/python3.11/site-packages (from torch>=1.13.0->peft) (12.6.77)\n",
      "Requirement already satisfied: nvidia-nvjitlink-cu12==12.6.85 in /opt/conda/envs/py311/lib/python3.11/site-packages (from torch>=1.13.0->peft) (12.6.85)\n",
      "Requirement already satisfied: nvidia-cufile-cu12==1.11.1.6 in /opt/conda/envs/py311/lib/python3.11/site-packages (from torch>=1.13.0->peft) (1.11.1.6)\n",
      "Requirement already satisfied: triton==3.3.0 in /opt/conda/envs/py311/lib/python3.11/site-packages (from torch>=1.13.0->peft) (3.3.0)\n",
      "Requirement already satisfied: setuptools>=40.8.0 in /opt/conda/envs/py311/lib/python3.11/site-packages (from triton==3.3.0->torch>=1.13.0->peft) (80.9.0)\n",
      "Requirement already satisfied: mpmath<1.4,>=1.1.0 in /opt/conda/envs/py311/lib/python3.11/site-packages (from sympy>=1.13.3->torch>=1.13.0->peft) (1.3.0)\n",
      "Requirement already satisfied: MarkupSafe>=2.0 in /opt/conda/envs/py311/lib/python3.11/site-packages (from jinja2->torch>=1.13.0->peft) (3.0.2)\n",
      "Requirement already satisfied: charset_normalizer<4,>=2 in /opt/conda/envs/py311/lib/python3.11/site-packages (from requests->huggingface_hub>=0.25.0->peft) (3.4.2)\n",
      "Requirement already satisfied: idna<4,>=2.5 in /opt/conda/envs/py311/lib/python3.11/site-packages (from requests->huggingface_hub>=0.25.0->peft) (3.10)\n",
      "Requirement already satisfied: urllib3<3,>=1.21.1 in /opt/conda/envs/py311/lib/python3.11/site-packages (from requests->huggingface_hub>=0.25.0->peft) (1.26.20)\n",
      "Requirement already satisfied: certifi>=2017.4.17 in /opt/conda/envs/py311/lib/python3.11/site-packages (from requests->huggingface_hub>=0.25.0->peft) (2025.6.15)\n",
      "Requirement already satisfied: regex!=2019.12.17 in /opt/conda/envs/py311/lib/python3.11/site-packages (from transformers->peft) (2024.11.6)\n",
      "Requirement already satisfied: tokenizers<0.22,>=0.21 in /opt/conda/envs/py311/lib/python3.11/site-packages (from transformers->peft) (0.21.1)\n"
     ]
    }
   ],
   "source": [
    "!pip install peft --user"
   ]
  },
  {
   "cell_type": "code",
   "execution_count": 4,
   "id": "af45c180-dbba-4f5d-abfe-edb427ccec61",
   "metadata": {
    "collapsed": true,
    "execution": {
     "iopub.execute_input": "2025-06-22T13:24:42.940343Z",
     "iopub.status.busy": "2025-06-22T13:24:42.939465Z",
     "iopub.status.idle": "2025-06-22T13:24:54.691912Z",
     "shell.execute_reply": "2025-06-22T13:24:54.691235Z",
     "shell.execute_reply.started": "2025-06-22T13:24:42.940320Z"
    },
    "jupyter": {
     "outputs_hidden": true
    },
    "tags": []
   },
   "outputs": [
    {
     "name": "stdout",
     "output_type": "stream",
     "text": [
      "Looking in indexes: https://dtr-vip.ccg13.slc.paypalinc.com/artifactory/api/pypi/python/simple\n",
      "Collecting bitsandbytes\n",
      "  Using cached https://dtr-vip.ccg13.slc.paypalinc.com/artifactory/api/pypi/python/packages/packages/db/9d/9382259196d7ad7f3550702390081224e673a705e75b5660ee377b592fc0/bitsandbytes-0.45.2-py3-none-manylinux_2_24_x86_64.whl (69.7 MB)\n",
      "Requirement already satisfied: torch<3,>=2.0 in /opt/conda/envs/py311/lib/python3.11/site-packages (from bitsandbytes) (2.7.0)\n",
      "Requirement already satisfied: numpy>=1.17 in /opt/conda/envs/py311/lib/python3.11/site-packages (from bitsandbytes) (2.3.0)\n",
      "Requirement already satisfied: filelock in /opt/conda/envs/py311/lib/python3.11/site-packages (from torch<3,>=2.0->bitsandbytes) (3.18.0)\n",
      "Requirement already satisfied: typing-extensions>=4.10.0 in /opt/conda/envs/py311/lib/python3.11/site-packages (from torch<3,>=2.0->bitsandbytes) (4.14.0)\n",
      "Requirement already satisfied: sympy>=1.13.3 in /opt/conda/envs/py311/lib/python3.11/site-packages (from torch<3,>=2.0->bitsandbytes) (1.14.0)\n",
      "Requirement already satisfied: networkx in /opt/conda/envs/py311/lib/python3.11/site-packages (from torch<3,>=2.0->bitsandbytes) (3.5)\n",
      "Requirement already satisfied: jinja2 in /opt/conda/envs/py311/lib/python3.11/site-packages (from torch<3,>=2.0->bitsandbytes) (3.1.6)\n",
      "Requirement already satisfied: fsspec in /opt/conda/envs/py311/lib/python3.11/site-packages (from torch<3,>=2.0->bitsandbytes) (2025.3.0)\n",
      "Requirement already satisfied: nvidia-cuda-nvrtc-cu12==12.6.77 in /opt/conda/envs/py311/lib/python3.11/site-packages (from torch<3,>=2.0->bitsandbytes) (12.6.77)\n",
      "Requirement already satisfied: nvidia-cuda-runtime-cu12==12.6.77 in /opt/conda/envs/py311/lib/python3.11/site-packages (from torch<3,>=2.0->bitsandbytes) (12.6.77)\n",
      "Requirement already satisfied: nvidia-cuda-cupti-cu12==12.6.80 in /opt/conda/envs/py311/lib/python3.11/site-packages (from torch<3,>=2.0->bitsandbytes) (12.6.80)\n",
      "Requirement already satisfied: nvidia-cudnn-cu12==9.5.1.17 in /opt/conda/envs/py311/lib/python3.11/site-packages (from torch<3,>=2.0->bitsandbytes) (9.5.1.17)\n",
      "Requirement already satisfied: nvidia-cublas-cu12==12.6.4.1 in /opt/conda/envs/py311/lib/python3.11/site-packages (from torch<3,>=2.0->bitsandbytes) (12.6.4.1)\n",
      "Requirement already satisfied: nvidia-cufft-cu12==11.3.0.4 in /opt/conda/envs/py311/lib/python3.11/site-packages (from torch<3,>=2.0->bitsandbytes) (11.3.0.4)\n",
      "Requirement already satisfied: nvidia-curand-cu12==10.3.7.77 in /opt/conda/envs/py311/lib/python3.11/site-packages (from torch<3,>=2.0->bitsandbytes) (10.3.7.77)\n",
      "Requirement already satisfied: nvidia-cusolver-cu12==11.7.1.2 in /opt/conda/envs/py311/lib/python3.11/site-packages (from torch<3,>=2.0->bitsandbytes) (11.7.1.2)\n",
      "Requirement already satisfied: nvidia-cusparse-cu12==12.5.4.2 in /opt/conda/envs/py311/lib/python3.11/site-packages (from torch<3,>=2.0->bitsandbytes) (12.5.4.2)\n",
      "Requirement already satisfied: nvidia-cusparselt-cu12==0.6.3 in /opt/conda/envs/py311/lib/python3.11/site-packages (from torch<3,>=2.0->bitsandbytes) (0.6.3)\n",
      "Requirement already satisfied: nvidia-nccl-cu12==2.26.2 in /opt/conda/envs/py311/lib/python3.11/site-packages (from torch<3,>=2.0->bitsandbytes) (2.26.2)\n",
      "Requirement already satisfied: nvidia-nvtx-cu12==12.6.77 in /opt/conda/envs/py311/lib/python3.11/site-packages (from torch<3,>=2.0->bitsandbytes) (12.6.77)\n",
      "Requirement already satisfied: nvidia-nvjitlink-cu12==12.6.85 in /opt/conda/envs/py311/lib/python3.11/site-packages (from torch<3,>=2.0->bitsandbytes) (12.6.85)\n",
      "Requirement already satisfied: nvidia-cufile-cu12==1.11.1.6 in /opt/conda/envs/py311/lib/python3.11/site-packages (from torch<3,>=2.0->bitsandbytes) (1.11.1.6)\n",
      "Requirement already satisfied: triton==3.3.0 in /opt/conda/envs/py311/lib/python3.11/site-packages (from torch<3,>=2.0->bitsandbytes) (3.3.0)\n",
      "Requirement already satisfied: setuptools>=40.8.0 in /opt/conda/envs/py311/lib/python3.11/site-packages (from triton==3.3.0->torch<3,>=2.0->bitsandbytes) (80.9.0)\n",
      "Requirement already satisfied: mpmath<1.4,>=1.1.0 in /opt/conda/envs/py311/lib/python3.11/site-packages (from sympy>=1.13.3->torch<3,>=2.0->bitsandbytes) (1.3.0)\n",
      "Requirement already satisfied: MarkupSafe>=2.0 in /opt/conda/envs/py311/lib/python3.11/site-packages (from jinja2->torch<3,>=2.0->bitsandbytes) (3.0.2)\n",
      "Installing collected packages: bitsandbytes\n",
      "Successfully installed bitsandbytes-0.45.2\n"
     ]
    }
   ],
   "source": [
    "!pip install -U bitsandbytes --user"
   ]
  },
  {
   "cell_type": "code",
   "execution_count": 3,
   "id": "af2007c9-bab1-410f-a319-51b6698a4002",
   "metadata": {
    "collapsed": true,
    "execution": {
     "iopub.execute_input": "2025-06-22T13:26:51.287157Z",
     "iopub.status.busy": "2025-06-22T13:26:51.286479Z",
     "iopub.status.idle": "2025-06-22T13:47:56.452837Z",
     "shell.execute_reply": "2025-06-22T13:47:56.452231Z",
     "shell.execute_reply.started": "2025-06-22T13:26:51.287134Z"
    },
    "jupyter": {
     "outputs_hidden": true
    },
    "tags": []
   },
   "outputs": [
    {
     "name": "stdout",
     "output_type": "stream",
     "text": [
      "Looking in indexes: https://dtr-vip.ccg13.slc.paypalinc.com/artifactory/api/pypi/python/simple\n",
      "Collecting tf_keras\n",
      "  Using cached https://dtr-vip.ccg13.slc.paypalinc.com/artifactory/api/pypi/python/packages/packages/8a/ed/e08afca471299b04a34cd548e64e89d0153eda0e6cf9b715356777e24774/tf_keras-2.18.0-py3-none-any.whl (1.7 MB)\n",
      "Collecting tensorflow<2.19,>=2.18 (from tf_keras)\n",
      "  Using cached https://dtr-vip.ccg13.slc.paypalinc.com/artifactory/api/pypi/python/packages/packages/84/76/c55967ac9968ddaede25a4dce37aba37e9030656f02c12676151ce1b6f22/tensorflow-2.18.0-cp311-cp311-manylinux_2_17_x86_64.manylinux2014_x86_64.whl (615.4 MB)\n",
      "Requirement already satisfied: absl-py>=1.0.0 in /opt/conda/envs/py311/lib/python3.11/site-packages (from tensorflow<2.19,>=2.18->tf_keras) (2.3.0)\n",
      "Requirement already satisfied: astunparse>=1.6.0 in /opt/conda/envs/py311/lib/python3.11/site-packages (from tensorflow<2.19,>=2.18->tf_keras) (1.6.3)\n",
      "Requirement already satisfied: flatbuffers>=24.3.25 in /opt/conda/envs/py311/lib/python3.11/site-packages (from tensorflow<2.19,>=2.18->tf_keras) (25.2.10)\n",
      "Requirement already satisfied: gast!=0.5.0,!=0.5.1,!=0.5.2,>=0.2.1 in /opt/conda/envs/py311/lib/python3.11/site-packages (from tensorflow<2.19,>=2.18->tf_keras) (0.6.0)\n",
      "Requirement already satisfied: google-pasta>=0.1.1 in /opt/conda/envs/py311/lib/python3.11/site-packages (from tensorflow<2.19,>=2.18->tf_keras) (0.2.0)\n",
      "Requirement already satisfied: libclang>=13.0.0 in /opt/conda/envs/py311/lib/python3.11/site-packages (from tensorflow<2.19,>=2.18->tf_keras) (18.1.1)\n",
      "Requirement already satisfied: opt-einsum>=2.3.2 in /opt/conda/envs/py311/lib/python3.11/site-packages (from tensorflow<2.19,>=2.18->tf_keras) (3.4.0)\n",
      "Requirement already satisfied: packaging in /opt/conda/envs/py311/lib/python3.11/site-packages (from tensorflow<2.19,>=2.18->tf_keras) (25.0)\n",
      "Collecting protobuf!=4.21.0,!=4.21.1,!=4.21.2,!=4.21.3,!=4.21.4,!=4.21.5,<6.0.0dev,>=3.20.3 (from tensorflow<2.19,>=2.18->tf_keras)\n",
      "  Using cached https://dtr-vip.ccg13.slc.paypalinc.com/artifactory/api/pypi/python/packages/packages/a8/45/2ebbde52ad2be18d3675b6bee50e68cd73c9e0654de77d595540b5129df8/protobuf-5.29.3-cp38-abi3-manylinux2014_x86_64.whl (319 kB)\n",
      "Requirement already satisfied: requests<3,>=2.21.0 in /opt/conda/envs/py311/lib/python3.11/site-packages (from tensorflow<2.19,>=2.18->tf_keras) (2.32.4)\n",
      "Requirement already satisfied: setuptools in /opt/conda/envs/py311/lib/python3.11/site-packages (from tensorflow<2.19,>=2.18->tf_keras) (80.9.0)\n",
      "Requirement already satisfied: six>=1.12.0 in /opt/conda/envs/py311/lib/python3.11/site-packages (from tensorflow<2.19,>=2.18->tf_keras) (1.17.0)\n",
      "Requirement already satisfied: termcolor>=1.1.0 in /opt/conda/envs/py311/lib/python3.11/site-packages (from tensorflow<2.19,>=2.18->tf_keras) (3.1.0)\n",
      "Requirement already satisfied: typing-extensions>=3.6.6 in /opt/conda/envs/py311/lib/python3.11/site-packages (from tensorflow<2.19,>=2.18->tf_keras) (4.14.0)\n",
      "Requirement already satisfied: wrapt>=1.11.0 in /opt/conda/envs/py311/lib/python3.11/site-packages (from tensorflow<2.19,>=2.18->tf_keras) (1.17.2)\n",
      "Requirement already satisfied: grpcio<2.0,>=1.24.3 in /opt/conda/envs/py311/lib/python3.11/site-packages (from tensorflow<2.19,>=2.18->tf_keras) (1.73.0)\n",
      "Collecting tensorboard<2.19,>=2.18 (from tensorflow<2.19,>=2.18->tf_keras)\n",
      "  Using cached https://dtr-vip.ccg13.slc.paypalinc.com/artifactory/api/pypi/python/packages/packages/b1/de/021c1d407befb505791764ad2cbd56ceaaa53a746baed01d2e2143f05f18/tensorboard-2.18.0-py3-none-any.whl (5.5 MB)\n",
      "Requirement already satisfied: keras>=3.5.0 in /opt/conda/envs/py311/lib/python3.11/site-packages (from tensorflow<2.19,>=2.18->tf_keras) (3.10.0)\n",
      "Collecting numpy<2.1.0,>=1.26.0 (from tensorflow<2.19,>=2.18->tf_keras)\n",
      "  Using cached https://dtr-vip.ccg13.slc.paypalinc.com/artifactory/api/pypi/python/packages/packages/ba/a8/c17acf65a931ce551fee11b72e8de63bf7e8a6f0e21add4c937c83563538/numpy-2.0.2-cp311-cp311-manylinux_2_17_x86_64.manylinux2014_x86_64.whl (19.5 MB)\n",
      "Requirement already satisfied: h5py>=3.11.0 in /opt/conda/envs/py311/lib/python3.11/site-packages (from tensorflow<2.19,>=2.18->tf_keras) (3.14.0)\n",
      "Collecting ml-dtypes<0.5.0,>=0.4.0 (from tensorflow<2.19,>=2.18->tf_keras)\n",
      "  Using cached https://dtr-vip.ccg13.slc.paypalinc.com/artifactory/api/pypi/python/packages/packages/28/bc/6a2344338ea7b61cd7b46fb24ec459360a5a0903b57c55b156c1e46c644a/ml_dtypes-0.4.1-cp311-cp311-manylinux_2_17_x86_64.manylinux2014_x86_64.whl (2.2 MB)\n",
      "Requirement already satisfied: tensorflow-io-gcs-filesystem>=0.23.1 in /opt/conda/envs/py311/lib/python3.11/site-packages (from tensorflow<2.19,>=2.18->tf_keras) (0.37.1)\n",
      "Requirement already satisfied: charset_normalizer<4,>=2 in /opt/conda/envs/py311/lib/python3.11/site-packages (from requests<3,>=2.21.0->tensorflow<2.19,>=2.18->tf_keras) (3.4.2)\n",
      "Requirement already satisfied: idna<4,>=2.5 in /opt/conda/envs/py311/lib/python3.11/site-packages (from requests<3,>=2.21.0->tensorflow<2.19,>=2.18->tf_keras) (3.10)\n",
      "Requirement already satisfied: urllib3<3,>=1.21.1 in /opt/conda/envs/py311/lib/python3.11/site-packages (from requests<3,>=2.21.0->tensorflow<2.19,>=2.18->tf_keras) (1.26.20)\n",
      "Requirement already satisfied: certifi>=2017.4.17 in /opt/conda/envs/py311/lib/python3.11/site-packages (from requests<3,>=2.21.0->tensorflow<2.19,>=2.18->tf_keras) (2025.6.15)\n",
      "Requirement already satisfied: markdown>=2.6.8 in /opt/conda/envs/py311/lib/python3.11/site-packages (from tensorboard<2.19,>=2.18->tensorflow<2.19,>=2.18->tf_keras) (3.8)\n",
      "Requirement already satisfied: tensorboard-data-server<0.8.0,>=0.7.0 in /opt/conda/envs/py311/lib/python3.11/site-packages (from tensorboard<2.19,>=2.18->tensorflow<2.19,>=2.18->tf_keras) (0.7.2)\n",
      "Requirement already satisfied: werkzeug>=1.0.1 in /opt/conda/envs/py311/lib/python3.11/site-packages (from tensorboard<2.19,>=2.18->tensorflow<2.19,>=2.18->tf_keras) (3.1.3)\n",
      "Requirement already satisfied: wheel<1.0,>=0.23.0 in /opt/conda/envs/py311/lib/python3.11/site-packages (from astunparse>=1.6.0->tensorflow<2.19,>=2.18->tf_keras) (0.45.1)\n",
      "Requirement already satisfied: rich in /opt/conda/envs/py311/lib/python3.11/site-packages (from keras>=3.5.0->tensorflow<2.19,>=2.18->tf_keras) (13.9.4)\n",
      "Requirement already satisfied: namex in /opt/conda/envs/py311/lib/python3.11/site-packages (from keras>=3.5.0->tensorflow<2.19,>=2.18->tf_keras) (0.1.0)\n",
      "Requirement already satisfied: optree in /opt/conda/envs/py311/lib/python3.11/site-packages (from keras>=3.5.0->tensorflow<2.19,>=2.18->tf_keras) (0.16.0)\n",
      "Requirement already satisfied: MarkupSafe>=2.1.1 in /opt/conda/envs/py311/lib/python3.11/site-packages (from werkzeug>=1.0.1->tensorboard<2.19,>=2.18->tensorflow<2.19,>=2.18->tf_keras) (3.0.2)\n",
      "Requirement already satisfied: markdown-it-py>=2.2.0 in /opt/conda/envs/py311/lib/python3.11/site-packages (from rich->keras>=3.5.0->tensorflow<2.19,>=2.18->tf_keras) (3.0.0)\n",
      "Requirement already satisfied: pygments<3.0.0,>=2.13.0 in /opt/conda/envs/py311/lib/python3.11/site-packages (from rich->keras>=3.5.0->tensorflow<2.19,>=2.18->tf_keras) (2.19.1)\n",
      "Requirement already satisfied: mdurl~=0.1 in /opt/conda/envs/py311/lib/python3.11/site-packages (from markdown-it-py>=2.2.0->rich->keras>=3.5.0->tensorflow<2.19,>=2.18->tf_keras) (0.1.2)\n",
      "Installing collected packages: protobuf, numpy, tensorboard, ml-dtypes, tensorflow, tf_keras\n",
      "\u001b[2K   \u001b[91m━━━━━━\u001b[0m\u001b[91m╸\u001b[0m\u001b[90m━━━━━━━━━━━━━━━━━━━━━━━━━━━━━━━━━\u001b[0m \u001b[32m1/6\u001b[0m [numpy]\u001b[33m  WARNING: The scripts f2py and numpy-config are installed in '/projects/ctrl-alt-elite/apps/ctrl-alt-elite/research/.local/pyvenv/dtr-vip.ccg13.slc.paypalinc.com/core-data-platform/notebook-server-gpu-py311-venmo/nightly.202506181212/bin' which is not on PATH.\n",
      "  Consider adding this directory to PATH or, if you prefer to suppress this warning, use --no-warn-script-location.\u001b[0m\u001b[33m\n",
      "\u001b[2K   \u001b[91m━━━━━━━━━━━━━\u001b[0m\u001b[90m╺\u001b[0m\u001b[90m━━━━━━━━━━━━━━━━━━━━━━━━━━\u001b[0m \u001b[32m2/6\u001b[0m [tensorboard]\u001b[33m  WARNING: The script tensorboard is installed in '/projects/ctrl-alt-elite/apps/ctrl-alt-elite/research/.local/pyvenv/dtr-vip.ccg13.slc.paypalinc.com/core-data-platform/notebook-server-gpu-py311-venmo/nightly.202506181212/bin' which is not on PATH.\n",
      "  Consider adding this directory to PATH or, if you prefer to suppress this warning, use --no-warn-script-location.\u001b[0m\u001b[33m\n",
      "\u001b[2K   \u001b[91m━━━━━━━━━━━━━━━━━━━━━━━━━━\u001b[0m\u001b[91m╸\u001b[0m\u001b[90m━━━━━━━━━━━━━\u001b[0m \u001b[32m4/6\u001b[0m [tensorflow]]\u001b[33m  WARNING: The scripts import_pb_to_tensorboard, saved_model_cli, tensorboard, tf_upgrade_v2, tflite_convert, toco and toco_from_protos are installed in '/projects/ctrl-alt-elite/apps/ctrl-alt-elite/research/.local/pyvenv/dtr-vip.ccg13.slc.paypalinc.com/core-data-platform/notebook-server-gpu-py311-venmo/nightly.202506181212/bin' which is not on PATH.\n",
      "  Consider adding this directory to PATH or, if you prefer to suppress this warning, use --no-warn-script-location.\u001b[0m\u001b[33m\n",
      "\u001b[2K   \u001b[90m━━━━━━━━━━━━━━━━━━━━━━━━━━━━━━━━━━━━━━━━\u001b[0m \u001b[32m6/6\u001b[0m [tf_keras]5/6\u001b[0m [tf_keras]w]\n",
      "\u001b[1A\u001b[2K\u001b[31mERROR: pip's dependency resolver does not currently take into account all the packages that are installed. This behaviour is the source of the following dependency conflicts.\n",
      "pp-magics 2.0.250411144046 requires ast2json, which is not installed.\n",
      "pp-magics 2.0.250411144046 requires featureaccess-sdk, which is not installed.\n",
      "pp-magics 2.0.250411144046 requires hdfs3, which is not installed.\n",
      "pp-magics 2.0.250411144046 requires impyla==0.18a4, which is not installed.\n",
      "pp-magics 2.0.250411144046 requires ipython-sql==0.3.8, which is not installed.\n",
      "pp-magics 2.0.250411144046 requires mmh3, which is not installed.\n",
      "pp-magics 2.0.250411144046 requires pp-remoteconfig, which is not installed.\n",
      "pp-magics 2.0.250411144046 requires prettytable, which is not installed.\n",
      "pp-magics 2.0.250411144046 requires pycrypto, which is not installed.\n",
      "pp-magics 2.0.250411144046 requires pyhive==0.2.1, which is not installed.\n",
      "pp-magics 2.0.250411144046 requires pykerberos, which is not installed.\n",
      "pp-magics 2.0.250411144046 requires pysftp==0.2.9, which is not installed.\n",
      "pp-magics 2.0.250411144046 requires pysims-sdk, which is not installed.\n",
      "pp-magics 2.0.250411144046 requires qgrid>=1.0.2, which is not installed.\n",
      "pp-magics 2.0.250411144046 requires restaccess-sdk, which is not installed.\n",
      "pp-magics 2.0.250411144046 requires sqlparse, which is not installed.\n",
      "pp-magics 2.0.250411144046 requires tableauhyperapi==0.0.15305, which is not installed.\n",
      "pp-magics 2.0.250411144046 requires tableausdk, which is not installed.\n",
      "pp-magics 2.0.250411144046 requires tableauserverclient, which is not installed.\n",
      "pp-magics 2.0.250411144046 requires teradata==15.10.0.20, which is not installed.\n",
      "pp-magics 2.0.250411144046 requires thrift-sasl==0.4.3, which is not installed.\n",
      "pp-magics 2.0.250411144046 requires thriftpy2==0.4.16, which is not installed.\n",
      "pp-magics 2.0.250411144046 requires vectordb-notebook-client, which is not installed.\n",
      "vllm 0.9.1 requires fastapi[standard]>=0.115.0, but you have fastapi 0.110.3 which is incompatible.\n",
      "tensorflow-text 2.19.0 requires tensorflow<2.20,>=2.19.0, but you have tensorflow 2.18.0 which is incompatible.\n",
      "pp-magics 2.0.250411144046 requires markdown==2.6.11, but you have markdown 3.8 which is incompatible.\n",
      "pp-magics 2.0.250411144046 requires protobuf==3.5.2.post1, but you have protobuf 5.29.3 which is incompatible.\n",
      "pp-magics 2.0.250411144046 requires thrift==0.16.0, but you have thrift 0.22.0 which is incompatible.\u001b[0m\u001b[31m\n",
      "\u001b[0mSuccessfully installed ml-dtypes-0.4.1 numpy-2.0.2 protobuf-5.29.3 tensorboard-2.18.0 tensorflow-2.18.0 tf_keras-2.18.0\n"
     ]
    }
   ],
   "source": [
    "!pip install tf_keras --user"
   ]
  },
  {
   "cell_type": "code",
   "execution_count": 1,
   "id": "9f0bae56-7ea4-4fbe-a386-95b0557875ce",
   "metadata": {
    "execution": {
     "iopub.execute_input": "2025-06-23T17:24:45.014983Z",
     "iopub.status.busy": "2025-06-23T17:24:45.014590Z",
     "iopub.status.idle": "2025-06-23T17:24:45.383166Z",
     "shell.execute_reply": "2025-06-23T17:24:45.382706Z",
     "shell.execute_reply.started": "2025-06-23T17:24:45.014956Z"
    },
    "tags": []
   },
   "outputs": [
    {
     "name": "stdout",
     "output_type": "stream",
     "text": [
      "Mon Jun 23 17:24:45 2025       \n",
      "+---------------------------------------------------------------------------------------+\n",
      "| NVIDIA-SMI 535.183.06             Driver Version: 535.183.06   CUDA Version: 12.2     |\n",
      "|-----------------------------------------+----------------------+----------------------+\n",
      "| GPU  Name                 Persistence-M | Bus-Id        Disp.A | Volatile Uncorr. ECC |\n",
      "| Fan  Temp   Perf          Pwr:Usage/Cap |         Memory-Usage | GPU-Util  Compute M. |\n",
      "|                                         |                      |               MIG M. |\n",
      "|=========================================+======================+======================|\n",
      "|   0  NVIDIA H100 80GB HBM3          Off | 00000000:8C:00.0 Off |                    0 |\n",
      "| N/A   31C    P0              66W / 700W |      0MiB / 81559MiB |      0%      Default |\n",
      "|                                         |                      |             Disabled |\n",
      "+-----------------------------------------+----------------------+----------------------+\n",
      "                                                                                         \n",
      "+---------------------------------------------------------------------------------------+\n",
      "| Processes:                                                                            |\n",
      "|  GPU   GI   CI        PID   Type   Process name                            GPU Memory |\n",
      "|        ID   ID                                                             Usage      |\n",
      "|=======================================================================================|\n",
      "|  No running processes found                                                           |\n",
      "+---------------------------------------------------------------------------------------+\n"
     ]
    }
   ],
   "source": [
    "!nvidia-smi"
   ]
  },
  {
   "cell_type": "code",
   "execution_count": null,
   "id": "610e10f0-8833-4eb4-bb2a-2edf2da8b399",
   "metadata": {},
   "outputs": [],
   "source": []
  },
  {
   "cell_type": "code",
   "execution_count": 3,
   "id": "40c44c80-2ec0-480d-96d6-d4ec4858e5cb",
   "metadata": {
    "execution": {
     "iopub.execute_input": "2025-06-23T17:25:32.016339Z",
     "iopub.status.busy": "2025-06-23T17:25:32.014548Z",
     "iopub.status.idle": "2025-06-23T17:25:32.020120Z",
     "shell.execute_reply": "2025-06-23T17:25:32.019518Z",
     "shell.execute_reply.started": "2025-06-23T17:25:32.016305Z"
    },
    "tags": []
   },
   "outputs": [],
   "source": [
    "from datasets import load_dataset\n",
    "from transformers import AutoTokenizer, AutoModelForCausalLM, TrainingArguments, BitsAndBytesConfig\n",
    "from peft import LoraConfig, get_peft_model, prepare_model_for_kbit_training\n",
    "from trl import SFTTrainer\n",
    "import torch"
   ]
  },
  {
   "cell_type": "code",
   "execution_count": 4,
   "id": "ed671184-ff0f-4e82-aa2e-ba0672fc6f5f",
   "metadata": {
    "execution": {
     "iopub.execute_input": "2025-06-23T17:25:33.946523Z",
     "iopub.status.busy": "2025-06-23T17:25:33.945723Z",
     "iopub.status.idle": "2025-06-23T17:25:34.385718Z",
     "shell.execute_reply": "2025-06-23T17:25:34.385114Z",
     "shell.execute_reply.started": "2025-06-23T17:25:33.946502Z"
    },
    "tags": []
   },
   "outputs": [],
   "source": [
    "# model_path = '/projects/llm-repo/models/Qwen/Qwen2.5-7B-Instruct'\n",
    "model_path = '/projects/llm-repo/models/Qwen/Qwen2.5-14B-Instruct'\n",
    "tokenizer = AutoTokenizer.from_pretrained(model_path)\n",
    "tokenizer.pad_token = tokenizer.eos_token"
   ]
  },
  {
   "cell_type": "code",
   "execution_count": 5,
   "id": "687848fa-13e4-4170-9a09-88ee047b7efc",
   "metadata": {
    "execution": {
     "iopub.execute_input": "2025-06-23T17:25:51.268722Z",
     "iopub.status.busy": "2025-06-23T17:25:51.268396Z",
     "iopub.status.idle": "2025-06-23T17:25:51.295776Z",
     "shell.execute_reply": "2025-06-23T17:25:51.295293Z",
     "shell.execute_reply.started": "2025-06-23T17:25:51.268705Z"
    },
    "tags": []
   },
   "outputs": [],
   "source": [
    "bnb_config = BitsAndBytesConfig(\n",
    "        load_in_4bit=True,\n",
    "        bnb_4bit_quant_type=\"nf4\",\n",
    "        bnb_4bit_compute_dtype=torch.bfloat16,\n",
    "        bnb_4bit_use_double_quant=True,\n",
    "    )"
   ]
  },
  {
   "cell_type": "code",
   "execution_count": 6,
   "id": "6ce782fa-f3e2-4a8c-a8a6-cd2a5208d0da",
   "metadata": {
    "execution": {
     "iopub.execute_input": "2025-06-23T17:25:52.934108Z",
     "iopub.status.busy": "2025-06-23T17:25:52.933716Z",
     "iopub.status.idle": "2025-06-23T17:26:20.004309Z",
     "shell.execute_reply": "2025-06-23T17:26:20.003671Z",
     "shell.execute_reply.started": "2025-06-23T17:25:52.934091Z"
    },
    "tags": []
   },
   "outputs": [
    {
     "name": "stderr",
     "output_type": "stream",
     "text": [
      "Sliding Window Attention is enabled but not implemented for `sdpa`; unexpected results may be encountered.\n",
      "Loading checkpoint shards: 100%|██████████| 8/8 [00:26<00:00,  3.27s/it]\n"
     ]
    }
   ],
   "source": [
    "model = AutoModelForCausalLM.from_pretrained(\n",
    "    model_path,\n",
    "    quantization_config=bnb_config,\n",
    "    device_map=\"auto\"\n",
    ")"
   ]
  },
  {
   "cell_type": "code",
   "execution_count": 7,
   "id": "f5b4a9a1-d98d-49bc-84e6-84abe52410d0",
   "metadata": {
    "execution": {
     "iopub.execute_input": "2025-06-23T17:26:20.005396Z",
     "iopub.status.busy": "2025-06-23T17:26:20.005240Z",
     "iopub.status.idle": "2025-06-23T17:26:20.013875Z",
     "shell.execute_reply": "2025-06-23T17:26:20.013398Z",
     "shell.execute_reply.started": "2025-06-23T17:26:20.005382Z"
    },
    "tags": []
   },
   "outputs": [],
   "source": [
    "model = prepare_model_for_kbit_training(model)"
   ]
  },
  {
   "cell_type": "code",
   "execution_count": 8,
   "id": "72c9458c-ac0f-49a5-86a5-b7c47ddc0ab7",
   "metadata": {
    "execution": {
     "iopub.execute_input": "2025-06-23T17:26:20.014509Z",
     "iopub.status.busy": "2025-06-23T17:26:20.014382Z",
     "iopub.status.idle": "2025-06-23T17:26:21.041025Z",
     "shell.execute_reply": "2025-06-23T17:26:21.040355Z",
     "shell.execute_reply.started": "2025-06-23T17:26:20.014498Z"
    },
    "tags": []
   },
   "outputs": [],
   "source": [
    "lora_config = LoraConfig(\n",
    "    r=16,\n",
    "    lora_alpha=32,\n",
    "    target_modules=[\"q_proj\",\"k_proj\",\"v_proj\",\"o_proj\",\"gate_proj\",\"up_proj\",\"down_proj\"],\n",
    "    lora_dropout=0.05,\n",
    "    bias=\"none\",\n",
    "    task_type=\"CAUSAL_LM\"\n",
    ")\n",
    "model = get_peft_model(model,lora_config)"
   ]
  },
  {
   "cell_type": "code",
   "execution_count": 9,
   "id": "bdf1c6bf-9591-4abb-ad0c-a26ebdf2b41d",
   "metadata": {
    "execution": {
     "iopub.execute_input": "2025-06-23T17:26:23.993025Z",
     "iopub.status.busy": "2025-06-23T17:26:23.992710Z",
     "iopub.status.idle": "2025-06-23T17:26:25.523260Z",
     "shell.execute_reply": "2025-06-23T17:26:25.522813Z",
     "shell.execute_reply.started": "2025-06-23T17:26:23.993009Z"
    },
    "tags": []
   },
   "outputs": [
    {
     "name": "stderr",
     "output_type": "stream",
     "text": [
      "Generating train split: 70000 examples [00:00, 212315.00 examples/s]\n"
     ]
    }
   ],
   "source": [
    "# dataset = load_dataset(\"json\", data_files=\"/projects/asankaranarayana/Fine_Tune_Hackathon/v1/task_trajectories.jsonl\", split=\"train\")\n",
    "dataset = load_dataset(\"json\", data_files=\"/projects/asankaranarayana/Fine_Tune_Hackathon/v1/task_trajectories_v2.jsonl\", split=\"train\")\n"
   ]
  },
  {
   "cell_type": "code",
   "execution_count": 10,
   "id": "0f84fc9d-a9ed-4303-b388-23dfeb009e77",
   "metadata": {
    "execution": {
     "iopub.execute_input": "2025-06-23T17:26:28.825313Z",
     "iopub.status.busy": "2025-06-23T17:26:28.825081Z",
     "iopub.status.idle": "2025-06-23T17:26:29.307512Z",
     "shell.execute_reply": "2025-06-23T17:26:29.307095Z",
     "shell.execute_reply.started": "2025-06-23T17:26:28.825299Z"
    },
    "tags": []
   },
   "outputs": [],
   "source": [
    "split_dataset = dataset.train_test_split(test_size=0.15, seed=42)\n",
    "\n",
    "train_dataset = split_dataset['train']\n",
    "test_dataset = split_dataset['test']"
   ]
  },
  {
   "cell_type": "code",
   "execution_count": 11,
   "id": "13ffffbf-dc74-41af-8696-82889ffc66ed",
   "metadata": {
    "execution": {
     "iopub.execute_input": "2025-06-23T17:26:38.809336Z",
     "iopub.status.busy": "2025-06-23T17:26:38.808717Z",
     "iopub.status.idle": "2025-06-23T17:26:38.820128Z",
     "shell.execute_reply": "2025-06-23T17:26:38.819685Z",
     "shell.execute_reply.started": "2025-06-23T17:26:38.809323Z"
    },
    "tags": []
   },
   "outputs": [
    {
     "name": "stdout",
     "output_type": "stream",
     "text": [
      "trainable params: 68,812,800 || all params: 14,838,846,464 || trainable%: 0.4637\n"
     ]
    }
   ],
   "source": [
    "model.print_trainable_parameters()"
   ]
  },
  {
   "cell_type": "code",
   "execution_count": 12,
   "id": "0b7348c7-24b0-4f99-90a7-afce757d3cbb",
   "metadata": {
    "execution": {
     "iopub.execute_input": "2025-06-23T17:26:48.098192Z",
     "iopub.status.busy": "2025-06-23T17:26:48.097946Z",
     "iopub.status.idle": "2025-06-23T17:26:48.214906Z",
     "shell.execute_reply": "2025-06-23T17:26:48.214292Z",
     "shell.execute_reply.started": "2025-06-23T17:26:48.098179Z"
    },
    "tags": []
   },
   "outputs": [],
   "source": [
    "training_args = TrainingArguments(\n",
    "    # output_dir=\"./qwen_venmo_sft_v1\",\n",
    "    output_dir=\"./qwen_venmo_sft_v2\",\n",
    "    num_train_epochs=3,\n",
    "    per_device_train_batch_size=4,\n",
    "    gradient_accumulation_steps=4,\n",
    "    optim=\"paged_adamw_8bit\",\n",
    "    save_steps=100,\n",
    "    logging_steps=10,\n",
    "    learning_rate=2e-4,\n",
    "    fp16=True,\n",
    "    max_grad_norm=0.3,\n",
    "    max_steps=-1,\n",
    "    warmup_ratio=0.03,\n",
    "    lr_scheduler_type='cosine',\n",
    "    report_to=\"none\",\n",
    ")"
   ]
  },
  {
   "cell_type": "code",
   "execution_count": 13,
   "id": "11085c8f-0287-4f5e-8dba-ad7f687bd072",
   "metadata": {
    "execution": {
     "iopub.execute_input": "2025-06-23T17:26:50.387942Z",
     "iopub.status.busy": "2025-06-23T17:26:50.387276Z",
     "iopub.status.idle": "2025-06-23T17:28:01.735332Z",
     "shell.execute_reply": "2025-06-23T17:28:01.734745Z",
     "shell.execute_reply.started": "2025-06-23T17:26:50.387923Z"
    },
    "tags": []
   },
   "outputs": [
    {
     "name": "stderr",
     "output_type": "stream",
     "text": [
      "Converting train dataset to ChatML: 100%|██████████| 59500/59500 [00:03<00:00, 15827.64 examples/s]\n",
      "Applying chat template to train dataset: 100%|██████████| 59500/59500 [00:04<00:00, 12450.13 examples/s]\n",
      "Tokenizing train dataset: 100%|██████████| 59500/59500 [00:50<00:00, 1187.79 examples/s]\n",
      "Truncating train dataset: 100%|██████████| 59500/59500 [00:00<00:00, 68657.14 examples/s] \n",
      "Converting eval dataset to ChatML: 100%|██████████| 10500/10500 [00:00<00:00, 12714.98 examples/s]\n",
      "Applying chat template to eval dataset: 100%|██████████| 10500/10500 [00:00<00:00, 11610.22 examples/s]\n",
      "Tokenizing eval dataset: 100%|██████████| 10500/10500 [00:09<00:00, 1162.69 examples/s]\n",
      "Truncating eval dataset: 100%|██████████| 10500/10500 [00:00<00:00, 44460.52 examples/s]\n",
      "No label_names provided for model class `PeftModelForCausalLM`. Since `PeftModel` hides base models input arguments, if label_names is not given, label_names can't be set automatically within `Trainer`. Note that empty label_names list will be used instead.\n"
     ]
    }
   ],
   "source": [
    "trainer = SFTTrainer(\n",
    "    model = model,\n",
    "    train_dataset=train_dataset,\n",
    "    eval_dataset=test_dataset,\n",
    "    peft_config=lora_config,\n",
    "    processing_class=tokenizer,\n",
    "    args=training_args\n",
    ")"
   ]
  },
  {
   "cell_type": "code",
   "execution_count": null,
   "id": "5c69de50-b88f-4df3-b991-9ee321aeac7a",
   "metadata": {
    "execution": {
     "iopub.execute_input": "2025-06-23T17:28:08.395992Z",
     "iopub.status.busy": "2025-06-23T17:28:08.395650Z"
    },
    "tags": []
   },
   "outputs": [
    {
     "name": "stderr",
     "output_type": "stream",
     "text": [
      "`use_cache=True` is incompatible with gradient checkpointing. Setting `use_cache=False`.\n",
      "/opt/conda/envs/py311/lib/python3.11/site-packages/torch/_dynamo/eval_frame.py:838: UserWarning: torch.utils.checkpoint: the use_reentrant parameter should be passed explicitly. In version 2.5 we will raise an exception if use_reentrant is not passed. use_reentrant=False is recommended, but if you need to preserve the current default behavior, you can pass use_reentrant=True. Refer to docs for more details on the differences between the two variants.\n",
      "  return fn(*args, **kwargs)\n"
     ]
    },
    {
     "data": {
      "text/html": [
       "\n",
       "    <div>\n",
       "      \n",
       "      <progress value='31' max='11154' style='width:300px; height:20px; vertical-align: middle;'></progress>\n",
       "      [   31/11154 03:09 < 20:11:21, 0.15 it/s, Epoch 0.01/3]\n",
       "    </div>\n",
       "    <table border=\"1\" class=\"dataframe\">\n",
       "  <thead>\n",
       " <tr style=\"text-align: left;\">\n",
       "      <th>Step</th>\n",
       "      <th>Training Loss</th>\n",
       "    </tr>\n",
       "  </thead>\n",
       "  <tbody>\n",
       "    <tr>\n",
       "      <td>10</td>\n",
       "      <td>1.794500</td>\n",
       "    </tr>\n",
       "    <tr>\n",
       "      <td>20</td>\n",
       "      <td>1.523200</td>\n",
       "    </tr>\n",
       "  </tbody>\n",
       "</table><p>"
      ],
      "text/plain": [
       "<IPython.core.display.HTML object>"
      ]
     },
     "metadata": {},
     "output_type": "display_data"
    }
   ],
   "source": [
    "trainer.train()"
   ]
  },
  {
   "cell_type": "code",
   "execution_count": null,
   "id": "187bcc91-3884-480d-ab7a-279c78910fe9",
   "metadata": {
    "execution": {
     "iopub.status.busy": "2025-06-23T16:52:12.124674Z",
     "iopub.status.idle": "2025-06-23T16:52:12.124832Z",
     "shell.execute_reply": "2025-06-23T16:52:12.124765Z",
     "shell.execute_reply.started": "2025-06-23T16:52:12.124758Z"
    },
    "tags": []
   },
   "outputs": [],
   "source": [
    "# trainer.model.save_pretrained('./qwen_finetuned_v1')\n",
    "# tokenizer.save_pretrained('./qwen_finetuned_v1')\n",
    "trainer.model.save_pretrained('./qwen_finetuned_v2')\n",
    "tokenizer.save_pretrained('./qwen_finetuned_v2')"
   ]
  },
  {
   "cell_type": "code",
   "execution_count": null,
   "id": "4c1010ec-5174-4f69-9931-d5a127785632",
   "metadata": {
    "execution": {
     "iopub.status.busy": "2025-06-23T16:52:12.125813Z",
     "iopub.status.idle": "2025-06-23T16:52:12.125958Z",
     "shell.execute_reply": "2025-06-23T16:52:12.125890Z",
     "shell.execute_reply.started": "2025-06-23T16:52:12.125885Z"
    },
    "tags": []
   },
   "outputs": [],
   "source": [
    "from peft import PeftModel"
   ]
  },
  {
   "cell_type": "code",
   "execution_count": null,
   "id": "9e95613c-702c-49e0-b87d-a84ef42beab8",
   "metadata": {
    "execution": {
     "iopub.status.busy": "2025-06-23T16:52:12.126548Z",
     "iopub.status.idle": "2025-06-23T16:52:12.126680Z",
     "shell.execute_reply": "2025-06-23T16:52:12.126615Z",
     "shell.execute_reply.started": "2025-06-23T16:52:12.126610Z"
    },
    "tags": []
   },
   "outputs": [],
   "source": [
    "# base_model_path = \"/projects/llm-repo/models/Qwen/Qwen2.5-7B-Instruct\"  # or your local base path\n",
    "# adapter_path = \"./qwen_finetuned_v1\"  # your trained LoRA output dir\n",
    "\n",
    "base_model_path = '/projects/llm-repo/models/Qwen/Qwen2.5-14B-Instruct'\n",
    "adapter_path = \"./qwen_finetuned_v2\"\n",
    "\n",
    "# Load base model and tokenizer\n",
    "model = AutoModelForCausalLM.from_pretrained(base_model_path,device_map=\"auto\")\n",
    "tokenizer = AutoTokenizer.from_pretrained(base_model_path)\n",
    "\n",
    "# Load LoRA adapter on top of base\n",
    "model = PeftModel.from_pretrained(model, adapter_path)\n",
    "\n",
    "# Merge the LoRA weights into the base model\n",
    "model = model.merge_and_unload()\n"
   ]
  },
  {
   "cell_type": "code",
   "execution_count": null,
   "id": "64b90539-8453-41a2-b49e-56575227ced4",
   "metadata": {
    "execution": {
     "iopub.status.busy": "2025-06-23T16:52:12.127292Z",
     "iopub.status.idle": "2025-06-23T16:52:12.127419Z",
     "shell.execute_reply": "2025-06-23T16:52:12.127355Z",
     "shell.execute_reply.started": "2025-06-23T16:52:12.127350Z"
    },
    "tags": []
   },
   "outputs": [],
   "source": [
    "# output_path = \"./qwen-merged\"\n",
    "output_path = \"./qwen-merged-v2\"\n",
    "\n",
    "model.save_pretrained(output_path)\n",
    "tokenizer.save_pretrained(output_path)"
   ]
  },
  {
   "cell_type": "code",
   "execution_count": null,
   "id": "1b14f17f-d874-4d0b-b60f-05d4d79a280f",
   "metadata": {},
   "outputs": [],
   "source": []
  }
 ],
 "metadata": {
  "kernelspec": {
   "display_name": "Python3.11",
   "language": "python",
   "name": "python3"
  },
  "language_info": {
   "codemirror_mode": {
    "name": "ipython",
    "version": 3
   },
   "file_extension": ".py",
   "mimetype": "text/x-python",
   "name": "python",
   "nbconvert_exporter": "python",
   "pygments_lexer": "ipython3",
   "version": "3.11.13"
  }
 },
 "nbformat": 4,
 "nbformat_minor": 5
}
