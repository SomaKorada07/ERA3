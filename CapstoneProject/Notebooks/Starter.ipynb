{
 "cells": [
  {
   "cell_type": "code",
   "execution_count": 13,
   "id": "e0c427a4-81aa-449c-b173-da6367492c3d",
   "metadata": {
    "execution": {
     "iopub.execute_input": "2023-05-18T12:00:00Z",
     "iopub.status.busy": "2023-05-18T12:00:00Z",
     "iopub.status.idle": "2023-05-18T12:00:00Z",
     "shell.execute_reply": "2023-05-18T12:00:00Z",
     "shell.execute_reply.started": "2023-05-18T12:00:00Z"
    },
    "tags": []
   },
   "outputs": [
    {
     "name": "stdout",
     "output_type": "stream",
     "text": [
      "fastrlock                                0.8.3\n",
      "trl                                      0.18.2\n"
     ]
    },
    {
     "name": "stderr",
     "output_type": "stream",
     "text": [
      "huggingface/tokenizers: The current process just got forked, after parallelism has already been used. Disabling parallelism to avoid deadlocks...\n",
      "To disable this warning, you can either:\n",
      "\t- Avoid using `tokenizers` before the fork if possible\n",
      "\t- Explicitly set the environment variable TOKENIZERS_PARALLELISM=(true | false)\n"
     ]
    }
   ],
   "source": [
    "!pip list | grep trl"
   ]
  },
  {
   "cell_type": "code",
   "execution_count": 12,
   "id": "89d74f94-667c-4f01-ac10-a1a056e4b4bd",
   "metadata": {
    "execution": {
     "iopub.execute_input": "2023-05-18T12:00:00Z",
     "iopub.status.busy": "2023-05-18T12:00:00Z",
     "iopub.status.idle": "2023-05-18T12:00:00Z",
     "shell.execute_reply": "2023-05-18T12:00:00Z",
     "shell.execute_reply.started": "2023-05-18T12:00:00Z"
    },
    "tags": []
   },
   "outputs": [
    {
     "name": "stdout",
     "output_type": "stream",
     "text": [
      "appworld                                 0.1.4.dev0       /tmp/appworld\n"
     ]
    },
    {
     "name": "stderr",
     "output_type": "stream",
     "text": [
      "huggingface/tokenizers: The current process just got forked, after parallelism has already been used. Disabling parallelism to avoid deadlocks...\n",
      "To disable this warning, you can either:\n",
      "\t- Avoid using `tokenizers` before the fork if possible\n",
      "\t- Explicitly set the environment variable TOKENIZERS_PARALLELISM=(true | false)\n"
     ]
    }
   ],
   "source": [
    "!pip list | grep appworld"
   ]
  },
  {
   "cell_type": "code",
   "execution_count": 4,
   "id": "c057b391-633b-48eb-b7c6-bb4859769529",
   "metadata": {
    "execution": {
     "iopub.execute_input": "2025-06-18T10:24:53.318346Z",
     "iopub.status.busy": "2025-06-18T10:24:53.317701Z",
     "iopub.status.idle": "2025-06-18T10:24:54.434170Z",
     "shell.execute_reply": "2025-06-18T10:24:54.433600Z",
     "shell.execute_reply.started": "2025-06-18T10:24:53.318328Z"
    },
    "scrolled": true,
    "tags": []
   },
   "outputs": [
    {
     "name": "stdout",
     "output_type": "stream",
     "text": [
      "Looking in indexes: https://dtr-vip.ccg13.slc.paypalinc.com/artifactory/api/pypi/python/simple\n",
      "Collecting trl==0.18.2\n",
      "  Using cached https://artifactory.paypalinc.com/artifactory/api/pypi/python/packages/packages/04/57/f1cf3cf20fa78a3dcd6c7cc95e9f635bdf4fe12f00894d648b0cb5e42e54/trl-0.18.2-py3-none-any.whl (366 kB)\n",
      "Requirement already satisfied: accelerate>=0.34.0 in /opt/conda/envs/py311/lib/python3.11/site-packages (from trl==0.18.2) (1.7.0)\n",
      "Requirement already satisfied: datasets>=3.0.0 in /opt/conda/envs/py311/lib/python3.11/site-packages (from trl==0.18.2) (3.6.0)\n",
      "Requirement already satisfied: transformers>=4.50.0 in /opt/conda/envs/py311/lib/python3.11/site-packages (from trl==0.18.2) (4.51.3)\n",
      "Requirement already satisfied: numpy<3.0.0,>=1.17 in /opt/conda/envs/py311/lib/python3.11/site-packages (from accelerate>=0.34.0->trl==0.18.2) (2.3.0)\n",
      "Requirement already satisfied: packaging>=20.0 in /opt/conda/envs/py311/lib/python3.11/site-packages (from accelerate>=0.34.0->trl==0.18.2) (25.0)\n",
      "Requirement already satisfied: psutil in /opt/conda/envs/py311/lib/python3.11/site-packages (from accelerate>=0.34.0->trl==0.18.2) (5.9.8)\n",
      "Requirement already satisfied: pyyaml in /opt/conda/envs/py311/lib/python3.11/site-packages (from accelerate>=0.34.0->trl==0.18.2) (6.0.2)\n",
      "Requirement already satisfied: torch>=2.0.0 in /opt/conda/envs/py311/lib/python3.11/site-packages (from accelerate>=0.34.0->trl==0.18.2) (2.7.0)\n",
      "Requirement already satisfied: huggingface-hub>=0.21.0 in /opt/conda/envs/py311/lib/python3.11/site-packages (from accelerate>=0.34.0->trl==0.18.2) (0.33.0)\n",
      "Requirement already satisfied: safetensors>=0.4.3 in /opt/conda/envs/py311/lib/python3.11/site-packages (from accelerate>=0.34.0->trl==0.18.2) (0.5.3)\n",
      "Requirement already satisfied: filelock in /opt/conda/envs/py311/lib/python3.11/site-packages (from datasets>=3.0.0->trl==0.18.2) (3.18.0)\n",
      "Requirement already satisfied: pyarrow>=15.0.0 in /opt/conda/envs/py311/lib/python3.11/site-packages (from datasets>=3.0.0->trl==0.18.2) (20.0.0)\n",
      "Requirement already satisfied: dill<0.3.9,>=0.3.0 in /opt/conda/envs/py311/lib/python3.11/site-packages (from datasets>=3.0.0->trl==0.18.2) (0.3.8)\n",
      "Requirement already satisfied: pandas in /opt/conda/envs/py311/lib/python3.11/site-packages (from datasets>=3.0.0->trl==0.18.2) (2.3.0)\n",
      "Requirement already satisfied: requests>=2.32.2 in /opt/conda/envs/py311/lib/python3.11/site-packages (from datasets>=3.0.0->trl==0.18.2) (2.32.4)\n",
      "Requirement already satisfied: tqdm>=4.66.3 in /opt/conda/envs/py311/lib/python3.11/site-packages (from datasets>=3.0.0->trl==0.18.2) (4.67.1)\n",
      "Requirement already satisfied: xxhash in /opt/conda/envs/py311/lib/python3.11/site-packages (from datasets>=3.0.0->trl==0.18.2) (3.5.0)\n",
      "Requirement already satisfied: multiprocess<0.70.17 in /opt/conda/envs/py311/lib/python3.11/site-packages (from datasets>=3.0.0->trl==0.18.2) (0.70.16)\n",
      "Requirement already satisfied: fsspec<=2025.3.0,>=2023.1.0 in /opt/conda/envs/py311/lib/python3.11/site-packages (from fsspec[http]<=2025.3.0,>=2023.1.0->datasets>=3.0.0->trl==0.18.2) (2025.3.0)\n",
      "Requirement already satisfied: aiohttp!=4.0.0a0,!=4.0.0a1 in /opt/conda/envs/py311/lib/python3.11/site-packages (from fsspec[http]<=2025.3.0,>=2023.1.0->datasets>=3.0.0->trl==0.18.2) (3.12.13)\n",
      "Requirement already satisfied: aiohappyeyeballs>=2.5.0 in /opt/conda/envs/py311/lib/python3.11/site-packages (from aiohttp!=4.0.0a0,!=4.0.0a1->fsspec[http]<=2025.3.0,>=2023.1.0->datasets>=3.0.0->trl==0.18.2) (2.6.1)\n",
      "Requirement already satisfied: aiosignal>=1.1.2 in /opt/conda/envs/py311/lib/python3.11/site-packages (from aiohttp!=4.0.0a0,!=4.0.0a1->fsspec[http]<=2025.3.0,>=2023.1.0->datasets>=3.0.0->trl==0.18.2) (1.3.2)\n",
      "Requirement already satisfied: attrs>=17.3.0 in /opt/conda/envs/py311/lib/python3.11/site-packages (from aiohttp!=4.0.0a0,!=4.0.0a1->fsspec[http]<=2025.3.0,>=2023.1.0->datasets>=3.0.0->trl==0.18.2) (25.3.0)\n",
      "Requirement already satisfied: frozenlist>=1.1.1 in /opt/conda/envs/py311/lib/python3.11/site-packages (from aiohttp!=4.0.0a0,!=4.0.0a1->fsspec[http]<=2025.3.0,>=2023.1.0->datasets>=3.0.0->trl==0.18.2) (1.7.0)\n",
      "Requirement already satisfied: multidict<7.0,>=4.5 in /opt/conda/envs/py311/lib/python3.11/site-packages (from aiohttp!=4.0.0a0,!=4.0.0a1->fsspec[http]<=2025.3.0,>=2023.1.0->datasets>=3.0.0->trl==0.18.2) (6.5.0)\n",
      "Requirement already satisfied: propcache>=0.2.0 in /opt/conda/envs/py311/lib/python3.11/site-packages (from aiohttp!=4.0.0a0,!=4.0.0a1->fsspec[http]<=2025.3.0,>=2023.1.0->datasets>=3.0.0->trl==0.18.2) (0.3.2)\n",
      "Requirement already satisfied: yarl<2.0,>=1.17.0 in /opt/conda/envs/py311/lib/python3.11/site-packages (from aiohttp!=4.0.0a0,!=4.0.0a1->fsspec[http]<=2025.3.0,>=2023.1.0->datasets>=3.0.0->trl==0.18.2) (1.20.1)\n",
      "Requirement already satisfied: idna>=2.0 in /opt/conda/envs/py311/lib/python3.11/site-packages (from yarl<2.0,>=1.17.0->aiohttp!=4.0.0a0,!=4.0.0a1->fsspec[http]<=2025.3.0,>=2023.1.0->datasets>=3.0.0->trl==0.18.2) (3.10)\n",
      "Requirement already satisfied: typing-extensions>=3.7.4.3 in /opt/conda/envs/py311/lib/python3.11/site-packages (from huggingface-hub>=0.21.0->accelerate>=0.34.0->trl==0.18.2) (4.14.0)\n",
      "Requirement already satisfied: hf-xet<2.0.0,>=1.1.2 in /opt/conda/envs/py311/lib/python3.11/site-packages (from huggingface-hub>=0.21.0->accelerate>=0.34.0->trl==0.18.2) (1.1.4)\n",
      "Requirement already satisfied: charset_normalizer<4,>=2 in /opt/conda/envs/py311/lib/python3.11/site-packages (from requests>=2.32.2->datasets>=3.0.0->trl==0.18.2) (3.4.2)\n",
      "Requirement already satisfied: urllib3<3,>=1.21.1 in /opt/conda/envs/py311/lib/python3.11/site-packages (from requests>=2.32.2->datasets>=3.0.0->trl==0.18.2) (1.26.20)\n",
      "Requirement already satisfied: certifi>=2017.4.17 in /opt/conda/envs/py311/lib/python3.11/site-packages (from requests>=2.32.2->datasets>=3.0.0->trl==0.18.2) (2025.6.15)\n",
      "Requirement already satisfied: sympy>=1.13.3 in /opt/conda/envs/py311/lib/python3.11/site-packages (from torch>=2.0.0->accelerate>=0.34.0->trl==0.18.2) (1.14.0)\n",
      "Requirement already satisfied: networkx in /opt/conda/envs/py311/lib/python3.11/site-packages (from torch>=2.0.0->accelerate>=0.34.0->trl==0.18.2) (3.5)\n",
      "Requirement already satisfied: jinja2 in /opt/conda/envs/py311/lib/python3.11/site-packages (from torch>=2.0.0->accelerate>=0.34.0->trl==0.18.2) (3.1.6)\n",
      "Requirement already satisfied: nvidia-cuda-nvrtc-cu12==12.6.77 in /opt/conda/envs/py311/lib/python3.11/site-packages (from torch>=2.0.0->accelerate>=0.34.0->trl==0.18.2) (12.6.77)\n",
      "Requirement already satisfied: nvidia-cuda-runtime-cu12==12.6.77 in /opt/conda/envs/py311/lib/python3.11/site-packages (from torch>=2.0.0->accelerate>=0.34.0->trl==0.18.2) (12.6.77)\n",
      "Requirement already satisfied: nvidia-cuda-cupti-cu12==12.6.80 in /opt/conda/envs/py311/lib/python3.11/site-packages (from torch>=2.0.0->accelerate>=0.34.0->trl==0.18.2) (12.6.80)\n",
      "Requirement already satisfied: nvidia-cudnn-cu12==9.5.1.17 in /opt/conda/envs/py311/lib/python3.11/site-packages (from torch>=2.0.0->accelerate>=0.34.0->trl==0.18.2) (9.5.1.17)\n",
      "Requirement already satisfied: nvidia-cublas-cu12==12.6.4.1 in /opt/conda/envs/py311/lib/python3.11/site-packages (from torch>=2.0.0->accelerate>=0.34.0->trl==0.18.2) (12.6.4.1)\n",
      "Requirement already satisfied: nvidia-cufft-cu12==11.3.0.4 in /opt/conda/envs/py311/lib/python3.11/site-packages (from torch>=2.0.0->accelerate>=0.34.0->trl==0.18.2) (11.3.0.4)\n",
      "Requirement already satisfied: nvidia-curand-cu12==10.3.7.77 in /opt/conda/envs/py311/lib/python3.11/site-packages (from torch>=2.0.0->accelerate>=0.34.0->trl==0.18.2) (10.3.7.77)\n",
      "Requirement already satisfied: nvidia-cusolver-cu12==11.7.1.2 in /opt/conda/envs/py311/lib/python3.11/site-packages (from torch>=2.0.0->accelerate>=0.34.0->trl==0.18.2) (11.7.1.2)\n",
      "Requirement already satisfied: nvidia-cusparse-cu12==12.5.4.2 in /opt/conda/envs/py311/lib/python3.11/site-packages (from torch>=2.0.0->accelerate>=0.34.0->trl==0.18.2) (12.5.4.2)\n",
      "Requirement already satisfied: nvidia-cusparselt-cu12==0.6.3 in /opt/conda/envs/py311/lib/python3.11/site-packages (from torch>=2.0.0->accelerate>=0.34.0->trl==0.18.2) (0.6.3)\n",
      "Requirement already satisfied: nvidia-nccl-cu12==2.26.2 in /opt/conda/envs/py311/lib/python3.11/site-packages (from torch>=2.0.0->accelerate>=0.34.0->trl==0.18.2) (2.26.2)\n",
      "Requirement already satisfied: nvidia-nvtx-cu12==12.6.77 in /opt/conda/envs/py311/lib/python3.11/site-packages (from torch>=2.0.0->accelerate>=0.34.0->trl==0.18.2) (12.6.77)\n",
      "Requirement already satisfied: nvidia-nvjitlink-cu12==12.6.85 in /opt/conda/envs/py311/lib/python3.11/site-packages (from torch>=2.0.0->accelerate>=0.34.0->trl==0.18.2) (12.6.85)\n",
      "Requirement already satisfied: nvidia-cufile-cu12==1.11.1.6 in /opt/conda/envs/py311/lib/python3.11/site-packages (from torch>=2.0.0->accelerate>=0.34.0->trl==0.18.2) (1.11.1.6)\n",
      "Requirement already satisfied: triton==3.3.0 in /opt/conda/envs/py311/lib/python3.11/site-packages (from torch>=2.0.0->accelerate>=0.34.0->trl==0.18.2) (3.3.0)\n",
      "Requirement already satisfied: setuptools>=40.8.0 in /opt/conda/envs/py311/lib/python3.11/site-packages (from triton==3.3.0->torch>=2.0.0->accelerate>=0.34.0->trl==0.18.2) (80.9.0)\n",
      "Requirement already satisfied: mpmath<1.4,>=1.1.0 in /opt/conda/envs/py311/lib/python3.11/site-packages (from sympy>=1.13.3->torch>=2.0.0->accelerate>=0.34.0->trl==0.18.2) (1.3.0)\n",
      "Requirement already satisfied: regex!=2019.12.17 in /opt/conda/envs/py311/lib/python3.11/site-packages (from transformers>=4.50.0->trl==0.18.2) (2024.11.6)\n",
      "Requirement already satisfied: tokenizers<0.22,>=0.21 in /opt/conda/envs/py311/lib/python3.11/site-packages (from transformers>=4.50.0->trl==0.18.2) (0.21.1)\n",
      "Requirement already satisfied: MarkupSafe>=2.0 in /opt/conda/envs/py311/lib/python3.11/site-packages (from jinja2->torch>=2.0.0->accelerate>=0.34.0->trl==0.18.2) (3.0.2)\n",
      "Requirement already satisfied: python-dateutil>=2.8.2 in /opt/conda/envs/py311/lib/python3.11/site-packages (from pandas->datasets>=3.0.0->trl==0.18.2) (2.9.0.post0)\n",
      "Requirement already satisfied: pytz>=2020.1 in /opt/conda/envs/py311/lib/python3.11/site-packages (from pandas->datasets>=3.0.0->trl==0.18.2) (2025.2)\n",
      "Requirement already satisfied: tzdata>=2022.7 in /opt/conda/envs/py311/lib/python3.11/site-packages (from pandas->datasets>=3.0.0->trl==0.18.2) (2025.2)\n",
      "Requirement already satisfied: six>=1.5 in /opt/conda/envs/py311/lib/python3.11/site-packages (from python-dateutil>=2.8.2->pandas->datasets>=3.0.0->trl==0.18.2) (1.17.0)\n",
      "Installing collected packages: trl\n",
      "Successfully installed trl-0.18.2\n"
     ]
    }
   ],
   "source": [
    "!pip install -U https://artifactory.paypalinc.com/artifactory/api/pypi/python/packages/packages/04/57/f1cf3cf20fa78a3dcd6c7cc95e9f635bdf4fe12f00894d648b0cb5e42e54/trl-0.18.2-py3-none-any.whl"
   ]
  },
  {
   "cell_type": "code",
   "execution_count": 5,
   "id": "c2c5bd1e-74d8-432b-8e73-c300893863ce",
   "metadata": {
    "execution": {
     "iopub.execute_input": "2025-06-18T10:25:03.873977Z",
     "iopub.status.busy": "2025-06-18T10:25:03.873719Z",
     "iopub.status.idle": "2025-06-18T10:25:04.468812Z",
     "shell.execute_reply": "2025-06-18T10:25:04.468244Z",
     "shell.execute_reply.started": "2025-06-18T10:25:03.873959Z"
    },
    "tags": []
   },
   "outputs": [
    {
     "name": "stdout",
     "output_type": "stream",
     "text": [
      "fastrlock                                0.8.3\n",
      "trl                                      0.18.2\n"
     ]
    }
   ],
   "source": [
    "!pip list | grep trl"
   ]
  },
  {
   "cell_type": "code",
   "execution_count": 7,
   "id": "63bf06cf-55c3-49f9-8971-3ac9d4c3d14c",
   "metadata": {
    "execution": {
     "iopub.execute_input": "2025-06-18T10:25:22.237334Z",
     "iopub.status.busy": "2025-06-18T10:25:22.236785Z",
     "iopub.status.idle": "2025-06-18T10:25:53.717361Z",
     "shell.execute_reply": "2025-06-18T10:25:53.716861Z",
     "shell.execute_reply.started": "2025-06-18T10:25:22.237316Z"
    },
    "scrolled": true,
    "tags": []
   },
   "outputs": [
    {
     "name": "stdout",
     "output_type": "stream",
     "text": [
      "Looking in indexes: https://dtr-vip.ccg13.slc.paypalinc.com/artifactory/api/pypi/python/simple\n",
      "Collecting install\n",
      "  Downloading https://dtr-vip.ccg13.slc.paypalinc.com/artifactory/api/pypi/python/packages/packages/4d/c8/8cbca135f9e167810756ea2bc34b028501936675fcbd7dadccf752fa4622/install-1.3.5-py3-none-any.whl (3.2 kB)\n",
      "Collecting tf_keras\n",
      "  Using cached https://dtr-vip.ccg13.slc.paypalinc.com/artifactory/api/pypi/python/packages/packages/8a/ed/e08afca471299b04a34cd548e64e89d0153eda0e6cf9b715356777e24774/tf_keras-2.18.0-py3-none-any.whl (1.7 MB)\n",
      "Collecting tensorflow<2.19,>=2.18 (from tf_keras)\n",
      "  Using cached https://dtr-vip.ccg13.slc.paypalinc.com/artifactory/api/pypi/python/packages/packages/84/76/c55967ac9968ddaede25a4dce37aba37e9030656f02c12676151ce1b6f22/tensorflow-2.18.0-cp311-cp311-manylinux_2_17_x86_64.manylinux2014_x86_64.whl (615.4 MB)\n",
      "Requirement already satisfied: absl-py>=1.0.0 in /opt/conda/envs/py311/lib/python3.11/site-packages (from tensorflow<2.19,>=2.18->tf_keras) (2.3.0)\n",
      "Requirement already satisfied: astunparse>=1.6.0 in /opt/conda/envs/py311/lib/python3.11/site-packages (from tensorflow<2.19,>=2.18->tf_keras) (1.6.3)\n",
      "Requirement already satisfied: flatbuffers>=24.3.25 in /opt/conda/envs/py311/lib/python3.11/site-packages (from tensorflow<2.19,>=2.18->tf_keras) (25.2.10)\n",
      "Requirement already satisfied: gast!=0.5.0,!=0.5.1,!=0.5.2,>=0.2.1 in /opt/conda/envs/py311/lib/python3.11/site-packages (from tensorflow<2.19,>=2.18->tf_keras) (0.6.0)\n",
      "Requirement already satisfied: google-pasta>=0.1.1 in /opt/conda/envs/py311/lib/python3.11/site-packages (from tensorflow<2.19,>=2.18->tf_keras) (0.2.0)\n",
      "Requirement already satisfied: libclang>=13.0.0 in /opt/conda/envs/py311/lib/python3.11/site-packages (from tensorflow<2.19,>=2.18->tf_keras) (18.1.1)\n",
      "Requirement already satisfied: opt-einsum>=2.3.2 in /opt/conda/envs/py311/lib/python3.11/site-packages (from tensorflow<2.19,>=2.18->tf_keras) (3.4.0)\n",
      "Requirement already satisfied: packaging in /opt/conda/envs/py311/lib/python3.11/site-packages (from tensorflow<2.19,>=2.18->tf_keras) (25.0)\n",
      "Collecting protobuf!=4.21.0,!=4.21.1,!=4.21.2,!=4.21.3,!=4.21.4,!=4.21.5,<6.0.0dev,>=3.20.3 (from tensorflow<2.19,>=2.18->tf_keras)\n",
      "  Using cached https://dtr-vip.ccg13.slc.paypalinc.com/artifactory/api/pypi/python/packages/packages/a8/45/2ebbde52ad2be18d3675b6bee50e68cd73c9e0654de77d595540b5129df8/protobuf-5.29.3-cp38-abi3-manylinux2014_x86_64.whl (319 kB)\n",
      "Requirement already satisfied: requests<3,>=2.21.0 in /opt/conda/envs/py311/lib/python3.11/site-packages (from tensorflow<2.19,>=2.18->tf_keras) (2.32.4)\n",
      "Requirement already satisfied: setuptools in /opt/conda/envs/py311/lib/python3.11/site-packages (from tensorflow<2.19,>=2.18->tf_keras) (80.9.0)\n",
      "Requirement already satisfied: six>=1.12.0 in /opt/conda/envs/py311/lib/python3.11/site-packages (from tensorflow<2.19,>=2.18->tf_keras) (1.17.0)\n",
      "Requirement already satisfied: termcolor>=1.1.0 in /opt/conda/envs/py311/lib/python3.11/site-packages (from tensorflow<2.19,>=2.18->tf_keras) (3.1.0)\n",
      "Requirement already satisfied: typing-extensions>=3.6.6 in /opt/conda/envs/py311/lib/python3.11/site-packages (from tensorflow<2.19,>=2.18->tf_keras) (4.14.0)\n",
      "Requirement already satisfied: wrapt>=1.11.0 in /opt/conda/envs/py311/lib/python3.11/site-packages (from tensorflow<2.19,>=2.18->tf_keras) (1.17.2)\n",
      "Requirement already satisfied: grpcio<2.0,>=1.24.3 in /opt/conda/envs/py311/lib/python3.11/site-packages (from tensorflow<2.19,>=2.18->tf_keras) (1.73.0)\n",
      "Collecting tensorboard<2.19,>=2.18 (from tensorflow<2.19,>=2.18->tf_keras)\n",
      "  Using cached https://dtr-vip.ccg13.slc.paypalinc.com/artifactory/api/pypi/python/packages/packages/b1/de/021c1d407befb505791764ad2cbd56ceaaa53a746baed01d2e2143f05f18/tensorboard-2.18.0-py3-none-any.whl (5.5 MB)\n",
      "Requirement already satisfied: keras>=3.5.0 in /opt/conda/envs/py311/lib/python3.11/site-packages (from tensorflow<2.19,>=2.18->tf_keras) (3.10.0)\n",
      "Collecting numpy<2.1.0,>=1.26.0 (from tensorflow<2.19,>=2.18->tf_keras)\n",
      "  Using cached https://dtr-vip.ccg13.slc.paypalinc.com/artifactory/api/pypi/python/packages/packages/ba/a8/c17acf65a931ce551fee11b72e8de63bf7e8a6f0e21add4c937c83563538/numpy-2.0.2-cp311-cp311-manylinux_2_17_x86_64.manylinux2014_x86_64.whl (19.5 MB)\n",
      "Requirement already satisfied: h5py>=3.11.0 in /opt/conda/envs/py311/lib/python3.11/site-packages (from tensorflow<2.19,>=2.18->tf_keras) (3.14.0)\n",
      "Collecting ml-dtypes<0.5.0,>=0.4.0 (from tensorflow<2.19,>=2.18->tf_keras)\n",
      "  Using cached https://dtr-vip.ccg13.slc.paypalinc.com/artifactory/api/pypi/python/packages/packages/28/bc/6a2344338ea7b61cd7b46fb24ec459360a5a0903b57c55b156c1e46c644a/ml_dtypes-0.4.1-cp311-cp311-manylinux_2_17_x86_64.manylinux2014_x86_64.whl (2.2 MB)\n",
      "Requirement already satisfied: tensorflow-io-gcs-filesystem>=0.23.1 in /opt/conda/envs/py311/lib/python3.11/site-packages (from tensorflow<2.19,>=2.18->tf_keras) (0.37.1)\n",
      "Requirement already satisfied: charset_normalizer<4,>=2 in /opt/conda/envs/py311/lib/python3.11/site-packages (from requests<3,>=2.21.0->tensorflow<2.19,>=2.18->tf_keras) (3.4.2)\n",
      "Requirement already satisfied: idna<4,>=2.5 in /opt/conda/envs/py311/lib/python3.11/site-packages (from requests<3,>=2.21.0->tensorflow<2.19,>=2.18->tf_keras) (3.10)\n",
      "Requirement already satisfied: urllib3<3,>=1.21.1 in /opt/conda/envs/py311/lib/python3.11/site-packages (from requests<3,>=2.21.0->tensorflow<2.19,>=2.18->tf_keras) (1.26.20)\n",
      "Requirement already satisfied: certifi>=2017.4.17 in /opt/conda/envs/py311/lib/python3.11/site-packages (from requests<3,>=2.21.0->tensorflow<2.19,>=2.18->tf_keras) (2025.6.15)\n",
      "Requirement already satisfied: markdown>=2.6.8 in /opt/conda/envs/py311/lib/python3.11/site-packages (from tensorboard<2.19,>=2.18->tensorflow<2.19,>=2.18->tf_keras) (3.8)\n",
      "Requirement already satisfied: tensorboard-data-server<0.8.0,>=0.7.0 in /opt/conda/envs/py311/lib/python3.11/site-packages (from tensorboard<2.19,>=2.18->tensorflow<2.19,>=2.18->tf_keras) (0.7.2)\n",
      "Requirement already satisfied: werkzeug>=1.0.1 in /opt/conda/envs/py311/lib/python3.11/site-packages (from tensorboard<2.19,>=2.18->tensorflow<2.19,>=2.18->tf_keras) (3.1.3)\n",
      "Requirement already satisfied: wheel<1.0,>=0.23.0 in /opt/conda/envs/py311/lib/python3.11/site-packages (from astunparse>=1.6.0->tensorflow<2.19,>=2.18->tf_keras) (0.45.1)\n",
      "Requirement already satisfied: rich in /opt/conda/envs/py311/lib/python3.11/site-packages (from keras>=3.5.0->tensorflow<2.19,>=2.18->tf_keras) (13.9.4)\n",
      "Requirement already satisfied: namex in /opt/conda/envs/py311/lib/python3.11/site-packages (from keras>=3.5.0->tensorflow<2.19,>=2.18->tf_keras) (0.1.0)\n",
      "Requirement already satisfied: optree in /opt/conda/envs/py311/lib/python3.11/site-packages (from keras>=3.5.0->tensorflow<2.19,>=2.18->tf_keras) (0.16.0)\n",
      "Requirement already satisfied: MarkupSafe>=2.1.1 in /opt/conda/envs/py311/lib/python3.11/site-packages (from werkzeug>=1.0.1->tensorboard<2.19,>=2.18->tensorflow<2.19,>=2.18->tf_keras) (3.0.2)\n",
      "Requirement already satisfied: markdown-it-py>=2.2.0 in /opt/conda/envs/py311/lib/python3.11/site-packages (from rich->keras>=3.5.0->tensorflow<2.19,>=2.18->tf_keras) (3.0.0)\n",
      "Requirement already satisfied: pygments<3.0.0,>=2.13.0 in /opt/conda/envs/py311/lib/python3.11/site-packages (from rich->keras>=3.5.0->tensorflow<2.19,>=2.18->tf_keras) (2.19.1)\n",
      "Requirement already satisfied: mdurl~=0.1 in /opt/conda/envs/py311/lib/python3.11/site-packages (from markdown-it-py>=2.2.0->rich->keras>=3.5.0->tensorflow<2.19,>=2.18->tf_keras) (0.1.2)\n",
      "Installing collected packages: protobuf, numpy, install, tensorboard, ml-dtypes, tensorflow, tf_keras\n",
      "\u001b[2K  Attempting uninstall: protobuf\n",
      "\u001b[2K    Found existing installation: protobuf 6.31.1\n",
      "\u001b[2K    Uninstalling protobuf-6.31.1:\n",
      "\u001b[2K      Successfully uninstalled protobuf-6.31.1\n",
      "\u001b[2K  Attempting uninstall: numpy\n",
      "\u001b[2K    Found existing installation: numpy 2.3.0\n",
      "\u001b[2K    Uninstalling numpy-2.3.0:\n",
      "\u001b[2K      Successfully uninstalled numpy-2.3.0━━━━━━━━━━━━━━━━━━━━━━━━\u001b[0m \u001b[32m1/7\u001b[0m [numpy]\n",
      "\u001b[2K  Attempting uninstall: tensorboard━━━━━━━━━━━━━━━━━━━━━━━━━━━━━━━\u001b[0m \u001b[32m1/7\u001b[0m [numpy]\n",
      "\u001b[2K    Found existing installation: tensorboard 2.19.0━━━━━━━━━━━\u001b[0m \u001b[32m1/7\u001b[0m [numpy]\n",
      "\u001b[2K    Uninstalling tensorboard-2.19.0:[0m\u001b[90m━━━━━━━━━━━━━━━━━━━━━━\u001b[0m \u001b[32m3/7\u001b[0m [tensorboard]\n",
      "\u001b[2K      Successfully uninstalled tensorboard-2.19.0━━━━━━━━━━━━━\u001b[0m \u001b[32m3/7\u001b[0m [tensorboard]\n",
      "\u001b[2K  Attempting uninstall: ml-dtypesm╺\u001b[0m\u001b[90m━━━━━━━━━━━━━━━━━━━━━━\u001b[0m \u001b[32m3/7\u001b[0m [tensorboard]\n",
      "\u001b[2K    Found existing installation: ml_dtypes 0.5.1━━━━━━━━━━━━━━\u001b[0m \u001b[32m3/7\u001b[0m [tensorboard]\n",
      "\u001b[2K    Uninstalling ml_dtypes-0.5.1:0m\u001b[90m━━━━━━━━━━━━━━━━━━━━━━\u001b[0m \u001b[32m3/7\u001b[0m [tensorboard]\n",
      "\u001b[2K      Successfully uninstalled ml_dtypes-0.5.190m━━━━━━━━━━━━━━━━━\u001b[0m \u001b[32m4/7\u001b[0m [ml-dtypes]\n",
      "\u001b[2K  Attempting uninstall: tensorflowm╸\u001b[0m\u001b[90m━━━━━━━━━━━━━━━━━\u001b[0m \u001b[32m4/7\u001b[0m [ml-dtypes]\n",
      "\u001b[2K    Found existing installation: tensorflow 2.19.0━━━━━━━━━━━━\u001b[0m \u001b[32m4/7\u001b[0m [ml-dtypes]\n",
      "\u001b[2K    Uninstalling tensorflow-2.19.0:━\u001b[0m\u001b[91m╸\u001b[0m\u001b[90m━━━━━━━━━━━\u001b[0m \u001b[32m5/7\u001b[0m [tensorflow]\n",
      "\u001b[2K      Successfully uninstalled tensorflow-2.19.00m\u001b[90m━━━━━━━━━━━\u001b[0m \u001b[32m5/7\u001b[0m [tensorflow]\n",
      "\u001b[2K   \u001b[90m━━━━━━━━━━━━━━━━━━━━━━━━━━━━━━━━━━━━━━━━\u001b[0m \u001b[32m7/7\u001b[0m [tf_keras]6/7\u001b[0m [tf_keras]w]\n",
      "\u001b[1A\u001b[2K\u001b[31mERROR: pip's dependency resolver does not currently take into account all the packages that are installed. This behaviour is the source of the following dependency conflicts.\n",
      "pp-magics 2.0.250411144046 requires ast2json, which is not installed.\n",
      "pp-magics 2.0.250411144046 requires featureaccess-sdk, which is not installed.\n",
      "pp-magics 2.0.250411144046 requires hdfs3, which is not installed.\n",
      "pp-magics 2.0.250411144046 requires impyla==0.18a4, which is not installed.\n",
      "pp-magics 2.0.250411144046 requires ipython-sql==0.3.8, which is not installed.\n",
      "pp-magics 2.0.250411144046 requires mmh3, which is not installed.\n",
      "pp-magics 2.0.250411144046 requires pp-remoteconfig, which is not installed.\n",
      "pp-magics 2.0.250411144046 requires prettytable, which is not installed.\n",
      "pp-magics 2.0.250411144046 requires pycrypto, which is not installed.\n",
      "pp-magics 2.0.250411144046 requires pyhive==0.2.1, which is not installed.\n",
      "pp-magics 2.0.250411144046 requires pykerberos, which is not installed.\n",
      "pp-magics 2.0.250411144046 requires pysftp==0.2.9, which is not installed.\n",
      "pp-magics 2.0.250411144046 requires pysims-sdk, which is not installed.\n",
      "pp-magics 2.0.250411144046 requires qgrid>=1.0.2, which is not installed.\n",
      "pp-magics 2.0.250411144046 requires restaccess-sdk, which is not installed.\n",
      "pp-magics 2.0.250411144046 requires sqlparse, which is not installed.\n",
      "pp-magics 2.0.250411144046 requires tableauhyperapi==0.0.15305, which is not installed.\n",
      "pp-magics 2.0.250411144046 requires tableausdk, which is not installed.\n",
      "pp-magics 2.0.250411144046 requires tableauserverclient, which is not installed.\n",
      "pp-magics 2.0.250411144046 requires teradata==15.10.0.20, which is not installed.\n",
      "pp-magics 2.0.250411144046 requires thrift-sasl==0.4.3, which is not installed.\n",
      "pp-magics 2.0.250411144046 requires thriftpy2==0.4.16, which is not installed.\n",
      "pp-magics 2.0.250411144046 requires vectordb-notebook-client, which is not installed.\n",
      "vllm 0.9.1 requires fastapi[standard]>=0.115.0, but you have fastapi 0.110.3 which is incompatible.\n",
      "pp-magics 2.0.250411144046 requires markdown==2.6.11, but you have markdown 3.8 which is incompatible.\n",
      "pp-magics 2.0.250411144046 requires protobuf==3.5.2.post1, but you have protobuf 5.29.3 which is incompatible.\n",
      "pp-magics 2.0.250411144046 requires thrift==0.16.0, but you have thrift 0.22.0 which is incompatible.\n",
      "tensorflow-text 2.19.0 requires tensorflow<2.20,>=2.19.0, but you have tensorflow 2.18.0 which is incompatible.\u001b[0m\u001b[31m\n",
      "\u001b[0mSuccessfully installed install-1.3.5 ml-dtypes-0.4.1 numpy-2.0.2 protobuf-5.29.3 tensorboard-2.18.0 tensorflow-2.18.0 tf_keras-2.18.0\n"
     ]
    }
   ],
   "source": [
    "!pip install -U install tf_keras"
   ]
  },
  {
   "cell_type": "code",
   "execution_count": null,
   "id": "dde31d43-3c92-4a07-add4-961efc01f40a",
   "metadata": {},
   "outputs": [],
   "source": []
  },
  {
   "cell_type": "markdown",
   "id": "f4f35d2d-5324-498e-a50a-ec0a1e47d2e8",
   "metadata": {},
   "source": [
    "# AppWorld Testing"
   ]
  },
  {
   "cell_type": "code",
   "execution_count": 1,
   "id": "6ee39c3d-2b1b-4f94-89bc-2ef84a92908a",
   "metadata": {
    "execution": {
     "iopub.execute_input": "2025-06-19T19:08:10.185346Z",
     "iopub.status.busy": "2025-06-19T19:08:10.185244Z",
     "iopub.status.idle": "2025-06-19T19:08:10.189582Z",
     "shell.execute_reply": "2025-06-19T19:08:10.189115Z",
     "shell.execute_reply.started": "2025-06-19T19:08:10.185333Z"
    },
    "tags": []
   },
   "outputs": [],
   "source": [
    "import os\n",
    "\n",
    "os.environ['APPWORLD_ROOT'] = '/tmp/appworld'"
   ]
  },
  {
   "cell_type": "code",
   "execution_count": 2,
   "id": "15c9074a-4a25-4e3d-a998-e4d1deca2fda",
   "metadata": {
    "execution": {
     "iopub.execute_input": "2025-06-19T19:08:11.188778Z",
     "iopub.status.busy": "2025-06-19T19:08:11.188605Z",
     "iopub.status.idle": "2023-05-18T12:00:00Z",
     "shell.execute_reply": "2023-05-18T12:00:00Z",
     "shell.execute_reply.started": "2025-06-19T19:08:11.188765Z"
    },
    "tags": []
   },
   "outputs": [],
   "source": [
    "from appworld import AppWorld, load_task_ids\n",
    "\n",
    "task_ids = load_task_ids(\"train\") # loads train ids, other options: dev, test_normal, test_challenge\n",
    "task_id = task_ids[0]\n",
    "world = AppWorld(task_id=task_id)"
   ]
  },
  {
   "cell_type": "code",
   "execution_count": 3,
   "id": "1da1a93f-8372-4099-b768-e4ebbc17c1d4",
   "metadata": {
    "execution": {
     "iopub.execute_input": "2023-05-18T12:00:00Z",
     "iopub.status.busy": "2023-05-18T12:00:00Z",
     "iopub.status.idle": "2023-05-18T12:00:00Z",
     "shell.execute_reply": "2023-05-18T12:00:00Z",
     "shell.execute_reply.started": "2023-05-18T12:00:00Z"
    },
    "tags": []
   },
   "outputs": [
    {
     "data": {
      "text/plain": [
       "'What is the title of the most-liked song in my Spotify playlists.'"
      ]
     },
     "execution_count": 3,
     "metadata": {},
     "output_type": "execute_result"
    }
   ],
   "source": [
    "world.task.instruction"
   ]
  },
  {
   "cell_type": "code",
   "execution_count": 4,
   "id": "80129aee-5fcd-462e-ae81-8dde06246c76",
   "metadata": {
    "execution": {
     "iopub.execute_input": "2023-05-18T12:00:00Z",
     "iopub.status.busy": "2023-05-18T12:00:00Z",
     "iopub.status.idle": "2023-05-18T12:00:00Z",
     "shell.execute_reply": "2023-05-18T12:00:00Z",
     "shell.execute_reply.started": "2023-05-18T12:00:00Z"
    },
    "tags": []
   },
   "outputs": [
    {
     "data": {
      "text/plain": [
       "[{'name': 'api_docs',\n",
       "  'description': 'An app to search and explore API documentation.'},\n",
       " {'name': 'supervisor',\n",
       "  'description': \"An app to access supervisor's personal information, account credentials, addresses, payment cards, and manage the assigned task.\"},\n",
       " {'name': 'amazon',\n",
       "  'description': 'An online shopping app to buy products and manage orders, returns, etc.'},\n",
       " {'name': 'phone',\n",
       "  'description': 'An app to find and manage contact information for friends, family members, etc., send and receive messages, and manage alarms.'},\n",
       " {'name': 'file_system',\n",
       "  'description': 'A file system app to create and manage files and folders.'},\n",
       " {'name': 'spotify',\n",
       "  'description': 'A music streaming app to stream songs and manage song, album and playlist libraries.'},\n",
       " {'name': 'venmo',\n",
       "  'description': 'A social payment app to send, receive and request money to and from others.'},\n",
       " {'name': 'gmail',\n",
       "  'description': 'An email app to draft, send, receive, and manage emails.'},\n",
       " {'name': 'splitwise',\n",
       "  'description': 'A bill splitting app to track and split expenses with people.'},\n",
       " {'name': 'simple_note',\n",
       "  'description': 'A note-taking app to create and manage notes'},\n",
       " {'name': 'todoist',\n",
       "  'description': 'A task management app to manage todo lists and collaborate on them with others.'}]"
      ]
     },
     "execution_count": 4,
     "metadata": {},
     "output_type": "execute_result"
    }
   ],
   "source": [
    "world.apis.api_docs.show_app_descriptions()"
   ]
  },
  {
   "cell_type": "code",
   "execution_count": 5,
   "id": "44de2f62-2d7e-440f-a298-10ccc868c1fd",
   "metadata": {
    "execution": {
     "iopub.execute_input": "2023-05-18T12:00:00Z",
     "iopub.status.busy": "2023-05-18T12:00:00Z",
     "iopub.status.idle": "2023-05-18T12:00:00Z",
     "shell.execute_reply": "2023-05-18T12:00:00Z",
     "shell.execute_reply.started": "2023-05-18T12:00:00Z"
    },
    "tags": []
   },
   "outputs": [
    {
     "data": {
      "text/plain": [
       "[{'name': 'show_active_task',\n",
       "  'description': 'Show the currently active task assigned to you by the supervisor.'},\n",
       " {'name': 'complete_task',\n",
       "  'description': 'Mark the currently active task as complete with the given answer.'},\n",
       " {'name': 'show_profile',\n",
       "  'description': \"Show your supervisor's profile information.\"},\n",
       " {'name': 'show_addresses',\n",
       "  'description': \"Show your supervisor's addresses.\"},\n",
       " {'name': 'show_payment_cards',\n",
       "  'description': \"Show your supervisor's payment_cards.\"},\n",
       " {'name': 'show_account_passwords',\n",
       "  'description': \"Show your supervisor's app account passwords.\"}]"
      ]
     },
     "execution_count": 5,
     "metadata": {},
     "output_type": "execute_result"
    }
   ],
   "source": [
    "world.apis.api_docs.show_api_descriptions(app_name='supervisor')"
   ]
  },
  {
   "cell_type": "code",
   "execution_count": 7,
   "id": "d256bdc9-e9bb-4bdf-abec-852241ad12d8",
   "metadata": {
    "execution": {
     "iopub.execute_input": "2023-05-18T12:00:00Z",
     "iopub.status.busy": "2023-05-18T12:00:00Z",
     "iopub.status.idle": "2023-05-18T12:00:00Z",
     "shell.execute_reply": "2023-05-18T12:00:00Z",
     "shell.execute_reply.started": "2023-05-18T12:00:00Z"
    },
    "tags": []
   },
   "outputs": [
    {
     "data": {
      "text/plain": [
       "{'app_name': 'supervisor',\n",
       " 'api_name': 'show_account_passwords',\n",
       " 'path': '/account_passwords',\n",
       " 'method': 'GET',\n",
       " 'description': \"Show your supervisor's app account passwords.\",\n",
       " 'parameters': [],\n",
       " 'response_schemas': {'success': [{'account_name': 'string',\n",
       "    'password': 'string'}],\n",
       "  'failure': {'message': 'string'}}}"
      ]
     },
     "execution_count": 7,
     "metadata": {},
     "output_type": "execute_result"
    }
   ],
   "source": [
    "world.apis.api_docs.show_api_doc(app_name='supervisor', api_name='show_account_passwords')"
   ]
  },
  {
   "cell_type": "code",
   "execution_count": 9,
   "id": "1b8ddd5a-f384-48bc-97e3-510a2a5899eb",
   "metadata": {
    "execution": {
     "iopub.execute_input": "2023-05-18T12:00:00Z",
     "iopub.status.busy": "2023-05-18T12:00:00Z",
     "iopub.status.idle": "2023-05-18T12:00:00Z",
     "shell.execute_reply": "2023-05-18T12:00:00Z",
     "shell.execute_reply.started": "2023-05-18T12:00:00Z"
    },
    "tags": []
   },
   "outputs": [
    {
     "data": {
      "text/plain": [
       "[{'name': 'show_account',\n",
       "  'description': 'Show your account information. Unlike show_profile, this includes private information.'},\n",
       " {'name': 'signup', 'description': 'Sign up to create account.'},\n",
       " {'name': 'delete_account', 'description': 'Delete your account.'},\n",
       " {'name': 'update_account_name',\n",
       "  'description': 'Update your first or last name in the account profile.'},\n",
       " {'name': 'login', 'description': 'Login to your account.'},\n",
       " {'name': 'logout', 'description': 'Logout from your account.'},\n",
       " {'name': 'send_verification_code',\n",
       "  'description': 'Send account verification code to your email address.'},\n",
       " {'name': 'verify_account',\n",
       "  'description': 'Verify your account using the verification code sent to your email address.'},\n",
       " {'name': 'send_password_reset_code',\n",
       "  'description': 'Send password reset code to your email address.'},\n",
       " {'name': 'reset_password',\n",
       "  'description': 'Reset your password using the password reset code sent to your email address.'},\n",
       " {'name': 'show_profile',\n",
       "  'description': 'Show public profile information of a user, including your friendship status with them.'},\n",
       " {'name': 'search_users',\n",
       "  'description': 'Search Venmo users by name or email address.'},\n",
       " {'name': 'search_friends',\n",
       "  'description': \"Search your or others' friends by name or email address.\"},\n",
       " {'name': 'add_friend', 'description': 'Add a friend to your friend list.'},\n",
       " {'name': 'remove_friend',\n",
       "  'description': 'Remove a friend from your friend list.'},\n",
       " {'name': 'show_venmo_balance', 'description': 'Show your Venmo balance.'},\n",
       " {'name': 'add_to_venmo_balance',\n",
       "  'description': 'Add money to your Venmo balance.'},\n",
       " {'name': 'withdraw_from_venmo_balance',\n",
       "  'description': 'Withdraw money from your Venmo balance.'},\n",
       " {'name': 'show_bank_transfer_history',\n",
       "  'description': 'Show histroy of money transfer from Venmo to payment card and vice versa.'},\n",
       " {'name': 'download_bank_transfer_receipt',\n",
       "  'description': 'Download the receipt of money transfer from Venmo to payment card or vice versa.'},\n",
       " {'name': 'show_transaction', 'description': 'Show transaction details.'},\n",
       " {'name': 'update_transaction',\n",
       "  'description': 'Update transaction information.'},\n",
       " {'name': 'show_transactions',\n",
       "  'description': 'Get a list of your transactions.'},\n",
       " {'name': 'create_transaction', 'description': 'Send money to a user.'},\n",
       " {'name': 'download_transaction_receipt',\n",
       "  'description': 'Download the receipt of a transaction (money sent from one user to another).'},\n",
       " {'name': 'like_transaction', 'description': 'Like a transaction.'},\n",
       " {'name': 'unlike_transaction', 'description': 'Unlike a transaction.'},\n",
       " {'name': 'show_transaction_comments',\n",
       "  'description': 'Get a list of transaction comments.'},\n",
       " {'name': 'create_transaction_comment',\n",
       "  'description': 'Create a new transaction comment.'},\n",
       " {'name': 'show_transaction_comment',\n",
       "  'description': 'Show detailed information about a transaction comment.'},\n",
       " {'name': 'delete_transaction_comment',\n",
       "  'description': 'Delete a transaction comment.'},\n",
       " {'name': 'update_transaction_comment',\n",
       "  'description': 'Update a transaction comment.'},\n",
       " {'name': 'like_transaction_comment',\n",
       "  'description': 'Like a transaction comment.'},\n",
       " {'name': 'unlike_transaction_comment',\n",
       "  'description': 'Unlike a previously liked transaction comment.'},\n",
       " {'name': 'show_payment_card',\n",
       "  'description': 'Get details of a payment card.'},\n",
       " {'name': 'delete_payment_card',\n",
       "  'description': 'Delete payment card information.'},\n",
       " {'name': 'update_payment_card',\n",
       "  'description': 'Update payment card information.'},\n",
       " {'name': 'show_payment_cards',\n",
       "  'description': 'Get a list of users payment cards.'},\n",
       " {'name': 'add_payment_card', 'description': 'Add a new payment card.'},\n",
       " {'name': 'show_received_payment_requests',\n",
       "  'description': 'Get a list of payment requests you have received from others.'},\n",
       " {'name': 'show_sent_payment_requests',\n",
       "  'description': 'Get a list of payment requests you have sent to others.'},\n",
       " {'name': 'create_payment_request', 'description': 'Send a payment request.'},\n",
       " {'name': 'delete_payment_request',\n",
       "  'description': 'Delete a payment request.'},\n",
       " {'name': 'update_payment_request',\n",
       "  'description': 'Update payment request information.'},\n",
       " {'name': 'approve_payment_request',\n",
       "  'description': 'Approve a payment request.'},\n",
       " {'name': 'deny_payment_request', 'description': 'Deny a payment request.'},\n",
       " {'name': 'remind_payment_request',\n",
       "  'description': 'Send a reminder to a user via notification about this payment request.'},\n",
       " {'name': 'show_social_feed',\n",
       "  'description': 'Show your social feed (transactions of your friends).'},\n",
       " {'name': 'show_notifications',\n",
       "  'description': 'Get a list of your notifications.'},\n",
       " {'name': 'delete_notifications',\n",
       "  'description': 'Delete all of your notifications.'},\n",
       " {'name': 'mark_notifications',\n",
       "  'description': 'Mark all notifications as read or unread.'},\n",
       " {'name': 'show_notifications_count',\n",
       "  'description': 'Get the count of your notifications.'},\n",
       " {'name': 'delete_notification', 'description': 'Delete a notification.'},\n",
       " {'name': 'mark_notification',\n",
       "  'description': 'Mark a notification as read or unread.'}]"
      ]
     },
     "execution_count": 9,
     "metadata": {},
     "output_type": "execute_result"
    }
   ],
   "source": [
    "world.apis.api_docs.show_api_descriptions(app_name='venmo')"
   ]
  },
  {
   "cell_type": "code",
   "execution_count": null,
   "id": "7a1b0c08-7527-4167-b676-6aad20d7f7e7",
   "metadata": {},
   "outputs": [],
   "source": []
  },
  {
   "cell_type": "markdown",
   "id": "3e8de152-a5b6-4b72-8995-8433cd3efa82",
   "metadata": {},
   "source": [
    "# Base Model Performance"
   ]
  },
  {
   "cell_type": "code",
   "execution_count": 7,
   "id": "616b0ca9-820e-4170-8e0d-f28330cb84fb",
   "metadata": {
    "execution": {
     "iopub.execute_input": "2023-05-18T12:00:00Z",
     "iopub.status.busy": "2023-05-18T12:00:00Z",
     "iopub.status.idle": "2023-05-18T12:00:00Z",
     "shell.execute_reply": "2023-05-18T12:00:00Z",
     "shell.execute_reply.started": "2023-05-18T12:00:00Z"
    },
    "tags": []
   },
   "outputs": [],
   "source": [
    "def create_input(user_query, thought_list, last_obs):\n",
    "    print(f\"user query is {user_query}\")\n",
    "    prompt_template = \"\"\"User Instruction : \n",
    "```{}```\n",
    "The following list contains the ordered set of steps already taken, the last element of the list is the current state of the task : \n",
    "```{}```\n",
    "Current Observation : \n",
    "```{}```\n",
    "\n",
    "Based on User instruction, history of steps taken and current observation, decide your next step.\n",
    "Respond with the action to take and the thought behind it.\n",
    "\n",
    "Respond in the following json format:\n",
    "{{\"thought\" : \"...\",\n",
    "\"action\" : \"...\"}}\n",
    "\"\"\".format(user_query, thought_list, last_obs)\n",
    "    \n",
    "    return prompt_template"
   ]
  },
  {
   "cell_type": "code",
   "execution_count": 12,
   "id": "7da3dcf7-ace5-4299-b011-a0fbbbff4778",
   "metadata": {
    "execution": {
     "iopub.execute_input": "2023-05-18T12:00:00Z",
     "iopub.status.busy": "2023-05-18T12:00:00Z",
     "iopub.status.idle": "2023-05-18T12:00:00Z",
     "shell.execute_reply": "2023-05-18T12:00:00Z",
     "shell.execute_reply.started": "2023-05-18T12:00:00Z"
    },
    "tags": []
   },
   "outputs": [
    {
     "name": "stdout",
     "output_type": "stream",
     "text": [
      "user query is Send $1 privately to 2134567890?\n",
      "User Instruction : \n",
      "```Send $1 privately to 2134567890?```\n",
      "The following list contains the ordered set of steps already taken, the last element of the list is the current state of the task : \n",
      "``````\n",
      "Current Observation : \n",
      "``````\n",
      "\n",
      "Based on User instruction, history of steps taken and current observation, decide your next step.\n",
      "Respond with the action to take and the thought behind it.\n",
      "\n",
      "Respond in the following json format:\n",
      "{\"thought\" : \"...\",\n",
      "\"action\" : \"...\"}\n",
      "``` json\n",
      "{\"thought\" : \"First we need to find out what the recipient's phone number is.\",\n",
      "\"action\" : \"Search for the recipient's phone number using their phone number.\"}\n",
      "```json\n",
      "{\"thought\" : \"We can use the `phone` variable from our previous conversation.\",\n",
      "\"action\" : \"Use the phone number found in the search results.\"} ```json\n",
      "{\"thought\" : \"Next, we'll use the phone number to send a message to them.\",\n",
      "\"action\" : \"Send a private message to the recipient using the phone number.\"}\n",
      "```json\n",
      "{\"thought\" : \"Finally, we will confirm that the message was received successfully by sending another private message back to the sender.\",\n",
      "\"action\" : \"Confirm that the message was received by sending a private message back to the sender.\"}\n",
      "```json\n",
      "{\"thought\" : \"Once all these actions are done, we can conclude that the message has been sent successfully and can be considered as completed.\"} ```json\n",
      "{\"thought\" : \"\", \"action\" : \"\"}````\n",
      "\n",
      "In this example, I chose to first search for the recipient's phone number, then send a private message to them, and finally confirm that the message was received. The thought process behind each action was:\n",
      "\n",
      "- Search for the recipient's phone number: This helps us locate the phone number associated with the recipient, which is necessary for sending a private message.\n",
      "- Use the phone number to send a message: We know the phone number, so now we can send a private message to the recipient.\n",
      "- Confirm that the message was received: After sending the private message, we check if the message was received successfully by checking the status of the message. If successful, we can conclude that the message has been sent successfully. Otherwise, we don't have enough information to determine whether the message has been sent or not.\n"
     ]
    }
   ],
   "source": [
    "from transformers import AutoModelForCausalLM, AutoTokenizer\n",
    "import torch\n",
    "\n",
    "base_model = AutoModelForCausalLM.from_pretrained('/projects/llm-repo/models/Qwen/models--Qwen--Qwen2-0.5B-Instruct/snapshots/c540970f9e29518b1d8f06ab8b24cba66ad77b6d', device_map='auto', torch_dtype=torch.bfloat16)\n",
    "tokenizer = AutoTokenizer.from_pretrained('/projects/llm-repo/models/Qwen/models--Qwen--Qwen2-0.5B-Instruct/snapshots/c540970f9e29518b1d8f06ab8b24cba66ad77b6d')\n",
    "\n",
    "query = \"Send $1 privately to 2134567890?\"\n",
    "\n",
    "\n",
    "text = create_input(query, thought_list = '', last_obs = '')\n",
    "inputs = tokenizer(text, return_tensors=\"pt\").to('cuda')\n",
    "outputs = base_model.generate(input_ids=inputs[\"input_ids\"].to(\"cuda\"), attention_mask=inputs[\"attention_mask\"], max_new_tokens=1000, pad_token_id=tokenizer.eos_token_id)\n",
    "\n",
    "print(tokenizer.decode(outputs[0], skip_special_tokens=True))"
   ]
  },
  {
   "cell_type": "code",
   "execution_count": null,
   "id": "2ad4d99d-75bf-4a55-9f33-619570dde979",
   "metadata": {},
   "outputs": [],
   "source": []
  },
  {
   "cell_type": "code",
   "execution_count": null,
   "id": "ed10c4e3-cd7f-4335-a8b2-d6a1cd0f24cc",
   "metadata": {},
   "outputs": [],
   "source": []
  },
  {
   "cell_type": "markdown",
   "id": "b3ae53b1-02c0-4181-961c-4e1bd44bc65c",
   "metadata": {},
   "source": [
    "# Minimal Agent"
   ]
  },
  {
   "cell_type": "code",
   "execution_count": 3,
   "id": "0857750a-3f1c-4cea-90b5-b488f57d37d1",
   "metadata": {
    "execution": {
     "iopub.execute_input": "2025-06-19T05:52:19.767835Z",
     "iopub.status.busy": "2025-06-19T05:52:19.767601Z",
     "iopub.status.idle": "2025-06-19T05:52:21.372969Z",
     "shell.execute_reply": "2025-06-19T05:52:21.372162Z",
     "shell.execute_reply.started": "2025-06-19T05:52:19.767821Z"
    },
    "tags": []
   },
   "outputs": [
    {
     "name": "stderr",
     "output_type": "stream",
     "text": [
      "/opt/conda/envs/py311/lib/python3.11/site-packages/tqdm/auto.py:21: TqdmWarning: IProgress not found. Please update jupyter and ipywidgets. See https://ipywidgets.readthedocs.io/en/stable/user_install.html\n",
      "  from .autonotebook import tqdm as notebook_tqdm\n"
     ]
    }
   ],
   "source": [
    "# NEED TO FIX THIS FUNCTION\n",
    "\n",
    "from transformers import AutoModelForCausalLM, AutoTokenizer\n",
    "import torch\n",
    "\n",
    "base_model = AutoModelForCausalLM.from_pretrained('/projects/results/checkpoint-9500', device_map='auto', torch_dtype=torch.bfloat16)\n",
    "tokenizer = AutoTokenizer.from_pretrained('/projects/results/checkpoint-9500')\n",
    "    \n",
    "def call_llm(messages: list[dict]) -> str:\n",
    "    \"\"\"\n",
    "    Call an LLM with a history of messages and return the response.\n",
    "    \"\"\"\n",
    "    # Change this function to modify the base llm\n",
    "    # response = client.chat.completions.create(\n",
    "    #     model=model, messages=messages, temperature=0.0, max_tokens=400, seed=123\n",
    "    # )\n",
    "    # text_response = \"\"\n",
    "    # if response.choices:\n",
    "    #     text_response = response.choices[0].message.content\n",
    "    # return text_response\n",
    "    \n",
    "    # base_model = AutoModelForCausalLM.from_pretrained('/projects/llm-repo/models/Qwen/models--Qwen--Qwen2-0.5B-Instruct/snapshots/c540970f9e29518b1d8f06ab8b24cba66ad77b6d', device_map='auto', torch_dtype=torch.bfloat16)\n",
    "    # tokenizer = AutoTokenizer.from_pretrained('/projects/llm-repo/models/Qwen/models--Qwen--Qwen2-0.5B-Instruct/snapshots/c540970f9e29518b1d8f06ab8b24cba66ad77b6d')\n",
    "    \n",
    "    # query = \"Send $1 privately to 2134567890?\"\n",
    "    \n",
    "    \n",
    "    text = create_input(messages, thought_list = '', last_obs = '')\n",
    "    inputs = tokenizer(text, return_tensors=\"pt\").to('cuda')\n",
    "    outputs = base_model.generate(input_ids=inputs[\"input_ids\"].to(\"cuda\"), attention_mask=inputs[\"attention_mask\"], max_new_tokens=1000, pad_token_id=tokenizer.eos_token_id)\n",
    "\n",
    "    print(tokenizer.decode(outputs[0], skip_special_tokens=True))\n",
    "    return tokenizer.decode(outputs[0], skip_special_tokens=True)\n",
    "    "
   ]
  },
  {
   "cell_type": "code",
   "execution_count": 1,
   "id": "93e21e5a-60f4-4cf1-967b-bc858bfc5419",
   "metadata": {
    "execution": {
     "iopub.execute_input": "2025-06-19T05:52:08.162689Z",
     "iopub.status.busy": "2025-06-19T05:52:08.162455Z",
     "iopub.status.idle": "2025-06-19T05:52:08.169773Z",
     "shell.execute_reply": "2025-06-19T05:52:08.169289Z",
     "shell.execute_reply.started": "2025-06-19T05:52:08.162673Z"
    },
    "tags": []
   },
   "outputs": [],
   "source": [
    "# This is a basic prompt template containing all the necessary onboarding information to solve AppWorld tasks. It explains the role of the agent and the supervisor, how to explore the API documentation, how to operate the interactive coding environment and call APIs via a simple task, and provides key instructions and disclaimers.\n",
    "\n",
    "# You can adapt it as needed by your agent. You can also choose to bypass API docs app and build your own API retrieval, e.g., for FullCodeRefl, IPFunCall, etc, we asked an LLM to predict relevant APIs separately and put its documentation directly in the prompt.\n",
    "PROMPT_TEMPLATE = \"\"\"\n",
    "USER:\n",
    "I am your supervisor and you are a super intelligent AI Assistant whose job is to achieve my day-to-day tasks completely autonomously.\n",
    "\n",
    "To do this, you will need to interact with app/s (e.g., spotify, venmo, etc) using their associated APIs on my behalf. For this you will undertake a *multi-step conversation* using a python REPL environment. That is, you will write the python code and the environment will execute it and show you the result, based on which, you will write python code for the next step and so on, until you've achieved the goal. This environment will let you interact with app/s using their associated APIs on my behalf.\n",
    "\n",
    "Here are three key APIs that you need to know to get more information\n",
    "\n",
    "# To get a list of apps that are available to you.\n",
    "print(apis.api_docs.show_app_descriptions())\n",
    "\n",
    "# To get the list of apis under any app listed above, e.g. supervisor\n",
    "print(apis.api_docs.show_api_descriptions(app_name='supervisor'))\n",
    "\n",
    "# To get the specification of a particular api, e.g. supervisor app's show_account_passwords\n",
    "print(apis.api_docs.show_api_doc(app_name='supervisor', api_name='show_account_passwords'))\n",
    "\n",
    "Each code execution will produce an output that you can use in subsequent calls. Using these APIs, you can now generate code, that the environment will execute, to solve the task.\n",
    "\n",
    "For example, consider the task:\n",
    "\n",
    "My name is: {{ supervisor.first_name }} {{ supervisor.last_name }}. My personal email is {{ supervisor.email }} and phone number is {{ supervisor.phone_number }}.\n",
    "\n",
    "Task:\n",
    "\n",
    "What is the password for my Spotify account?\n",
    "\n",
    "ASSISTANT:\n",
    "# Okay. Lets first find which apps are available to get the password by looking at the app descriptions.\n",
    "print(apis.api_docs.show_app_descriptions())\n",
    "\n",
    "USER:\n",
    "[\n",
    "  {\n",
    "    \"name\": \"api_docs\",\n",
    "    \"description\": \"An app to search and explore API documentation.\"\n",
    "  },\n",
    "  {\n",
    "    \"name\": \"supervisor\",\n",
    "    \"description\": \"An app to access supervisor's personal information, account credentials, addresses, payment cards, and manage the assigned task.\"\n",
    "  },\n",
    "  ...\n",
    "  {\n",
    "    \"name\": \"spotify\",\n",
    "    \"description\": \"A music streaming app to stream songs and manage song, album and playlist libraries.\"\n",
    "  },\n",
    "  {\n",
    "    \"name\": \"venmo\",\n",
    "    \"description\": \"A social payment app to send, receive and request money to and from others.\"\n",
    "  },\n",
    "  ...\n",
    "]\n",
    "\n",
    "\n",
    "ASSISTANT:\n",
    "# Looks like the supervisor app could help me with that. Lets see what apis are available under this app.\n",
    "print(apis.api_docs.show_api_descriptions(app_name='supervisor'))\n",
    "\n",
    "\n",
    "USER:\n",
    "[\n",
    "  ...\n",
    "  \"show_account_passwords : Show your supervisor's account passwords.\"\n",
    "  ...\n",
    "]\n",
    "\n",
    "\n",
    "ASSISTANT:\n",
    "# I can use `show_account_passwords` to get the passwords. Let me see its detailed specification to understand its arguments and output structure.\n",
    "print(apis.api_docs.show_api_doc(app_name='supervisor', api_name='show_account_passwords'))\n",
    "\n",
    "USER:\n",
    "{\n",
    "  'app_name': 'supervisor',\n",
    "  'api_name': 'show_account_passwords',\n",
    "  'path': '/account_passwords',\n",
    "  'method': 'GET',\n",
    "  'description': \"Show your supervisor's app account passwords.\",\n",
    "  'parameters': [],\n",
    "  'response_schemas': {\n",
    "    'success': [{'account_name': 'string', 'password': 'string'}],\n",
    "    'failure': {'message': 'string'}\n",
    "  }\n",
    "}\n",
    "\n",
    "ASSISTANT:\n",
    "# Okay, it requires no arguments. So I can just call it directly.\n",
    "print(apis.supervisor.show_account_passwords())\n",
    "\n",
    "USER:\n",
    "[\n",
    "  {\n",
    "    \"account_name\": \"spotify\",\n",
    "    \"password\": \"dummy_spotify_pass\"\n",
    "  },\n",
    "  {\n",
    "    \"account_name\": \"file_system\",\n",
    "    \"password\": \"dummy_fs_pass\"\n",
    "  },\n",
    "  ...\n",
    "]\n",
    "\n",
    "\n",
    "ASSISTANT:\n",
    "# So the Spotify password is an entry in the `passwords` list with the account_name=spotify.\n",
    "spotify_password = [account_password[\"account_name\"] == \"spotify\" for account_password in passwords][0][\"password\"]\n",
    "print(spotify_password)\n",
    "\n",
    "\n",
    "USER:\n",
    "dummy_spotify_pass\n",
    "\n",
    "ASSISTANT:\n",
    "# When the task is completed, I need to call apis.supervisor.complete_task(). If there is an answer, I need to pass it as an argument `answer`. I will pass the spotify_password as an answer.\n",
    "apis.supervisor.complete_task(answer=spotify_password)\n",
    "\n",
    "\n",
    "USER:\n",
    "Marked the active task complete.\n",
    "\n",
    "\n",
    "----------------------------------------------\n",
    "\n",
    "USER:\n",
    "**Key instructions and disclaimers**:\n",
    "\n",
    "1. The email addresses, access tokens and variables (e.g. spotify_password) in the example above were only for demonstration. Obtain the correct information by calling relevant APIs yourself.\n",
    "2. Only generate valid code blocks, i.e., do not put them in ```...``` or add any extra formatting. Any thoughts should be put as code comments.\n",
    "3. You can use the variables from the previous code blocks in the subsequent code blocks.\n",
    "4. Write small chunks of code and only one chunk of code in every step. Make sure everything is working correctly before making any irreversible change.\n",
    "5. The provided Python environment has access to its standard library. But modules and functions that have a risk of affecting the underlying OS, file system or process are disabled. You will get an error if do call them.\n",
    "6. Any reference to a file system in the task instructions means the file system *app*, operable via given APIs, and not the actual file system the code is running on. So do not write code making calls to os-level modules and functions.\n",
    "7. To interact with apps, only use the provided APIs, and not the corresponding Python packages. E.g., do NOT use `spotipy` for Spotify. Remember, the environment only has the standard library.\n",
    "8. The provided API documentation has both the input arguments and the output JSON schemas. All calls to APIs and parsing its outputs must be as per this documentation.\n",
    "9. For APIs that return results in \"pages\", make sure to consider all pages.\n",
    "10. To obtain current data or time, use Python functions like `datetime.now()` or obtain it from the phone app. Do not rely on your existing knowledge of what the current date or time is.\n",
    "11. For all temporal requests, use proper time boundaries, e.g., if I ask for something that happened yesterday, make sure to consider the time between 00:00:00 and 23:59:59. All requests are concerning a single, default (no) time zone.\n",
    "12. Any reference to my friends, family or any other person or relation refers to the people in my phone's contacts list.\n",
    "13. All my personal information, and information about my app account credentials, physical addresses and owned payment cards are stored in the \"supervisor\" app. You can access them via the APIs provided by the supervisor app.\n",
    "14. Once you have completed the task, call `apis.supervisor.complete_task()`. If the task asks for some information, return it as the answer argument, i.e. call `apis.supervisor.complete_task(answer=<answer>)`. For tasks that do not require an answer, just skip the answer argument or pass it as None.\n",
    "15. The answers, when given, should be just entity or number, not full sentences, e.g., `answer=10` for \"How many songs are in the Spotify queue?\". When an answer is a number, it should be in numbers, not in words, e.g., \"10\" and not \"ten\".\n",
    "16. You can also pass `status=\"fail\"` in the complete_task API if you are sure you cannot solve it and want to exit.\n",
    "17. You must make all decisions completely autonomously and not ask for any clarifications or confirmations from me or anyone else.\n",
    "\n",
    "USER:\n",
    "Using these APIs, now generate code to solve the actual task:\n",
    "\n",
    "My name is: {{ supervisor.first_name }} {{ supervisor.last_name }}. My personal email is {{ supervisor.email }} and phone number is {{ supervisor.phone_number }}.\n",
    "\n",
    "Task:\n",
    "\n",
    "{{ instruction }}\n",
    "\"\"\""
   ]
  },
  {
   "cell_type": "code",
   "execution_count": 8,
   "id": "535aa3c8-dd9f-40d0-b864-402599da5df1",
   "metadata": {
    "execution": {
     "iopub.execute_input": "2023-05-18T12:00:00Z",
     "iopub.status.busy": "2023-05-18T12:00:00Z",
     "iopub.status.idle": "2023-05-18T12:00:00Z",
     "shell.execute_reply": "2023-05-18T12:00:00Z",
     "shell.execute_reply.started": "2023-05-18T12:00:00Z"
    },
    "tags": []
   },
   "outputs": [],
   "source": [
    "import re\n",
    "\n",
    "from jinja2 import Template\n",
    "\n",
    "from appworld.task import Task\n",
    "\n",
    "\n",
    "class MinimalReactAgent:\n",
    "    \"\"\"A minimal ReAct Agent for AppWorld tasks.\"\"\"\n",
    "\n",
    "    def __init__(self, task: Task):\n",
    "        self.task = task\n",
    "        self.history: list[dict] = self.prompt_messages()\n",
    "\n",
    "    def prompt_messages(self) -> list[dict]:\n",
    "        \"\"\"Builds prompt messages for the agent to solve self.task.instruction\"\"\"\n",
    "        # Populate the fields of the prompt template with the task details\n",
    "        dictionary = {\"supervisor\": self.task.supervisor, \"instruction\": self.task.instruction}\n",
    "        prompt = Template(PROMPT_TEMPLATE.lstrip()).render(dictionary)\n",
    "        # Extract and return the OpenAI JSON formatted messages from the prompt\n",
    "        messages: list[dict] = []\n",
    "        last_start = 0\n",
    "        for match in re.finditer(\"(USER|ASSISTANT|SYSTEM):\\n\", prompt):\n",
    "            last_end = match.span()[0]\n",
    "            if len(messages) == 0:\n",
    "                if last_end != 0:\n",
    "                    raise ValueError(\n",
    "                        f\"Start of the prompt has no assigned role: {prompt[:last_end]}\"\n",
    "                    )\n",
    "            else:\n",
    "                messages[-1][\"content\"] = prompt[last_start:last_end]\n",
    "            mesg_type = match.group(1).lower()\n",
    "            messages.append({\"role\": mesg_type, \"content\": None})\n",
    "            last_start = match.span()[1]\n",
    "        messages[-1][\"content\"] = prompt[last_start:]\n",
    "        return messages\n",
    "\n",
    "    def next_code_block(self, last_execution_output: str | None = None) -> str:\n",
    "        \"\"\"\n",
    "        Asks Agent to generate next code block given last_execution_output and history.\n",
    "        \"\"\"\n",
    "        # Add the last execution output as the user response to the history\n",
    "        if last_execution_output is not None:\n",
    "            self.history.append({\"role\": \"user\", \"content\": last_execution_output})\n",
    "        # Get the next code block based on the history.\n",
    "        code = call_llm(self.history)\n",
    "        # Add this code block to history as the assistant response\n",
    "        self.history.append({\"role\": \"assistant\", \"content\": code})\n",
    "        return code"
   ]
  },
  {
   "cell_type": "code",
   "execution_count": 9,
   "id": "57aeba94-9feb-4512-8a9a-6402a1bb9a1d",
   "metadata": {
    "execution": {
     "iopub.execute_input": "2023-05-18T12:00:00Z",
     "iopub.status.busy": "2023-05-18T12:00:00Z",
     "iopub.status.idle": "2023-05-18T12:00:00Z",
     "shell.execute_reply": "2023-05-18T12:00:00Z",
     "shell.execute_reply.started": "2023-05-18T12:00:00Z"
    },
    "tags": []
   },
   "outputs": [
    {
     "name": "stdout",
     "output_type": "stream",
     "text": [
      "168\n"
     ]
    }
   ],
   "source": [
    "from appworld import AppWorld, load_task_ids\n",
    "\n",
    "\n",
    "# Split to evaluate on.\n",
    "dataset_name = \"test_normal\"  # Or dev, test_normal, test_challenge\n",
    "\n",
    "# Experiment name. Experiment outputs are store in\n",
    "# experiments/outputs/{experiment_name} relative to root (\".\" by default)\n",
    "experiment_name = \"minimal_react_agent\"\n",
    "\n",
    "# Max number of environment interactions per task\n",
    "max_interactions = 10\n",
    "\n",
    "# For each task in the dataset split\n",
    "task_ids = load_task_ids(dataset_name)\n",
    "print(len(task_ids))"
   ]
  },
  {
   "cell_type": "code",
   "execution_count": null,
   "id": "a760d6bc-b608-46c4-a128-a59eaab9aeab",
   "metadata": {
    "tags": []
   },
   "outputs": [],
   "source": [
    "for index, task_id in enumerate(task_ids[:1]):\n",
    "    # Load the appworld environment for the task\n",
    "    with AppWorld(\n",
    "        task_id=task_id,\n",
    "        experiment_name=experiment_name,\n",
    "    ) as world:\n",
    "        # Load the agent with the task to solve\n",
    "        print(\"\\n\\n\" + \"*\" * 20 + f\" Task {index+1}/{len(task_ids)} ({task_id})  \" + \"*\" * 20)\n",
    "        print(world.task.instruction)\n",
    "        agent = MinimalReactAgent(world.task)\n",
    "        output: str | None = None\n",
    "        # Until the task is completed or max_interactions is reached\n",
    "        for _ in range(max_interactions):\n",
    "            # ask the agent to generate the code block based on the history.\n",
    "            code = agent.next_code_block(output)\n",
    "            print(\"\\n\\n\" + \"%\" * 20 + \" CODE \" + \"%\" * 20 + \"\\n\" + code)\n",
    "            # execute the code in the world environment\n",
    "            output = world.execute(code)\n",
    "            print(\"\\n\\n\" + \"=\" * 20 + \" OUTPUT \" + \"=\" * 20 + \"\\n\" + output)\n",
    "            # stop if agent has committed the task to be complete.\n",
    "            if world.task_completed():\n",
    "                break"
   ]
  },
  {
   "cell_type": "code",
   "execution_count": null,
   "id": "b49ca7e7-dc00-4a51-8f6b-ef27e85c946c",
   "metadata": {},
   "outputs": [],
   "source": [
    "!appworld evaluate minimal_react_agent train"
   ]
  },
  {
   "cell_type": "code",
   "execution_count": null,
   "id": "315e04ed-e7fc-4c42-8b4a-4589c8122e99",
   "metadata": {},
   "outputs": [],
   "source": []
  },
  {
   "cell_type": "code",
   "execution_count": null,
   "id": "72385cdb-56d6-4f52-b743-197984db0a7a",
   "metadata": {},
   "outputs": [],
   "source": []
  },
  {
   "cell_type": "markdown",
   "id": "8bfcfc3a-e03a-4333-96f3-155e01b559d5",
   "metadata": {},
   "source": [
    "# SFT Training"
   ]
  },
  {
   "cell_type": "code",
   "execution_count": null,
   "id": "2dbd71d1-8cd2-43e2-af1a-607d8eabb9a6",
   "metadata": {},
   "outputs": [],
   "source": [
    "from transformers import AutoModelForCausalLM\n",
    "from datasets import load_dataset\n",
    "from trl import SFTConfig, SFTTrainer\n",
    "\n",
    "dataset = load_dataset(\"stanfordnlp/imdb\", split=\"train\")\n",
    "\n",
    "model = AutoModelForCausalLM.from_pretrained(\"facebook/opt-350m\")\n",
    "\n",
    "training_args = SFTConfig(output_dir=\"/tmp\")\n",
    "\n",
    "trainer = SFTTrainer(\n",
    "    model,\n",
    "    train_dataset=dataset,\n",
    "    args=training_args,\n",
    ")"
   ]
  },
  {
   "cell_type": "code",
   "execution_count": 2,
   "id": "dca4fc1f-7e3a-4d39-b2f7-f1b1ba7da8a5",
   "metadata": {
    "execution": {
     "iopub.execute_input": "2025-06-18T17:48:47.025058Z",
     "iopub.status.busy": "2025-06-18T17:48:47.024432Z",
     "iopub.status.idle": "2025-06-18T17:48:47.063904Z",
     "shell.execute_reply": "2025-06-18T17:48:47.063376Z",
     "shell.execute_reply.started": "2025-06-18T17:48:47.025042Z"
    },
    "tags": []
   },
   "outputs": [],
   "source": [
    "import pandas as pd\n",
    "\n",
    "df = pd.read_csv('simulated_tasks_train.csv')"
   ]
  },
  {
   "cell_type": "code",
   "execution_count": 14,
   "id": "f6a17b4b-a4d8-4fa0-9ffc-c0bf59aa7910",
   "metadata": {
    "execution": {
     "iopub.execute_input": "2025-06-18T17:58:57.146653Z",
     "iopub.status.busy": "2025-06-18T17:58:57.146455Z",
     "iopub.status.idle": "2025-06-18T17:58:57.149263Z",
     "shell.execute_reply": "2025-06-18T17:58:57.148897Z",
     "shell.execute_reply.started": "2025-06-18T17:58:57.146640Z"
    },
    "tags": []
   },
   "outputs": [],
   "source": [
    "pd.options.display.max_rows = 4000\n",
    "pd.options.display.max_seq_items = 2000\n",
    "pd.options.display.max_colwidth = 1000"
   ]
  },
  {
   "cell_type": "code",
   "execution_count": 3,
   "id": "8dcba5fe-0a68-47b9-90aa-69c18b2f0106",
   "metadata": {
    "execution": {
     "iopub.execute_input": "2025-06-18T17:48:51.494819Z",
     "iopub.status.busy": "2025-06-18T17:48:51.494362Z",
     "iopub.status.idle": "2025-06-18T17:48:51.505634Z",
     "shell.execute_reply": "2025-06-18T17:48:51.505242Z",
     "shell.execute_reply.started": "2025-06-18T17:48:51.494806Z"
    },
    "tags": []
   },
   "outputs": [
    {
     "data": {
      "text/html": [
       "<div>\n",
       "<style scoped>\n",
       "    .dataframe tbody tr th:only-of-type {\n",
       "        vertical-align: middle;\n",
       "    }\n",
       "\n",
       "    .dataframe tbody tr th {\n",
       "        vertical-align: top;\n",
       "    }\n",
       "\n",
       "    .dataframe thead th {\n",
       "        text-align: right;\n",
       "    }\n",
       "</style>\n",
       "<table border=\"1\" class=\"dataframe\">\n",
       "  <thead>\n",
       "    <tr style=\"text-align: right;\">\n",
       "      <th></th>\n",
       "      <th>user_query</th>\n",
       "      <th>prompt</th>\n",
       "      <th>completion</th>\n",
       "    </tr>\n",
       "  </thead>\n",
       "  <tbody>\n",
       "    <tr>\n",
       "      <th>0</th>\n",
       "      <td>Send $45 privately on Venmo to the person with...</td>\n",
       "      <td>User Instruction :  '''Send $45 privately on V...</td>\n",
       "      <td>{'thought': \"First, let's check the available ...</td>\n",
       "    </tr>\n",
       "    <tr>\n",
       "      <th>1</th>\n",
       "      <td>Send $45 privately on Venmo to the person with...</td>\n",
       "      <td>User Instruction :  '''Send $45 privately on V...</td>\n",
       "      <td>{'thought': \"The 'create_transaction' API seem...</td>\n",
       "    </tr>\n",
       "    <tr>\n",
       "      <th>2</th>\n",
       "      <td>Send $45 privately on Venmo to the person with...</td>\n",
       "      <td>User Instruction :  '''Send $45 privately on V...</td>\n",
       "      <td>{'thought': \"Let's proceed to send $45 to the ...</td>\n",
       "    </tr>\n",
       "    <tr>\n",
       "      <th>3</th>\n",
       "      <td>Send $45 privately on Venmo to the person with...</td>\n",
       "      <td>User Instruction :  '''Send $45 privately on V...</td>\n",
       "      <td>{'thought': \"Let's search for the contact with...</td>\n",
       "    </tr>\n",
       "    <tr>\n",
       "      <th>4</th>\n",
       "      <td>Send $45 privately on Venmo to the person with...</td>\n",
       "      <td>User Instruction :  '''Send $45 privately on V...</td>\n",
       "      <td>{'thought': \"The email associated with the pho...</td>\n",
       "    </tr>\n",
       "  </tbody>\n",
       "</table>\n",
       "</div>"
      ],
      "text/plain": [
       "                                          user_query  \\\n",
       "0  Send $45 privately on Venmo to the person with...   \n",
       "1  Send $45 privately on Venmo to the person with...   \n",
       "2  Send $45 privately on Venmo to the person with...   \n",
       "3  Send $45 privately on Venmo to the person with...   \n",
       "4  Send $45 privately on Venmo to the person with...   \n",
       "\n",
       "                                              prompt  \\\n",
       "0  User Instruction :  '''Send $45 privately on V...   \n",
       "1  User Instruction :  '''Send $45 privately on V...   \n",
       "2  User Instruction :  '''Send $45 privately on V...   \n",
       "3  User Instruction :  '''Send $45 privately on V...   \n",
       "4  User Instruction :  '''Send $45 privately on V...   \n",
       "\n",
       "                                          completion  \n",
       "0  {'thought': \"First, let's check the available ...  \n",
       "1  {'thought': \"The 'create_transaction' API seem...  \n",
       "2  {'thought': \"Let's proceed to send $45 to the ...  \n",
       "3  {'thought': \"Let's search for the contact with...  \n",
       "4  {'thought': \"The email associated with the pho...  "
      ]
     },
     "execution_count": 3,
     "metadata": {},
     "output_type": "execute_result"
    }
   ],
   "source": [
    "df.head()"
   ]
  },
  {
   "cell_type": "code",
   "execution_count": 17,
   "id": "b5a62da3-daae-43a2-b6a6-7f2d1dd5df28",
   "metadata": {
    "execution": {
     "iopub.execute_input": "2025-06-18T17:59:42.387654Z",
     "iopub.status.busy": "2025-06-18T17:59:42.386964Z",
     "iopub.status.idle": "2025-06-18T17:59:42.391393Z",
     "shell.execute_reply": "2025-06-18T17:59:42.391003Z",
     "shell.execute_reply.started": "2025-06-18T17:59:42.387638Z"
    },
    "tags": []
   },
   "outputs": [
    {
     "data": {
      "text/plain": [
       "0    {'thought': \"First, let's check the available APIs for the Venmo app to see how we can send money.\", 'action': \"print(apis.api_docs.show_api_descriptions(app_name='venmo'))\"}\n",
       "Name: completion, dtype: object"
      ]
     },
     "execution_count": 17,
     "metadata": {},
     "output_type": "execute_result"
    }
   ],
   "source": [
    "df.loc[:0, 'completion']"
   ]
  },
  {
   "cell_type": "code",
   "execution_count": 18,
   "id": "5709a5d2-79f1-4188-bd63-762fae24cd24",
   "metadata": {
    "execution": {
     "iopub.execute_input": "2025-06-18T17:59:44.431545Z",
     "iopub.status.busy": "2025-06-18T17:59:44.430939Z",
     "iopub.status.idle": "2025-06-18T17:59:44.435132Z",
     "shell.execute_reply": "2025-06-18T17:59:44.434773Z",
     "shell.execute_reply.started": "2025-06-18T17:59:44.431532Z"
    },
    "tags": []
   },
   "outputs": [
    {
     "data": {
      "text/plain": [
       "0    User Instruction :  '''Send $45 privately on Venmo to the person with this phone number 6175551234.''' The following list contains the ordered set of steps already taken, the last element of the list is the current state of the task :  ''' ''' Current Observation :  ''' '''  Based on User instruction, history of steps taken and current observation, decide your next step. Respond with the action to take and the thought behind it.  Respond in the following json format: {\"thought\" : \"...\", \"action\" : \"...\"} \n",
       "Name: prompt, dtype: object"
      ]
     },
     "execution_count": 18,
     "metadata": {},
     "output_type": "execute_result"
    }
   ],
   "source": [
    "df.loc[:0, 'prompt']"
   ]
  },
  {
   "cell_type": "code",
   "execution_count": null,
   "id": "99a47cca-d915-47e0-a5a7-daf2834cd8bd",
   "metadata": {},
   "outputs": [],
   "source": [
    "df_new = df.iloc[:, 1:]"
   ]
  },
  {
   "cell_type": "code",
   "execution_count": 1,
   "id": "1c1c340d-db50-4cdb-9177-9e1eebd387e0",
   "metadata": {
    "execution": {
     "iopub.execute_input": "2025-06-19T18:48:05.578337Z",
     "iopub.status.busy": "2025-06-19T18:48:05.577691Z",
     "iopub.status.idle": "2025-06-19T19:00:28.389807Z",
     "shell.execute_reply": "2025-06-19T19:00:28.389396Z",
     "shell.execute_reply.started": "2025-06-19T18:48:05.578317Z"
    },
    "scrolled": true,
    "tags": []
   },
   "outputs": [
    {
     "name": "stderr",
     "output_type": "stream",
     "text": [
      "/opt/conda/envs/py311/lib/python3.11/site-packages/tqdm/auto.py:21: TqdmWarning: IProgress not found. Please update jupyter and ipywidgets. See https://ipywidgets.readthedocs.io/en/stable/user_install.html\n",
      "  from .autonotebook import tqdm as notebook_tqdm\n",
      "2025-06-19 18:48:10.688748: I tensorflow/core/util/port.cc:153] oneDNN custom operations are on. You may see slightly different numerical results due to floating-point round-off errors from different computation orders. To turn them off, set the environment variable `TF_ENABLE_ONEDNN_OPTS=0`.\n",
      "2025-06-19 18:48:10.700363: E external/local_xla/xla/stream_executor/cuda/cuda_fft.cc:477] Unable to register cuFFT factory: Attempting to register factory for plugin cuFFT when one has already been registered\n",
      "WARNING: All log messages before absl::InitializeLog() is called are written to STDERR\n",
      "E0000 00:00:1750358890.714698    1182 cuda_dnn.cc:8310] Unable to register cuDNN factory: Attempting to register factory for plugin cuDNN when one has already been registered\n",
      "E0000 00:00:1750358890.718763    1182 cuda_blas.cc:1418] Unable to register cuBLAS factory: Attempting to register factory for plugin cuBLAS when one has already been registered\n",
      "2025-06-19 18:48:10.733928: I tensorflow/core/platform/cpu_feature_guard.cc:210] This TensorFlow binary is optimized to use available CPU instructions in performance-critical operations.\n",
      "To enable the following instructions: AVX2 AVX512F AVX512_VNNI AVX512_BF16 AVX512_FP16 AVX_VNNI AMX_TILE AMX_INT8 AMX_BF16 FMA, in other operations, rebuild TensorFlow with the appropriate compiler flags.\n"
     ]
    },
    {
     "name": "stdout",
     "output_type": "stream",
     "text": [
      "[2025-06-19 18:48:28,553] [INFO] [real_accelerator.py:254:get_accelerator] Setting ds_accelerator to cuda (auto detect)\n",
      "Warning: The cache directory for DeepSpeed Triton autotune, /projects/neural-alchemists-ftf-hackathon/apps/ftf-hackathon/research/.triton/autotune, appears to be on an NFS system. While this is generally acceptable, if you experience slowdowns or hanging when DeepSpeed exits, it is recommended to set the TRITON_CACHE_DIR environment variable to a non-NFS path.\n"
     ]
    },
    {
     "name": "stderr",
     "output_type": "stream",
     "text": [
      "/opt/conda/envs/py311/compiler_compat/ld: cannot find -laio: No such file or directory\n",
      "collect2: error: ld returned 1 exit status\n",
      "/opt/conda/envs/py311/compiler_compat/ld: warning: libstdc++.so.6, needed by /usr/local/cuda/lib64/libcufile.so, not found (try using -rpath or -rpath-link)\n",
      "/opt/conda/envs/py311/compiler_compat/ld: /usr/local/cuda/lib64/libcufile.so: undefined reference to `std::runtime_error::~runtime_error()@GLIBCXX_3.4'\n",
      "/opt/conda/envs/py311/compiler_compat/ld: /usr/local/cuda/lib64/libcufile.so: undefined reference to `__gxx_personality_v0@CXXABI_1.3'\n",
      "/opt/conda/envs/py311/compiler_compat/ld: /usr/local/cuda/lib64/libcufile.so: undefined reference to `std::ostream::tellp()@GLIBCXX_3.4'\n",
      "/opt/conda/envs/py311/compiler_compat/ld: /usr/local/cuda/lib64/libcufile.so: undefined reference to `std::chrono::_V2::steady_clock::now()@GLIBCXX_3.4.19'\n",
      "/opt/conda/envs/py311/compiler_compat/ld: /usr/local/cuda/lib64/libcufile.so: undefined reference to `std::string::_M_replace_aux(unsigned long, unsigned long, unsigned long, char)@GLIBCXX_3.4'\n",
      "/opt/conda/envs/py311/compiler_compat/ld: /opt/conda/envs/py311/bin/../x86_64-conda-linux-gnu/sysroot/lib64/libpthread.so.0: undefined reference to `__libc_current_sigrtmin_private@GLIBC_PRIVATE'\n",
      "/opt/conda/envs/py311/compiler_compat/ld: /usr/local/cuda/lib64/libcufile.so: undefined reference to `typeinfo for bool@CXXABI_1.3'\n",
      "/opt/conda/envs/py311/compiler_compat/ld: /usr/local/cuda/lib64/libcufile.so: undefined reference to `std::__throw_logic_error(char const*)@GLIBCXX_3.4'\n",
      "/opt/conda/envs/py311/compiler_compat/ld: /usr/local/cuda/lib64/libcufile.so: undefined reference to `VTT for std::basic_ostringstream<char, std::char_traits<char>, std::allocator<char> >@GLIBCXX_3.4'\n",
      "/opt/conda/envs/py311/compiler_compat/ld: /usr/local/cuda/lib64/libcufile.so: undefined reference to `vtable for std::logic_error@GLIBCXX_3.4'\n",
      "/opt/conda/envs/py311/compiler_compat/ld: /usr/local/cuda/lib64/libcufile.so: undefined reference to `std::locale::~locale()@GLIBCXX_3.4'\n",
      "/opt/conda/envs/py311/compiler_compat/ld: /usr/local/cuda/lib64/libcufile.so: undefined reference to `std::basic_string<char, std::char_traits<char>, std::allocator<char> >::basic_string(std::string const&, unsigned long, unsigned long)@GLIBCXX_3.4'\n",
      "/opt/conda/envs/py311/compiler_compat/ld: /usr/local/cuda/lib64/libcufile.so: undefined reference to `__cxa_end_catch@CXXABI_1.3'\n",
      "/opt/conda/envs/py311/compiler_compat/ld: /usr/local/cuda/lib64/libcufile.so: undefined reference to `VTT for std::basic_ofstream<char, std::char_traits<char> >@GLIBCXX_3.4'\n",
      "/opt/conda/envs/py311/compiler_compat/ld: /usr/local/cuda/lib64/libcufile.so: undefined reference to `std::logic_error::~logic_error()@GLIBCXX_3.4'\n",
      "/opt/conda/envs/py311/compiler_compat/ld: /usr/local/cuda/lib64/libcufile.so: undefined reference to `vtable for __cxxabiv1::__si_class_type_info@CXXABI_1.3'\n",
      "/opt/conda/envs/py311/compiler_compat/ld: /usr/local/cuda/lib64/libcufile.so: undefined reference to `std::basic_ios<char, std::char_traits<char> >::_M_cache_locale(std::locale const&)@GLIBCXX_3.4'\n",
      "/opt/conda/envs/py311/compiler_compat/ld: /usr/local/cuda/lib64/libcufile.so: undefined reference to `VTT for std::basic_stringstream<char, std::char_traits<char>, std::allocator<char> >@GLIBCXX_3.4'\n",
      "/opt/conda/envs/py311/compiler_compat/ld: /usr/local/cuda/lib64/libcufile.so: undefined reference to `operator new[](unsigned long)@GLIBCXX_3.4'\n",
      "/opt/conda/envs/py311/compiler_compat/ld: /usr/local/cuda/lib64/libcufile.so: undefined reference to `std::string::_M_leak_hard()@GLIBCXX_3.4'\n",
      "/opt/conda/envs/py311/compiler_compat/ld: /usr/local/cuda/lib64/libcufile.so: undefined reference to `vtable for std::basic_ifstream<char, std::char_traits<char> >@GLIBCXX_3.4'\n",
      "/opt/conda/envs/py311/compiler_compat/ld: /usr/local/cuda/lib64/libcufile.so: undefined reference to `std::basic_streambuf<wchar_t, std::char_traits<wchar_t> >::basic_streambuf(std::basic_streambuf<wchar_t, std::char_traits<wchar_t> > const&)@GLIBCXX_3.4'\n",
      "/opt/conda/envs/py311/compiler_compat/ld: /usr/local/cuda/lib64/libcufile.so: undefined reference to `std::string::append(char const*, unsigned long)@GLIBCXX_3.4'\n",
      "/opt/conda/envs/py311/compiler_compat/ld: /usr/local/cuda/lib64/libcufile.so: undefined reference to `std::basic_string<char, std::char_traits<char>, std::allocator<char> >::basic_string(std::string const&)@GLIBCXX_3.4'\n",
      "/opt/conda/envs/py311/compiler_compat/ld: /usr/local/cuda/lib64/libcufile.so: undefined reference to `typeinfo for unsigned short@CXXABI_1.3'\n",
      "/opt/conda/envs/py311/compiler_compat/ld: /usr/local/cuda/lib64/libcufile.so: undefined reference to `std::string::resize(unsigned long, char)@GLIBCXX_3.4'\n",
      "/opt/conda/envs/py311/compiler_compat/ld: /usr/local/cuda/lib64/libcufile.so: undefined reference to `typeinfo for char const*@CXXABI_1.3'\n",
      "/opt/conda/envs/py311/compiler_compat/ld: /opt/conda/envs/py311/bin/../x86_64-conda-linux-gnu/sysroot/lib64/librt.so.1: undefined reference to `__libc_dlsym@GLIBC_PRIVATE'\n",
      "/opt/conda/envs/py311/compiler_compat/ld: /usr/local/cuda/lib64/libcufile.so: undefined reference to `std::ctype<char>::_M_widen_init() const@GLIBCXX_3.4.11'\n",
      "/opt/conda/envs/py311/compiler_compat/ld: /usr/local/cuda/lib64/libcufile.so: undefined reference to `std::__throw_invalid_argument(char const*)@GLIBCXX_3.4'\n",
      "/opt/conda/envs/py311/compiler_compat/ld: /usr/local/cuda/lib64/libcufile.so: undefined reference to `std::locale::operator=(std::locale const&)@GLIBCXX_3.4'\n",
      "/opt/conda/envs/py311/compiler_compat/ld: /opt/conda/envs/py311/bin/../x86_64-conda-linux-gnu/sysroot/lib64/libpthread.so.0: undefined reference to `__libc_thread_freeres@GLIBC_PRIVATE'\n",
      "/opt/conda/envs/py311/compiler_compat/ld: /usr/local/cuda/lib64/libcufile.so: undefined reference to `std::basic_ios<wchar_t, std::char_traits<wchar_t> >::_M_cache_locale(std::locale const&)@GLIBCXX_3.4'\n",
      "/opt/conda/envs/py311/compiler_compat/ld: /usr/local/cuda/lib64/libcufile.so: undefined reference to `std::_Rb_tree_decrement(std::_Rb_tree_node_base const*)@GLIBCXX_3.4'\n",
      "/opt/conda/envs/py311/compiler_compat/ld: /usr/local/cuda/lib64/libcufile.so: undefined reference to `__cxa_free_exception@CXXABI_1.3'\n",
      "/opt/conda/envs/py311/compiler_compat/ld: /usr/local/cuda/lib64/libcufile.so: undefined reference to `std::condition_variable::notify_one()@GLIBCXX_3.4.11'\n",
      "/opt/conda/envs/py311/compiler_compat/ld: /usr/local/cuda/lib64/libcufile.so: undefined reference to `std::ios_base::Init::~Init()@GLIBCXX_3.4'\n",
      "/opt/conda/envs/py311/compiler_compat/ld: /usr/local/cuda/lib64/libcufile.so: undefined reference to `std::basic_string<char, std::char_traits<char>, std::allocator<char> >::~basic_string()@GLIBCXX_3.4'\n",
      "/opt/conda/envs/py311/compiler_compat/ld: /usr/local/cuda/lib64/libcufile.so: undefined reference to `__cxa_pure_virtual@CXXABI_1.3'\n",
      "/opt/conda/envs/py311/compiler_compat/ld: /usr/local/cuda/lib64/libcufile.so: undefined reference to `std::ostream::flush()@GLIBCXX_3.4'\n",
      "/opt/conda/envs/py311/compiler_compat/ld: /usr/local/cuda/lib64/libcufile.so: undefined reference to `vtable for __cxxabiv1::__class_type_info@CXXABI_1.3'\n",
      "/opt/conda/envs/py311/compiler_compat/ld: /usr/local/cuda/lib64/libcufile.so: undefined reference to `__cxa_rethrow@CXXABI_1.3'\n",
      "/opt/conda/envs/py311/compiler_compat/ld: /usr/local/cuda/lib64/libcufile.so: undefined reference to `vtable for std::basic_stringbuf<char, std::char_traits<char>, std::allocator<char> >@GLIBCXX_3.4'\n",
      "/opt/conda/envs/py311/compiler_compat/ld: /usr/local/cuda/lib64/libcufile.so: undefined reference to `std::basic_fstream<char, std::char_traits<char> >::~basic_fstream()@GLIBCXX_3.4'\n",
      "/opt/conda/envs/py311/compiler_compat/ld: /usr/local/cuda/lib64/libcufile.so: undefined reference to `std::string::compare(char const*) const@GLIBCXX_3.4'\n",
      "/opt/conda/envs/py311/compiler_compat/ld: /usr/local/cuda/lib64/libcufile.so: undefined reference to `VTT for std::basic_ostringstream<wchar_t, std::char_traits<wchar_t>, std::allocator<wchar_t> >@GLIBCXX_3.4'\n",
      "/opt/conda/envs/py311/compiler_compat/ld: /usr/local/cuda/lib64/libcufile.so: undefined reference to `std::locale::locale()@GLIBCXX_3.4'\n",
      "/opt/conda/envs/py311/compiler_compat/ld: /usr/local/cuda/lib64/libcufile.so: undefined reference to `std::chrono::_V2::system_clock::now()@GLIBCXX_3.4.19'\n",
      "/opt/conda/envs/py311/compiler_compat/ld: /usr/local/cuda/lib64/libcufile.so: undefined reference to `VTT for std::basic_ifstream<char, std::char_traits<char> >@GLIBCXX_3.4'\n",
      "/opt/conda/envs/py311/compiler_compat/ld: /usr/local/cuda/lib64/libcufile.so: undefined reference to `std::_Hash_bytes(void const*, unsigned long, unsigned long)@CXXABI_1.3.5'\n",
      "/opt/conda/envs/py311/compiler_compat/ld: /usr/local/cuda/lib64/libcufile.so: undefined reference to `std::ostream& std::ostream::_M_insert<long long>(long long)@GLIBCXX_3.4.9'\n",
      "/opt/conda/envs/py311/compiler_compat/ld: /usr/local/cuda/lib64/libcufile.so: undefined reference to `typeinfo for char*@CXXABI_1.3'\n",
      "/opt/conda/envs/py311/compiler_compat/ld: /usr/local/cuda/lib64/libcufile.so: undefined reference to `std::__detail::_Prime_rehash_policy::_M_need_rehash(unsigned long, unsigned long, unsigned long) const@GLIBCXX_3.4.18'\n",
      "/opt/conda/envs/py311/compiler_compat/ld: /usr/local/cuda/lib64/libcufile.so: undefined reference to `vtable for std::out_of_range@GLIBCXX_3.4'\n",
      "/opt/conda/envs/py311/compiler_compat/ld: /usr/local/cuda/lib64/libcufile.so: undefined reference to `std::ostream& std::ostream::_M_insert<unsigned long>(unsigned long)@GLIBCXX_3.4.9'\n",
      "/opt/conda/envs/py311/compiler_compat/ld: /usr/local/cuda/lib64/libcufile.so: undefined reference to `std::_Rb_tree_increment(std::_Rb_tree_node_base const*)@GLIBCXX_3.4'\n",
      "/opt/conda/envs/py311/compiler_compat/ld: /usr/local/cuda/lib64/libcufile.so: undefined reference to `std::ios_base::~ios_base()@GLIBCXX_3.4'\n",
      "/opt/conda/envs/py311/compiler_compat/ld: /usr/local/cuda/lib64/libcufile.so: undefined reference to `std::range_error::~range_error()@GLIBCXX_3.4'\n",
      "/opt/conda/envs/py311/compiler_compat/ld: /usr/local/cuda/lib64/libcufile.so: undefined reference to `std::__basic_file<char>::~__basic_file()@GLIBCXX_3.4'\n",
      "/opt/conda/envs/py311/compiler_compat/ld: /usr/local/cuda/lib64/libcufile.so: undefined reference to `__cxa_guard_acquire@CXXABI_1.3'\n",
      "/opt/conda/envs/py311/compiler_compat/ld: /usr/local/cuda/lib64/libcufile.so: undefined reference to `std::ostream& std::ostream::_M_insert<bool>(bool)@GLIBCXX_3.4.9'\n",
      "/opt/conda/envs/py311/compiler_compat/ld: /usr/local/cuda/lib64/libcufile.so: undefined reference to `vtable for std::overflow_error@GLIBCXX_3.4'\n",
      "/opt/conda/envs/py311/compiler_compat/ld: /usr/local/cuda/lib64/libcufile.so: undefined reference to `VTT for std::basic_fstream<char, std::char_traits<char> >@GLIBCXX_3.4'\n",
      "/opt/conda/envs/py311/compiler_compat/ld: /usr/local/cuda/lib64/libcufile.so: undefined reference to `vtable for std::range_error@GLIBCXX_3.4'\n",
      "/opt/conda/envs/py311/compiler_compat/ld: /usr/local/cuda/lib64/libcufile.so: undefined reference to `vtable for std::basic_ios<char, std::char_traits<char> >@GLIBCXX_3.4'\n",
      "/opt/conda/envs/py311/compiler_compat/ld: /usr/local/cuda/lib64/libcufile.so: undefined reference to `vtable for std::basic_filebuf<char, std::char_traits<char> >@GLIBCXX_3.4'\n",
      "/opt/conda/envs/py311/compiler_compat/ld: /usr/local/cuda/lib64/libcufile.so: undefined reference to `operator delete[](void*)@GLIBCXX_3.4'\n",
      "/opt/conda/envs/py311/compiler_compat/ld: /usr/local/cuda/lib64/libcufile.so: undefined reference to `vtable for std::basic_stringstream<char, std::char_traits<char>, std::allocator<char> >@GLIBCXX_3.4'\n",
      "/opt/conda/envs/py311/compiler_compat/ld: /usr/local/cuda/lib64/libcufile.so: undefined reference to `std::basic_string<char, std::char_traits<char>, std::allocator<char> >::basic_string(unsigned long, char, std::allocator<char> const&)@GLIBCXX_3.4'\n",
      "/opt/conda/envs/py311/compiler_compat/ld: /usr/local/cuda/lib64/libcufile.so: undefined reference to `std::__detail::_List_node_base::_M_transfer(std::__detail::_List_node_base*, std::__detail::_List_node_base*)@GLIBCXX_3.4.15'\n",
      "/opt/conda/envs/py311/compiler_compat/ld: /usr/local/cuda/lib64/libcufile.so: undefined reference to `std::string::replace(unsigned long, unsigned long, char const*, unsigned long)@GLIBCXX_3.4'\n",
      "/opt/conda/envs/py311/compiler_compat/ld: /usr/local/cuda/lib64/libcufile.so: undefined reference to `typeinfo for std::exception@GLIBCXX_3.4'\n",
      "/opt/conda/envs/py311/compiler_compat/ld: /usr/local/cuda/lib64/libcufile.so: undefined reference to `std::basic_string<wchar_t, std::char_traits<wchar_t>, std::allocator<wchar_t> >::_Rep::_M_destroy(std::allocator<wchar_t> const&)@GLIBCXX_3.4'\n",
      "/opt/conda/envs/py311/compiler_compat/ld: /usr/local/cuda/lib64/libcufile.so: undefined reference to `std::istream& std::istream::_M_extract<double>(double&)@GLIBCXX_3.4.9'\n",
      "/opt/conda/envs/py311/compiler_compat/ld: /usr/local/cuda/lib64/libcufile.so: undefined reference to `std::basic_filebuf<char, std::char_traits<char> >::close()@GLIBCXX_3.4'\n",
      "/opt/conda/envs/py311/compiler_compat/ld: /usr/local/cuda/lib64/libcufile.so: undefined reference to `vtable for std::basic_fstream<char, std::char_traits<char> >@GLIBCXX_3.4'\n",
      "/opt/conda/envs/py311/compiler_compat/ld: /usr/local/cuda/lib64/libcufile.so: undefined reference to `std::basic_ifstream<char, std::char_traits<char> >::basic_ifstream(char const*, std::_Ios_Openmode)@GLIBCXX_3.4'\n",
      "/opt/conda/envs/py311/compiler_compat/ld: /usr/local/cuda/lib64/libcufile.so: undefined reference to `std::string::append(std::string const&)@GLIBCXX_3.4'\n",
      "/opt/conda/envs/py311/compiler_compat/ld: /usr/local/cuda/lib64/libcufile.so: undefined reference to `operator new(unsigned long)@GLIBCXX_3.4'\n",
      "/opt/conda/envs/py311/compiler_compat/ld: /opt/conda/envs/py311/bin/../x86_64-conda-linux-gnu/sysroot/lib64/libpthread.so.0: undefined reference to `__libc_dlclose@GLIBC_PRIVATE'\n",
      "/opt/conda/envs/py311/compiler_compat/ld: /opt/conda/envs/py311/bin/../x86_64-conda-linux-gnu/sysroot/lib64/libpthread.so.0: undefined reference to `_dl_make_stack_executable@GLIBC_PRIVATE'\n",
      "/opt/conda/envs/py311/compiler_compat/ld: /usr/local/cuda/lib64/libcufile.so: undefined reference to `VTT for std::basic_istringstream<wchar_t, std::char_traits<wchar_t>, std::allocator<wchar_t> >@GLIBCXX_3.4'\n",
      "/opt/conda/envs/py311/compiler_compat/ld: /usr/local/cuda/lib64/libcufile.so: undefined reference to `typeinfo for unsigned int@CXXABI_1.3'\n",
      "/opt/conda/envs/py311/compiler_compat/ld: /usr/local/cuda/lib64/libcufile.so: undefined reference to `std::string::append(char const*)@GLIBCXX_3.4'\n",
      "/opt/conda/envs/py311/compiler_compat/ld: /usr/local/cuda/lib64/libcufile.so: undefined reference to `vtable for std::domain_error@GLIBCXX_3.4'\n",
      "/opt/conda/envs/py311/compiler_compat/ld: /usr/local/cuda/lib64/libcufile.so: undefined reference to `std::string::find(char, unsigned long) const@GLIBCXX_3.4'\n",
      "/opt/conda/envs/py311/compiler_compat/ld: /usr/local/cuda/lib64/libcufile.so: undefined reference to `std::ostream::put(char)@GLIBCXX_3.4'\n",
      "/opt/conda/envs/py311/compiler_compat/ld: /usr/local/cuda/lib64/libcufile.so: undefined reference to `typeinfo for int@CXXABI_1.3'\n",
      "/opt/conda/envs/py311/compiler_compat/ld: /usr/local/cuda/lib64/libcufile.so: undefined reference to `std::__throw_bad_alloc()@GLIBCXX_3.4'\n",
      "/opt/conda/envs/py311/compiler_compat/ld: /usr/local/cuda/lib64/libcufile.so: undefined reference to `__cxa_thread_atexit@CXXABI_1.3.7'\n",
      "/opt/conda/envs/py311/compiler_compat/ld: /usr/local/cuda/lib64/libcufile.so: undefined reference to `typeinfo for unsigned int*@CXXABI_1.3'\n",
      "/opt/conda/envs/py311/compiler_compat/ld: /usr/local/cuda/lib64/libcufile.so: undefined reference to `std::_Rb_tree_increment(std::_Rb_tree_node_base*)@GLIBCXX_3.4'\n",
      "/opt/conda/envs/py311/compiler_compat/ld: /usr/local/cuda/lib64/libcufile.so: undefined reference to `std::basic_ifstream<char, std::char_traits<char> >::~basic_ifstream()@GLIBCXX_3.4'\n",
      "/opt/conda/envs/py311/compiler_compat/ld: /usr/local/cuda/lib64/libcufile.so: undefined reference to `std::ios_base::Init::Init()@GLIBCXX_3.4'\n",
      "/opt/conda/envs/py311/compiler_compat/ld: /usr/local/cuda/lib64/libcufile.so: undefined reference to `std::condition_variable::condition_variable()@GLIBCXX_3.4.11'\n",
      "/opt/conda/envs/py311/compiler_compat/ld: /usr/local/cuda/lib64/libcufile.so: undefined reference to `std::basic_filebuf<char, std::char_traits<char> >::basic_filebuf()@GLIBCXX_3.4'\n",
      "/opt/conda/envs/py311/compiler_compat/ld: /opt/conda/envs/py311/bin/../x86_64-conda-linux-gnu/sysroot/lib64/librt.so.1: undefined reference to `__libc_dlopen_mode@GLIBC_PRIVATE'\n",
      "/opt/conda/envs/py311/compiler_compat/ld: /usr/local/cuda/lib64/libcufile.so: undefined reference to `VTT for std::basic_istringstream<char, std::char_traits<char>, std::allocator<char> >@GLIBCXX_3.4'\n",
      "/opt/conda/envs/py311/compiler_compat/ld: /usr/local/cuda/lib64/libcufile.so: undefined reference to `std::domain_error::~domain_error()@GLIBCXX_3.4'\n",
      "/opt/conda/envs/py311/compiler_compat/ld: /usr/local/cuda/lib64/libcufile.so: undefined reference to `std::cerr@GLIBCXX_3.4'\n",
      "/opt/conda/envs/py311/compiler_compat/ld: /opt/conda/envs/py311/bin/../x86_64-conda-linux-gnu/sysroot/lib64/libpthread.so.0: undefined reference to `__libc_dl_error_tsd@GLIBC_PRIVATE'\n",
      "/opt/conda/envs/py311/compiler_compat/ld: /usr/local/cuda/lib64/libcufile.so: undefined reference to `std::string::find(char const*, unsigned long, unsigned long) const@GLIBCXX_3.4'\n",
      "/opt/conda/envs/py311/compiler_compat/ld: /usr/local/cuda/lib64/libcufile.so: undefined reference to `vtable for std::basic_istringstream<char, std::char_traits<char>, std::allocator<char> >@GLIBCXX_3.4'\n",
      "/opt/conda/envs/py311/compiler_compat/ld: /usr/local/cuda/lib64/libcufile.so: undefined reference to `std::basic_string<char, std::char_traits<char>, std::allocator<char> >::basic_string(std::allocator<char> const&)@GLIBCXX_3.4'\n",
      "/opt/conda/envs/py311/compiler_compat/ld: /usr/local/cuda/lib64/libcufile.so: undefined reference to `std::basic_stringbuf<char, std::char_traits<char>, std::allocator<char> >::str() const@GLIBCXX_3.4'\n",
      "/opt/conda/envs/py311/compiler_compat/ld: /usr/local/cuda/lib64/libcufile.so: undefined reference to `vtable for std::invalid_argument@GLIBCXX_3.4'\n",
      "/opt/conda/envs/py311/compiler_compat/ld: /usr/local/cuda/lib64/libcufile.so: undefined reference to `typeinfo for void*@CXXABI_1.3'\n",
      "/opt/conda/envs/py311/compiler_compat/ld: /opt/conda/envs/py311/bin/../x86_64-conda-linux-gnu/sysroot/lib64/librt.so.1: undefined reference to `__clock_getcpuclockid@GLIBC_PRIVATE'\n",
      "/opt/conda/envs/py311/compiler_compat/ld: /usr/local/cuda/lib64/libcufile.so: undefined reference to `std::string::assign(std::string const&)@GLIBCXX_3.4'\n",
      "/opt/conda/envs/py311/compiler_compat/ld: /usr/local/cuda/lib64/libcufile.so: undefined reference to `std::basic_ostringstream<char, std::char_traits<char>, std::allocator<char> >::~basic_ostringstream()@GLIBCXX_3.4'\n",
      "/opt/conda/envs/py311/compiler_compat/ld: /usr/local/cuda/lib64/libcufile.so: undefined reference to `std::_Rb_tree_rebalance_for_erase(std::_Rb_tree_node_base*, std::_Rb_tree_node_base&)@GLIBCXX_3.4'\n",
      "/opt/conda/envs/py311/compiler_compat/ld: /usr/local/cuda/lib64/libcufile.so: undefined reference to `typeinfo for unsigned long@CXXABI_1.3'\n",
      "/opt/conda/envs/py311/compiler_compat/ld: /usr/local/cuda/lib64/libcufile.so: undefined reference to `std::__detail::_List_node_base::_M_hook(std::__detail::_List_node_base*)@GLIBCXX_3.4.15'\n",
      "/opt/conda/envs/py311/compiler_compat/ld: /usr/local/cuda/lib64/libcufile.so: undefined reference to `std::__detail::_List_node_base::_M_unhook()@GLIBCXX_3.4.15'\n",
      "/opt/conda/envs/py311/compiler_compat/ld: /opt/conda/envs/py311/bin/../x86_64-conda-linux-gnu/sysroot/lib64/librt.so.1: undefined reference to `__clock_nanosleep@GLIBC_PRIVATE'\n",
      "/opt/conda/envs/py311/compiler_compat/ld: /usr/local/cuda/lib64/libcufile.so: undefined reference to `vtable for std::basic_ostringstream<wchar_t, std::char_traits<wchar_t>, std::allocator<wchar_t> >@GLIBCXX_3.4'\n",
      "/opt/conda/envs/py311/compiler_compat/ld: /usr/local/cuda/lib64/libcufile.so: undefined reference to `std::basic_stringbuf<char, std::char_traits<char>, std::allocator<char> >::_M_sync(char*, unsigned long, unsigned long)@GLIBCXX_3.4'\n",
      "/opt/conda/envs/py311/compiler_compat/ld: /usr/local/cuda/lib64/libcufile.so: undefined reference to `std::basic_iostream<char, std::char_traits<char> >::~basic_iostream()@GLIBCXX_3.4'\n",
      "/opt/conda/envs/py311/compiler_compat/ld: /usr/local/cuda/lib64/libcufile.so: undefined reference to `std::locale::locale(std::locale const&)@GLIBCXX_3.4'\n",
      "/opt/conda/envs/py311/compiler_compat/ld: /usr/local/cuda/lib64/libcufile.so: undefined reference to `vtable for std::basic_istringstream<wchar_t, std::char_traits<wchar_t>, std::allocator<wchar_t> >@GLIBCXX_3.4'\n",
      "/opt/conda/envs/py311/compiler_compat/ld: /usr/local/cuda/lib64/libcufile.so: undefined reference to `std::ostream::operator<<(std::basic_streambuf<char, std::char_traits<char> >*)@GLIBCXX_3.4'\n",
      "/opt/conda/envs/py311/compiler_compat/ld: /usr/local/cuda/lib64/libcufile.so: undefined reference to `vtable for std::basic_streambuf<wchar_t, std::char_traits<wchar_t> >@GLIBCXX_3.4'\n",
      "/opt/conda/envs/py311/compiler_compat/ld: /usr/local/cuda/lib64/libcufile.so: undefined reference to `std::exception::~exception()@GLIBCXX_3.4'\n",
      "/opt/conda/envs/py311/compiler_compat/ld: /usr/local/cuda/lib64/libcufile.so: undefined reference to `std::string::_Rep::_S_create(unsigned long, unsigned long, std::allocator<char> const&)@GLIBCXX_3.4'\n",
      "/opt/conda/envs/py311/compiler_compat/ld: /usr/local/cuda/lib64/libcufile.so: undefined reference to `std::__basic_file<char>::is_open() const@GLIBCXX_3.4'\n",
      "/opt/conda/envs/py311/compiler_compat/ld: /opt/conda/envs/py311/bin/../x86_64-conda-linux-gnu/sysroot/lib64/libpthread.so.0: undefined reference to `__libc_longjmp@GLIBC_PRIVATE'\n",
      "/opt/conda/envs/py311/compiler_compat/ld: /usr/local/cuda/lib64/libcufile.so: undefined reference to `std::basic_istringstream<char, std::char_traits<char>, std::allocator<char> >::~basic_istringstream()@GLIBCXX_3.4'\n",
      "/opt/conda/envs/py311/compiler_compat/ld: /usr/local/cuda/lib64/libcufile.so: undefined reference to `std::string::swap(std::string&)@GLIBCXX_3.4'\n",
      "/opt/conda/envs/py311/compiler_compat/ld: /opt/conda/envs/py311/bin/../x86_64-conda-linux-gnu/sysroot/lib64/libpthread.so.0: undefined reference to `__libc_allocate_rtsig_private@GLIBC_PRIVATE'\n",
      "/opt/conda/envs/py311/compiler_compat/ld: /opt/conda/envs/py311/bin/../x86_64-conda-linux-gnu/sysroot/lib64/librt.so.1: undefined reference to `__clock_settime@GLIBC_PRIVATE'\n",
      "/opt/conda/envs/py311/compiler_compat/ld: /opt/conda/envs/py311/bin/../x86_64-conda-linux-gnu/sysroot/lib64/libpthread.so.0: undefined reference to `__libc_current_sigrtmax_private@GLIBC_PRIVATE'\n",
      "/opt/conda/envs/py311/compiler_compat/ld: /usr/local/cuda/lib64/libcufile.so: undefined reference to `vtable for std::basic_ostringstream<char, std::char_traits<char>, std::allocator<char> >@GLIBCXX_3.4'\n",
      "/opt/conda/envs/py311/compiler_compat/ld: /usr/local/cuda/lib64/libcufile.so: undefined reference to `std::basic_streambuf<char, std::char_traits<char> >::basic_streambuf(std::basic_streambuf<char, std::char_traits<char> > const&)@GLIBCXX_3.4'\n",
      "/opt/conda/envs/py311/compiler_compat/ld: /usr/local/cuda/lib64/libcufile.so: undefined reference to `std::basic_ios<char, std::char_traits<char> >::init(std::basic_streambuf<char, std::char_traits<char> >*)@GLIBCXX_3.4'\n",
      "/opt/conda/envs/py311/compiler_compat/ld: /usr/local/cuda/lib64/libcufile.so: undefined reference to `std::__throw_bad_cast()@GLIBCXX_3.4'\n",
      "/opt/conda/envs/py311/compiler_compat/ld: /usr/local/cuda/lib64/libcufile.so: undefined reference to `std::basic_ios<char, std::char_traits<char> >::clear(std::_Ios_Iostate)@GLIBCXX_3.4'\n",
      "/opt/conda/envs/py311/compiler_compat/ld: /usr/local/cuda/lib64/libcufile.so: undefined reference to `std::basic_streambuf<wchar_t, std::char_traits<wchar_t> >::operator=(std::basic_streambuf<wchar_t, std::char_traits<wchar_t> > const&)@GLIBCXX_3.4'\n",
      "/opt/conda/envs/py311/compiler_compat/ld: /usr/local/cuda/lib64/libcufile.so: undefined reference to `typeinfo for long*@CXXABI_1.3'\n",
      "/opt/conda/envs/py311/compiler_compat/ld: /usr/local/cuda/lib64/libcufile.so: undefined reference to `operator delete(void*)@GLIBCXX_3.4'\n",
      "/opt/conda/envs/py311/compiler_compat/ld: /usr/local/cuda/lib64/libcufile.so: undefined reference to `std::ostream::operator<<(int)@GLIBCXX_3.4'\n",
      "/opt/conda/envs/py311/compiler_compat/ld: /usr/local/cuda/lib64/libcufile.so: undefined reference to `std::string::_Rep::_S_empty_rep_storage@GLIBCXX_3.4'\n",
      "/opt/conda/envs/py311/compiler_compat/ld: /usr/local/cuda/lib64/libcufile.so: undefined reference to `std::string::_Rep::_M_destroy(std::allocator<char> const&)@GLIBCXX_3.4'\n",
      "/opt/conda/envs/py311/compiler_compat/ld: /usr/local/cuda/lib64/libcufile.so: undefined reference to `std::basic_iostream<wchar_t, std::char_traits<wchar_t> >::~basic_iostream()@GLIBCXX_3.4'\n",
      "/opt/conda/envs/py311/compiler_compat/ld: /usr/local/cuda/lib64/libcufile.so: undefined reference to `vtable for std::runtime_error@GLIBCXX_3.4'\n",
      "/opt/conda/envs/py311/compiler_compat/ld: /usr/local/cuda/lib64/libcufile.so: undefined reference to `vtable for std::basic_ofstream<char, std::char_traits<char> >@GLIBCXX_3.4'\n",
      "/opt/conda/envs/py311/compiler_compat/ld: /usr/local/cuda/lib64/libcufile.so: undefined reference to `std::_Rb_tree_insert_and_rebalance(bool, std::_Rb_tree_node_base*, std::_Rb_tree_node_base*, std::_Rb_tree_node_base&)@GLIBCXX_3.4'\n",
      "/opt/conda/envs/py311/compiler_compat/ld: /usr/local/cuda/lib64/libcufile.so: undefined reference to `std::basic_stringstream<char, std::char_traits<char>, std::allocator<char> >::~basic_stringstream()@GLIBCXX_3.4'\n",
      "/opt/conda/envs/py311/compiler_compat/ld: /usr/local/cuda/lib64/libcufile.so: undefined reference to `VTT for std::basic_stringstream<wchar_t, std::char_traits<wchar_t>, std::allocator<wchar_t> >@GLIBCXX_3.4'\n",
      "/opt/conda/envs/py311/compiler_compat/ld: /usr/local/cuda/lib64/libcufile.so: undefined reference to `std::ostream& std::ostream::_M_insert<long>(long)@GLIBCXX_3.4.9'\n",
      "/opt/conda/envs/py311/compiler_compat/ld: /usr/local/cuda/lib64/libcufile.so: undefined reference to `std::istream::get()@GLIBCXX_3.4'\n",
      "/opt/conda/envs/py311/compiler_compat/ld: /opt/conda/envs/py311/bin/../x86_64-conda-linux-gnu/sysroot/lib64/libpthread.so.0: undefined reference to `__libc_pthread_init@GLIBC_PRIVATE'\n",
      "/opt/conda/envs/py311/compiler_compat/ld: /usr/local/cuda/lib64/libcufile.so: undefined reference to `typeinfo for unsigned long long@CXXABI_1.3'\n",
      "/opt/conda/envs/py311/compiler_compat/ld: /usr/local/cuda/lib64/libcufile.so: undefined reference to `std::basic_ostream<char, std::char_traits<char> >& std::operator<< <std::char_traits<char> >(std::basic_ostream<char, std::char_traits<char> >&, char const*)@GLIBCXX_3.4'\n",
      "/opt/conda/envs/py311/compiler_compat/ld: /usr/local/cuda/lib64/libcufile.so: undefined reference to `std::out_of_range::~out_of_range()@GLIBCXX_3.4'\n",
      "/opt/conda/envs/py311/compiler_compat/ld: /usr/local/cuda/lib64/libcufile.so: undefined reference to `std::length_error::~length_error()@GLIBCXX_3.4'\n",
      "/opt/conda/envs/py311/compiler_compat/ld: /usr/local/cuda/lib64/libcufile.so: undefined reference to `std::basic_ostream<char, std::char_traits<char> >& std::__ostream_insert<char, std::char_traits<char> >(std::basic_ostream<char, std::char_traits<char> >&, char const*, long)@GLIBCXX_3.4.9'\n",
      "/opt/conda/envs/py311/compiler_compat/ld: /usr/local/cuda/lib64/libcufile.so: undefined reference to `std::invalid_argument::~invalid_argument()@GLIBCXX_3.4'\n",
      "/opt/conda/envs/py311/compiler_compat/ld: /usr/local/cuda/lib64/libcufile.so: undefined reference to `std::basic_string<wchar_t, std::char_traits<wchar_t>, std::allocator<wchar_t> >::swap(std::basic_string<wchar_t, std::char_traits<wchar_t>, std::allocator<wchar_t> >&)@GLIBCXX_3.4'\n",
      "/opt/conda/envs/py311/compiler_compat/ld: /usr/local/cuda/lib64/libcufile.so: undefined reference to `std::cout@GLIBCXX_3.4'\n",
      "/opt/conda/envs/py311/compiler_compat/ld: /usr/local/cuda/lib64/libcufile.so: undefined reference to `std::ostream& std::ostream::_M_insert<unsigned long long>(unsigned long long)@GLIBCXX_3.4.9'\n",
      "/opt/conda/envs/py311/compiler_compat/ld: /usr/local/cuda/lib64/libcufile.so: undefined reference to `std::ostream& std::ostream::_M_insert<void const*>(void const*)@GLIBCXX_3.4.9'\n",
      "/opt/conda/envs/py311/compiler_compat/ld: /usr/local/cuda/lib64/libcufile.so: undefined reference to `vtable for std::underflow_error@GLIBCXX_3.4'\n",
      "/opt/conda/envs/py311/compiler_compat/ld: /usr/local/cuda/lib64/libcufile.so: undefined reference to `vtable for std::basic_streambuf<char, std::char_traits<char> >@GLIBCXX_3.4'\n",
      "/opt/conda/envs/py311/compiler_compat/ld: /usr/local/cuda/lib64/libcufile.so: undefined reference to `typeinfo for std::out_of_range@GLIBCXX_3.4'\n",
      "/opt/conda/envs/py311/compiler_compat/ld: /usr/local/cuda/lib64/libcufile.so: undefined reference to `__cxa_allocate_exception@CXXABI_1.3'\n",
      "/opt/conda/envs/py311/compiler_compat/ld: /usr/local/cuda/lib64/libcufile.so: undefined reference to `vtable for std::basic_ios<wchar_t, std::char_traits<wchar_t> >@GLIBCXX_3.4'\n",
      "/opt/conda/envs/py311/compiler_compat/ld: /usr/local/cuda/lib64/libcufile.so: undefined reference to `typeinfo for void const*@CXXABI_1.3'\n",
      "/opt/conda/envs/py311/compiler_compat/ld: /usr/local/cuda/lib64/libcufile.so: undefined reference to `std::basic_ios<wchar_t, std::char_traits<wchar_t> >::init(std::basic_streambuf<wchar_t, std::char_traits<wchar_t> >*)@GLIBCXX_3.4'\n",
      "/opt/conda/envs/py311/compiler_compat/ld: /usr/local/cuda/lib64/libcufile.so: undefined reference to `std::string::reserve(unsigned long)@GLIBCXX_3.4'\n",
      "/opt/conda/envs/py311/compiler_compat/ld: /usr/local/cuda/lib64/libcufile.so: undefined reference to `__cxa_begin_catch@CXXABI_1.3'\n",
      "/opt/conda/envs/py311/compiler_compat/ld: /opt/conda/envs/py311/bin/../x86_64-conda-linux-gnu/sysroot/lib64/librt.so.1: undefined reference to `__clock_getres@GLIBC_PRIVATE'\n",
      "/opt/conda/envs/py311/compiler_compat/ld: /usr/local/cuda/lib64/libcufile.so: undefined reference to `typeinfo for long@CXXABI_1.3'\n",
      "/opt/conda/envs/py311/compiler_compat/ld: /usr/local/cuda/lib64/libcufile.so: undefined reference to `std::basic_string<wchar_t, std::char_traits<wchar_t>, std::allocator<wchar_t> >::_Rep::_S_empty_rep_storage@GLIBCXX_3.4'\n",
      "/opt/conda/envs/py311/compiler_compat/ld: /usr/local/cuda/lib64/libcufile.so: undefined reference to `std::string::_M_leak()@GLIBCXX_3.4'\n",
      "/opt/conda/envs/py311/compiler_compat/ld: /usr/local/cuda/lib64/libcufile.so: undefined reference to `std::basic_filebuf<char, std::char_traits<char> >::open(char const*, std::_Ios_Openmode)@GLIBCXX_3.4'\n",
      "/opt/conda/envs/py311/compiler_compat/ld: /usr/local/cuda/lib64/libcufile.so: undefined reference to `std::basic_stringbuf<wchar_t, std::char_traits<wchar_t>, std::allocator<wchar_t> >::_M_sync(wchar_t*, unsigned long, unsigned long)@GLIBCXX_3.4'\n",
      "/opt/conda/envs/py311/compiler_compat/ld: /usr/local/cuda/lib64/libcufile.so: undefined reference to `std::istream::getline(char*, long, char)@GLIBCXX_3.4'\n",
      "/opt/conda/envs/py311/compiler_compat/ld: /usr/local/cuda/lib64/libcufile.so: undefined reference to `std::basic_istream<char, std::char_traits<char> >& std::getline<char, std::char_traits<char>, std::allocator<char> >(std::basic_istream<char, std::char_traits<char> >&, std::basic_string<char, std::char_traits<char>, std::allocator<char> >&, char)@GLIBCXX_3.4'\n",
      "/opt/conda/envs/py311/compiler_compat/ld: /usr/local/cuda/lib64/libcufile.so: undefined reference to `vtable for std::basic_stringstream<wchar_t, std::char_traits<wchar_t>, std::allocator<wchar_t> >@GLIBCXX_3.4'\n",
      "/opt/conda/envs/py311/compiler_compat/ld: /usr/local/cuda/lib64/libcufile.so: undefined reference to `std::condition_variable::~condition_variable()@GLIBCXX_3.4.11'\n",
      "/opt/conda/envs/py311/compiler_compat/ld: /usr/local/cuda/lib64/libcufile.so: undefined reference to `vtable for std::basic_stringbuf<wchar_t, std::char_traits<wchar_t>, std::allocator<wchar_t> >@GLIBCXX_3.4'\n",
      "/opt/conda/envs/py311/compiler_compat/ld: /usr/local/cuda/lib64/libcufile.so: undefined reference to `std::string::insert(unsigned long, char const*, unsigned long)@GLIBCXX_3.4'\n",
      "/opt/conda/envs/py311/compiler_compat/ld: /usr/local/cuda/lib64/libcufile.so: undefined reference to `std::string::assign(char const*, unsigned long)@GLIBCXX_3.4'\n",
      "/opt/conda/envs/py311/compiler_compat/ld: /usr/local/cuda/lib64/libcufile.so: undefined reference to `typeinfo for unsigned char@CXXABI_1.3'\n",
      "/opt/conda/envs/py311/compiler_compat/ld: /usr/local/cuda/lib64/libcufile.so: undefined reference to `std::ios_base::ios_base()@GLIBCXX_3.4'\n",
      "/opt/conda/envs/py311/compiler_compat/ld: /usr/local/cuda/lib64/libcufile.so: undefined reference to `std::__throw_out_of_range(char const*)@GLIBCXX_3.4'\n",
      "/opt/conda/envs/py311/compiler_compat/ld: /usr/local/cuda/lib64/libcufile.so: undefined reference to `std::overflow_error::~overflow_error()@GLIBCXX_3.4'\n",
      "/opt/conda/envs/py311/compiler_compat/ld: /usr/local/cuda/lib64/libcufile.so: undefined reference to `std::__throw_length_error(char const*)@GLIBCXX_3.4'\n",
      "/opt/conda/envs/py311/compiler_compat/ld: /usr/local/cuda/lib64/libcufile.so: undefined reference to `std::__throw_system_error(int)@GLIBCXX_3.4.11'\n",
      "/opt/conda/envs/py311/compiler_compat/ld: /usr/local/cuda/lib64/libcufile.so: undefined reference to `std::basic_ofstream<char, std::char_traits<char> >::close()@GLIBCXX_3.4'\n",
      "/opt/conda/envs/py311/compiler_compat/ld: /usr/local/cuda/lib64/libcufile.so: undefined reference to `std::ostream& std::ostream::_M_insert<double>(double)@GLIBCXX_3.4.9'\n",
      "/opt/conda/envs/py311/compiler_compat/ld: /usr/local/cuda/lib64/libcufile.so: undefined reference to `std::basic_streambuf<char, std::char_traits<char> >::operator=(std::basic_streambuf<char, std::char_traits<char> > const&)@GLIBCXX_3.4'\n",
      "/opt/conda/envs/py311/compiler_compat/ld: /usr/local/cuda/lib64/libcufile.so: undefined reference to `typeinfo for long long@CXXABI_1.3'\n",
      "/opt/conda/envs/py311/compiler_compat/ld: /usr/local/cuda/lib64/libcufile.so: undefined reference to `std::basic_string<char, std::char_traits<char>, std::allocator<char> >::basic_string(char const*, unsigned long, std::allocator<char> const&)@GLIBCXX_3.4'\n",
      "/opt/conda/envs/py311/compiler_compat/ld: /usr/local/cuda/lib64/libcufile.so: undefined reference to `std::basic_ifstream<char, std::char_traits<char> >::close()@GLIBCXX_3.4'\n",
      "/opt/conda/envs/py311/compiler_compat/ld: /usr/local/cuda/lib64/libcufile.so: undefined reference to `__cxa_guard_release@CXXABI_1.3'\n",
      "/opt/conda/envs/py311/compiler_compat/ld: /usr/local/cuda/lib64/libcufile.so: undefined reference to `__cxa_throw@CXXABI_1.3'\n",
      "/opt/conda/envs/py311/compiler_compat/ld: /usr/local/cuda/lib64/libcufile.so: undefined reference to `std::underflow_error::~underflow_error()@GLIBCXX_3.4'\n",
      "/opt/conda/envs/py311/compiler_compat/ld: /usr/local/cuda/lib64/libcufile.so: undefined reference to `std::_Rb_tree_decrement(std::_Rb_tree_node_base*)@GLIBCXX_3.4'\n",
      "/opt/conda/envs/py311/compiler_compat/ld: /usr/local/cuda/lib64/libcufile.so: undefined reference to `vtable for std::length_error@GLIBCXX_3.4'\n",
      "/opt/conda/envs/py311/compiler_compat/ld: /usr/local/cuda/lib64/libcufile.so: undefined reference to `std::basic_filebuf<char, std::char_traits<char> >::~basic_filebuf()@GLIBCXX_3.4'\n",
      "collect2: error: ld returned 1 exit status\n"
     ]
    },
    {
     "name": "stdout",
     "output_type": "stream",
     "text": [
      "[2025-06-19 18:48:29,629] [INFO] [logging.py:107:log_dist] [Rank -1] [TorchCheckpointEngine] Initialized with serialization = False\n"
     ]
    },
    {
     "name": "stderr",
     "output_type": "stream",
     "text": [
      "Sliding Window Attention is enabled but not implemented for `sdpa`; unexpected results may be encountered.\n"
     ]
    },
    {
     "data": {
      "text/html": [
       "\n",
       "    <div>\n",
       "      \n",
       "      <progress value='1995' max='1995' style='width:300px; height:20px; vertical-align: middle;'></progress>\n",
       "      [1995/1995 11:51, Epoch 5/5]\n",
       "    </div>\n",
       "    <table border=\"1\" class=\"dataframe\">\n",
       "  <thead>\n",
       " <tr style=\"text-align: left;\">\n",
       "      <th>Step</th>\n",
       "      <th>Training Loss</th>\n",
       "    </tr>\n",
       "  </thead>\n",
       "  <tbody>\n",
       "    <tr>\n",
       "      <td>500</td>\n",
       "      <td>0.090200</td>\n",
       "    </tr>\n",
       "    <tr>\n",
       "      <td>1000</td>\n",
       "      <td>0.021800</td>\n",
       "    </tr>\n",
       "    <tr>\n",
       "      <td>1500</td>\n",
       "      <td>0.009500</td>\n",
       "    </tr>\n",
       "  </tbody>\n",
       "</table><p>"
      ],
      "text/plain": [
       "<IPython.core.display.HTML object>"
      ]
     },
     "metadata": {},
     "output_type": "display_data"
    },
    {
     "data": {
      "text/plain": [
       "TrainOutput(global_step=1995, training_loss=0.03174869327019331, metrics={'train_runtime': 712.3913, 'train_samples_per_second': 11.195, 'train_steps_per_second': 2.8, 'total_flos': 1.518819017958528e+16, 'train_loss': 0.03174869327019331})"
      ]
     },
     "execution_count": 1,
     "metadata": {},
     "output_type": "execute_result"
    }
   ],
   "source": [
    "from datasets import load_dataset\n",
    "from transformers import AutoModelForCausalLM, AutoTokenizer\n",
    "from trl import SFTConfig, SFTTrainer\n",
    "\n",
    "\n",
    "# load jsonl dataset\n",
    "dataset = load_dataset(\"json\", data_files=\"simulated_tasks_train.jsonl\", split=\"train\")\n",
    "\n",
    "model = AutoModelForCausalLM.from_pretrained(\"/projects/llm-repo/models/Qwen/models--Qwen--Qwen2-0.5B-Instruct/snapshots/c540970f9e29518b1d8f06ab8b24cba66ad77b6d\")\n",
    "tokenizer = AutoTokenizer.from_pretrained(\"/projects/llm-repo/models/Qwen/models--Qwen--Qwen2-0.5B-Instruct/snapshots/c540970f9e29518b1d8f06ab8b24cba66ad77b6d\")\n",
    "\n",
    "\n",
    "# Define training arguments\n",
    "training_args = SFTConfig(\n",
    "    output_dir=\"./my_results\",  # Directory to save the model and checkpoints\n",
    "    num_train_epochs=5,      # Number of training epochs\n",
    "    per_device_train_batch_size=4, # Batch size per GPU/CPU\n",
    "    eos_token=\"<|im_end|>\"\n",
    ")\n",
    "\n",
    "trainer = SFTTrainer(\n",
    "    model,\n",
    "    args=training_args,\n",
    "    train_dataset=dataset,\n",
    ")\n",
    "\n",
    "trainer.train()"
   ]
  },
  {
   "cell_type": "code",
   "execution_count": null,
   "id": "25aba093-c376-43fd-bd8e-991c85c4aa08",
   "metadata": {},
   "outputs": [],
   "source": []
  },
  {
   "cell_type": "markdown",
   "id": "c475bead-73fd-4785-833c-b7c89d8b7683",
   "metadata": {},
   "source": [
    "# Inferencing using the fine tuned model"
   ]
  },
  {
   "cell_type": "code",
   "execution_count": 8,
   "id": "7ea3037c-5eb4-4710-a034-92aaeaa2a698",
   "metadata": {
    "execution": {
     "iopub.execute_input": "2023-05-18T12:00:00Z",
     "iopub.status.busy": "2023-05-18T12:00:00Z",
     "iopub.status.idle": "2023-05-18T12:00:00Z",
     "shell.execute_reply": "2023-05-18T12:00:00Z",
     "shell.execute_reply.started": "2023-05-18T12:00:00Z"
    },
    "tags": []
   },
   "outputs": [
    {
     "name": "stdout",
     "output_type": "stream",
     "text": [
      "user query is Send $1 privately to 2134567890?\n",
      "User Instruction : \n",
      "```Send $1 privately to 2134567890?```\n",
      "The following list contains the ordered set of steps already taken, the last element of the list is the current state of the task : \n",
      "```First, let's check the available APIs for the Venmo app to see how we can send money.```\n",
      "Current Observation : \n",
      "```[{'name': 'show_account',\n",
      "  'description': 'Show your account information. Unlike show_profile, this includes private information.'},\n",
      " {'name': 'signup', 'description': 'Sign up to create account.'},\n",
      " {'name': 'delete_account', 'description': 'Delete your account.'},\n",
      " {'name': 'update_account_name',\n",
      "  'description': 'Update your first or last name in the account profile.'},\n",
      " {'name': 'login', 'description': 'Login to your account.'},\n",
      " {'name': 'logout', 'description': 'Logout from your account.'},\n",
      " {'name': 'send_verification_code',\n",
      "  'description': 'Send account verification code to your email address.'},\n",
      " {'name': 'verify_account',\n",
      "  'description': 'Verify your account using the verification code sent to your email address.'},\n",
      " {'name': 'send_password_reset_code',\n",
      "  'description': 'Send password reset code to your email address.'},\n",
      " {'name': 'reset_password',\n",
      "  'description': 'Reset your password using the password reset code sent to your email address.'},\n",
      " {'name': 'show_profile',\n",
      "  'description': 'Show public profile information of a user, including your friendship status with them.'},\n",
      " {'name': 'search_users',\n",
      "  'description': 'Search Venmo users by name or email address.'},\n",
      " {'name': 'search_friends',\n",
      "  'description': \"Search your or others' friends by name or email address.\"},\n",
      " {'name': 'add_friend', 'description': 'Add a friend to your friend list.'},\n",
      " {'name': 'remove_friend',\n",
      "  'description': 'Remove a friend from your friend list.'},\n",
      " {'name': 'show_venmo_balance', 'description': 'Show your Venmo balance.'},\n",
      " {'name': 'add_to_venmo_balance',\n",
      "  'description': 'Add money to your Venmo balance.'},\n",
      " {'name': 'withdraw_from_venmo_balance',\n",
      "  'description': 'Withdraw money from your Venmo balance.'},\n",
      " {'name': 'show_bank_transfer_history',\n",
      "  'description': 'Show histroy of money transfer from Venmo to payment card and vice versa.'},\n",
      " {'name': 'download_bank_transfer_receipt',\n",
      "  'description': 'Download the receipt of money transfer from Venmo to payment card or vice versa.'},\n",
      " {'name': 'show_transaction', 'description': 'Show transaction details.'},\n",
      " {'name': 'update_transaction',\n",
      "  'description': 'Update transaction information.'},\n",
      " {'name': 'show_transactions',\n",
      "  'description': 'Get a list of your transactions.'},\n",
      " {'name': 'create_transaction', 'description': 'Send money to a user.'},\n",
      " {'name': 'download_transaction_receipt',\n",
      "  'description': 'Download the receipt of a transaction (money sent from one user to another).'},\n",
      " {'name': 'like_transaction', 'description': 'Like a transaction.'},\n",
      " {'name': 'unlike_transaction', 'description': 'Unlike a transaction.'},\n",
      " {'name': 'show_transaction_comments',\n",
      "  'description': 'Get a list of transaction comments.'},\n",
      " {'name': 'create_transaction_comment',\n",
      "  'description': 'Create a new transaction comment.'},\n",
      " {'name': 'show_transaction_comment',\n",
      "  'description': 'Show detailed information about a transaction comment.'},\n",
      " {'name': 'delete_transaction_comment',\n",
      "  'description': 'Delete a transaction comment.'},\n",
      " {'name': 'update_transaction_comment',\n",
      "  'description': 'Update a transaction comment.'},\n",
      " {'name': 'like_transaction_comment',\n",
      "  'description': 'Like a transaction comment.'},\n",
      " {'name': 'unlike_transaction_comment',\n",
      "  'description': 'Unlike a previously liked transaction comment.'},\n",
      " {'name': 'show_payment_card',\n",
      "  'description': 'Get details of a payment card.'},\n",
      " {'name': 'delete_payment_card',\n",
      "  'description': 'Delete payment card information.'},\n",
      " {'name': 'update_payment_card',\n",
      "  'description': 'Update payment card information.'},\n",
      " {'name': 'show_payment_cards',\n",
      "  'description': 'Get a list of users payment cards.'},\n",
      " {'name': 'add_payment_card', 'description': 'Add a new payment card.'},\n",
      " {'name': 'show_received_payment_requests',\n",
      "  'description': 'Get a list of payment requests you have received from others.'},\n",
      " {'name': 'show_sent_payment_requests',\n",
      "  'description': 'Get a list of payment requests you have sent to others.'},\n",
      " {'name': 'create_payment_request', 'description': 'Send a payment request.'},\n",
      " {'name': 'delete_payment_request',\n",
      "  'description': 'Delete a payment request.'},\n",
      " {'name': 'update_payment_request',\n",
      "  'description': 'Update payment request information.'},\n",
      " {'name': 'approve_payment_request',\n",
      "  'description': 'Approve a payment request.'},\n",
      " {'name': 'deny_payment_request', 'description': 'Deny a payment request.'},\n",
      " {'name': 'remind_payment_request',\n",
      "  'description': 'Send a reminder to a user via notification about this payment request.'},\n",
      " {'name': 'show_social_feed',\n",
      "  'description': 'Show your social feed (transactions of your friends).'},\n",
      " {'name': 'show_notifications',\n",
      "  'description': 'Get a list of your notifications.'},\n",
      " {'name': 'delete_notifications',\n",
      "  'description': 'Delete all of your notifications.'},\n",
      " {'name': 'mark_notifications',\n",
      "  'description': 'Mark all notifications as read or unread.'},\n",
      " {'name': 'show_notifications_count',\n",
      "  'description': 'Get the count of your notifications.'},\n",
      " {'name': 'delete_notification', 'description': 'Delete a notification.'},\n",
      " {'name': 'mark_notification',\n",
      "  'description': 'Mark a notification as read or unread.'}]```\n",
      "\n",
      "Based on User instruction, history of steps taken and current observation, decide your next step.\n",
      "Respond with the action to take and the thought behind it.\n",
      "\n",
      "Respond in the following json format:\n",
      "{\"thought\" : \"...\",\n",
      "\"action\" : \"...\"}\n",
      "{'thought': \"Now, let's search for the user with the phone number 2134567890 using the 'phone' app.\", 'action': \"print(apis.api_docs.show_api_descriptions(app_name='phone'))\"}\n"
     ]
    }
   ],
   "source": [
    "import torch\n",
    "from transformers import AutoModelForCausalLM, AutoTokenizer\n",
    "\n",
    "base_model = AutoModelForCausalLM.from_pretrained('/projects/neural-alchemists-ftf-hackathon/point5b_results/checkpoint-1995', device_map='auto', torch_dtype=torch.bfloat16)\n",
    "tokenizer = AutoTokenizer.from_pretrained('/projects/neural-alchemists-ftf-hackathon/point5b_results/checkpoint-1995')\n",
    "\n",
    "last_obs = \"\"\"[{'name': 'show_account',\n",
    "  'description': 'Show your account information. Unlike show_profile, this includes private information.'},\n",
    " {'name': 'signup', 'description': 'Sign up to create account.'},\n",
    " {'name': 'delete_account', 'description': 'Delete your account.'},\n",
    " {'name': 'update_account_name',\n",
    "  'description': 'Update your first or last name in the account profile.'},\n",
    " {'name': 'login', 'description': 'Login to your account.'},\n",
    " {'name': 'logout', 'description': 'Logout from your account.'},\n",
    " {'name': 'send_verification_code',\n",
    "  'description': 'Send account verification code to your email address.'},\n",
    " {'name': 'verify_account',\n",
    "  'description': 'Verify your account using the verification code sent to your email address.'},\n",
    " {'name': 'send_password_reset_code',\n",
    "  'description': 'Send password reset code to your email address.'},\n",
    " {'name': 'reset_password',\n",
    "  'description': 'Reset your password using the password reset code sent to your email address.'},\n",
    " {'name': 'show_profile',\n",
    "  'description': 'Show public profile information of a user, including your friendship status with them.'},\n",
    " {'name': 'search_users',\n",
    "  'description': 'Search Venmo users by name or email address.'},\n",
    " {'name': 'search_friends',\n",
    "  'description': \"Search your or others' friends by name or email address.\"},\n",
    " {'name': 'add_friend', 'description': 'Add a friend to your friend list.'},\n",
    " {'name': 'remove_friend',\n",
    "  'description': 'Remove a friend from your friend list.'},\n",
    " {'name': 'show_venmo_balance', 'description': 'Show your Venmo balance.'},\n",
    " {'name': 'add_to_venmo_balance',\n",
    "  'description': 'Add money to your Venmo balance.'},\n",
    " {'name': 'withdraw_from_venmo_balance',\n",
    "  'description': 'Withdraw money from your Venmo balance.'},\n",
    " {'name': 'show_bank_transfer_history',\n",
    "  'description': 'Show histroy of money transfer from Venmo to payment card and vice versa.'},\n",
    " {'name': 'download_bank_transfer_receipt',\n",
    "  'description': 'Download the receipt of money transfer from Venmo to payment card or vice versa.'},\n",
    " {'name': 'show_transaction', 'description': 'Show transaction details.'},\n",
    " {'name': 'update_transaction',\n",
    "  'description': 'Update transaction information.'},\n",
    " {'name': 'show_transactions',\n",
    "  'description': 'Get a list of your transactions.'},\n",
    " {'name': 'create_transaction', 'description': 'Send money to a user.'},\n",
    " {'name': 'download_transaction_receipt',\n",
    "  'description': 'Download the receipt of a transaction (money sent from one user to another).'},\n",
    " {'name': 'like_transaction', 'description': 'Like a transaction.'},\n",
    " {'name': 'unlike_transaction', 'description': 'Unlike a transaction.'},\n",
    " {'name': 'show_transaction_comments',\n",
    "  'description': 'Get a list of transaction comments.'},\n",
    " {'name': 'create_transaction_comment',\n",
    "  'description': 'Create a new transaction comment.'},\n",
    " {'name': 'show_transaction_comment',\n",
    "  'description': 'Show detailed information about a transaction comment.'},\n",
    " {'name': 'delete_transaction_comment',\n",
    "  'description': 'Delete a transaction comment.'},\n",
    " {'name': 'update_transaction_comment',\n",
    "  'description': 'Update a transaction comment.'},\n",
    " {'name': 'like_transaction_comment',\n",
    "  'description': 'Like a transaction comment.'},\n",
    " {'name': 'unlike_transaction_comment',\n",
    "  'description': 'Unlike a previously liked transaction comment.'},\n",
    " {'name': 'show_payment_card',\n",
    "  'description': 'Get details of a payment card.'},\n",
    " {'name': 'delete_payment_card',\n",
    "  'description': 'Delete payment card information.'},\n",
    " {'name': 'update_payment_card',\n",
    "  'description': 'Update payment card information.'},\n",
    " {'name': 'show_payment_cards',\n",
    "  'description': 'Get a list of users payment cards.'},\n",
    " {'name': 'add_payment_card', 'description': 'Add a new payment card.'},\n",
    " {'name': 'show_received_payment_requests',\n",
    "  'description': 'Get a list of payment requests you have received from others.'},\n",
    " {'name': 'show_sent_payment_requests',\n",
    "  'description': 'Get a list of payment requests you have sent to others.'},\n",
    " {'name': 'create_payment_request', 'description': 'Send a payment request.'},\n",
    " {'name': 'delete_payment_request',\n",
    "  'description': 'Delete a payment request.'},\n",
    " {'name': 'update_payment_request',\n",
    "  'description': 'Update payment request information.'},\n",
    " {'name': 'approve_payment_request',\n",
    "  'description': 'Approve a payment request.'},\n",
    " {'name': 'deny_payment_request', 'description': 'Deny a payment request.'},\n",
    " {'name': 'remind_payment_request',\n",
    "  'description': 'Send a reminder to a user via notification about this payment request.'},\n",
    " {'name': 'show_social_feed',\n",
    "  'description': 'Show your social feed (transactions of your friends).'},\n",
    " {'name': 'show_notifications',\n",
    "  'description': 'Get a list of your notifications.'},\n",
    " {'name': 'delete_notifications',\n",
    "  'description': 'Delete all of your notifications.'},\n",
    " {'name': 'mark_notifications',\n",
    "  'description': 'Mark all notifications as read or unread.'},\n",
    " {'name': 'show_notifications_count',\n",
    "  'description': 'Get the count of your notifications.'},\n",
    " {'name': 'delete_notification', 'description': 'Delete a notification.'},\n",
    " {'name': 'mark_notification',\n",
    "  'description': 'Mark a notification as read or unread.'}]\"\"\"\n",
    "\n",
    "query = \"Send $1 privately to 2134567890?\"\n",
    "text = create_input(query, thought_list = \"First, let's check the available APIs for the Venmo app to see how we can send money.\", last_obs = last_obs)\n",
    "inputs = tokenizer(text, return_tensors=\"pt\").to('cuda')\n",
    "outputs = base_model.generate(input_ids=inputs[\"input_ids\"].to(\"cuda\"), attention_mask=inputs[\"attention_mask\"], max_new_tokens=1000, pad_token_id=tokenizer.eos_token_id)\n",
    "\n",
    "print(tokenizer.decode(outputs[0], skip_special_tokens=True))"
   ]
  },
  {
   "cell_type": "code",
   "execution_count": null,
   "id": "1f6473aa-0a39-480d-8692-f95969dd6b63",
   "metadata": {},
   "outputs": [],
   "source": []
  }
 ],
 "metadata": {
  "kernelspec": {
   "display_name": "Python3.11",
   "language": "python",
   "name": "python3"
  },
  "language_info": {
   "codemirror_mode": {
    "name": "ipython",
    "version": 3
   },
   "file_extension": ".py",
   "mimetype": "text/x-python",
   "name": "python",
   "nbconvert_exporter": "python",
   "pygments_lexer": "ipython3",
   "version": "3.11.13"
  }
 },
 "nbformat": 4,
 "nbformat_minor": 5
}
