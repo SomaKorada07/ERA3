{
  "nbformat": 4,
  "nbformat_minor": 0,
  "metadata": {
    "colab": {
      "provenance": [],
      "include_colab_link": true
    },
    "kernelspec": {
      "name": "python3",
      "display_name": "Python 3"
    },
    "accelerator": "GPU"
  },
  "cells": [
    {
      "cell_type": "markdown",
      "metadata": {
        "id": "view-in-github",
        "colab_type": "text"
      },
      "source": [
        "<a href=\"https://colab.research.google.com/github/SomaKorada07/ERA3/blob/main/ERA3_Session_6.ipynb\" target=\"_parent\"><img src=\"https://colab.research.google.com/assets/colab-badge.svg\" alt=\"Open In Colab\"/></a>"
      ]
    },
    {
      "cell_type": "code",
      "metadata": {
        "id": "0m2JWFliFfKT"
      },
      "source": [
        "from __future__ import print_function\n",
        "import torch\n",
        "import torch.nn as nn\n",
        "import torch.nn.functional as F\n",
        "import torch.optim as optim\n",
        "from torchvision import datasets, transforms"
      ],
      "execution_count": 1,
      "outputs": []
    },
    {
      "cell_type": "code",
      "metadata": {
        "id": "h_Cx9q2QFgM7"
      },
      "source": [
        "# class Net(nn.Module):\n",
        "#     def __init__(self):\n",
        "#         super(Net, self).__init__()\n",
        "#         self.conv1 = nn.Conv2d(1, 32, 3, padding=1) #input -? OUtput? RF\n",
        "#         self.conv2 = nn.Conv2d(32, 64, 3, padding=1)\n",
        "#         self.pool1 = nn.MaxPool2d(2, 2)\n",
        "#         self.conv3 = nn.Conv2d(64, 128, 3, padding=1)\n",
        "#         self.conv4 = nn.Conv2d(128, 256, 3, padding=1)\n",
        "#         self.pool2 = nn.MaxPool2d(2, 2)\n",
        "#         self.conv5 = nn.Conv2d(256, 512, 3)\n",
        "#         self.conv6 = nn.Conv2d(512, 1024, 3)\n",
        "#         self.conv7 = nn.Conv2d(1024, 10, 3)\n",
        "\n",
        "#     def forward(self, x):\n",
        "#         x = self.pool1(F.relu(self.conv2(F.relu(self.conv1(x)))))\n",
        "#         x = self.pool2(F.relu(self.conv4(F.relu(self.conv3(x)))))\n",
        "#         x = F.relu(self.conv6(F.relu(self.conv5(x))))\n",
        "#         x = F.relu(self.conv7(x))\n",
        "#         x = x.view(-1, 10)\n",
        "#         return F.log_softmax(x)"
      ],
      "execution_count": 2,
      "outputs": []
    },
    {
      "cell_type": "code",
      "source": [
        "dropout_value = 0.01\n",
        "class Net(nn.Module):\n",
        "    def __init__(self):\n",
        "        super(Net, self).__init__()\n",
        "        self.conv1 = nn.Sequential(\n",
        "              nn.Conv2d(1, 8, 3, padding=0, bias=False),\n",
        "              nn.BatchNorm2d(8),\n",
        "              nn.ReLU(inplace=True),\n",
        "              nn.Dropout(dropout_value)) # output_size = 26, RF = 3\n",
        "        self.conv2 = nn.Sequential(\n",
        "              nn.Conv2d(8, 12, 3, padding=0, bias=False),\n",
        "              nn.BatchNorm2d(12),\n",
        "              nn.ReLU(inplace=True),\n",
        "              nn.Dropout(dropout_value)) # output_size = 24, RF = 5\n",
        "        self.conv3 = nn.Sequential(\n",
        "              nn.MaxPool2d(kernel_size=2, stride=2), # output_size = 12, RF = 6\n",
        "              nn.Conv2d(12, 8, 1, padding=0, bias=False),\n",
        "              nn.BatchNorm2d(8),\n",
        "              nn.ReLU(inplace=True),\n",
        "              nn.Dropout(dropout_value)) # output_size = 12, RF = 6\n",
        "        self.conv4 = nn.Sequential(\n",
        "              nn.Conv2d(8, 12, 3, padding=0, bias=False),\n",
        "              nn.BatchNorm2d(12),\n",
        "              nn.ReLU(inplace=True),\n",
        "              nn.Dropout(dropout_value)) # output_size = 10, RF = 10\n",
        "        self.conv5 = nn.Sequential(\n",
        "              nn.Conv2d(12, 16, 3, padding=0, bias=False),\n",
        "              nn.BatchNorm2d(16),\n",
        "              nn.ReLU(inplace=True),\n",
        "              nn.Dropout(dropout_value)) # output_size = 8, RF = 14\n",
        "        self.conv6 = nn.Sequential(\n",
        "              nn.Conv2d(16, 32, 3, padding=0, bias=False),\n",
        "              nn.BatchNorm2d(32),\n",
        "              nn.ReLU(inplace=True),\n",
        "              nn.Dropout(dropout_value)) # output_size = 6, RF = 18\n",
        "        self.gap = nn.AvgPool2d(kernel_size=6) # output_size = 1, RF = 28\n",
        "        self.conv7 = nn.Sequential(\n",
        "              nn.Conv2d(32, 10, 1, padding=0, bias=False)) # output_size = 1, RF = 28\n",
        "\n",
        "    def forward(self, x):\n",
        "        x = self.conv1(x)\n",
        "        x = self.conv2(x)\n",
        "        x = self.conv3(x)\n",
        "        x = self.conv4(x)\n",
        "        x = self.conv5(x)\n",
        "        x = self.conv6(x)\n",
        "        x = self.gap(x)\n",
        "        x = self.conv7(x)\n",
        "        x = x.view(-1, 10)\n",
        "        return F.log_softmax(x)"
      ],
      "metadata": {
        "id": "ycEHlK7PcTTZ"
      },
      "execution_count": 24,
      "outputs": []
    },
    {
      "cell_type": "code",
      "metadata": {
        "id": "xdydjYTZFyi3",
        "colab": {
          "base_uri": "https://localhost:8080/"
        },
        "outputId": "d5470569-a52c-47c6-de2a-142f70a74d6f"
      },
      "source": [
        "# !pip install torchsummary\n",
        "from torchsummary import summary\n",
        "use_cuda = torch.cuda.is_available()\n",
        "device = torch.device(\"cuda\" if use_cuda else \"cpu\")\n",
        "model = Net().to(device)\n",
        "summary(model, input_size=(1, 28, 28))"
      ],
      "execution_count": 25,
      "outputs": [
        {
          "output_type": "stream",
          "name": "stdout",
          "text": [
            "----------------------------------------------------------------\n",
            "        Layer (type)               Output Shape         Param #\n",
            "================================================================\n",
            "            Conv2d-1            [-1, 8, 26, 26]              72\n",
            "       BatchNorm2d-2            [-1, 8, 26, 26]              16\n",
            "              ReLU-3            [-1, 8, 26, 26]               0\n",
            "           Dropout-4            [-1, 8, 26, 26]               0\n",
            "            Conv2d-5           [-1, 12, 24, 24]             864\n",
            "       BatchNorm2d-6           [-1, 12, 24, 24]              24\n",
            "              ReLU-7           [-1, 12, 24, 24]               0\n",
            "           Dropout-8           [-1, 12, 24, 24]               0\n",
            "         MaxPool2d-9           [-1, 12, 12, 12]               0\n",
            "           Conv2d-10            [-1, 8, 12, 12]              96\n",
            "      BatchNorm2d-11            [-1, 8, 12, 12]              16\n",
            "             ReLU-12            [-1, 8, 12, 12]               0\n",
            "          Dropout-13            [-1, 8, 12, 12]               0\n",
            "           Conv2d-14           [-1, 12, 10, 10]             864\n",
            "      BatchNorm2d-15           [-1, 12, 10, 10]              24\n",
            "             ReLU-16           [-1, 12, 10, 10]               0\n",
            "          Dropout-17           [-1, 12, 10, 10]               0\n",
            "           Conv2d-18             [-1, 16, 8, 8]           1,728\n",
            "      BatchNorm2d-19             [-1, 16, 8, 8]              32\n",
            "             ReLU-20             [-1, 16, 8, 8]               0\n",
            "          Dropout-21             [-1, 16, 8, 8]               0\n",
            "           Conv2d-22             [-1, 32, 6, 6]           4,608\n",
            "      BatchNorm2d-23             [-1, 32, 6, 6]              64\n",
            "             ReLU-24             [-1, 32, 6, 6]               0\n",
            "          Dropout-25             [-1, 32, 6, 6]               0\n",
            "        AvgPool2d-26             [-1, 32, 1, 1]               0\n",
            "           Conv2d-27             [-1, 10, 1, 1]             320\n",
            "================================================================\n",
            "Total params: 8,728\n",
            "Trainable params: 8,728\n",
            "Non-trainable params: 0\n",
            "----------------------------------------------------------------\n",
            "Input size (MB): 0.00\n",
            "Forward/backward pass size (MB): 0.53\n",
            "Params size (MB): 0.03\n",
            "Estimated Total Size (MB): 0.56\n",
            "----------------------------------------------------------------\n"
          ]
        },
        {
          "output_type": "stream",
          "name": "stderr",
          "text": [
            "<ipython-input-24-80e98a4432cd>:50: UserWarning: Implicit dimension choice for log_softmax has been deprecated. Change the call to include dim=X as an argument.\n",
            "  return F.log_softmax(x)\n"
          ]
        }
      ]
    },
    {
      "cell_type": "code",
      "metadata": {
        "id": "DqTWLaM5GHgH"
      },
      "source": [
        "torch.manual_seed(1)\n",
        "batch_size = 128\n",
        "\n",
        "kwargs = {'num_workers': 1, 'pin_memory': True} if use_cuda else {}\n",
        "train_loader = torch.utils.data.DataLoader(\n",
        "    datasets.MNIST('../data', train=True, download=True,\n",
        "                    transform=transforms.Compose([\n",
        "                        transforms.ToTensor(),\n",
        "                        transforms.Normalize((0.1307,), (0.3081,))\n",
        "                    ])),\n",
        "    batch_size=batch_size, shuffle=True, **kwargs)\n",
        "test_loader = torch.utils.data.DataLoader(\n",
        "    datasets.MNIST('../data', train=False, transform=transforms.Compose([\n",
        "                        transforms.ToTensor(),\n",
        "                        transforms.Normalize((0.1307,), (0.3081,))\n",
        "                    ])),\n",
        "    batch_size=batch_size, shuffle=True, **kwargs)\n"
      ],
      "execution_count": 26,
      "outputs": []
    },
    {
      "cell_type": "code",
      "metadata": {
        "id": "8fDefDhaFlwH"
      },
      "source": [
        "from tqdm import tqdm\n",
        "def train(model, device, train_loader, optimizer, epoch):\n",
        "    model.train()\n",
        "    pbar = tqdm(train_loader)\n",
        "    correct = 0\n",
        "    processed = 0\n",
        "    train_losses = []\n",
        "    for batch_idx, (data, target) in enumerate(pbar):\n",
        "        data, target = data.to(device), target.to(device)\n",
        "        optimizer.zero_grad()\n",
        "        output = model(data)\n",
        "        loss = F.nll_loss(output, target)\n",
        "        train_losses.append(loss)\n",
        "        loss.backward()\n",
        "        optimizer.step()\n",
        "        pred = output.argmax(dim=1, keepdim=True)  # get the index of the max log-probability\n",
        "        correct += pred.eq(target.view_as(pred)).sum().item()\n",
        "        processed += len(data)\n",
        "\n",
        "        pbar.set_description(desc= f'Loss={loss.item()} Batch_id={batch_idx} Epoch={epoch} Accuracy={100*correct/processed:0.2f}')\n",
        "        # pbar.set_description(desc= f'loss={loss.item()} batch_id={batch_idx}')\n",
        "\n",
        "\n",
        "def test(model, device, test_loader):\n",
        "    model.eval()\n",
        "    test_loss = 0\n",
        "    correct = 0\n",
        "    with torch.no_grad():\n",
        "        for data, target in test_loader:\n",
        "            data, target = data.to(device), target.to(device)\n",
        "            output = model(data)\n",
        "            test_loss += F.nll_loss(output, target, reduction='sum').item()  # sum up batch loss\n",
        "            pred = output.argmax(dim=1, keepdim=True)  # get the index of the max log-probability\n",
        "            correct += pred.eq(target.view_as(pred)).sum().item()\n",
        "\n",
        "    test_loss /= len(test_loader.dataset)\n",
        "\n",
        "    print('\\nTest set: Average loss: {:.4f}, Accuracy: {}/{} ({:.4f}%)\\n'.format(\n",
        "        test_loss, correct, len(test_loader.dataset),\n",
        "        100. * correct / len(test_loader.dataset)))"
      ],
      "execution_count": 27,
      "outputs": []
    },
    {
      "cell_type": "code",
      "metadata": {
        "id": "MMWbLWO6FuHb",
        "colab": {
          "base_uri": "https://localhost:8080/"
        },
        "outputId": "129c9e7b-9b26-4a79-c8b4-592381eb46d9"
      },
      "source": [
        "model = Net().to(device)\n",
        "optimizer = optim.SGD(model.parameters(), lr=0.075, momentum=0.9)\n",
        "\n",
        "for epoch in range(1, 21):\n",
        "    train(model, device, train_loader, optimizer, epoch)\n",
        "    test(model, device, test_loader)"
      ],
      "execution_count": 30,
      "outputs": [
        {
          "output_type": "stream",
          "name": "stderr",
          "text": [
            "  0%|          | 0/469 [00:00<?, ?it/s]<ipython-input-24-80e98a4432cd>:50: UserWarning: Implicit dimension choice for log_softmax has been deprecated. Change the call to include dim=X as an argument.\n",
            "  return F.log_softmax(x)\n",
            "Loss=0.1561211198568344 Batch_id=468 Epoch=1 Accuracy=91.99: 100%|██████████| 469/469 [00:17<00:00, 26.40it/s]\n"
          ]
        },
        {
          "output_type": "stream",
          "name": "stdout",
          "text": [
            "\n",
            "Test set: Average loss: 0.0558, Accuracy: 9846/10000 (98.4600%)\n",
            "\n"
          ]
        },
        {
          "output_type": "stream",
          "name": "stderr",
          "text": [
            "Loss=0.03485864773392677 Batch_id=468 Epoch=2 Accuracy=98.22: 100%|██████████| 469/469 [00:18<00:00, 25.16it/s]\n"
          ]
        },
        {
          "output_type": "stream",
          "name": "stdout",
          "text": [
            "\n",
            "Test set: Average loss: 0.0397, Accuracy: 9870/10000 (98.7000%)\n",
            "\n"
          ]
        },
        {
          "output_type": "stream",
          "name": "stderr",
          "text": [
            "Loss=0.13222916424274445 Batch_id=468 Epoch=3 Accuracy=98.63: 100%|██████████| 469/469 [00:17<00:00, 27.39it/s]\n"
          ]
        },
        {
          "output_type": "stream",
          "name": "stdout",
          "text": [
            "\n",
            "Test set: Average loss: 0.0329, Accuracy: 9906/10000 (99.0600%)\n",
            "\n"
          ]
        },
        {
          "output_type": "stream",
          "name": "stderr",
          "text": [
            "Loss=0.020848697051405907 Batch_id=468 Epoch=4 Accuracy=98.74: 100%|██████████| 469/469 [00:17<00:00, 26.81it/s]\n"
          ]
        },
        {
          "output_type": "stream",
          "name": "stdout",
          "text": [
            "\n",
            "Test set: Average loss: 0.0356, Accuracy: 9896/10000 (98.9600%)\n",
            "\n"
          ]
        },
        {
          "output_type": "stream",
          "name": "stderr",
          "text": [
            "Loss=0.02348986081779003 Batch_id=468 Epoch=5 Accuracy=98.86: 100%|██████████| 469/469 [00:17<00:00, 27.23it/s]\n"
          ]
        },
        {
          "output_type": "stream",
          "name": "stdout",
          "text": [
            "\n",
            "Test set: Average loss: 0.0376, Accuracy: 9880/10000 (98.8000%)\n",
            "\n"
          ]
        },
        {
          "output_type": "stream",
          "name": "stderr",
          "text": [
            "Loss=0.024878934025764465 Batch_id=468 Epoch=6 Accuracy=98.98: 100%|██████████| 469/469 [00:17<00:00, 27.40it/s]\n"
          ]
        },
        {
          "output_type": "stream",
          "name": "stdout",
          "text": [
            "\n",
            "Test set: Average loss: 0.0270, Accuracy: 9905/10000 (99.0500%)\n",
            "\n"
          ]
        },
        {
          "output_type": "stream",
          "name": "stderr",
          "text": [
            "Loss=0.007102851290255785 Batch_id=468 Epoch=7 Accuracy=99.08: 100%|██████████| 469/469 [00:18<00:00, 24.71it/s]\n"
          ]
        },
        {
          "output_type": "stream",
          "name": "stdout",
          "text": [
            "\n",
            "Test set: Average loss: 0.0218, Accuracy: 9929/10000 (99.2900%)\n",
            "\n"
          ]
        },
        {
          "output_type": "stream",
          "name": "stderr",
          "text": [
            "Loss=0.009977906942367554 Batch_id=468 Epoch=8 Accuracy=99.10: 100%|██████████| 469/469 [00:16<00:00, 27.86it/s]\n"
          ]
        },
        {
          "output_type": "stream",
          "name": "stdout",
          "text": [
            "\n",
            "Test set: Average loss: 0.0263, Accuracy: 9914/10000 (99.1400%)\n",
            "\n"
          ]
        },
        {
          "output_type": "stream",
          "name": "stderr",
          "text": [
            "Loss=0.009538044221699238 Batch_id=468 Epoch=9 Accuracy=99.24: 100%|██████████| 469/469 [00:17<00:00, 26.58it/s]\n"
          ]
        },
        {
          "output_type": "stream",
          "name": "stdout",
          "text": [
            "\n",
            "Test set: Average loss: 0.0244, Accuracy: 9917/10000 (99.1700%)\n",
            "\n"
          ]
        },
        {
          "output_type": "stream",
          "name": "stderr",
          "text": [
            "Loss=0.03726692497730255 Batch_id=468 Epoch=10 Accuracy=99.25: 100%|██████████| 469/469 [00:16<00:00, 27.80it/s]\n"
          ]
        },
        {
          "output_type": "stream",
          "name": "stdout",
          "text": [
            "\n",
            "Test set: Average loss: 0.0249, Accuracy: 9922/10000 (99.2200%)\n",
            "\n"
          ]
        },
        {
          "output_type": "stream",
          "name": "stderr",
          "text": [
            "Loss=0.020217308774590492 Batch_id=468 Epoch=11 Accuracy=99.30: 100%|██████████| 469/469 [00:16<00:00, 27.73it/s]\n"
          ]
        },
        {
          "output_type": "stream",
          "name": "stdout",
          "text": [
            "\n",
            "Test set: Average loss: 0.0235, Accuracy: 9920/10000 (99.2000%)\n",
            "\n"
          ]
        },
        {
          "output_type": "stream",
          "name": "stderr",
          "text": [
            "Loss=0.08795242756605148 Batch_id=468 Epoch=12 Accuracy=99.31: 100%|██████████| 469/469 [00:17<00:00, 27.28it/s]\n"
          ]
        },
        {
          "output_type": "stream",
          "name": "stdout",
          "text": [
            "\n",
            "Test set: Average loss: 0.0295, Accuracy: 9900/10000 (99.0000%)\n",
            "\n"
          ]
        },
        {
          "output_type": "stream",
          "name": "stderr",
          "text": [
            "Loss=0.0019875571597367525 Batch_id=468 Epoch=13 Accuracy=99.34: 100%|██████████| 469/469 [00:18<00:00, 25.77it/s]\n"
          ]
        },
        {
          "output_type": "stream",
          "name": "stdout",
          "text": [
            "\n",
            "Test set: Average loss: 0.0219, Accuracy: 9933/10000 (99.3300%)\n",
            "\n"
          ]
        },
        {
          "output_type": "stream",
          "name": "stderr",
          "text": [
            "Loss=0.00577485142275691 Batch_id=468 Epoch=14 Accuracy=99.41: 100%|██████████| 469/469 [00:18<00:00, 24.81it/s]\n"
          ]
        },
        {
          "output_type": "stream",
          "name": "stdout",
          "text": [
            "\n",
            "Test set: Average loss: 0.0213, Accuracy: 9937/10000 (99.3700%)\n",
            "\n"
          ]
        },
        {
          "output_type": "stream",
          "name": "stderr",
          "text": [
            "Loss=0.009493039920926094 Batch_id=468 Epoch=15 Accuracy=99.40: 100%|██████████| 469/469 [00:18<00:00, 25.50it/s]\n"
          ]
        },
        {
          "output_type": "stream",
          "name": "stdout",
          "text": [
            "\n",
            "Test set: Average loss: 0.0190, Accuracy: 9938/10000 (99.3800%)\n",
            "\n"
          ]
        },
        {
          "output_type": "stream",
          "name": "stderr",
          "text": [
            "Loss=0.019166136160492897 Batch_id=468 Epoch=16 Accuracy=99.47: 100%|██████████| 469/469 [00:17<00:00, 26.28it/s]\n"
          ]
        },
        {
          "output_type": "stream",
          "name": "stdout",
          "text": [
            "\n",
            "Test set: Average loss: 0.0206, Accuracy: 9936/10000 (99.3600%)\n",
            "\n"
          ]
        },
        {
          "output_type": "stream",
          "name": "stderr",
          "text": [
            "Loss=0.026769690215587616 Batch_id=468 Epoch=17 Accuracy=99.48: 100%|██████████| 469/469 [00:18<00:00, 24.90it/s]\n"
          ]
        },
        {
          "output_type": "stream",
          "name": "stdout",
          "text": [
            "\n",
            "Test set: Average loss: 0.0186, Accuracy: 9941/10000 (99.4100%)\n",
            "\n"
          ]
        },
        {
          "output_type": "stream",
          "name": "stderr",
          "text": [
            "Loss=0.003601084230467677 Batch_id=468 Epoch=18 Accuracy=99.47: 100%|██████████| 469/469 [00:18<00:00, 24.82it/s]\n"
          ]
        },
        {
          "output_type": "stream",
          "name": "stdout",
          "text": [
            "\n",
            "Test set: Average loss: 0.0243, Accuracy: 9922/10000 (99.2200%)\n",
            "\n"
          ]
        },
        {
          "output_type": "stream",
          "name": "stderr",
          "text": [
            "Loss=0.0024756412021815777 Batch_id=468 Epoch=19 Accuracy=99.43: 100%|██████████| 469/469 [00:18<00:00, 25.07it/s]\n"
          ]
        },
        {
          "output_type": "stream",
          "name": "stdout",
          "text": [
            "\n",
            "Test set: Average loss: 0.0180, Accuracy: 9933/10000 (99.3300%)\n",
            "\n"
          ]
        },
        {
          "output_type": "stream",
          "name": "stderr",
          "text": [
            "Loss=0.00908786989748478 Batch_id=468 Epoch=20 Accuracy=99.52: 100%|██████████| 469/469 [00:18<00:00, 24.89it/s]\n"
          ]
        },
        {
          "output_type": "stream",
          "name": "stdout",
          "text": [
            "\n",
            "Test set: Average loss: 0.0189, Accuracy: 9941/10000 (99.4100%)\n",
            "\n"
          ]
        }
      ]
    },
    {
      "cell_type": "code",
      "metadata": {
        "id": "So5uk4EkHW6R"
      },
      "source": [],
      "execution_count": 7,
      "outputs": []
    }
  ]
}